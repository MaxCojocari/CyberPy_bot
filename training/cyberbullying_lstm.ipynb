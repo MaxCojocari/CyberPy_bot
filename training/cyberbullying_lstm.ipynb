{
  "nbformat": 4,
  "nbformat_minor": 0,
  "metadata": {
    "colab": {
      "name": "cyberbullying_lstm.ipynb",
      "provenance": [],
      "collapsed_sections": [],
      "include_colab_link": true
    },
    "kernelspec": {
      "name": "python3",
      "display_name": "Python 3"
    },
    "language_info": {
      "name": "python"
    },
    "accelerator": "GPU"
  },
  "cells": [
    {
      "cell_type": "markdown",
      "metadata": {
        "id": "view-in-github",
        "colab_type": "text"
      },
      "source": [
        "<a href=\"https://colab.research.google.com/github/MaxCojocari/CyberPy_bot/blob/main/training/cyberbullying_lstm.ipynb\" target=\"_parent\"><img src=\"https://colab.research.google.com/assets/colab-badge.svg\" alt=\"Open In Colab\"/></a>"
      ]
    },
    {
      "cell_type": "code",
      "execution_count": null,
      "metadata": {
        "colab": {
          "base_uri": "https://localhost:8080/"
        },
        "id": "tLzvRQkNjDRH",
        "outputId": "e100429c-2082-46db-cc5c-71b4b81d8dfe"
      },
      "outputs": [
        {
          "output_type": "stream",
          "name": "stdout",
          "text": [
            "Drive already mounted at drive; to attempt to forcibly remount, call drive.mount(\"drive\", force_remount=True).\n"
          ]
        }
      ],
      "source": [
        "from google.colab import drive\n",
        "drive.mount('drive')"
      ]
    },
    {
      "cell_type": "code",
      "source": [
        "!mkdir -p ~/.kaggle\n",
        "!cp drive/MyDrive/kaggle.json ~/.kaggle\n",
        "!chmod 600 ~/.kaggle/kaggle.json\n",
        "!kaggle datasets download --unzip -d andrewmvd/cyberbullying-classification"
      ],
      "metadata": {
        "colab": {
          "base_uri": "https://localhost:8080/"
        },
        "id": "7RP-09TCSX2m",
        "outputId": "e8f7c198-2d0f-4789-fb6c-188293f0d10b"
      },
      "execution_count": null,
      "outputs": [
        {
          "output_type": "stream",
          "name": "stdout",
          "text": [
            "Downloading cyberbullying-classification.zip to /content\n",
            "\r  0% 0.00/2.82M [00:00<?, ?B/s]\n",
            "\r100% 2.82M/2.82M [00:00<00:00, 192MB/s]\n"
          ]
        }
      ]
    },
    {
      "cell_type": "code",
      "source": [
        "import torch\n",
        "from torchtext.data.utils import get_tokenizer\n",
        "from torch.utils.data import DataLoader\n",
        "from torch import nn, optim\n",
        "from torchtext.vocab import GloVe\n",
        "torch.manual_seed(69)\n",
        "\n",
        "import pandas as pd\n",
        "import matplotlib.pyplot as plt\n",
        "import plotly.express as px\n",
        "import seaborn as sns\n",
        "from sklearn.metrics import confusion_matrix\n",
        "from sklearn.model_selection import train_test_split\n",
        "import re\n",
        "\n",
        "import copy"
      ],
      "metadata": {
        "id": "_8p1rB4Hjtat"
      },
      "execution_count": null,
      "outputs": []
    },
    {
      "cell_type": "code",
      "source": [
        "#Upload the data frame\n",
        "df = pd.read_csv('cyberbullying_tweets.csv')\n",
        "df"
      ],
      "metadata": {
        "colab": {
          "base_uri": "https://localhost:8080/",
          "height": 424
        },
        "id": "jgd1X5u6j0uo",
        "outputId": "19328990-086d-4108-fc9f-ff4657d3e5ce"
      },
      "execution_count": null,
      "outputs": [
        {
          "output_type": "execute_result",
          "data": {
            "text/plain": [
              "                                              tweet_text cyberbullying_type\n",
              "0      In other words #katandandre, your food was cra...  not_cyberbullying\n",
              "1      Why is #aussietv so white? #MKR #theblock #ImA...  not_cyberbullying\n",
              "2      @XochitlSuckkks a classy whore? Or more red ve...  not_cyberbullying\n",
              "3      @Jason_Gio meh. :P  thanks for the heads up, b...  not_cyberbullying\n",
              "4      @RudhoeEnglish This is an ISIS account pretend...  not_cyberbullying\n",
              "...                                                  ...                ...\n",
              "47687  Black ppl aren't expected to do anything, depe...          ethnicity\n",
              "47688  Turner did not withhold his disappointment. Tu...          ethnicity\n",
              "47689  I swear to God. This dumb nigger bitch. I have...          ethnicity\n",
              "47690  Yea fuck you RT @therealexel: IF YOURE A NIGGE...          ethnicity\n",
              "47691  Bro. U gotta chill RT @CHILLShrammy: Dog FUCK ...          ethnicity\n",
              "\n",
              "[47692 rows x 2 columns]"
            ],
            "text/html": [
              "\n",
              "  <div id=\"df-dc003006-034e-4242-a64a-469e40eda6ee\">\n",
              "    <div class=\"colab-df-container\">\n",
              "      <div>\n",
              "<style scoped>\n",
              "    .dataframe tbody tr th:only-of-type {\n",
              "        vertical-align: middle;\n",
              "    }\n",
              "\n",
              "    .dataframe tbody tr th {\n",
              "        vertical-align: top;\n",
              "    }\n",
              "\n",
              "    .dataframe thead th {\n",
              "        text-align: right;\n",
              "    }\n",
              "</style>\n",
              "<table border=\"1\" class=\"dataframe\">\n",
              "  <thead>\n",
              "    <tr style=\"text-align: right;\">\n",
              "      <th></th>\n",
              "      <th>tweet_text</th>\n",
              "      <th>cyberbullying_type</th>\n",
              "    </tr>\n",
              "  </thead>\n",
              "  <tbody>\n",
              "    <tr>\n",
              "      <th>0</th>\n",
              "      <td>In other words #katandandre, your food was cra...</td>\n",
              "      <td>not_cyberbullying</td>\n",
              "    </tr>\n",
              "    <tr>\n",
              "      <th>1</th>\n",
              "      <td>Why is #aussietv so white? #MKR #theblock #ImA...</td>\n",
              "      <td>not_cyberbullying</td>\n",
              "    </tr>\n",
              "    <tr>\n",
              "      <th>2</th>\n",
              "      <td>@XochitlSuckkks a classy whore? Or more red ve...</td>\n",
              "      <td>not_cyberbullying</td>\n",
              "    </tr>\n",
              "    <tr>\n",
              "      <th>3</th>\n",
              "      <td>@Jason_Gio meh. :P  thanks for the heads up, b...</td>\n",
              "      <td>not_cyberbullying</td>\n",
              "    </tr>\n",
              "    <tr>\n",
              "      <th>4</th>\n",
              "      <td>@RudhoeEnglish This is an ISIS account pretend...</td>\n",
              "      <td>not_cyberbullying</td>\n",
              "    </tr>\n",
              "    <tr>\n",
              "      <th>...</th>\n",
              "      <td>...</td>\n",
              "      <td>...</td>\n",
              "    </tr>\n",
              "    <tr>\n",
              "      <th>47687</th>\n",
              "      <td>Black ppl aren't expected to do anything, depe...</td>\n",
              "      <td>ethnicity</td>\n",
              "    </tr>\n",
              "    <tr>\n",
              "      <th>47688</th>\n",
              "      <td>Turner did not withhold his disappointment. Tu...</td>\n",
              "      <td>ethnicity</td>\n",
              "    </tr>\n",
              "    <tr>\n",
              "      <th>47689</th>\n",
              "      <td>I swear to God. This dumb nigger bitch. I have...</td>\n",
              "      <td>ethnicity</td>\n",
              "    </tr>\n",
              "    <tr>\n",
              "      <th>47690</th>\n",
              "      <td>Yea fuck you RT @therealexel: IF YOURE A NIGGE...</td>\n",
              "      <td>ethnicity</td>\n",
              "    </tr>\n",
              "    <tr>\n",
              "      <th>47691</th>\n",
              "      <td>Bro. U gotta chill RT @CHILLShrammy: Dog FUCK ...</td>\n",
              "      <td>ethnicity</td>\n",
              "    </tr>\n",
              "  </tbody>\n",
              "</table>\n",
              "<p>47692 rows × 2 columns</p>\n",
              "</div>\n",
              "      <button class=\"colab-df-convert\" onclick=\"convertToInteractive('df-dc003006-034e-4242-a64a-469e40eda6ee')\"\n",
              "              title=\"Convert this dataframe to an interactive table.\"\n",
              "              style=\"display:none;\">\n",
              "        \n",
              "  <svg xmlns=\"http://www.w3.org/2000/svg\" height=\"24px\"viewBox=\"0 0 24 24\"\n",
              "       width=\"24px\">\n",
              "    <path d=\"M0 0h24v24H0V0z\" fill=\"none\"/>\n",
              "    <path d=\"M18.56 5.44l.94 2.06.94-2.06 2.06-.94-2.06-.94-.94-2.06-.94 2.06-2.06.94zm-11 1L8.5 8.5l.94-2.06 2.06-.94-2.06-.94L8.5 2.5l-.94 2.06-2.06.94zm10 10l.94 2.06.94-2.06 2.06-.94-2.06-.94-.94-2.06-.94 2.06-2.06.94z\"/><path d=\"M17.41 7.96l-1.37-1.37c-.4-.4-.92-.59-1.43-.59-.52 0-1.04.2-1.43.59L10.3 9.45l-7.72 7.72c-.78.78-.78 2.05 0 2.83L4 21.41c.39.39.9.59 1.41.59.51 0 1.02-.2 1.41-.59l7.78-7.78 2.81-2.81c.8-.78.8-2.07 0-2.86zM5.41 20L4 18.59l7.72-7.72 1.47 1.35L5.41 20z\"/>\n",
              "  </svg>\n",
              "      </button>\n",
              "      \n",
              "  <style>\n",
              "    .colab-df-container {\n",
              "      display:flex;\n",
              "      flex-wrap:wrap;\n",
              "      gap: 12px;\n",
              "    }\n",
              "\n",
              "    .colab-df-convert {\n",
              "      background-color: #E8F0FE;\n",
              "      border: none;\n",
              "      border-radius: 50%;\n",
              "      cursor: pointer;\n",
              "      display: none;\n",
              "      fill: #1967D2;\n",
              "      height: 32px;\n",
              "      padding: 0 0 0 0;\n",
              "      width: 32px;\n",
              "    }\n",
              "\n",
              "    .colab-df-convert:hover {\n",
              "      background-color: #E2EBFA;\n",
              "      box-shadow: 0px 1px 2px rgba(60, 64, 67, 0.3), 0px 1px 3px 1px rgba(60, 64, 67, 0.15);\n",
              "      fill: #174EA6;\n",
              "    }\n",
              "\n",
              "    [theme=dark] .colab-df-convert {\n",
              "      background-color: #3B4455;\n",
              "      fill: #D2E3FC;\n",
              "    }\n",
              "\n",
              "    [theme=dark] .colab-df-convert:hover {\n",
              "      background-color: #434B5C;\n",
              "      box-shadow: 0px 1px 3px 1px rgba(0, 0, 0, 0.15);\n",
              "      filter: drop-shadow(0px 1px 2px rgba(0, 0, 0, 0.3));\n",
              "      fill: #FFFFFF;\n",
              "    }\n",
              "  </style>\n",
              "\n",
              "      <script>\n",
              "        const buttonEl =\n",
              "          document.querySelector('#df-dc003006-034e-4242-a64a-469e40eda6ee button.colab-df-convert');\n",
              "        buttonEl.style.display =\n",
              "          google.colab.kernel.accessAllowed ? 'block' : 'none';\n",
              "\n",
              "        async function convertToInteractive(key) {\n",
              "          const element = document.querySelector('#df-dc003006-034e-4242-a64a-469e40eda6ee');\n",
              "          const dataTable =\n",
              "            await google.colab.kernel.invokeFunction('convertToInteractive',\n",
              "                                                     [key], {});\n",
              "          if (!dataTable) return;\n",
              "\n",
              "          const docLinkHtml = 'Like what you see? Visit the ' +\n",
              "            '<a target=\"_blank\" href=https://colab.research.google.com/notebooks/data_table.ipynb>data table notebook</a>'\n",
              "            + ' to learn more about interactive tables.';\n",
              "          element.innerHTML = '';\n",
              "          dataTable['output_type'] = 'display_data';\n",
              "          await google.colab.output.renderOutput(dataTable, element);\n",
              "          const docLink = document.createElement('div');\n",
              "          docLink.innerHTML = docLinkHtml;\n",
              "          element.appendChild(docLink);\n",
              "        }\n",
              "      </script>\n",
              "    </div>\n",
              "  </div>\n",
              "  "
            ]
          },
          "metadata": {},
          "execution_count": 15
        }
      ]
    },
    {
      "cell_type": "code",
      "source": [
        "sns.set(rc={'figure.figsize':(14,4)})\n",
        "sns.countplot(\n",
        "    x=\"cyberbullying_type\", \n",
        "    data=df, \n",
        "    order=df.cyberbullying_type.value_counts().index).set_title(\"Tweets distribution by cyberbullying types\"\n",
        ")"
      ],
      "metadata": {
        "colab": {
          "base_uri": "https://localhost:8080/",
          "height": 319
        },
        "id": "E9TI0aKq7kAs",
        "outputId": "9785e39f-2dfa-4a98-9041-174cbe3bb892"
      },
      "execution_count": null,
      "outputs": [
        {
          "output_type": "execute_result",
          "data": {
            "text/plain": [
              "Text(0.5, 1.0, 'Tweets distribution by cyberbullying types')"
            ]
          },
          "metadata": {},
          "execution_count": 16
        },
        {
          "output_type": "display_data",
          "data": {
            "text/plain": [
              "<Figure size 1008x288 with 1 Axes>"
            ],
            "image/png": "[encoded data removed]"
          },
          "metadata": {}
        }
      ]
    },
    {
      "cell_type": "markdown",
      "source": [
        "From barchart is visible that our dataset is perfectly balanced."
      ],
      "metadata": {
        "id": "bTp-Wp4S7978"
      }
    },
    {
      "cell_type": "code",
      "source": [
        "df.drop(df[(df.cyberbullying_type == \"other_cyberbullying\")].index, inplace=True)\n",
        "sns.set(rc={'figure.figsize':(14,4)})\n",
        "sns.countplot(\n",
        "    x=\"cyberbullying_type\", \n",
        "    data=df, \n",
        "    order=df.cyberbullying_type.value_counts().index).set_title(\"Tweets distribution by cyberbullying types\"\n",
        ")"
      ],
      "metadata": {
        "colab": {
          "base_uri": "https://localhost:8080/",
          "height": 319
        },
        "id": "QdCCGCTP-wyq",
        "outputId": "5e1b2c0c-d460-4387-f988-8b12711671c3"
      },
      "execution_count": null,
      "outputs": [
        {
          "output_type": "execute_result",
          "data": {
            "text/plain": [
              "Text(0.5, 1.0, 'Tweets distribution by cyberbullying types')"
            ]
          },
          "metadata": {},
          "execution_count": 17
        },
        {
          "output_type": "display_data",
          "data": {
            "text/plain": [
              "<Figure size 1008x288 with 1 Axes>"
            ],
            "image/png": "[encoded data removed]"
          },
          "metadata": {}
        }
      ]
    },
    {
      "cell_type": "code",
      "source": [
        "sns.reset_orig()"
      ],
      "metadata": {
        "id": "IjhSxGYOIkz4"
      },
      "execution_count": null,
      "outputs": []
    },
    {
      "cell_type": "code",
      "source": [
        "tokenizer = get_tokenizer('basic_english')\n",
        "\n",
        "# to avoid removing contractions in english\n",
        "df['tweet_text'] = df['tweet_text'].apply(lambda x: re.sub(\"'\", \"\", x))\n",
        "\n",
        "# removing hashtags and mentions\n",
        "df['tweet_text'] = df['tweet_text'].apply(lambda x: re.sub(\"@[A-Za-z0-9_]+\",\"\", x))\n",
        "df['tweet_text'] = df['tweet_text'].apply(lambda x: re.sub(\"#[A-Za-z0-9_]+\",\"\", x))\n",
        "\n",
        "# removing url\n",
        "df['tweet_text'] = df['tweet_text'].apply(lambda x: re.sub(r'http\\S+', '', x))\n",
        "\n",
        "# removing non-alphanumeric char\n",
        "df['tweet_text'] = df['tweet_text'].apply(lambda x: re.sub(\"[^a-zA-Z0-9]\",\" \", x))\n",
        "\n",
        "# tokenize each tweet\n",
        "df['tweet_text'] = df['tweet_text'].apply(tokenizer)"
      ],
      "metadata": {
        "id": "nsx94cGXxuTl"
      },
      "execution_count": null,
      "outputs": []
    },
    {
      "cell_type": "code",
      "source": [
        "df"
      ],
      "metadata": {
        "colab": {
          "base_uri": "https://localhost:8080/",
          "height": 424
        },
        "id": "iyVecgcKxPTg",
        "outputId": "b13e0911-01a9-4e84-b0d6-e9038242494d"
      },
      "execution_count": null,
      "outputs": [
        {
          "output_type": "execute_result",
          "data": {
            "text/plain": [
              "                                              tweet_text cyberbullying_type\n",
              "0      [in, other, words, your, food, was, crapilicious]  not_cyberbullying\n",
              "1                                   [why, is, so, white]  not_cyberbullying\n",
              "2      [a, classy, whore, or, more, red, velvet, cupc...  not_cyberbullying\n",
              "3      [meh, p, thanks, for, the, heads, up, but, not...  not_cyberbullying\n",
              "4      [this, is, an, isis, account, pretending, to, ...  not_cyberbullying\n",
              "...                                                  ...                ...\n",
              "47687  [black, ppl, arent, expected, to, do, anything...          ethnicity\n",
              "47688  [turner, did, not, withhold, his, disappointme...          ethnicity\n",
              "47689  [i, swear, to, god, this, dumb, nigger, bitch,...          ethnicity\n",
              "47690  [yea, fuck, you, rt, if, youre, a, nigger, fuc...          ethnicity\n",
              "47691  [bro, u, gotta, chill, rt, dog, fuck, kp, that...          ethnicity\n",
              "\n",
              "[39869 rows x 2 columns]"
            ],
            "text/html": [
              "\n",
              "  <div id=\"df-2c8e4f19-2dea-42ba-8b93-4dd3fa242448\">\n",
              "    <div class=\"colab-df-container\">\n",
              "      <div>\n",
              "<style scoped>\n",
              "    .dataframe tbody tr th:only-of-type {\n",
              "        vertical-align: middle;\n",
              "    }\n",
              "\n",
              "    .dataframe tbody tr th {\n",
              "        vertical-align: top;\n",
              "    }\n",
              "\n",
              "    .dataframe thead th {\n",
              "        text-align: right;\n",
              "    }\n",
              "</style>\n",
              "<table border=\"1\" class=\"dataframe\">\n",
              "  <thead>\n",
              "    <tr style=\"text-align: right;\">\n",
              "      <th></th>\n",
              "      <th>tweet_text</th>\n",
              "      <th>cyberbullying_type</th>\n",
              "    </tr>\n",
              "  </thead>\n",
              "  <tbody>\n",
              "    <tr>\n",
              "      <th>0</th>\n",
              "      <td>[in, other, words, your, food, was, crapilicious]</td>\n",
              "      <td>not_cyberbullying</td>\n",
              "    </tr>\n",
              "    <tr>\n",
              "      <th>1</th>\n",
              "      <td>[why, is, so, white]</td>\n",
              "      <td>not_cyberbullying</td>\n",
              "    </tr>\n",
              "    <tr>\n",
              "      <th>2</th>\n",
              "      <td>[a, classy, whore, or, more, red, velvet, cupc...</td>\n",
              "      <td>not_cyberbullying</td>\n",
              "    </tr>\n",
              "    <tr>\n",
              "      <th>3</th>\n",
              "      <td>[meh, p, thanks, for, the, heads, up, but, not...</td>\n",
              "      <td>not_cyberbullying</td>\n",
              "    </tr>\n",
              "    <tr>\n",
              "      <th>4</th>\n",
              "      <td>[this, is, an, isis, account, pretending, to, ...</td>\n",
              "      <td>not_cyberbullying</td>\n",
              "    </tr>\n",
              "    <tr>\n",
              "      <th>...</th>\n",
              "      <td>...</td>\n",
              "      <td>...</td>\n",
              "    </tr>\n",
              "    <tr>\n",
              "      <th>47687</th>\n",
              "      <td>[black, ppl, arent, expected, to, do, anything...</td>\n",
              "      <td>ethnicity</td>\n",
              "    </tr>\n",
              "    <tr>\n",
              "      <th>47688</th>\n",
              "      <td>[turner, did, not, withhold, his, disappointme...</td>\n",
              "      <td>ethnicity</td>\n",
              "    </tr>\n",
              "    <tr>\n",
              "      <th>47689</th>\n",
              "      <td>[i, swear, to, god, this, dumb, nigger, bitch,...</td>\n",
              "      <td>ethnicity</td>\n",
              "    </tr>\n",
              "    <tr>\n",
              "      <th>47690</th>\n",
              "      <td>[yea, fuck, you, rt, if, youre, a, nigger, fuc...</td>\n",
              "      <td>ethnicity</td>\n",
              "    </tr>\n",
              "    <tr>\n",
              "      <th>47691</th>\n",
              "      <td>[bro, u, gotta, chill, rt, dog, fuck, kp, that...</td>\n",
              "      <td>ethnicity</td>\n",
              "    </tr>\n",
              "  </tbody>\n",
              "</table>\n",
              "<p>39869 rows × 2 columns</p>\n",
              "</div>\n",
              "      <button class=\"colab-df-convert\" onclick=\"convertToInteractive('df-2c8e4f19-2dea-42ba-8b93-4dd3fa242448')\"\n",
              "              title=\"Convert this dataframe to an interactive table.\"\n",
              "              style=\"display:none;\">\n",
              "        \n",
              "  <svg xmlns=\"http://www.w3.org/2000/svg\" height=\"24px\"viewBox=\"0 0 24 24\"\n",
              "       width=\"24px\">\n",
              "    <path d=\"M0 0h24v24H0V0z\" fill=\"none\"/>\n",
              "    <path d=\"M18.56 5.44l.94 2.06.94-2.06 2.06-.94-2.06-.94-.94-2.06-.94 2.06-2.06.94zm-11 1L8.5 8.5l.94-2.06 2.06-.94-2.06-.94L8.5 2.5l-.94 2.06-2.06.94zm10 10l.94 2.06.94-2.06 2.06-.94-2.06-.94-.94-2.06-.94 2.06-2.06.94z\"/><path d=\"M17.41 7.96l-1.37-1.37c-.4-.4-.92-.59-1.43-.59-.52 0-1.04.2-1.43.59L10.3 9.45l-7.72 7.72c-.78.78-.78 2.05 0 2.83L4 21.41c.39.39.9.59 1.41.59.51 0 1.02-.2 1.41-.59l7.78-7.78 2.81-2.81c.8-.78.8-2.07 0-2.86zM5.41 20L4 18.59l7.72-7.72 1.47 1.35L5.41 20z\"/>\n",
              "  </svg>\n",
              "      </button>\n",
              "      \n",
              "  <style>\n",
              "    .colab-df-container {\n",
              "      display:flex;\n",
              "      flex-wrap:wrap;\n",
              "      gap: 12px;\n",
              "    }\n",
              "\n",
              "    .colab-df-convert {\n",
              "      background-color: #E8F0FE;\n",
              "      border: none;\n",
              "      border-radius: 50%;\n",
              "      cursor: pointer;\n",
              "      display: none;\n",
              "      fill: #1967D2;\n",
              "      height: 32px;\n",
              "      padding: 0 0 0 0;\n",
              "      width: 32px;\n",
              "    }\n",
              "\n",
              "    .colab-df-convert:hover {\n",
              "      background-color: #E2EBFA;\n",
              "      box-shadow: 0px 1px 2px rgba(60, 64, 67, 0.3), 0px 1px 3px 1px rgba(60, 64, 67, 0.15);\n",
              "      fill: #174EA6;\n",
              "    }\n",
              "\n",
              "    [theme=dark] .colab-df-convert {\n",
              "      background-color: #3B4455;\n",
              "      fill: #D2E3FC;\n",
              "    }\n",
              "\n",
              "    [theme=dark] .colab-df-convert:hover {\n",
              "      background-color: #434B5C;\n",
              "      box-shadow: 0px 1px 3px 1px rgba(0, 0, 0, 0.15);\n",
              "      filter: drop-shadow(0px 1px 2px rgba(0, 0, 0, 0.3));\n",
              "      fill: #FFFFFF;\n",
              "    }\n",
              "  </style>\n",
              "\n",
              "      <script>\n",
              "        const buttonEl =\n",
              "          document.querySelector('#df-2c8e4f19-2dea-42ba-8b93-4dd3fa242448 button.colab-df-convert');\n",
              "        buttonEl.style.display =\n",
              "          google.colab.kernel.accessAllowed ? 'block' : 'none';\n",
              "\n",
              "        async function convertToInteractive(key) {\n",
              "          const element = document.querySelector('#df-2c8e4f19-2dea-42ba-8b93-4dd3fa242448');\n",
              "          const dataTable =\n",
              "            await google.colab.kernel.invokeFunction('convertToInteractive',\n",
              "                                                     [key], {});\n",
              "          if (!dataTable) return;\n",
              "\n",
              "          const docLinkHtml = 'Like what you see? Visit the ' +\n",
              "            '<a target=\"_blank\" href=https://colab.research.google.com/notebooks/data_table.ipynb>data table notebook</a>'\n",
              "            + ' to learn more about interactive tables.';\n",
              "          element.innerHTML = '';\n",
              "          dataTable['output_type'] = 'display_data';\n",
              "          await google.colab.output.renderOutput(dataTable, element);\n",
              "          const docLink = document.createElement('div');\n",
              "          docLink.innerHTML = docLinkHtml;\n",
              "          element.appendChild(docLink);\n",
              "        }\n",
              "      </script>\n",
              "    </div>\n",
              "  </div>\n",
              "  "
            ]
          },
          "metadata": {},
          "execution_count": 20
        }
      ]
    },
    {
      "cell_type": "code",
      "source": [
        "# create a dict len_data with key – len of array, value – number \n",
        "# of that unique values\n",
        "df[\"tweet_length\"] = df['tweet_text'].apply(len)\n",
        "len_data = {x:0 for x in df[\"tweet_length\"].unique()}\n",
        "for L in df[\"tweet_length\"]:\n",
        "    len_data[L] += 1"
      ],
      "metadata": {
        "id": "rCdoxAuL4ogX"
      },
      "execution_count": null,
      "outputs": []
    },
    {
      "cell_type": "code",
      "source": [
        "px.histogram(\n",
        "    df[\"tweet_length\"], \n",
        "    x=\"tweet_length\", \n",
        "    color=df[\"cyberbullying_type\"], \n",
        "    title=\"Twitters Length Distribution Plot\"\n",
        ")"
      ],
      "metadata": {
        "colab": {
          "base_uri": "https://localhost:8080/",
          "height": 542
        },
        "id": "isNo6HbSSi3Z",
        "outputId": "cb8cf332-64b3-42c3-814c-4eb47c63e42a"
      },
      "execution_count": null,
      "outputs": [
        {
          "output_type": "display_data",
          "data": {
            "text/html": [
              "<html>\n",
              "<head><meta charset=\"utf-8\" /></head>\n",
              "<body>\n",
              "    <div>            <script src=\"https://cdnjs.cloudflare.com/ajax/libs/mathjax/2.7.5/MathJax.js?config=TeX-AMS-MML_SVG\"></script><script type=\"text/javascript\">if (window.MathJax) {MathJax.Hub.Config({SVG: {font: \"STIX-Web\"}});}</script>                <script type=\"text/javascript\">window.PlotlyConfig = {MathJaxConfig: 'local'};</script>\n",
              "        <script src=\"https://cdn.plot.ly/plotly-2.8.3.min.js\"></script>                <div id=\"ae071f78-b88a-47f3-a999-f433d275b859\" class=\"plotly-graph-div\" style=\"height:525px; width:100%;\"></div>            <script type=\"text/javascript\">                                    window.PLOTLYENV=window.PLOTLYENV || {};                                    if (document.getElementById(\"ae071f78-b88a-47f3-a999-f433d275b859\")) {                    Plotly.newPlot(                        \"ae071f78-b88a-47f3-a999-f433d275b859\",                        [{\"alignmentgroup\":\"True\",\"bingroup\":\"x\",\"hovertemplate\":\"color=not_cyberbullying<br>tweet_length=%{x}<br>count=%{y}<extra></extra>\",\"legendgroup\":\"not_cyberbullying\",\"marker\":{\"color\":\"#636efa\",\"pattern\":{\"shape\":\"\"}},\"name\":\"not_cyberbullying\",\"offsetgroup\":\"not_cyberbullying\",\"orientation\":\"v\",\"showlegend\":true,\"x\":[7,4,8,17,17,21,10,13,5,9,0,5,1,15,20,9,7,9,18,13,9,6,25,23,15,6,2,11,16,15,12,3,25,20,22,14,10,16,11,1,19,6,4,4,8,4,10,6,21,9,22,24,16,9,10,1,18,12,20,25,11,11,8,22,16,8,17,13,21,12,13,11,11,18,5,27,3,11,18,6,10,5,13,5,18,10,11,15,3,22,7,19,15,6,20,2,14,10,12,19,20,7,18,16,18,16,18,12,20,21,2,2,25,19,5,11,6,13,8,6,6,1,8,6,22,11,28,16,18,25,7,17,8,18,2,8,9,6,19,14,21,10,22,25,2,3,13,19,28,5,21,26,17,24,21,9,14,20,23,21,2,13,18,21,7,20,12,14,12,11,12,20,14,0,10,11,20,1,4,8,9,12,2,19,29,8,18,21,27,0,4,13,11,21,12,17,8,3,19,19,4,19,5,13,18,22,15,17,19,13,5,15,8,11,2,2,9,12,16,4,22,7,7,23,13,14,14,2,13,4,10,8,8,10,4,5,4,13,27,16,9,11,26,3,22,21,27,20,17,8,6,5,8,8,22,7,11,19,2,24,11,25,3,5,13,12,15,17,11,7,22,3,7,3,15,7,16,4,8,14,0,12,3,21,20,8,1,27,24,7,6,12,14,5,26,19,24,19,14,9,7,9,19,15,25,22,17,1,12,27,23,16,25,24,1,6,3,16,8,19,3,21,2,2,9,23,4,21,3,16,9,21,2,11,1,28,18,13,23,21,13,19,11,10,9,11,17,14,10,15,20,8,25,7,14,23,12,16,18,19,1,13,13,12,18,15,7,3,17,19,3,18,7,8,19,8,20,24,6,18,20,10,16,6,5,9,5,9,21,25,6,6,16,22,2,4,7,12,11,6,9,15,12,12,23,1,18,22,12,11,26,24,1,3,20,8,10,8,5,6,10,12,4,16,13,5,17,10,4,8,6,14,14,15,6,11,13,15,15,23,20,18,4,15,7,2,6,3,12,23,12,17,5,10,19,19,3,20,22,12,7,20,5,14,19,7,0,18,11,19,6,26,6,6,14,8,11,6,5,9,11,10,13,1,12,20,4,21,23,23,13,26,16,15,22,21,15,7,16,21,23,3,23,24,17,7,13,8,3,13,19,5,6,18,13,12,7,5,8,3,3,25,9,17,23,9,3,10,23,7,10,6,10,6,8,12,4,2,12,10,22,14,7,22,14,5,15,11,9,20,4,20,28,14,20,27,19,8,4,16,6,6,18,12,13,11,15,0,10,15,18,9,3,5,24,14,13,17,10,14,5,27,5,17,9,16,13,12,6,3,12,7,9,16,10,6,9,6,7,6,19,4,10,5,11,20,8,20,3,21,18,12,18,20,7,14,18,23,7,7,12,26,15,7,15,10,25,10,11,10,8,17,16,22,26,5,5,2,21,13,6,22,8,11,19,7,5,23,6,8,7,16,3,8,7,9,5,19,22,23,4,7,8,5,6,16,7,20,14,7,6,9,24,8,5,2,14,7,20,24,16,24,1,14,8,6,24,17,5,3,10,20,10,1,13,6,5,24,11,12,19,17,16,18,17,6,9,17,15,9,3,13,11,13,3,12,10,4,14,24,20,17,3,6,11,17,15,15,9,15,23,9,20,7,7,9,13,18,9,6,18,5,8,16,14,25,5,19,24,15,14,8,10,15,18,19,14,14,7,7,13,28,8,11,3,7,12,9,8,10,4,23,7,16,12,8,6,8,12,7,9,4,4,4,21,21,23,9,11,7,1,17,17,24,17,0,6,16,1,8,3,8,10,14,5,10,25,10,19,6,13,8,17,15,21,15,14,16,20,0,4,5,13,21,16,3,19,10,5,18,23,16,21,10,13,17,12,22,7,11,11,13,2,9,17,4,4,14,3,16,2,11,13,2,17,1,10,21,10,23,12,9,4,16,5,22,6,9,26,0,25,11,1,13,9,5,11,10,3,12,12,11,16,8,5,8,12,18,26,13,9,8,20,2,26,4,7,10,5,11,10,4,19,22,18,19,19,9,12,3,17,22,13,17,18,3,7,16,9,9,7,0,9,18,2,19,11,11,12,27,8,13,27,6,19,15,17,13,25,3,18,21,10,8,12,8,3,1,17,13,6,7,11,22,9,28,30,13,20,7,5,4,13,1,0,9,13,10,18,18,2,13,6,23,24,3,3,7,5,8,14,22,16,12,19,18,3,16,9,14,22,7,2,11,22,3,13,12,14,9,6,22,22,16,23,8,12,2,7,20,18,22,18,3,3,5,15,4,13,4,22,20,4,15,4,4,13,6,8,7,3,11,10,18,3,6,7,4,11,5,17,11,5,9,9,8,20,14,4,5,12,19,12,5,6,13,24,10,10,27,6,23,5,22,17,24,11,10,10,12,15,24,14,21,7,14,21,22,6,14,15,5,14,20,2,5,4,6,8,5,11,22,18,12,7,12,3,11,2,10,2,8,22,10,14,27,12,19,17,5,13,21,4,19,6,10,0,16,6,17,8,15,4,18,1,23,19,18,14,11,21,11,19,17,5,12,0,14,17,5,7,18,9,10,10,14,1,21,15,14,22,23,15,11,10,10,3,11,20,10,18,17,17,11,20,17,11,8,16,4,11,22,11,10,1,16,22,6,20,22,9,12,0,11,15,23,1,2,12,17,6,12,11,4,14,12,21,13,13,9,22,15,26,25,17,16,10,12,23,12,7,13,10,3,13,9,16,22,19,8,14,16,6,18,24,18,3,8,14,10,23,5,2,13,27,7,4,8,11,16,16,13,22,21,4,14,7,16,14,4,12,6,19,16,4,14,17,20,12,4,22,19,25,23,24,15,7,5,9,12,13,5,2,4,10,17,9,1,3,10,21,21,3,4,17,22,7,17,35,22,9,6,15,7,11,11,12,12,18,6,24,7,22,21,1,21,22,6,19,21,4,23,14,16,19,14,1,262,18,11,4,5,22,17,7,10,21,22,4,9,9,17,10,20,12,20,8,19,16,21,0,5,16,19,8,10,14,6,7,4,9,13,1,18,26,15,11,18,18,22,20,20,22,3,20,12,21,9,18,0,14,5,11,5,22,6,6,8,10,12,14,15,5,6,9,1,22,5,22,5,11,11,15,11,23,6,4,13,15,6,25,16,15,11,6,12,2,5,15,0,9,28,9,2,13,14,12,4,22,22,27,19,0,23,7,8,18,11,19,12,11,22,2,2,10,23,8,20,12,13,27,8,19,22,13,13,13,25,15,15,23,15,16,19,3,3,4,13,7,18,11,10,6,13,2,5,4,5,6,2,7,5,6,18,7,21,7,6,22,20,25,13,7,6,13,27,9,10,6,8,16,17,21,4,11,6,4,19,6,3,23,4,1,3,17,6,9,13,22,10,19,6,7,0,13,19,7,11,11,5,11,1,9,6,17,14,7,8,18,2,5,13,9,7,8,12,13,8,24,5,22,7,21,23,12,10,9,3,1,19,2,10,16,19,7,24,7,9,22,20,0,8,4,23,11,9,4,1,19,8,3,8,11,15,15,18,8,12,14,7,15,16,27,21,20,14,9,14,6,22,19,8,7,6,14,2,5,5,6,6,10,5,18,9,6,0,19,1,18,2,2,4,8,20,12,6,13,24,11,1,23,5,4,8,10,12,24,19,13,6,5,4,6,12,5,5,8,3,8,25,6,10,9,1,5,16,7,14,12,5,18,3,18,4,15,16,8,23,20,13,13,3,7,4,11,6,19,21,27,16,4,3,4,8,9,23,13,15,8,18,8,14,11,3,10,19,14,20,2,3,13,1,14,19,16,9,12,13,7,17,7,20,1,25,5,5,9,15,0,11,3,9,18,14,1,6,20,23,13,10,11,7,22,16,22,9,1,16,18,5,13,9,9,2,5,6,18,12,14,2,5,17,15,17,8,8,16,6,12,27,21,16,8,10,5,22,2,18,18,11,20,16,7,10,10,4,9,3,16,3,13,7,9,11,23,18,23,8,6,9,24,9,4,22,5,11,18,6,3,21,14,1,9,18,5,15,11,22,5,17,21,22,26,2,8,13,19,10,19,6,10,10,7,13,18,13,6,3,5,12,7,10,12,10,19,13,19,7,4,5,20,15,11,8,27,22,18,23,9,0,13,12,5,7,19,15,14,20,17,24,7,16,22,4,18,15,20,5,8,13,21,5,17,12,10,3,1,23,12,10,31,14,12,11,20,20,9,5,24,7,17,15,19,11,9,22,16,27,13,2,5,0,3,11,15,20,19,20,17,13,21,2,21,14,17,10,11,15,18,24,9,16,0,10,14,10,18,18,21,14,9,4,19,4,10,0,7,15,19,15,4,17,16,8,18,13,9,20,11,7,12,15,12,7,23,12,20,6,16,26,14,19,1,11,0,11,4,9,20,16,4,7,25,23,15,4,6,17,16,14,10,19,7,7,19,8,21,8,1,12,4,10,23,27,16,21,13,9,22,21,16,13,21,3,19,23,10,22,11,19,19,12,10,20,6,15,8,2,12,9,4,6,22,3,5,12,25,8,9,4,4,7,12,2,18,6,10,22,10,20,11,15,25,5,4,17,22,27,3,14,7,24,6,20,9,19,1,15,26,10,2,18,15,12,5,11,10,1,8,12,3,23,12,17,24,8,18,22,17,11,13,11,18,22,20,10,11,7,8,20,11,8,4,13,19,11,4,21,12,5,24,13,6,3,6,14,5,11,10,23,11,8,4,22,17,23,14,6,15,22,17,13,23,25,7,10,8,10,8,10,20,8,8,20,7,7,10,0,19,1,5,26,4,9,6,23,10,2,23,18,6,11,14,13,25,8,25,14,7,8,13,10,14,18,21,18,13,9,11,22,15,5,5,5,9,6,12,19,21,21,21,4,11,13,27,8,24,7,9,11,8,28,23,7,11,2,2,4,8,14,7,20,0,19,10,8,6,11,7,17,7,1,16,5,22,11,6,22,16,6,16,24,8,24,18,25,11,11,4,6,8,3,6,25,9,8,19,2,3,21,16,3,9,11,17,10,15,17,18,23,3,7,8,21,9,5,8,11,6,5,4,11,18,17,24,11,6,22,5,10,20,20,23,21,20,12,5,7,17,16,7,19,21,18,25,20,17,3,9,18,6,20,13,10,7,6,10,5,16,9,12,12,18,24,16,20,23,13,19,6,2,16,8,16,7,23,8,8,14,7,14,21,6,10,16,8,4,16,11,12,15,4,20,18,9,10,14,5,2,7,15,16,10,3,22,10,4,22,13,10,15,1,18,12,8,11,9,8,24,10,13,12,10,14,7,8,14,13,10,19,7,14,5,8,5,24,14,12,3,17,20,21,12,6,10,10,14,19,19,7,12,20,11,5,7,5,1,11,5,4,15,6,17,22,4,7,19,4,3,8,18,14,14,15,4,18,11,3,0,9,9,8,3,16,22,9,18,7,11,11,25,4,3,18,17,13,1,18,13,17,6,14,28,21,19,12,5,16,13,21,14,15,2,3,13,20,21,11,1,20,17,20,6,2,15,6,6,22,23,6,21,17,16,14,31,20,22,19,15,10,16,10,6,4,7,2,15,14,23,26,25,29,12,8,9,10,8,7,10,7,3,7,12,6,5,17,23,10,3,20,1,15,24,24,11,2,13,21,10,15,9,2,17,20,32,16,11,8,3,11,5,24,20,15,9,12,23,20,5,2,10,9,5,10,7,8,9,10,10,10,27,13,16,20,17,14,17,7,11,21,15,13,13,17,10,0,0,7,11,13,5,19,19,19,6,4,26,20,3,10,0,8,26,11,18,17,25,13,12,21,14,15,3,18,4,9,8,18,18,21,13,17,0,2,3,2,17,8,10,27,17,11,5,14,13,13,26,20,19,9,7,12,7,2,19,16,11,15,2,4,14,6,12,6,4,3,15,9,0,11,17,13,11,8,16,25,3,17,11,14,12,21,0,21,10,20,16,18,12,4,23,12,22,19,19,8,17,5,22,17,14,20,10,15,5,21,4,9,17,6,2,3,7,16,5,3,18,4,13,4,5,18,5,12,11,8,18,1,18,6,19,11,17,5,8,14,21,19,19,9,25,6,21,19,6,17,10,16,10,10,2,10,5,11,7,14,15,24,13,8,1,6,15,6,18,12,23,9,0,24,17,13,2,16,4,13,5,22,11,9,7,18,16,15,21,9,4,10,9,7,22,15,3,15,22,9,14,3,5,7,9,6,18,5,25,4,5,10,18,23,5,19,18,7,9,11,0,23,23,13,15,8,14,19,12,9,12,4,4,1,14,15,5,11,8,14,13,24,9,14,9,8,22,17,10,8,6,2,10,20,16,7,8,15,17,17,5,9,16,11,10,14,12,5,22,2,4,0,5,7,28,10,20,8,27,19,20,19,15,12,14,8,3,11,14,18,6,18,6,12,12,23,22,14,8,19,18,24,13,16,8,16,2,13,17,15,27,21,8,5,21,5,15,24,20,19,9,1,18,8,20,3,7,23,18,22,23,8,12,20,27,3,4,5,21,22,20,0,7,21,20,8,9,2,23,22,14,6,14,22,17,17,8,16,27,8,21,23,18,21,18,16,11,10,15,8,7,5,9,24,5,21,17,21,9,10,12,11,9,3,15,7,7,8,9,6,9,11,9,6,3,4,18,16,9,5,9,8,4,29,12,17,0,9,12,13,9,18,9,1,9,24,6,17,10,16,20,12,6,14,14,20,8,5,19,11,23,23,18,20,18,21,19,14,8,17,15,5,12,1,9,16,6,14,18,21,14,7,7,10,2,11,10,5,22,10,29,13,20,7,4,4,7,8,8,20,18,15,12,24,171,6,13,14,3,5,17,16,0,13,22,6,7,6,3,7,16,17,4,12,3,21,12,15,11,10,6,4,7,11,13,19,12,9,4,19,10,5,17,17,12,9,22,8,6,22,8,5,4,1,18,7,11,10,7,17,11,6,20,16,2,3,12,3,19,22,14,0,7,9,9,18,16,6,17,8,14,22,8,22,19,12,8,2,6,8,22,19,14,22,8,18,22,8,23,18,8,24,6,10,5,19,9,4,3,3,1,19,1,10,1,8,15,9,23,9,13,20,4,4,26,9,10,23,8,13,12,9,5,12,4,16,24,7,21,7,23,0,15,3,7,7,0,24,13,21,24,0,13,2,19,0,15,5,21,10,15,15,4,8,4,22,15,25,22,4,18,3,23,10,3,18,7,17,13,16,28,3,7,26,22,1,19,8,14,11,10,18,24,17,27,12,19,14,18,20,9,10,24,3,13,16,3,8,16,9,21,2,28,5,17,6,8,2,26,11,14,11,20,18,4,14,16,14,3,4,21,15,15,6,7,7,12,19,10,13,6,17,13,1,18,11,13,13,3,20,8,11,19,22,18,5,8,11,13,12,19,22,14,17,10,20,5,4,9,8,2,13,12,12,14,11,2,21,9,15,8,25,20,23,9,10,6,14,8,5,7,13,21,8,18,19,3,13,11,6,2,10,10,15,17,14,7,22,12,19,15,7,20,9,14,11,18,17,16,6,4,0,10,8,6,8,12,3,3,11,14,23,15,7,15,21,18,12,18,20,1,12,7,17,20,14,24,1,13,10,22,12,3,10,17,5,20,11,10,1,10,4,13,9,11,15,4,14,18,20,9,2,5,4,11,12,20,8,8,10,11,8,17,4,20,7,28,15,2,27,3,22,17,23,19,13,13,6,11,12,16,13,11,5,8,20,14,17,21,13,12,6,15,12,8,13,13,0,1,18,20,14,5,7,17,7,2,4,13,22,6,0,11,0,9,11,3,8,20,15,23,22,12,11,0,5,22,10,18,12,19,12,8,7,5,22,6,12,5,19,10,7,20,11,9,16,18,12,9,6,18,5,22,20,4,1,11,18,9,17,9,21,22,8,19,21,24,14,17,6,17,18,16,20,15,22,8,1,13,14,2,8,6,12,11,6,17,6,27,9,11,19,1,19,24,13,16,7,7,11,19,2,19,15,8,2,20,22,7,12,6,13,7,5,26,20,21,9,13,6,2,19,7,11,16,8,4,12,8,10,1,25,15,15,14,12,10,13,24,8,8,5,7,12,10,8,21,9,12,6,15,5,9,5,0,6,18,21,11,10,20,26,14,4,20,15,7,14,14,11,9,11,3,4,14,21,3,8,21,12,12,20,13,10,6,16,8,9,13,10,32,12,11,2,0,6,13,18,10,3,27,11,14,7,1,14,6,9,16,27,5,18,21,14,3,14,25,19,20,19,22,4,8,15,28,13,5,10,13,24,18,14,10,1,5,10,7,19,14,5,13,9,14,3,1,8,20,16,23,18,10,6,13,20,8,24,22,2,14,17,17,11,8,12,5,10,24,4,19,17,15,13,14,13,18,8,17,4,20,17,16,22,22,7,21,5,14,19,3,8,11,5,10,16,19,21,10,8,11,4,18,0,11,3,13,2,4,5,11,6,24,5,16,8,13,5,17,17,18,19,29,20,17,8,22,15,21,2,4,20,16,10,4,23,23,22,6,17,4,6,3,21,6,22,3,4,11,17,5,9,4,14,15,9,1,17,7,18,13,5,3,6,7,13,2,8,14,14,16,2,17,16,22,11,20,6,13,7,12,4,23,16,19,9,0,2,3,11,23,5,12,3,9,14,5,4,10,7,18,16,11,1,8,12,17,19,15,9,13,7,10,2,15,4,19,4,10,16,27,21,20,15,16,10,24,11,5,15,14,13,5,21,14,5,12,2,6,6,14,0,18,20,20,5,19,5,16,19,19,20,29,17,6,19,26,4,22,19,12,8,21,3,15,19,2,15,14,22,15,27,9,20,13,14,7,12,8,19,9,1,6,17,12,15,7,12,17,7,18,13,12,7,27,18,19,15,4,9,17,24,8,16,8,18,14,16,20,9,15,12,15,8,7,15,17,4,16,21,8,2,13,14,5,17,19,9,21,31,21,15,12,14,5,20,23,16,1,4,27,21,2,1,9,18,3,16,5,20,14,10,8,24,27,8,6,10,15,13,5,8,17,4,6,19,22,0,14,24,19,14,0,6,1,20,11,13,19,24,10,8,4,20,17,13,22,21,13,4,7,19,20,26,4,19,19,10,16,4,16,5,20,21,11,3,19,13,11,13,13,21,8,8,3,16,5,6,16,10,8,15,6,13,8,4,19,10,10,9,15,21,8,10,5,20,11,4,7,1,8,19,13,15,15,23,15,7,2,7,4,12,23,6,6,10,16,22,20,4,1,22,22,14,7,14,10,16,27,16,7,8,7,18,11,17,22,5,6,14,15,13,14,22,6,11,13,20,8,3,12,1,19,3,7,21,9,2,5,5,21,3,5,14,4,26,1,12,4,7,3,3,8,0,11,9,15,10,13,14,8,18,18,17,12,16,5,12,15,10,6,18,16,12,18,25,4,11,3,16,9,5,5,10,6,6,10,17,18,9,7,6,3,22,7,10,0,15,2,20,30,14,3,17,8,7,13,2,0,21,5,28,8,7,11,8,3,15,3,8,15,10,20,12,9,16,13,12,11,22,15,7,9,4,5,9,13,6,18,13,21,11,25,17,11,15,19,0,4,15,12,9,20,5,3,12,8,17,5,6,12,23,7,7,19,18,4,14,13,17,18,14,2,5,18,10,2,11,7,21,13,11,15,11,1,22,11,3,4,6,21,11,16,18,4,0,17,17,15,14,24,17,26,27,20,0,7,25,2,9,22,5,9,17,0,12,6,3,6,9,3,6,9,18,7,6,21,14,8,8,15,2,5,9,2,24,14,14,29,24,12,20,4,22,17,18,0,9,4,18,5,10,21,21,21,25,6,17,9,17,19,16,21,22,21,12,8,21,3,26,22,15,12,10,2,0,2,6,12,12,16,14,20,4,28,5,22,20,1,17,21,10,5,18,17,3,20,24,8,5,26,7,14,12,23,10,22,12,10,0,4,19,6,16,9,2,18,9,4,13,13,14,14,14,8,9,29,5,8,8,6,4,8,9,8,10,4,7,5,7,0,18,8,22,21,21,3,14,3,21,5,8,3,16,7,9,0,11,4,18,13,19,25,14,23,4,10,0,13,21,6,10,5,21,0,2,13,18,4,9,7,1,25,0,5,26,25,20,26,14,4,12,10,18,7,4,19,19,13,19,2,14,0,5,15,17,8,10,26,10,2,16,16,1,3,18,11,15,12,11,21,4,10,9,13,8,11,21,5,12,6,1,27,3,10,14,6,2,10,18,2,3,2,20,5,23,9,19,19,6,14,13,22,9,5,9,21,23,14,10,6,7,2,8,6,1,21,10,5,28,0,15,13,9,18,22,14,10,1,17,3,0,20,7,17,20,13,5,12,9,13,29,27,18,9,23,13,2,10,6,13,12,8,17,17,23,16,17,14,18,22,12,22,9,15,12,6,20,15,12,3,17,12,9,24,14,4,8,17,6,17,5,20,8,24,6,17,17,4,16,7,7,2,22,2,23,1,23,18,5,6,11,10,5,0,13,13,20,5,16,3,5,6,7,9,0,5,5,5,13,6,13,19,19,14,6,13,20,0,13,24,11,21,3,25,14,0,15,11,9,2,18,11,2,12,16,14,1,12,20,19,5,1,20,18,8,7,9,8,7,5,21,18,0,4,13,3,16,21,10,12,5,5,20,12,17,10,2,14,22,6,11,15,19,14,10,17,23,14,10,10,8,16,2,12,12,20,15,14,16,6,20,2,16,12,18,22,23,16,11,1,12,19,17,22,7,8,8,7,18,7,16,21,19,10,21,8,21,12,8,14,5,20,4,10,19,10,0,6,11,20,20,17,12,23,5,6,7,0,17,9,18,27,24,9,24,17,3,26,1,3,19,19,0,5,8,14,3,9,13,10,11,7,18,10,11,10,11,25,20,5,14,6,3,11,8,7,6,19,9,21,8,118,12,11,12,11,22,2,22,7,22,20,18,17,21,11,7,14,17,6,14,4,5,16,8,13,11,14,5,20,15,15,6,5,21,26,10,4,6,10,24,8,6,16,10,5,14,7,10,17,15,7,11,9,9,5,8,3,21,20,15,17,8,3,26,12,8,15,13,13,3,23,25,5,18,5,10,20,16,14,30,18,17,0,11,15,6,18,14,20,9,18,6,6,10,8,13,3,21,20,24,15,17,13,3,13,10,1,17,11,22,15,24,10,23,11,28,1,21,4,12,11,17,10,12,21,3,17,6,25,18,7,9,15,5,21,15,7,1,6,23,17,1,4,11,3,23,6,16,2,5,5,13,18,13,10,8,20,13,20,22,12,10,9,23,20,5,2,0,20,9,23,8,3,9,5,10,25,14,17,8,20,18,6,7,17,7,9,15,24,8,24,24,14,3,2,23,7,21,12,16,16,9,11,5,5,9,13,24,2,21,14,14,15,24,20,15,8,12,11,10,5,8,6,3,14,6,21,15,16,4,3,11,24,5,23,11,9,13,10,16,15,28,21,15,9,7,11,16,19,16,22,8,11,9,6,7,18,5,20,21,8,6,5,6,22,14,6,13,16,2,8,15,12,13,12,2,5,9,3,20,11,3,12,11,7,5,19,24,7,11,23,9,9,0,12,9,10,4,11,14,14,14,6,4,4,13,5,9,3,15,8,14,11,12,13,21,24,19,17,4,20,21,20,18,4,18,16,9,2,1,23,0,16,3,20,6,10,8,14,8,23,16,15,12,19,6,20,11,10,12,23,6,19,20,4,16,15,14,20,15,24,4,14,15,16,16,20,24,28,7,5,2,11,12,4,19,7,6,4,8,12,12,14,6,22,9,4,12,25,4,18,7,20,5,7,13,20,9,7,0,2,8,15,21,4,15,22,13,2,8,19,23,18,16,15,7,10,22,26,10,13,6,17,11,12,15,5,6,20,14,6,18,15,13,21,12,10,14,12,26,16,6,10,10,8,19,7,18,0,12,13,6,7,16,3,13,14,20,7,0,21,15,9,7,1,25,5,11,6,0,7,17,14,8,6,5,14,19,5,7,14,6,11,17,12,9,1,20,17,3,7,21,9,9,4,6,19,21,18,0,10,6,17,21,19,10,16,19,12,5,20,15,11,15,11,12,8,14,22,13,7,24,2,12,13,28,3,17,6,28,8,11,10,28,11,6,22,6,11,14,18,3,12,17,15,15,5,16,15,16,21,8,24,13,1,23,19,4,17,13,3,29,12,5,24,11,14,4,21,9,21,13,5,20,12,22,12,18,13,22,8,7,9,9,0,15,20,18,4,12,19,24,3,21,20,7,14,7,23,5,24,7,13,5,19,6,11,18,14,27,26,11,22,11,9,23,20,14,7,22,18,15,3,11,9,20,18,12,21,10,7,21,5,2,11,17,9,24,1,18,1,10,7,15,19,7,4,16,9,10,14,11,23,2,16,10,10,25,5,23,26,12,2,6,16,13,8,18,20,13,6,17,7,8,6,15,20,10,6,9,14,21,10,15,16,17,19,19,6,22,16,8,16,5,13,20,10,1,15,1,9,8,0,10,0,14,20,4,5,13,13,23,6,22,5,17,8,16,9,9,11,1,9,12,24,14,12,22,2,10,22,15,14,10,10,4,21,5,8,14,5,11,7,14,22,6,9,15,16,8,4,13,24,1,18,7,2,14,9,24,6,16,3,19,17,6,17,8,16,8,5,23,20,3,26,11,22,4,5,9,12,16,28,12,10,3,8,7,20,3,23,22,9,9,22,26,20,9,4,19,8,12,8,3,15,5,11,23,2,12,28,18,7,20,5,4,2,6,12,0,19,4,18,15,19,5,2,2,7,2,9,12,14,18,10,0,22,21,20,14,27,7,16,23,7,15,15,10,8,11,7,22,20,5,11,0,21,26,8,3,11,11,6,1,15,7,22,2,7,2,24,10,16,11,24,2,6,9,12,19,7,6,9,17,19,4,17,10,20,12,11,2,6,2,19,15,9,15,24,1,6,18,19,3,14,8,20,5,7,18,11,6,17,24,23,15,9,10,6,12,21,14,18,16,1,16,5,2,19,2,18,14,18,24,12,17,7,14,15,14,6,12,3,10,10,10,21,19,16,7,1,17,5,10,4,13,11,11,10,14,5,12,3,17,11,5,3,15,7,10,6,23,23,10,8,17,1,5,9,2,12,15,11,22,9,15,19,13,13,11,1,6,5,7,20,19,21,12,24,22,4,24,17,19,15,20,9,10,8,12,11,8,20,15,3,10,19,17,13,23,7,22,13,13,8,8,9,4,10,22,13,20,12,14,18,20,29,5,8,14,7,4,4,15,22,5,5,16,8,9,27,11,10,7,20,8,20,4,10,23,1,20,18,22,4,12,19,5,17,9,8,9,0,20,26,5,7,10,17,14,7,9,14,24,10,15,13,4,18,0,2,2,2,12,19,11,9,24,9,3,2,20,15,3,23,15,11,23,10,21,13,0,19,11,22,10,12,9,10,4,13,21,29,14,9,17,18,20,19,6,12,7,21,13,0,18,20,22,26,19,11,19,15,22,17,3,11,22,14,5,19,12,25,16,9,13,11,8,9,1,18,12,11,11,23,6,8,20,9,10,8,6,8,11,3,15,19,12,8,8,16,19,6,1,9,17,11,23,2,21,11,17,8,23,9,13,3,9,17,5,6,3,15,21,13,14,16,3,15,8,16,14,12,22,9,3,12,14,8,3,8,12,14,14,21,21,14,10,8,24,13,2,7,11,14,10,6,21,13,24,11,5,9,25,1,6,21,4,0,13,1,4,13,11,7,1,13,13,15,24,14,14,10,5,14,14,10,14,24,16,15,7,15,6,21,13,19,23,26,24,27,4,15,2,21,6,6,19,13,5,25,17,4,6,3,20,26,6,11,2,14,21,11,10,7,14,22,9,19,1,13,15,14,16,6,15,10,11,8,11,9,14,14,5,12,11,21,15,17,16,11,7,3,18,10,12,14,11,12,12,15,3,6,14,9,5,6,23,4,6,15,17,12,0,10,23,5,6,15,14,7,11,9,10,17,5,15,24,3,11,5,21,9,15,14,16,4,12,6,7,12,15,8,8,23,15,9,19,18,5,5,8,27,12,22,4,24,18,18,9,4,7,4,16,3,18,22,28,5,14,4,19,10,13,17,24,13,10,14,25,10,23,3,13,10,13,10,23,11,11,2,8,22,13,15,26,21,25,15,7,6,8,5,14,18,14,5,4,14,7,15,20,14,24,26,7,7,14,19,21,8,19,7,14,14,9,12,11,0,8,7,9,24,8,16,18,2,28,7,29,13,12,6,20,11,4,6,20,18,12,6,14,16,9,1,5,18,4,7,10,3,23,5,10,13,10,9,6,13,3,10,10,18,1,12,9,14,21,2,15,3,25,16,16,1,11,9,25,15,8,18,12,3,11,8,20,14,8,20,7,18,6,8,23,13,9,4,23,5,7,19,7,3,3,12,21,14,8,8,6,5,11,10,16,25,14,12,12,1,4,1,29,13,6,26,3,6,17,9,19,15,7,3,6,11,3,21,8,4,5,0,4,1,13,6,6,13,21,0,10,24,6,5,8,5,3,5,7,14,22,16,13,7,8,7,6,25,7,13,2,7,9,17,12,21,22,16,28,19,2,7,2,11,8,3,7,14,18,8,3,18,6,24,5,14,6,13,19,8,13,20,21,16,4,12,21,11,13,0,4,17,10,1,8,16,7,1,25,19,18,9,2,19,11,5,11,0,8,13,18,0,17,8,29,17,8,16,10,15,6,1,3,14,8,4,14,14,13,7,2,8,1,15,4,24,20,9,1,9,10,5,18,6,13,5,13,12,27,12,1,6,14,18,15,3,4,9,12,6,3,23,6,6,11,12,6,22,4,8,7,16,5,26,1,11,13,5,24,10,8,16,9,7,12,9,6,15,14,24,5,3,20,22,4,4,28,10,16,5,19,19,11,12,19,16,18,5,3,12,7,8,2,10,12,11,12,20,14,14,7,6,30,3,12,10,21,23,9,26,14,6,24,8,17,3,4,4,2,13,14,20,19,18,8,9,12,1,10,3,14,10,11,13,10,4,19,7,2,17,18,13,15,23,2,0,2,11,11,26,20,20,14,5,4,11,13,24,16,20,20,2,4,0,9,3,3,19,23,27,18,4,8,21,18,12,20,20,7,21,10,19,8,7,4,13,24,10,19,19,15,10,12,17,5,14,18,16,8,14,14,2,18,23,11,9,8,12,22,8,25,3,24,10,6,18,13,14,9,18,7,6,22,19,22,20,17,5,4,24,11,18,14,3,8,16,21,9,4,9,7,19,16,0,10,13,12,7,11,13,14,7,6,20,7,14,17,12,18,7,9,14,20,18,24,7,9,14,4,10,15,4,15,20,2,19,17,16,7,11,6,10,13,13,9,3,9,5,2,10,19,7,16,7,11,6,1,22,3,25,22,9,22,16,20,25,15,12,16,16,15,11,18,8,13,18,23,4,13,2,11,21,20,24,26,7,13,5,10,17,11,2,5,8,5,20,11,14,22,5,21,5,18,6,7,7,4,23,24,12,20,5,11,23,12,15,2,19,15,9,13,18,7,24,3,16,9,22,20,5,10,8,1,20,2,9,14,23,13,9,6,32,4,15,24,15,11,25,10,11,19,21,23,15,21,16,0,19,11,17,19,14,5,5,10,19,3,22,12,6,9,14,2,22,22,3,7,0,25,20,13,11,19,5,10,15,12,8,30,7,3,12,22,15,5,7,13,20,0,8,12,13,20,14,12,12,15,17,13,8,6,15,6,14,23,6,1,17,15,8,23,8,18,14,15,1,2,10,26,14,7,12,20,6,5,14,22,3,17,24,8,7,5,17,9,19,5,22,20,11,14,18,22,10,16,10,8,11,17,10,24,21,15,15,7,7,5,4,13,11,16,4,8,9,6,6,3,12,17,6,17,6,24,11,21,8,9,25,8,18,14,7,14,8,1,19,15,16,5,8,7,9,4,20,7,16,5,17,9,10,6,10,17,1,5,25,5,6,23,6,9,19,1,8,24,24,11,9,18,22,9,9,19,3,25,16,8,22,9,2,26,3,13,3,5,3,25,11,8,10,3,22,6,15,14,0,12,2,18,11,6,2,12,4,16,13,10,8,5,17,28,8,8,22,16,13,7,11,5,16,3,9,4,6,12,16,18,16,5,17,24,11,11,18,2,9,6,10,8,20,26,11,7,8,7,18,8,4,21,7,18,19,8,2,9,14,17,12,10,15,9,18,12,5,6,9,12,15,12,3,16,18,13,19,11,25,3,24,11,19,12,13,13,14,20,21,26,7,3,21,20,18,12,3,8,12,25,10,11,13,12,6,14,13,9,10,4,18,1,17,21,11,15,12,15,7,23,19,18,24,11,3,21,2,6,21,10,4,18,10,12,24,8,14,7,3,12,19,24,23,15,21,3,16,28,16,25,19,12,15,11,21,2,4,6,0,10,4,10,2,9,14,9,3,24,1,6,5,2,4,18,14,6,2,17,10,20,9,21,8,8,9,20,12,13,14,6,2,11,19,13,14,8,8,21,7,18,6,21,10,14,17,1,15,19,11,20,11,13,7,4,13,7,2,12,9,15,7,21,2,8,6,22,20,13,5,7,10,6,10,7,6,1,1,9,15,16,7,15,21,14,12,2,21,13,9,2,21,20,5,16,14,1,9,8,20,10,9,16,0,8,1,18,13,9,12,13,22,19,10,12,19,14,9,13,24,6,21,28,2,3,7,26,9,12,20,14,1,11,22,22,25,10,9,13,12,11,1,18,9,8,20,4,2,5,8,10,5,6,10,9,16,7,7,24,8,6,4,29,3,14,12,12,9,7,0,1,8,20,17,2,24,17,27,7,23,17,17,12,13,27,10,3,12,10,20,14,1,3,2,7,0,13,21,23,5,10,14,7,5,21,14,3,10,9,13,7,13,7,16,11,1,24,15,16,8,25,21,23,20,17,3,15,21,6,12,6,3,3,21,6,9,19,1,12,5,23,7,16,18,22,8,10,2,11,16,15,20,13,14,9,19,12,4,9,13,16,19,7,15,6,27,23,7,9,10,7,22,2,20,16,22,15,12,23,8,3,10,7,20,11,5,10,17,28,7,4,25,9,11,13,22,9,3,4,3,10,17,21,3,23,4,21,13,12,14,18,3,8,0,3,13,13,0,15,14,17,19,26,5,10,21,21,21,14,4,12,23,21,15,12,12,16,7,23,15,15,17,20,14,17,16,9,25,7,10,16,19,4,14,13,9,19,27,18,5,2,2,18,12,17,6,10,15,12,10,14,7,18,7,10,6,14,3,6,20,13,22,10,25,14,9,22,16,25,15,13,5,12,2,4,3,20,0,15,6,11,7,24,19,26,12,24,17,12,2,17,7,22,3,27,22,18,23,9,7,4,12,10,12,16,15,18,13,20,24,5,5,9,14,10,6,17,13,27,14,15,9,9,8,8,24,8,20,13,17,9,26,15,7,24,20,21,19,8,28,8,12,8,15,7,3,11,5,8,3,18,5,11,6,9,19,6,14,15,5,11,8,22,17,4,18,5,3,24,5,18,4,11,18,4,10,2,15,7,8,17,18,8,8,17,9,6,18,4,4,1,10,16,2,15,21,13,20,2,12,6,18,17,20,11,11,9,23,21,10,3,18,8,19,15,18,5,22,19,8,14,25,15,11,5,4,21,28,12,0,7,21,16,19,0,17,16,20,7,14,20,17,7,5,18,14,11,2,7,16,11,13,8,21,13,15,11,26,6,5,7,16,18,18,7,16,6,19,10,7,6,21,7,24,21,3,10,11,14,28,16,21,12,22,22,3,3,28,2,17,18,11,16,11,13,12,18,18,2,6,6,16,5,7,6,11,19,15,22,17,9,14,22,3,17,16,7,6,8,19,19,3,8,17,5,10,12,13,10,8,8,10,21,19],\"xaxis\":\"x\",\"yaxis\":\"y\",\"type\":\"histogram\"},{\"alignmentgroup\":\"True\",\"bingroup\":\"x\",\"hovertemplate\":\"color=gender<br>tweet_length=%{x}<br>count=%{y}<extra></extra>\",\"legendgroup\":\"gender\",\"marker\":{\"color\":\"#EF553B\",\"pattern\":{\"shape\":\"\"}},\"name\":\"gender\",\"offsetgroup\":\"gender\",\"orientation\":\"v\",\"showlegend\":true,\"x\":[29,24,13,2,58,26,25,14,1,12,14,25,24,56,51,17,38,20,24,14,19,25,13,20,10,16,21,22,7,19,33,21,2,22,8,12,26,47,10,14,20,20,19,9,53,27,20,18,14,24,27,16,4,51,40,2,51,20,15,21,8,13,25,13,11,6,5,48,6,8,41,12,18,19,23,51,21,17,10,25,51,23,31,31,18,16,12,33,47,11,55,23,4,27,22,21,7,48,50,41,21,50,12,31,19,15,20,25,49,29,9,20,18,35,49,18,24,56,12,16,9,9,46,7,25,16,7,23,23,18,43,13,17,28,40,13,35,18,28,38,20,32,1,21,25,11,8,13,38,19,12,21,30,21,12,24,23,12,27,17,20,57,11,22,45,23,51,12,47,16,14,26,11,20,44,22,24,22,6,11,14,7,43,8,23,22,28,25,26,21,17,16,20,50,8,16,19,22,45,6,45,51,3,9,46,53,3,38,48,26,13,9,40,24,16,50,18,25,26,26,1,18,23,51,49,3,24,25,23,8,13,19,19,26,26,13,17,55,26,21,7,13,12,22,9,23,4,33,9,18,34,52,26,12,8,17,31,10,20,27,16,22,41,10,21,29,32,24,17,49,14,19,18,13,5,25,24,1,21,14,16,33,9,8,11,6,50,9,25,27,13,17,13,21,20,23,17,44,20,47,50,15,44,5,52,6,30,50,43,9,17,21,49,46,3,5,15,17,5,17,15,5,11,8,18,15,15,55,24,40,6,22,39,9,30,37,24,22,32,18,34,16,49,8,16,21,25,24,26,3,14,25,8,20,8,28,43,17,55,52,26,19,12,21,19,22,11,10,18,6,7,47,11,49,24,28,13,23,16,29,13,11,38,18,24,46,14,10,46,62,41,18,16,13,43,38,26,22,12,53,19,48,24,22,20,21,26,22,7,11,24,20,5,42,23,19,7,15,15,2,24,11,21,51,19,16,52,20,8,17,9,28,23,9,9,23,16,22,23,46,17,36,13,17,32,11,15,21,33,19,7,15,52,17,58,21,47,13,10,18,38,13,10,31,22,27,13,16,20,15,40,14,30,24,26,15,13,48,44,24,13,51,22,18,13,10,14,13,13,17,51,13,26,32,10,7,21,45,14,5,0,24,5,4,20,11,12,21,12,18,14,6,0,26,4,6,54,43,16,10,35,23,12,16,23,19,51,19,25,51,19,4,15,13,16,30,23,30,41,21,54,17,15,16,40,21,15,21,20,8,19,13,5,33,54,20,17,17,1,47,22,19,25,33,46,15,25,23,48,38,22,21,18,10,20,17,22,8,41,21,19,29,14,21,11,9,25,15,48,14,18,18,20,55,13,19,43,54,54,0,13,18,37,12,23,15,52,9,17,8,17,43,27,9,19,25,17,23,17,18,12,18,20,29,41,19,13,18,19,53,48,30,15,18,24,19,6,42,12,20,27,26,11,26,11,11,28,49,9,49,47,18,16,7,20,20,8,17,24,13,6,11,4,14,26,18,21,39,17,22,39,21,54,18,14,44,7,12,18,15,46,0,24,10,23,25,21,29,45,15,25,26,20,4,24,22,26,6,8,22,27,7,11,6,15,26,23,13,24,32,18,9,16,15,1,23,42,29,37,43,6,41,17,20,27,29,15,15,25,46,14,12,20,22,24,42,48,19,54,25,21,8,54,26,13,11,24,12,7,2,0,16,22,47,21,39,14,45,14,23,25,17,8,10,22,45,55,12,17,15,26,18,17,44,14,14,18,5,4,22,19,22,13,26,21,53,59,31,21,21,28,9,30,20,39,4,20,13,9,4,19,14,13,27,13,28,5,54,16,50,36,8,49,13,19,34,18,60,13,9,15,17,20,5,18,10,20,9,1,28,1,26,12,47,22,36,27,7,21,8,42,28,55,13,33,32,25,11,11,6,13,21,15,18,22,30,14,23,3,31,18,8,29,33,1,18,17,5,16,15,18,22,2,8,12,20,33,7,3,23,25,11,19,42,18,4,42,26,27,42,49,18,20,48,18,51,39,15,42,41,42,23,49,28,21,21,30,19,37,4,19,29,14,45,6,16,18,23,20,17,10,9,13,7,3,19,17,50,19,35,8,16,23,24,16,18,31,3,8,26,25,24,7,10,12,25,5,18,16,14,14,48,19,9,17,23,17,24,16,14,4,10,21,10,46,49,16,54,12,27,22,15,17,23,21,57,50,26,7,33,18,20,19,11,24,20,19,20,6,57,12,35,6,20,21,12,16,53,9,29,9,10,24,22,32,18,11,31,25,13,14,30,22,18,23,25,12,20,17,23,22,37,26,10,49,34,26,5,17,7,27,10,15,8,2,5,7,22,25,19,29,41,19,23,20,8,13,14,22,22,24,24,21,25,25,20,23,50,20,14,17,23,17,18,23,51,20,4,58,45,29,16,13,23,50,15,22,33,22,18,16,44,51,48,22,38,12,20,11,24,10,6,27,22,26,9,20,20,41,48,38,23,41,43,18,21,10,23,17,55,9,20,12,14,19,19,5,16,17,21,0,20,5,12,14,53,19,16,50,19,28,44,21,14,17,18,29,18,45,21,17,15,25,4,11,3,14,10,23,57,14,6,17,16,9,20,42,14,14,23,20,22,53,22,14,30,12,59,17,4,6,25,14,22,45,8,22,20,19,13,18,22,46,14,8,49,44,21,24,6,7,40,40,11,23,53,3,14,17,51,17,43,29,12,15,57,12,11,24,18,24,22,27,17,19,13,16,35,6,24,14,20,20,51,23,48,16,16,13,13,22,12,18,24,23,18,9,12,26,4,20,17,17,41,15,22,28,25,60,24,7,18,17,35,15,23,47,38,35,31,12,7,15,27,24,20,7,31,14,8,31,26,16,24,13,10,18,15,20,12,7,18,30,24,14,8,24,52,16,49,25,52,24,14,30,22,29,28,3,16,55,18,23,14,24,12,15,22,23,28,11,8,9,17,38,22,17,21,6,9,50,51,4,11,13,13,23,4,32,27,16,17,26,22,12,29,10,8,19,15,15,12,55,44,20,21,26,51,15,18,19,23,24,14,23,53,52,49,13,19,27,15,9,21,50,52,22,18,8,20,21,23,12,18,18,20,10,8,42,20,15,51,17,12,42,7,46,47,17,15,9,15,20,22,18,22,22,16,37,18,19,44,11,17,43,11,20,40,32,22,49,10,22,9,27,9,15,21,50,22,15,22,50,34,17,12,56,10,31,26,9,33,19,17,16,14,39,23,42,22,22,45,26,15,15,49,8,9,22,14,11,49,18,24,20,14,24,15,34,42,22,10,11,20,41,13,11,19,18,25,23,31,15,26,16,15,16,44,49,23,37,13,24,12,7,17,18,20,36,48,31,26,41,10,5,24,16,17,11,51,52,14,18,17,10,47,21,58,15,23,9,29,19,38,11,6,22,19,38,9,21,18,33,22,14,21,7,50,11,25,19,14,55,11,8,20,42,15,44,15,9,3,42,20,17,5,16,26,21,16,20,24,32,24,10,12,10,19,32,19,13,52,10,40,16,17,18,54,8,20,8,19,16,16,16,5,19,17,17,4,26,24,22,5,22,20,24,13,45,22,9,31,47,52,20,14,23,17,18,8,9,13,22,30,7,29,25,16,25,34,46,17,23,9,7,22,15,15,27,49,18,19,25,30,15,12,44,5,25,7,14,53,29,21,10,11,25,11,15,16,26,24,42,3,19,9,50,11,8,18,41,1,12,53,28,8,24,29,7,22,1,23,9,14,36,52,56,18,24,28,34,52,48,3,10,25,26,13,35,26,10,17,22,10,14,13,12,17,22,14,19,25,14,45,40,16,24,27,18,22,24,9,50,20,6,17,13,13,6,6,57,16,21,48,52,14,16,11,24,26,12,13,13,45,17,16,20,13,43,54,11,20,23,16,23,3,31,27,28,43,22,23,49,23,37,10,19,18,13,26,14,12,14,9,49,11,14,22,13,16,30,45,11,10,24,13,50,54,14,14,11,43,16,22,3,16,39,21,45,50,20,10,12,8,18,14,23,50,43,19,8,10,34,43,25,16,12,43,45,14,10,19,12,23,19,18,32,12,51,24,24,53,16,10,28,23,3,18,22,18,1,47,16,22,28,11,0,8,11,23,26,24,20,31,14,19,14,20,16,13,14,11,45,12,22,27,1,42,9,13,10,11,23,23,30,47,4,25,23,7,28,22,33,21,13,43,15,17,16,3,28,26,20,24,16,17,26,38,24,20,16,14,53,22,53,16,22,20,15,16,19,34,35,17,8,7,21,14,8,10,25,55,22,28,54,26,19,15,13,11,52,49,9,22,23,11,22,25,24,8,25,16,23,22,18,11,19,24,14,17,11,11,24,12,7,27,58,50,19,2,13,9,17,23,3,11,56,51,18,18,33,10,26,15,12,5,17,23,42,47,16,44,5,55,46,48,11,23,41,10,9,15,49,47,14,23,24,19,22,7,20,26,23,6,48,15,12,20,17,12,14,32,23,8,20,2,22,48,21,8,25,37,21,25,14,25,14,43,24,27,18,49,49,13,49,16,15,15,24,25,14,45,22,22,23,25,18,2,21,25,7,23,22,9,8,27,4,24,20,13,19,8,27,25,45,13,35,35,25,9,21,4,8,24,19,25,17,23,19,24,25,20,24,14,46,15,9,15,16,31,25,14,5,20,7,12,16,19,14,10,28,23,27,12,21,15,44,31,2,13,19,47,43,13,52,13,26,14,9,37,45,6,23,12,52,41,25,19,7,7,14,8,22,25,43,14,27,3,25,49,13,28,23,20,39,18,6,51,14,15,4,16,30,14,15,16,38,5,41,3,19,8,50,19,15,30,10,25,17,21,18,45,11,32,49,27,6,49,10,17,46,20,16,40,27,22,2,20,15,45,22,3,9,16,10,18,40,22,21,5,25,25,26,19,2,24,17,25,14,14,21,6,23,1,14,37,17,24,22,20,26,25,16,28,14,13,34,14,12,63,20,22,27,42,23,10,9,3,37,36,0,19,32,17,17,21,25,15,15,20,5,11,25,13,23,13,48,22,13,15,11,11,49,15,19,22,22,7,46,24,16,18,21,19,27,11,16,14,24,18,14,24,21,19,13,16,16,10,23,26,18,9,33,18,18,18,28,12,6,26,53,22,11,14,20,28,23,14,19,20,16,23,18,45,28,27,18,17,9,25,22,8,15,22,21,41,50,11,10,11,12,8,12,36,49,17,35,42,8,13,21,28,19,51,24,19,26,21,9,10,24,22,17,30,21,23,1,2,48,22,42,16,28,24,4,56,15,14,44,24,27,19,17,13,16,52,4,54,33,27,27,13,2,49,8,35,7,21,32,11,6,14,32,47,10,20,11,24,21,40,36,22,37,5,25,19,24,18,22,49,10,20,21,23,13,6,6,40,13,9,15,22,14,28,14,25,24,5,6,10,47,7,48,11,51,15,17,19,18,26,1,15,22,43,19,24,23,18,22,22,19,19,7,9,37,19,20,21,23,13,35,18,16,52,13,47,8,27,55,23,27,8,13,37,23,16,13,24,15,17,7,16,27,46,8,27,45,18,20,33,9,58,45,31,43,24,17,17,13,15,25,10,20,21,54,11,8,23,15,39,5,15,16,27,19,5,9,17,48,33,13,26,28,7,25,22,18,34,60,16,51,49,8,21,19,9,10,18,50,22,15,25,13,40,13,17,15,53,21,25,57,23,13,7,31,40,13,26,13,23,12,45,3,25,16,22,34,18,5,22,17,12,38,27,5,33,50,5,23,21,22,11,12,15,31,55,11,46,51,16,51,14,11,23,11,18,6,15,15,26,22,48,16,12,17,22,6,31,8,9,7,15,11,14,56,0,16,18,13,15,25,19,7,14,8,38,14,22,18,23,17,41,19,11,18,7,19,49,27,13,14,9,34,14,16,22,42,7,17,8,6,19,9,18,18,0,46,11,27,24,35,14,8,10,23,18,21,45,32,47,24,23,17,4,31,23,19,48,17,22,25,16,31,24,23,12,17,7,26,19,24,21,45,46,13,40,6,10,9,52,11,15,14,21,35,13,15,26,16,18,18,46,23,26,9,23,13,24,17,26,38,26,12,0,28,17,12,46,30,18,15,18,11,7,43,24,25,7,14,56,12,49,13,22,34,31,12,0,2,7,15,51,12,20,17,20,13,26,35,56,53,14,20,50,38,52,11,8,22,42,20,50,9,50,18,5,18,36,25,34,17,20,20,44,10,11,25,9,8,50,5,21,20,18,47,23,17,0,28,23,44,30,30,52,41,20,27,3,15,13,36,21,15,17,39,35,47,3,4,19,36,45,26,14,5,5,52,11,5,15,51,10,15,12,38,23,1,8,1,41,25,8,52,21,23,30,18,15,17,50,25,18,13,7,21,9,14,18,40,23,36,22,25,22,33,18,14,24,20,22,46,3,45,19,23,19,10,15,27,20,9,60,9,19,22,21,12,7,41,10,22,29,23,20,22,11,22,31,41,1,7,19,32,21,36,23,19,8,6,13,11,23,3,44,3,23,22,9,20,34,27,49,14,10,29,11,38,52,30,13,44,9,18,26,10,22,17,41,16,22,4,25,29,24,18,18,8,44,35,21,21,9,53,24,54,16,10,31,39,23,53,43,26,28,19,22,17,20,34,19,47,9,20,21,24,20,13,7,22,4,51,27,46,25,34,25,21,41,26,35,25,6,41,21,15,27,23,218,37,7,40,56,19,36,42,47,21,3,46,21,11,15,24,21,44,34,22,11,12,21,11,4,35,29,12,16,19,26,12,49,44,34,15,19,23,13,28,41,16,24,22,15,2,16,24,17,17,22,20,33,50,32,37,52,7,42,7,21,7,14,25,23,11,18,15,20,26,10,28,17,26,7,12,15,44,18,48,26,18,21,9,19,41,9,23,24,5,0,10,13,25,26,19,16,22,14,9,46,16,18,40,51,41,9,25,21,5,17,52,26,41,14,22,4,15,18,21,37,4,23,39,20,28,26,16,15,10,27,22,23,47,43,28,21,10,47,29,9,20,18,20,34,33,3,25,26,17,20,23,45,16,14,13,6,22,14,23,68,9,11,12,9,13,5,24,1,20,17,12,40,14,28,55,23,21,39,50,17,18,27,15,10,25,11,20,21,8,5,23,42,22,26,5,13,17,14,9,10,5,14,21,12,15,53,53,20,23,27,21,43,29,45,32,50,15,28,38,28,39,10,19,47,18,21,10,21,10,27,6,31,15,7,26,24,12,24,37,8,18,23,7,22,20,22,14,20,20,18,13,16,48,26,18,46,22,20,23,34,1,48,13,22,22,16,2,43,25,17,56,16,14,21,12,36,21,51,19,20,36,13,22,52,17,43,17,7,7,15,17,19,22,14,34,10,12,23,31,8,27,36,13,23,23,9,24,16,13,16,28,17,9,21,29,19,22,18,12,16,4,22,51,25,5,26,29,6,11,32,26,21,19,7,25,52,26,15,21,7,19,23,9,30,18,24,3,8,21,48,21,20,13,16,8,24,20,52,19,16,23,14,46,20,13,3,18,13,28,9,14,21,24,9,42,13,25,15,53,8,25,25,32,43,14,14,17,51,10,10,13,21,14,19,9,6,8,40,27,26,14,12,19,18,10,11,21,31,20,11,24,48,21,25,9,2,18,8,27,23,27,25,22,20,10,21,24,7,9,19,12,10,13,17,18,18,14,20,38,43,14,19,32,29,17,17,29,24,13,41,23,35,15,24,27,1,18,20,60,13,30,24,18,31,20,10,1,23,19,17,26,35,42,53,5,36,21,43,44,22,24,7,33,54,26,8,48,16,14,18,34,29,45,9,15,24,40,9,14,18,16,21,45,21,11,21,8,11,53,28,18,52,9,36,10,4,24,34,56,8,13,14,31,17,45,22,19,26,14,27,13,26,13,50,49,47,25,23,38,25,9,14,21,17,23,43,19,21,8,37,54,18,20,23,24,22,30,28,19,32,26,53,2,22,20,8,1,14,23,8,19,8,46,39,35,48,43,14,30,19,15,26,9,13,37,54,3,21,12,40,11,19,19,31,20,25,36,27,47,22,7,43,11,23,42,22,62,23,12,11,27,48,21,48,23,3,15,9,42,13,24,43,30,7,45,18,37,17,22,19,17,9,29,26,0,17,59,5,3,22,55,10,19,22,13,20,16,19,28,23,48,35,12,21,14,9,12,22,25,24,40,50,47,24,58,8,39,52,55,17,16,14,15,18,35,50,57,45,32,20,26,17,16,49,25,18,41,0,20,18,25,29,7,19,16,27,28,40,20,23,16,21,53,2,7,15,14,0,33,7,8,6,53,21,16,9,5,17,19,25,22,23,33,9,18,13,24,46,24,9,5,23,11,30,47,19,16,8,32,24,10,22,15,15,44,14,23,50,8,5,28,13,22,22,12,24,25,20,11,48,10,54,14,17,24,23,19,27,4,8,15,12,22,17,19,46,17,24,22,19,27,20,57,25,20,33,10,12,27,14,18,17,20,43,48,27,15,19,14,29,6,22,11,22,38,26,50,28,8,48,27,13,17,2,48,8,37,19,23,18,52,54,21,12,5,22,5,11,20,27,28,11,13,15,17,54,15,13,11,23,22,22,10,1,19,9,16,25,43,11,26,53,48,5,26,8,20,19,7,8,17,48,24,50,17,19,12,48,19,20,15,21,45,17,20,16,12,43,20,16,20,58,22,12,6,26,6,25,11,14,49,19,52,4,23,20,58,11,52,10,16,14,22,16,9,11,26,23,45,28,9,24,0,55,50,20,17,14,43,9,11,8,13,4,46,26,58,13,16,15,13,19,14,24,35,7,5,49,45,24,3,10,53,8,23,43,11,8,20,51,3,6,14,6,21,22,23,18,52,17,14,22,48,13,14,17,19,24,50,26,26,21,19,5,18,46,21,52,52,47,8,38,16,13,17,14,33,14,8,24,25,18,20,23,16,21,10,19,24,21,22,11,19,10,12,21,26,57,11,11,22,25,6,27,25,23,17,12,27,45,29,25,39,14,48,19,16,13,14,21,53,25,34,26,15,7,17,21,26,29,50,23,49,39,53,14,24,46,15,15,49,8,12,28,16,15,23,48,18,41,18,19,9,46,15,18,11,24,11,41,15,7,25,12,21,15,10,48,24,10,18,20,21,21,26,10,24,8,11,25,30,51,42,17,19,0,23,9,18,14,27,10,30,6,20,22,25,24,1,14,25,6,52,20,47,9,8,37,31,6,27,26,22,28,14,21,9,23,23,44,23,14,50,13,12,19,4,14,51,50,48,49,20,13,22,47,48,45,17,18,23,5,9,10,19,9,25,23,16,1,23,15,16,1,22,26,21,5,17,11,25,19,46,29,9,23,23,1,0,27,19,20,15,23,22,57,18,15,24,4,16,37,8,32,25,43,19,10,9,14,10,16,11,1,24,16,18,17,36,20,11,2,17,55,22,8,22,28,21,11,47,14,4,53,44,8,8,26,53,18,17,32,9,11,16,24,14,14,15,28,17,12,25,22,39,8,19,17,3,9,13,8,23,20,10,20,17,40,1,47,24,39,28,28,22,36,15,9,17,8,15,49,9,14,10,33,12,10,18,13,25,12,16,23,36,5,15,51,46,18,1,51,46,22,22,5,16,37,28,18,13,14,11,11,49,33,17,21,9,4,48,17,17,20,45,14,44,20,20,18,10,24,17,15,10,26,26,24,9,26,16,50,58,39,12,42,18,33,17,34,17,54,54,28,15,8,11,37,53,24,26,24,27,21,28,20,8,13,35,44,9,53,26,23,23,11,12,14,24,13,23,15,21,19,24,20,17,19,44,0,18,15,20,4,49,22,17,29,19,49,42,34,47,48,26,48,25,23,36,21,23,38,54,21,29,10,25,13,20,26,48,15,29,22,22,24,21,23,49,13,21,11,17,34,7,2,17,9,45,20,7,14,24,24,47,22,0,8,25,54,38,49,3,13,19,21,26,29,23,12,15,26,42,33,25,11,16,18,22,11,32,54,1,12,34,20,27,17,20,4,19,28,51,19,23,4,21,19,14,20,11,50,15,20,23,24,25,48,5,57,17,6,52,19,56,52,22,7,15,52,22,38,8,36,11,22,3,20,10,20,22,53,9,23,20,52,6,11,39,21,15,13,2,18,10,25,22,24,18,21,62,49,18,28,2,25,16,27,22,22,13,14,14,18,24,52,18,13,16,25,33,17,24,0,18,17,13,16,25,48,26,28,20,8,18,26,27,22,28,25,9,26,15,28,6,16,17,13,21,10,22,14,13,9,21,14,26,2,32,17,8,21,21,28,34,13,20,9,9,18,17,22,47,11,39,21,3,26,22,23,13,38,13,14,31,15,25,5,57,26,16,18,27,20,23,17,29,22,11,35,11,34,42,9,34,23,24,19,52,55,58,21,9,47,16,47,23,20,8,11,50,20,25,26,14,44,6,46,15,19,22,13,15,20,41,15,8,14,22,16,17,16,13,38,18,14,23,9,20,33,24,39,28,12,23,21,46,35,12,25,15,12,23,24,14,14,9,30,20,11,12,20,21,53,10,6,6,26,9,19,17,25,17,12,21,22,55,9,17,0,18,14,26,25,13,17,39,9,15,15,53,28,8,7,25,9,35,40,22,6,24,12,40,19,33,19,28,12,23,40,15,18,10,43,16,12,53,54,20,21,19,27,22,12,9,13,50,22,12,22,17,23,14,20,20,5,25,26,10,35,21,13,41,23,12,4,22,26,8,14,22,8,18,0,12,16,11,23,39,13,24,10,17,11,49,22,15,22,24,9,12,33,20,45,21,24,15,28,22,12,44,13,57,9,25,40,26,18,13,7,13,32,9,17,23,16,14,12,25,49,2,28,3,12,49,25,20,24,23,4,20,48,21,6,8,18,14,5,50,21,14,52,28,13,23,25,13,17,22,5,31,54,45,38,39,9,18,46,24,37,19,11,27,36,22,57,8,23,13,14,22,11,2,13,1,17,49,21,21,9,23,23,50,17,27,12,44,37,12,31,20,19,15,18,20,9,39,48,13,24,6,10,18,23,49,20,21,6,13,19,32,41,13,14,26,19,38,14,24,53,7,24,46,17,26,25,11,9,19,10,24,54,6,14,22,21,48,29,47,12,47,16,37,49,13,12,21,16,20,53,22,0,13,17,47,47,20,15,19,24,24,35,38,29,27,50,23,29,22,17,50,19,25,16,42,23,18,13,6,26,27,51,10,14,20,42,50,14,15,12,19,13,37,27,9,17,3,34,29,23,35,20,16,11,3,10,17,11,13,25,5,4,6,25,5,54,14,11,30,15,12,25,20,37,21,18,27,12,13,11,24,52,24,40,41,54,3,13,25,19,35,15,39,10,5,4,22,28,19,1,50,28,26,50,26,26,18,5,11,9,29,19,39,14,4,20,7,27,6,19,14,40,10,13,21,0,43,24,22,22,21,19,18,42,19,19,26,23,34,19,21,21,24,21,15,24,25,19,5,19,9,48,13,45,12,26,32,21,55,20,7,49,11,5,17,16,11,9,21,14,41,18,5,45,22,43,46,23,14,16,14,14,11,8,18,10,27,41,53,20,53,40,18,23,54,33,45,21,7,21,27,28,8,18,11,1,39,18,21,37,38,14,11,38,38,26,19,22,5,18,7,3,8,19,20,12,24,26,18,11,10,21,26,15,11,19,22,14,15,11,23,14,12,27,13,26,19,15,47,2,13,46,23,2,34,13,18,6,23,20,12,19,7,8,31,15,5,49,10,15,13,44,34,41,23,25,18,42,4,9,53,27,24,41,16,41,14,7,15,14,24,40,21,14,24,42,18,17,13,9,16,27,18,28,24,49,15,26,16,49,26,10,21,34,11,46,14,14,46,18,20,26,29,16,22,11,30,30,13,13,50,31,10,26,10,35,15,17,20,25,24,27,51,58,17,52,21,7,13,29,38,49,22,39,44,41,15,6,9,18,41,13,39,23,17,24,19,4,23,33,9,26,25,49,9,21,20,32,27,23,23,20,27,23,17,18,1,21,19,14,16,15,24,9,18,12,19,5,35,22,28,25,23,4,19,49,18,48,25,22,30,12,38,27,7,24,15,27,22,52,15,26,48,14,13,13,6,15,11,17,22,22,13,10,53,19,25,13,12,18,30,20,27,19,18,29,45,31,37,7,42,32,17,2,13,25,20,13,21,12,44,29,14,13,20,21,15,30,7,55,14,22,18,10,14,56,10,20,13,17,5,18,22,12,30,53,21,37,16,20,14,0,14,50,21,17,14,27,25,19,43,26,17,19,3,5,4,15,24,34,10,33,15,18,18,18,17,19,22,52,22,13,19,26,21,9,21,18,13,22,14,22,23,47,23,9,46,17,9,6,19,10,14,24,38,6,54,7,57,43,18,20,50,51,19,49,33,40,21,12,18,11,52,15,12,4,23,20,15,21,17,24,56,11,23,24,31,9,14,19,53,27,27,21,9,14,24,29,10,30,50,43,47,12,23,37,39,48,20,18,25,24,49,23,22,40,11,38,60,48,8,14,3,18,7,15,14,14,11,20,18,10,12,19,57,47,24,25,56,10,47,28,16,18,6,15,49,19,11,23,24,1,7,21,14,14,18,12,29,14,7,27,10,46,21,18,44,9,7,26,40,37,51,25,18,58,24,18,21,15,17,21,22,6,7,42,47,48,5,1,23,12,27,16,14,25,53,24,28,23,12,24,43,26,4,23,12,35,25,27,5,20,13,9,14,12,11,9,43,33,20,11,10,20,30,20,38,55,14,28,14,19,59,27,2,56,18,1,40,13,7,54,40,11,18,53,26,28,41,21,37,13,21,22,8,32,7,24,49,47,23,39,0,13,13,45,5,22,22,25,51,39,39,13,26,23,25,34,52,12,38,29,19,28,6,17,12,55,10,11,21,3,14,24,32,38,14,50,23,12,25,24,12,39,11,13,18,23,14,17,23,29,51,45,16,17,35,27,14,27,20,54,42,20,1,49,5,23,31,20,12,22,27,9,26,31,26,48,18,47,11,23,11,14,24,21,52,4,22,19,20,16,11,48,5,36,22,13,39,4,14,54,10,25,19,7,44,15,22,20,24,22,44,30,10,48,13,24,37,17,25,19,32,31,23,14,40,22,9,12,50,18,13,11,23,14,9,23,20,1,41,13,13,36,51,4,17,33,16,38,17,42,23,9,31,49,14,50,22,53,24,22,51,1,42,37,8,12,15,22,18,8,14,15,9,16,17,30,20,8,11,46,24,28,14,2,24,18,19,6,19,4,28,46,31,18,17,13,25,6,54,4,9,20,11,10,9,27,31,21,11,27,16,24,13,25,15,47,40,17,22,47,19,33,16,51,15,14,46,18,13,22,28,29,18,23,8,1,16,49,3,12,10,21,29,21,19,28,13,54,3,13,28,20,13,18,24,11,54,17,22,18,54,50,20,19,37,5,26,11,33,28,15,55,24,57,0,20,22,17,22,14,13,8,42,48,11,11,48,17,11,19,18,14,28,20,48,49,27,14,16,16,49,15,27,24,7,17,18,22,0,9,54,17,24,12,21,9,18,51,45,38,13,43,24,22,18,7,25,16,39,1,5,23,23,10,13,17,56,22,10,6,23,6,23,9,9,13,20,18,24,18,15,23,12,12,53,4,39,13,14,26,20,19,18,52,34,16,18,21,45,30,8,24,21,47,25,22,22,20,52,24,16,25,10,15,20,27,20,45,27,17,37,18,9,20,23,8,28,30,49,6,15,6,10,20,18,46,4,6,22,13,30,19,20,37,21,55,43,22,19,23,23,47,19,55,35,15,44,26,4,1,5,20,14,15,51,45,1,18,41,25,48,14,52,16,18,33,19,52,15,52,8,24,28,34,19,24,50,23,11,21,22,31,42,16,21,54,51,8,21,20,14,9,16,20,50,7,27,7,18,18,17,19,5,42,53,17,23,55,27,47,39,30,18,44,48,19,15,51,40,50,13,42,10,22,44,18,21,4,42,12,25,8,13,17,27,39,22,43,19,13,6,17,19,189,48,25,13,29,16,19,15,25,18,13,19,15,18,14,16,13,42,5,25,18,24,6,25,55,1,11,46,14,26,22,21,15,32,28,24,5,49,39,18,28,26,17,21,17,14,23,7,17,18,20,13,19,25,15,47,48,18,23,21,20,17,9,8,22,34,19,24,12,9,60,11,14,5,26,21,18,14,23,18,46,17,18,20,34,10,40,15,20,15,12,32,6,14,20,17,16,16,20,22,14,18,44,25,2,59,19,17,29,49,43,18,50,18,15,55,47,13,7,39,37,27,12,11,24,55,18,44,28,38,2,17,13,20,26,22,2,23,9,18,51,36,5,21,20,31,15,11,30,16,24,16,22,21,13,38,16,10,53,9,2,55,15,20,18,12,24,27,26,26,61,46,26,22,18,11,20,11,23,16,14,55,6,23,12,47,21,1,19,12,26,49,22,10,39,7,12,15,9,11,15,53,23,25,22,24,48,15,21,54,10,55,14,8,13,16,23,20,24,21,29,26,59,52,10,8,18,23,44,20,5,19,28,17,49,18,14,23,14,26,16,38,20,46,16,7,19,10,25,4,7,17,22,13,49,16,21,20,25,25,14,8,27,48,50,51,24,13,23,20,24,13,17,33,20,11,3,6,14,25,17,48,7,9,35,43,19,17,16,11,0,26,13,7,1,26,7,20,21,30,28,50,49,19,30,11,53,13,22,13,22,36,39,42,20,3,25,19,11,20,22,2,31,20,31,55,17,9,56,12,41,36,12,17,23,5,6,24,17,22,48,24,4,25,20,29,15,24,10,16,10,35,23,20,45,41,21,7,34,15,28,46,35,18,25,19,25,42,52,38,22,10,14,32,25,13,24,20,8,48,14,6,11,14,10,10,24,1,45,24,20,26,43,10,51,3,12,25,25,26,24,16,14,24,16,24,36,10,38,39,14,2,19,35,38,21,32,23,48,23,48,29,5,15,42,24,5,12,24,23,27,18,21,17,23,6,18,9,47,16,22,13,50,21,37,48,26,21,36,17,43,54,17,20,54,11,21,22,11,17,8,46,16,17,13,34,18,22,15,44,12,21,22,23,48,50,19,2,42,11,25,21,6,24,24,38,49,44,46,14,11,13,7,35,23,42,50,59,16,5,16,13,25,16,19,15,34,16,23,32,22,20,50,20,52,30,25,9,23,48,17,49,48,0,14,22,19,13,4,15,23,46,21,18,52,6,10,19,2,10,37,22,35,19,2,26,20,4,18,43,24,8,32,56,42,23,14,25,19,11,27,10,25,11,24,13,54,30,54,54,23,30,60,21,51,25,14,9,24,46,15,43,52,40,8,15,13,26,1,27,40,39,17,25,23,28,23,20,47,49,37,12,54,34,1,45,12,21,17,5,10,53,4,16,31,28,19,7,20,17,34,21,25,11,23,14,25,14,4,42,41,23,20,28,52,22,50,15,53,21,26,27,9,14,19,7,21,49,8,14,17,18,21,2,18,20,9,23,15,16,12,12,22,6,17,24,23,14,25,18,17,9,30,22,28,25,14,48,23,9,13,27,7,12,39,12,22,16,25,13,23,44,42,31,16,19,9,36,43,24,20,51,7,48,23,16,39,27,1,19,22,16,42,12,10,24,41,20,9,23,20,22,24,11,19,19,7,24,51,8,19,19,26,7,1,50,9,4,18,21,12,12,20,9,49,54,29,46,22,20,1,17,20,0,11,16,8,16,12,4,59,3,22,8,15,48,14,3,5,11,7,17,49,10,26,13,15,20,18,3,22,24,16,10,19,18,14,44,16,15,26,14,21,20,15,19,53,21,23,24,31,13,34,16,30,11,16,12,15,41,16,13,51,36,45,23,9,44,12,4,28,18,14,29,44,27,22,13,41,17,19,15,9,22,58,37,22,12,11,49,4,23,12,42,19,27,15,19,50,19,13,22,28,17,23,5,15,13,9,21,52,45,45,21,14,15,38,11,25,22,18,37,14,8,21,57,15,8,41,20,39,41,8,23,9,15,18,22,13,15,55,12,22,21,22,7,38,10,12,14,25,31,17,44,19,17,20,19,22,26,22,22,22,48,24,12,14,46,24,0,11,53,14,26,24,16,53,45,14,21,8,22,26,36,16,50,22,23,29,13,49,51,12,11,15,25,47,10,21,24,18,2,54,5,28,13,8,20,26,37,23,50,53,44,23,25,13,51,16,25,10,19,22,22,23,13,19,11,17,18,4,49,40,11,13,17,15,10,47,19,43,23,19,46,45,51,40,12,24,15,15,33,14,18,19,18,13,1,10,25,11,17,18,16,15,15,54,23,20,18,45,32,55,30,56,13,17,28,58,19,25,24,50,49,3,18,16,27,21,20,18,45,22,9,10,11,47,17,23,21,50,26,20,17,28,49,7,18,15,15,22,26,9,15,11,13,4,14,8,17,42,19,20,6,24,17,23,26,16,23,15,17,8,14,25,7,7,25,14,18,18,46,23,9,27,32,10,45,48,18,16,44,27,40,40,45,14,52,19,3,4,27,18,19,12,12,14,25,27,18,21,11,19,42,18,24,22,16,16,14,9,13,19,23,13,26,21,11,14,49,25,30,28,12,8,44,48,48,17,22,6,29,7,19,47,6,19,12,26,21,14,0,19,3,24,40,12,54,25,9,1,26,4,18,20,22,7,13,41,21,50,20,12,46,13,47,26,25,25,23,1,23,2,14,19,23,4,42,39,9,5,6,23,45,19,24,46,27,13,23,30,22,45,24,27,40,35,53,18,21,24,1,25,26,6,20,17,41,24,30,24,8,31,31,20,26,26,19,21,14,11,36,17,17,11,26,8,20,13,46,18,12,10,21,15,11,9,11,48,16,19,21,43,18,50,11,25,3,28,25,19,14,25,26,19,10,22,27,25,17,42,17,48,21,8,23,54,51,17,23,8,30,23,25,7,8,52,24,7,26,19,22,50,21,51,43,16,11,16,13,22,11,8,11,25,50,17,41,33,8,39,11,13,3,10,21,19,10,30,44,16,20,25,11,29,20,44,20,16,44,10,28,16,8,49,24,45,19,34,37,56,11,56,9,34,42,15,21,19,16,23,45,21,50,29,18,19,13,15,15,39,16,40,24,51,13,12,16,16,21,17,9,19,43,12,11,29,19,11,18,25,48,4,8,38,27,38,50,10,14,16,14,24,26,20,36,24,19,8,15,20,31,16,26,24,20,25,23,45,24,10,3,28,19,25,29,10,20,40,28,18,6,26,40,18,40,9,46,20,28,22,21,50,22,26,9,20,36,50,45,13,20,22,210,13,23,18,31,21,39,52,3,12,57,34,50,44,51,51,29,52,23,27,4,23,20,17,52,42,11,21,19,13,13,13,36,7,22,48,54,22,20,30,47,13,27,26,14,9,22,4,13,15,50,9,19,43,22,17,16,21,21,25,14,24,23,28,3,12,16,20,13,17,14,46,22,23,26,10,38,46,22,16,16,15,16,44,21,12,49,17,26,37,17,14,27,18,22,49,14,52,16,20,12,25,22,20,32,10,52,8,23,26,6,11,23,12,50,18,7,22,14,11,57,20,9,22,33,22,18,3,31,48,22,46,12,28,8,12,6,11,42,21,24,18,23,26,13,28,24,16,51,5,14,20,17,26,47,50,18,27,14,48,23,22,12,40,51,14,17,1,42,48,23,4,37,22,22,15,6,49,15,53,12,26,0,50,38,17,16,23,20,19,23,1,41,45,20,11,23,44,43,23,22,45,17,51,17,20,26,17,14,10,25,19,35,23,15,17,19,8,17,23,47,23,22,6,22,10,17,51,20,22,28,26,0,50,14,45,43,11,9,30,26,37,18,21,26,14,23,18,13,0,47,9,15,19,16,26,13,9,27,15,5,26,44,42,32,23,22,3,8,3,49,39,17,21,45,21,24,10,3,2,55,51,14,9,17,38,45,3,19,15,8,20,45,6,21,26,18],\"xaxis\":\"x\",\"yaxis\":\"y\",\"type\":\"histogram\"},{\"alignmentgroup\":\"True\",\"bingroup\":\"x\",\"hovertemplate\":\"color=religion<br>tweet_length=%{x}<br>count=%{y}<extra></extra>\",\"legendgroup\":\"religion\",\"marker\":{\"color\":\"#00cc96\",\"pattern\":{\"shape\":\"\"}},\"name\":\"religion\",\"offsetgroup\":\"religion\",\"orientation\":\"v\",\"showlegend\":true,\"x\":[36,21,40,37,48,51,17,24,35,57,43,28,16,43,24,38,46,28,23,21,12,39,49,45,29,16,6,47,44,21,49,43,38,18,15,12,38,21,47,47,40,28,21,12,50,44,51,46,31,32,21,50,26,19,23,37,33,49,36,23,49,32,12,13,29,26,33,49,11,24,34,49,50,50,51,45,14,9,13,12,49,37,25,43,46,45,34,14,23,31,10,41,15,49,52,32,22,45,43,46,47,15,15,39,30,22,38,26,26,11,50,12,22,49,14,33,50,46,12,37,50,27,19,14,44,52,19,24,38,38,16,29,43,48,52,37,53,54,21,23,25,38,32,34,16,44,35,13,12,42,36,30,9,30,21,47,47,61,49,11,30,54,50,22,34,19,50,48,19,15,48,16,39,36,46,48,27,37,17,33,16,10,41,38,41,13,23,21,26,48,26,50,49,38,12,46,17,36,37,50,40,7,49,12,48,42,42,15,50,59,49,52,12,44,27,48,49,51,36,17,12,44,42,52,52,54,52,16,6,14,33,28,8,43,24,38,45,31,28,23,38,9,15,37,30,49,41,44,59,49,33,24,47,19,43,18,28,27,58,40,9,46,18,36,51,20,43,22,38,47,48,13,33,42,26,44,21,47,27,48,24,28,41,43,25,24,41,16,40,53,50,45,30,52,16,52,28,41,44,47,49,46,29,34,30,22,12,43,42,25,23,47,33,32,15,49,24,21,44,49,29,12,37,34,20,49,17,14,20,24,48,25,44,22,28,11,47,13,30,28,11,51,22,42,50,49,49,43,36,16,50,21,47,38,25,7,39,48,46,44,29,25,45,22,13,29,28,51,49,46,46,43,2,40,43,37,53,48,12,20,20,18,40,25,26,49,48,42,20,38,51,47,45,16,21,26,41,48,11,45,48,31,22,37,19,10,38,18,17,43,22,41,46,27,54,7,45,47,38,29,17,20,27,23,47,40,56,49,23,54,45,22,18,46,50,23,53,41,48,45,49,33,45,48,10,25,44,49,48,16,32,44,15,42,28,44,44,39,48,9,3,13,37,33,48,18,29,18,39,45,45,10,44,23,41,30,42,28,19,45,26,44,54,48,19,15,21,17,40,42,36,48,46,52,51,20,22,19,37,18,25,43,20,50,32,41,18,49,43,21,48,48,47,45,49,20,14,41,38,32,13,22,42,43,13,19,47,35,25,39,42,43,50,52,40,15,44,48,33,20,37,10,17,14,29,14,51,51,46,29,27,17,36,7,22,33,10,43,49,46,24,45,17,30,53,28,36,60,17,38,44,46,42,47,34,33,51,39,43,45,42,11,48,44,22,17,33,47,51,46,46,51,46,46,45,42,51,20,16,40,55,33,31,50,40,18,38,52,39,22,25,24,10,38,32,51,22,49,14,55,16,43,39,20,18,17,19,40,38,49,21,42,45,11,46,20,41,46,29,44,45,39,45,31,25,30,42,46,46,44,45,35,52,49,18,45,19,42,22,16,51,39,47,18,16,47,45,54,14,30,10,52,17,22,21,48,43,19,5,40,36,20,46,18,52,38,38,26,38,41,20,14,18,43,45,7,38,17,50,48,24,11,33,41,47,17,28,10,49,15,28,26,50,15,16,47,46,22,35,40,42,15,42,39,45,49,17,36,44,13,41,16,23,48,19,48,34,50,43,41,1,23,49,9,53,16,17,23,8,15,46,41,34,33,46,10,51,48,20,53,48,48,22,43,54,49,49,15,13,45,27,20,40,13,35,34,39,24,20,8,47,49,52,10,15,25,28,6,13,37,20,17,43,52,37,43,52,45,17,48,39,52,51,23,49,44,26,27,51,48,44,36,26,14,41,20,15,27,33,51,6,19,27,23,46,16,10,34,55,38,43,37,44,42,49,49,22,33,11,33,23,29,50,30,50,42,21,41,36,44,20,34,18,27,38,8,41,26,11,43,43,52,36,49,44,18,54,46,36,40,18,22,20,56,46,55,20,23,42,49,14,32,36,18,48,31,46,14,11,16,49,14,35,39,43,16,49,47,38,15,40,48,18,29,24,51,16,36,49,46,46,33,12,27,48,42,31,44,47,21,52,17,41,51,48,40,15,27,12,41,55,44,25,45,30,51,48,20,44,25,17,49,41,19,9,50,38,21,54,21,43,39,28,17,47,13,22,40,50,22,21,46,46,52,22,37,47,44,46,44,14,38,40,52,38,28,16,40,35,44,38,43,31,41,47,42,40,22,45,45,18,51,37,30,11,48,31,18,38,8,44,49,9,40,42,15,39,18,13,18,48,6,28,44,37,45,21,36,37,37,13,47,29,20,13,49,46,7,47,29,48,22,43,45,36,49,38,13,9,41,26,25,43,40,39,7,50,54,48,47,48,21,35,34,44,44,51,31,37,19,18,55,11,13,45,45,49,36,14,49,47,50,20,50,58,36,20,37,29,30,19,43,7,48,15,18,47,38,55,18,48,49,23,38,8,17,45,20,34,38,52,19,8,45,11,20,35,50,33,47,22,31,15,50,41,45,7,49,10,42,33,36,40,51,52,49,24,35,47,52,22,45,45,43,30,44,48,50,45,48,14,53,11,39,10,31,36,8,13,46,49,38,48,13,52,34,36,43,48,49,38,46,49,10,13,15,20,22,46,20,48,40,27,42,16,24,48,8,43,41,33,45,50,39,8,47,17,35,16,29,14,18,51,35,48,40,39,12,36,13,12,41,18,40,49,9,44,45,31,10,32,10,47,47,38,50,21,25,51,21,40,14,42,35,38,27,45,47,34,35,53,20,47,44,39,39,43,36,22,35,35,45,32,14,32,8,20,27,35,26,19,32,20,40,18,37,43,44,51,15,39,36,31,15,53,47,48,48,45,35,35,22,8,46,52,38,21,20,43,52,28,40,21,25,28,40,30,45,45,50,52,23,19,10,39,43,27,52,37,33,46,45,39,14,17,16,41,31,44,49,56,38,28,20,37,31,35,18,48,33,52,10,15,48,47,43,19,14,20,48,50,23,9,19,36,17,52,51,48,35,24,51,42,28,12,19,53,6,54,33,24,31,18,28,25,43,12,50,11,49,51,42,19,39,44,53,33,16,51,48,56,15,43,42,44,17,53,11,40,52,15,24,43,23,25,21,31,9,42,54,32,44,16,46,35,34,52,33,14,48,9,51,33,51,37,23,21,46,52,14,43,19,54,17,14,15,45,14,49,54,24,36,50,49,50,17,44,38,16,38,38,50,18,11,50,44,46,43,49,50,45,19,45,12,15,49,40,26,32,39,46,49,58,28,47,13,22,28,46,28,39,40,17,40,36,49,49,35,46,45,43,45,57,49,45,50,16,14,49,19,34,22,35,25,46,18,34,14,12,15,30,39,55,26,43,48,13,33,38,15,41,30,21,52,14,49,55,14,26,54,45,19,16,7,50,43,44,17,53,24,47,43,7,35,50,22,53,41,55,16,52,32,14,35,23,17,39,29,37,34,17,13,12,19,47,11,20,35,17,34,59,48,44,21,9,19,17,6,34,20,45,41,49,49,30,21,50,35,58,53,37,19,39,47,18,16,17,53,40,54,48,41,46,51,16,38,45,51,17,44,30,49,26,28,52,15,18,49,39,48,40,17,17,38,35,21,49,48,38,41,40,22,24,42,6,39,21,50,15,11,25,20,12,9,25,50,48,34,36,13,47,33,49,25,29,23,39,41,29,41,34,49,36,19,52,47,50,10,12,47,49,39,39,46,12,9,43,49,60,34,21,43,32,49,49,39,46,35,36,42,18,35,24,17,15,13,45,30,36,26,32,17,16,48,27,20,44,3,33,47,49,12,49,24,18,25,22,29,43,42,45,14,50,37,30,18,51,53,14,52,42,31,22,32,48,40,11,4,15,16,12,13,44,20,48,15,14,24,52,45,37,13,47,36,50,13,20,54,35,35,49,37,42,17,45,22,53,24,25,21,23,17,29,42,9,37,32,46,43,16,36,29,21,18,49,47,43,51,13,53,55,30,49,45,24,55,48,47,55,9,39,38,33,38,40,30,45,45,15,21,22,43,55,38,44,16,31,17,45,15,14,22,37,14,54,41,55,44,49,20,11,21,21,32,52,51,55,30,47,35,29,51,4,30,56,24,17,43,26,40,35,18,27,14,47,45,36,47,50,42,37,32,14,39,45,34,10,18,23,48,51,37,51,14,25,18,23,10,39,46,50,38,51,55,33,51,10,54,17,50,18,17,22,44,20,34,50,38,40,48,48,37,12,17,45,13,45,51,36,14,41,44,42,35,40,14,48,40,40,22,46,46,20,38,51,43,49,46,18,24,41,34,18,18,51,47,35,46,16,42,42,53,15,15,47,45,48,44,42,41,14,49,47,45,15,21,53,50,42,51,49,46,18,22,55,48,57,15,52,56,45,52,22,21,18,15,46,42,17,34,40,44,51,57,15,41,14,37,14,29,44,32,40,16,32,47,19,44,55,52,52,24,50,50,11,49,51,16,20,48,45,15,14,31,18,36,13,47,20,42,16,57,40,50,51,35,15,18,51,19,44,50,13,37,39,38,54,50,25,44,21,18,16,18,16,13,49,56,25,15,36,38,45,8,42,43,50,21,15,20,39,26,15,10,9,48,30,51,43,45,5,31,40,23,46,24,49,4,17,9,17,42,11,33,47,46,20,21,21,37,55,44,11,16,41,32,41,13,42,41,19,38,56,48,16,49,24,24,51,5,43,56,14,44,19,58,21,46,39,40,49,48,18,36,38,18,20,38,21,32,38,38,55,51,49,52,37,54,38,41,29,39,48,22,22,42,32,55,10,44,47,32,50,27,40,43,21,49,38,28,16,42,21,50,13,43,31,20,22,54,37,48,17,45,33,27,48,22,21,25,46,50,24,15,19,10,17,14,17,45,17,15,47,25,36,49,12,36,34,44,53,11,44,16,20,43,38,35,41,20,34,36,8,19,22,48,10,53,17,24,22,13,19,48,48,34,37,35,41,8,18,50,52,35,53,40,33,20,36,47,37,16,18,10,39,21,19,50,14,43,45,18,44,40,44,5,51,11,33,19,22,50,38,31,17,36,26,15,22,15,46,48,44,13,45,52,53,47,12,18,49,50,19,7,47,28,10,61,21,24,51,41,39,45,18,48,40,44,35,47,55,47,22,19,26,51,48,14,42,31,28,20,39,6,19,28,48,7,14,41,50,38,40,30,44,40,54,14,50,34,54,46,41,32,25,18,50,47,54,47,46,36,39,15,43,11,17,23,33,50,55,39,21,31,51,8,30,39,15,45,13,25,43,52,51,41,21,38,40,41,27,48,46,20,24,20,41,46,16,21,21,13,16,15,19,43,42,44,40,40,24,38,22,50,47,42,9,53,18,36,18,30,45,21,12,37,45,42,42,41,16,11,38,45,24,50,54,15,39,49,18,14,22,53,20,49,48,49,49,15,34,19,11,13,52,18,21,31,18,48,23,48,19,17,15,22,16,35,48,43,39,16,29,48,46,17,22,47,7,41,26,21,40,52,21,16,42,52,33,21,21,23,38,47,49,20,49,40,32,35,37,36,45,8,37,34,26,52,50,23,8,32,34,54,43,35,19,47,39,26,52,57,18,24,48,39,25,16,48,43,16,46,36,26,49,39,39,13,33,37,21,45,36,31,33,21,32,48,14,32,26,34,46,47,27,33,8,34,40,31,51,8,49,18,18,39,48,45,21,16,16,59,36,14,43,54,12,36,49,46,17,46,22,19,26,37,40,51,53,38,55,16,38,28,16,51,14,21,44,43,33,14,40,27,40,23,41,23,16,31,32,19,46,35,43,11,49,36,32,24,43,43,29,48,31,9,26,17,47,7,38,50,49,21,50,19,20,48,18,50,19,44,13,53,10,54,50,23,8,11,34,16,48,41,38,47,10,13,19,25,25,46,48,21,33,28,6,47,13,24,42,51,20,37,43,44,40,49,31,10,26,15,42,44,27,11,42,49,15,35,49,28,53,11,23,30,51,56,40,46,54,38,49,20,39,48,37,18,45,52,45,24,43,25,53,13,51,47,54,11,48,39,20,40,22,33,37,17,54,40,38,19,27,25,12,42,11,47,19,13,11,30,47,49,37,44,27,49,51,37,18,10,10,17,18,46,41,42,20,20,47,29,43,37,47,20,15,19,21,32,54,52,44,47,53,55,23,50,46,52,36,49,34,45,16,15,44,36,23,5,34,21,34,16,26,43,47,39,14,8,30,43,47,37,13,42,15,23,17,48,33,22,13,41,6,38,38,43,45,48,13,46,47,9,29,16,45,31,45,23,32,50,13,21,45,47,8,54,16,47,48,23,19,20,55,28,35,44,24,11,35,45,46,47,32,44,19,13,43,17,25,9,38,27,55,13,47,45,51,20,9,50,20,50,38,39,44,42,40,52,18,19,20,14,22,38,32,12,46,15,25,54,46,24,45,34,17,49,49,48,19,32,49,19,46,40,40,25,16,46,11,49,52,38,21,25,45,52,20,46,37,18,21,36,42,45,39,18,20,17,43,49,19,46,39,43,45,15,48,52,20,11,12,45,42,19,26,11,39,53,32,7,8,43,41,50,23,46,24,56,50,38,37,42,43,26,42,26,24,45,43,20,11,47,14,29,44,30,30,37,35,20,26,48,49,44,47,35,5,36,60,33,26,39,42,18,21,17,37,42,51,47,16,15,39,20,38,27,18,11,47,38,53,28,12,4,39,52,33,53,46,45,46,41,27,46,14,40,14,19,8,21,17,7,27,48,55,45,51,18,8,19,57,35,35,50,34,30,40,49,9,50,50,36,19,46,15,34,36,45,6,51,41,50,31,52,44,44,18,30,40,47,50,2,47,16,47,24,18,48,9,40,50,7,16,33,19,10,40,32,49,50,56,35,36,20,42,19,36,51,42,28,48,13,24,32,33,43,34,52,13,31,60,46,55,7,14,36,44,39,11,44,17,17,23,27,16,18,41,42,51,46,35,22,13,52,21,28,39,28,41,16,17,16,53,41,17,23,22,25,44,28,48,28,47,49,12,37,25,18,8,13,38,24,42,15,11,47,42,18,42,16,46,20,13,23,48,45,43,39,47,47,25,40,38,30,47,42,39,47,40,17,51,10,23,48,23,47,56,23,25,34,48,12,48,51,48,49,48,48,28,46,15,41,44,21,24,41,42,38,12,52,51,18,49,46,45,46,50,29,49,23,8,45,19,23,23,20,24,17,35,52,18,37,49,25,37,15,47,21,15,52,16,48,37,7,19,43,45,17,18,50,27,51,16,20,38,10,47,17,44,41,47,50,52,13,39,36,44,19,18,19,30,46,18,18,51,45,19,44,27,27,51,23,17,23,23,23,46,44,39,28,42,47,48,24,31,45,15,48,51,14,41,28,33,18,52,10,42,38,55,48,9,43,36,13,39,45,16,17,17,53,18,39,16,19,13,50,39,34,46,29,33,46,50,52,34,25,52,43,13,11,12,41,43,6,15,39,3,52,10,16,27,20,19,7,57,18,13,40,45,49,23,25,25,45,39,35,35,48,37,25,47,10,46,28,39,43,48,51,35,22,33,30,10,20,20,41,30,50,48,17,7,17,28,16,44,17,17,29,15,28,46,34,13,17,41,14,15,47,7,12,26,46,21,21,32,46,51,45,30,48,4,26,20,37,40,41,45,41,31,12,41,48,27,33,32,16,46,10,46,21,31,27,43,37,19,48,14,44,10,15,13,44,48,19,38,11,49,47,12,42,32,32,17,23,38,23,26,48,54,44,33,41,41,10,39,46,11,35,28,55,19,43,46,52,46,49,48,45,19,24,21,14,40,41,22,9,45,9,8,22,41,50,15,32,13,43,21,12,14,33,12,26,47,39,48,53,16,38,52,40,43,39,14,23,23,36,27,42,53,25,23,36,48,31,52,21,32,47,42,36,12,45,8,39,16,49,51,31,52,11,17,52,23,45,44,43,51,48,23,47,20,30,31,43,47,54,20,43,39,38,17,12,53,44,49,54,47,48,27,15,38,18,24,13,31,28,55,34,10,13,54,12,46,49,19,44,57,35,53,44,17,50,39,13,17,39,35,12,49,11,28,46,19,42,32,54,44,15,30,17,38,19,48,30,29,25,47,9,16,15,50,34,13,40,45,44,31,46,15,10,52,10,20,46,45,10,48,21,47,45,14,27,47,39,33,31,29,27,40,52,31,35,42,11,31,51,28,42,15,16,38,50,41,36,23,37,16,20,25,46,34,47,16,47,43,22,11,49,10,44,51,39,47,49,51,40,27,48,24,40,50,27,43,30,22,42,13,20,53,32,22,20,18,26,13,52,52,42,27,46,23,14,48,40,42,18,47,39,38,25,45,52,6,41,49,37,14,14,44,28,41,30,8,32,14,24,18,26,49,34,45,50,24,36,39,27,48,36,35,22,38,43,7,47,48,54,15,51,49,10,47,17,34,47,30,37,25,16,21,10,21,39,20,44,45,47,45,14,38,41,40,43,44,51,35,19,15,19,46,51,52,16,46,42,25,19,51,18,21,26,46,43,32,20,28,15,29,46,44,52,49,17,14,21,46,44,10,15,17,23,46,17,37,20,49,48,26,34,49,14,33,44,13,21,46,45,32,42,37,32,13,11,48,17,49,55,8,45,18,27,12,45,15,23,21,48,42,43,21,45,13,48,53,40,30,11,44,19,38,14,47,46,11,40,47,48,44,31,51,21,13,21,35,56,43,43,50,51,12,51,55,22,16,56,48,42,32,6,44,52,13,37,48,41,45,18,24,12,27,15,52,39,52,45,16,18,22,45,29,33,28,24,28,11,36,5,23,35,6,27,26,41,24,31,20,48,51,14,17,19,34,44,44,45,23,35,30,45,10,19,32,17,39,35,26,32,45,10,37,22,36,48,41,14,43,50,41,34,52,44,45,17,50,17,14,40,44,47,50,36,20,17,42,9,51,17,15,36,37,37,33,41,33,17,50,47,18,44,16,47,54,22,20,12,53,44,8,16,8,23,38,25,36,48,23,13,34,14,52,12,16,13,44,47,51,43,49,26,54,20,41,37,47,49,46,44,42,26,40,40,27,26,13,48,34,53,42,20,44,20,39,9,19,45,16,42,56,20,49,16,48,37,28,23,34,38,13,41,49,32,47,15,14,42,40,24,49,45,18,17,19,40,45,37,35,30,16,24,10,30,19,19,34,55,31,22,17,35,34,34,47,41,51,49,43,21,18,44,12,52,51,42,16,27,51,28,37,50,4,14,53,41,21,55,47,48,46,42,42,40,25,38,21,26,14,40,42,19,42,41,24,23,41,34,50,9,12,46,19,49,53,49,19,35,26,46,51,38,46,38,53,38,46,46,14,15,17,41,42,22,18,49,30,29,19,43,8,22,45,38,43,12,16,21,38,27,45,47,14,28,20,51,46,47,40,48,41,46,38,21,51,48,21,32,9,40,20,23,19,18,44,35,33,13,24,28,12,49,38,42,20,13,23,17,22,12,25,48,5,8,11,15,21,9,29,30,31,13,27,48,12,18,43,20,48,11,47,40,15,15,37,19,29,25,26,47,40,19,44,51,9,48,57,44,52,53,20,45,47,26,18,45,44,48,44,34,13,4,14,37,21,40,15,55,44,42,48,47,18,49,12,30,33,57,52,36,51,45,11,12,13,18,13,14,44,25,53,49,13,17,17,29,25,48,18,49,12,20,10,21,38,40,48,39,14,24,6,42,53,7,36,46,41,21,38,49,50,37,36,20,33,32,35,44,21,10,44,24,43,29,47,42,45,35,48,24,14,34,37,53,53,42,52,42,42,14,45,41,43,37,36,51,24,48,36,46,19,34,40,42,14,30,19,49,15,49,48,14,23,51,27,38,15,24,47,49,20,22,16,30,10,13,16,38,35,12,47,23,14,42,47,33,53,54,48,43,45,16,46,30,18,13,33,32,25,19,48,34,40,24,47,45,20,47,30,38,43,43,9,31,50,42,30,49,45,37,45,47,38,50,57,23,55,43,40,41,33,51,26,33,46,40,50,11,12,42,26,44,45,48,37,47,41,30,55,51,26,50,53,39,14,43,10,37,15,49,10,16,19,21,7,41,24,44,21,21,52,55,52,50,13,25,38,17,27,51,45,49,34,20,37,20,20,29,18,43,24,14,20,54,14,16,8,38,41,32,44,24,46,38,21,6,26,22,20,49,25,13,47,47,49,17,19,47,27,48,52,47,51,10,25,48,42,48,49,38,16,19,19,35,17,50,30,53,40,34,48,42,15,45,13,8,10,49,22,43,53,6,42,43,48,14,24,47,51,13,33,54,12,6,49,47,47,44,30,16,14,45,36,45,47,38,45,32,10,14,24,45,12,17,10,39,33,48,45,33,44,40,22,42,30,15,35,22,38,48,37,18,33,56,47,46,39,46,36,18,48,34,28,50,49,17,38,51,26,44,7,42,34,21,43,37,50,21,22,19,24,39,42,43,22,11,5,27,45,48,30,15,53,41,40,16,43,11,13,54,36,18,45,43,20,21,11,13,26,45,9,45,53,45,49,21,52,23,39,32,28,33,12,22,34,24,44,46,39,48,44,12,9,8,36,38,37,34,13,48,34,19,37,50,33,29,40,10,31,10,16,17,47,46,11,21,51,16,37,16,15,39,17,42,47,16,13,15,36,32,13,45,39,16,48,18,18,43,18,52,52,43,17,14,45,20,10,33,26,18,20,51,48,47,44,51,27,44,19,48,42,19,11,15,48,30,13,16,51,13,48,45,22,45,52,36,45,51,40,30,21,14,48,35,47,41,46,40,52,29,45,6,53,49,36,30,34,36,13,49,52,51,18,41,50,19,42,6,42,18,16,34,15,16,27,19,22,45,43,45,18,26,24,22,28,59,49,23,55,40,19,40,39,44,19,38,37,55,47,37,21,17,51,38,40,10,45,32,38,36,52,46,10,58,45,44,32,50,10,34,53,38,42,30,50,16,18,32,21,29,16,12,13,18,49,29,39,31,42,39,47,43,19,30,12,19,44,52,48,36,11,42,49,33,45,56,42,5,41,45,47,41,16,47,25,24,52,34,19,36,49,48,28,14,50,26,37,25,13,14,17,44,20,27,47,47,48,46,51,42,20,30,20,20,11,40,43,46,52,30,47,33,17,16,19,16,54,50,47,24,23,12,21,50,18,46,31,28,19,45,11,21,56,13,55,48,19,13,11,11,32,43,18,52,30,50,48,34,19,48,45,29,44,27,20,49,45,42,14,46,28,44,12,47,31,42,31,36,10,55,50,44,14,51,52,34,48,27,18,49,20,38,31,41,44,49,6,30,39,47,19,15,26,20,20,11,51,45,13,53,16,31,31,25,30,21,49,19,38,6,54,24,15,37,11,37,49,16,47,18,10,29,46,41,10,41,43,22,53,14,47,28,44,35,41,50,27,12,51,41,41,48,55,16,8,30,33,53,45,14,45,16,39,47,24,26,20,16,48,22,22,49,47,36,21,49,44,11,48,15,12,42,19,47,39,13,11,43,41,57,45,28,21,52,52,35,41,48,49,25,21,45,44,41,54,19,31,53,45,32,45,34,25,51,8,53,20,40,15,14,37,25,51,26,26,13,33,19,41,25,44,53,44,33,47,36,48,46,41,27,52,26,14,45,17,44,55,40,47,18,39,32,50,44,18,54,18,39,51,37,28,51,40,20,51,16,50,22,38,30,12,5,22,18,13,17,50,54,17,10,11,29,31,22,17,11,20,15,43,47,41,50,43,49,38,19,52,44,28,44,50,27,33,45,11,46,35,19,48,47,46,49,49,36,52,41,45,39,44,36,13,51,25,18,15,46,34,39,57,43,13,36,21,19,32,45,24,37,32,38,49,10,45,41,35,16,43,43,4,45,23,36,54,18,32,9,31,18,52,39,32,22,19,18,55,24,38,21,36,7,12,50,52,14,14,50,21,32,20,25,16,45,45,21,43,41,15,33,35,17,43,52,23,55,11,14,42,42,47,20,34,16,25,31,24,95,44,46,18,26,38,31,44,36,23,42,23,51,38,49,50,46,50,16,54,38,59,37,18,9,50,55,13,34,19,13,34,39,22,50,18,34,38,41,39,17,46,47,14,33,19,45,23,50,27,50,23,20,39,49,40,28,12,21,48,49,38,48,21,56,32,31,22,35,29,22,16,50,47,52,48,31,21,5,51,17,25,54,49,31,20,41,13,13,19,50,11,45,40,21,48,12,20,34,22,41,53,20,16,50,20,47,19,47,25,37,45,22,26,32,40,14,39,48,49,17,42,39,50,15,49,45,27,18,26,46,48,42,34,40,59,45,53,39,13,14,9,23,26,37,24,33,15,20,49,17,48,35,17,45,19,47,37,49,55,36,14,35,5,47,24,21,50,12,37,51,40,50,51,17,56,53,13,40,4,60,45,18,54,50,16,38,14,17,18,12,17,20,17,46,45,50,20,37,14,24,42,47,46,47,29,22,12,47,49,28,47,21,14,40,45,12,20,21,13,26,16,10,39,18,39,39,36,48,15,26,18,43,50,34,52,35,49,15,24,47,19,15,39,17,38,38,23,8,19,12,10,13,51,19,50,40,12,17,14,49,39,21,46,50,18,41,43,28,40,29,32,19,29,44,21,46,44,40,14,40,13,37,51,15,9,15,32,18,47,12,24,12,16,53,49,44,15,20,22,39,42,19,52,40,39,37,26,20,14,44,27,48,49,8,35,33,34,21,46,32,47,49,20,49,14,16,33,45,28,48,24,25,45,21,35,50,16,52,47,48,34,16,51,37,56,20,31,52,51,28,53,36,12,44,15,24,42,37,52,46,48,45,38,50,32,45,44,41,38,43,49,47,16,36,46,31,48,52,15,45,18,28,24,51,47,10,50,16,45,42,13,18,39,21,11,18,48,50,42,18,16,22,31,16,31,20,14,45,19,54,44,17,49,32,14,39,48,8,8,20,35,42,22,44,32,41,50,44,52,39,43,23,48,48,18,50,48,53,14,16,23,17,24,45,13,5,40,37,42,15,48,1,47,35,42,38,46,19,54,37,48,45,16,35,14,25,47,18,55,43,49,18,50,14,47,58,10,23,8,44,25,14,42,43,15,46,35,35,17,38,10,52,41,47,16,49,45,41,20,47,14,38,39,48,18,39,48,16,24,41,14,37,38,20,10,12,45,52,42,16,20,50,52,31,38,34,36,11,44,40,35,53,49,10,26,35,20,13,29,43,19,16,48,24,41,40,18,38,17,48,19,42,40,42,17,12,45,19,15,29,44,15,47,23,45,47,20,14,44,13,48,17,39,11,44,48,19,40,30,51,13,22,37,14,48,53,43,48,39,25,47,31,26,46,14,52,45,15,39,14,12,35,16,26,11,50,45,15,11,49,47,50,18,35,36,48,23,17,44,17,19,48,13,36,18,43,50,48,16,32,43,26,39,49,17,51,12,51,24,22,53,48,56,31,39,49,24,53,46,27,14,47,22,17,11,12,35,44,21,5,23,35,39,39,44,19,48,48,15,45,35,54,29,56,51,48,33,36,16,47,22,19,18,41,43,30,47,60,13,53,41,22,20,15,11,24,27,12,48,25,43,15,55,18,22,22,43,28,23,24,53,12,46,42,34,46,25,29,40,14,16,18,8,12,55,50,11,11,45,51,30,11,6,43,54,47,44,17,23,47,55,24,19,21,54,27,17,49,36,16,45,43,20,47,46,45,7,45,38,21,20,14,41,7,46,15,51,12,37,30,15,18,13,26,21,22,52,51,12,18,8,33,38,36,26,3,35,19,53,48,16,52,20,49,44,50,35,38,47,41,36,50,38,18,36,40,26,23,50,47,33,48,47,44,41,38,43,49,16,21,14,53,46,45,50,30,37,15,14,18,15,43,21,44,47,47,38,17,10,43,22,46,48,56,37,31,32,49,47,38,16,22,26,32,49,54,44,47,10,49,40,30,42,16,27,31,45,11,12,31,24,21,23,15,16,27,18,38,44,44,31,42,22,24,48,45,13,44,48,35,45,11,48,21,45,49,20,47,34,51,9,33,12,29,12,17,38,20,34,52,16,23,38,53,35,18,50,15,43,44,48,30,49,15,9,13,29,15,45,12,40,25,52,23,38,33,22,17,45,24,20,40,48,47,53,16,16,44,28,39,31,39,45,50,15,48,21,17,47,45,42,13,51,15,36,10,8,60,26,52,47,48,26,10,42,39,18,36,51,19,43,51,47,44,44,44,55,11,21,27,19,51,49,47,44,54,40,4,20,52,16,20,20,50,12,22,19,42,25,17,17,43,19,49,30,50,17,25,50,30,43,40,47,5,49,52,21,16,11,37,41,17,18,47,38,27,49,50,47,41,48,41,41,15,31,55,46,24,19,14,35,19,28,15,32,34,15,22,52,46,16,20,13,54,52,22,45,25,24,44,50,49,39,9,16,42,46,39,43,22,20,20,41,17,20,7,39,25,24,35,27,33,20,30,46,37,19,22,49,27,10,18,41,30,21,19,49,16,13,15,10,54,47,39,8,16,41,35,39,44,46,51,41,25,52,44,19,12,17,40,54,12,19,42,11,56,38,40,50,12,29,32,26,35,4,36,13,23,43,23,47,45,37,15,47,20,20,48,53,13,52,23,47,11,15,17,37,17,13,47,45,30,14,12,53,43,14,15,48,44,51,18,29,43,31,39,49,22,15,48,52,12,28,24,44,43,16,13,46,49,47,38,39,31,12,54,49,49,46,50,38,14,48,43,36,12,17,38,53,22,42,50,45,26,51,17,27,48,37,6,56,11,32,49,38,20,50,13,46,48,6,32,51,24,13,51,26,37,34,36,21,36,42,17,39,16,18,51,41,18,23,25,19,24,39,44,31,20,32,17,23,20,51,38,42,44,38,23,20,14,53,11,16,47,33,36,42,41,48,33,47,48,21,46,14,42,51,38,39,15,37,53,44,36,15,48,14,43,46,52,53,15,16,22,12,13,41,45,36,15,14,46,19,17,36,52,41,48,37,28,42,40,18,38,15,26,39,52,49,45,37,49,51,43,18,21,25,43,25,52,14,38,32,22,35,42,23,45,45,28,37,38,27,31,50,32,27,47,43,52,23,32,31,39,20,35,23,17,45,35,41,25,51,19,11,14,51,48,31,33,47,52,11,14,38,26,19,22,28,37,15,29,35,20,58,51,20,42,19,49,21,42,23,44,39,29,15,44,35,50,45,14,17,13,48,11,18,53,51,27,45,49,51,31,10,31,40,14,48,25,47,26,33,47,43,28,49,13,41,41,31,21,9,32,17,22,46,10,19,34,48,40,19,40,48,51,18,15,19,43,22,41,45,12,10,21,43,47,22,33,18,32,43,36,28,37,21,36,40,52,26,47,20,46,49,25,28,19,20,28,51,31,43,47,46,37,58,48,38,26,41,45,47,14,28,20,20,21,17,13,48,42,43,35,38,30,10,17,36,43,6,49,20,22,38,18,48,44,20,23,49,45,17,57,53,36,11,50,17,24,44,42,10,18,31,51,14,50,19,5,32,39,21,44,10,8,45,23,42,46,27,31,34,16,10,20,11,39,49,21,47,18,44,41,42,50,17,26,37,11,43,16,22,31,40,39,20,35,54,34,32,26,30,38,16,48,37,13,21,15,17,16,43,48,40,50,26,46,15,23,51,17,45,22,38,24,26,18,43,46,22,38,26,42,38,46,17,23,31,43,18,47,43,52,47,35,34,44,47,41,42,44,40,47,41,46,56,42,44,32,54,18,24,54,21,15,16,51,17,51,21,50,28,27,23,44,50,52,12,14,38,19,13,48,42,28,42,48,30,12,36,19,22,59,22,27,26,19,48,32,33,16,52,53,52,28,41,45,13,26,20,21,44,41,51,42,17,46,39,17,54,46,31,16,16,30,31,43,46,42,15,24,16,49,15,18,15,14,43,39,26,35,45,6,44,47,51,10,44,57,29,49,21,53,48,37,53,23,19,46,15,41,49,16,13,38,13,11,16,39,8,53,50,20,41,43,45,50,48,20,24,46,25,28,16,47,51,46,49,48,25,16,10,17,30,49,25,32,12,20,27,50,34,47,16,14,43,55,6,17,46,28,42,15,42,45,38,52,23,20,14,19,20,39,16,22,10,46,32,47,32,19,34,22,53,48,19,13,37,36,24,42,17,46,22,42,53,20,40,48,14,48,22,47,28,39,48,53,21,10,29,32,12,48,27,13,51,8,45,37,18,19,43,31,42,8,28,21,17,42,53,47,17,23,38,46,25,46,22,25,48,17,49,14,44,10,51,16,45,27,42,23,10,54,36,44,55,38,18,16,15,19,49,13,42,12,28,40,39,12,42,22,22,39,35,40,9,46,18,44,39,46,29,47,46,17,49,41,39,16,46,15,42,47,39,14,51,22,9,6,44,43,35,36,50,42,43,20,49,28,15,32,45,12,48,51,4,27,34,30,42,44,46,33,27,20,33,26,42,22,36,44,18,5,21,43,23,39,22,38,56,19,54,21,15,22,46,46,34,19,50,38,16,33,25,40,37,49,44,24,39,47,50,38,15,23,43,44,44,46,44,47,29,47,21,48,20,54,14,10,38,18,50,45,43,54,16,9,51,16,27,36,14,51,14,23,18,49,40,38,49,53,12,48,52,38,18,41,36,23,52,22,41,34,44,25,10,17,17,15,5,50,59,16,42,15,52,52,18,50,46,48,23,51,45,55,8,45,14,13,33,17,32,46,50,47,29,12,49,29,21,33,53,45,55,33,57,11,20,10,50,29,43,19,55,40,55,41,22,49,17,40,36,13,31,21,47,46,35,19,45,16,17,36,50,26,30,52,39,13,16,56,50,49,35,35,49,19,33,51,52,49,44,14,23,25,16,41,10,17,11,20,24,40,38,50,44,11,18,44,56,16,37,34,49,42,11,12,13,39,22,36,42,24,16,19,52,16,48,41,41,42,45,5,26,49,13,51,46,39,54,48,42,45,20,17,57,16,44,19,44,21,40,47,24,23,43,18,43,58,45,19,33,30,53,24,45,22,36,44,10,52,53,40,47,16,55,31,49,34,49,50,5,14,52,21,18,39,18,11,10,45,4,13,46,14,44,29,35,44,32,49,23,17,49,23,41,16,30,31,17,46,27,18,29,13,11,33,32,45,18,50,29,52,41,51,41,18,56,39,21,47,48,49,40,19,48,41,13,18,25,46,20,21,15,51,13,41,18,53,34,56,48,27,16,50,15,37,16,32,54,12,48,42,15,45,26,33,25,25,14,54,48,36,30,28,49,13,52,41,38,35,49,40,34,31,50,15,9,12,26,50,45,43,16,26,46,19,57,19,22,13,41,25,28,20,40,13,25,42,39,18,55,30,11,28,19,7,25,20,48,46,29,43,40,37,44,19,28,50,43,49,48,34,33,16,19,32,49,53,18,4,34,31,11,50,47,47,38,50,24,12,30,34,6,17,44,45,35,45,45,37,46,52,21,52,12,22,37,34,51,36,15,17,36,47,39,26,43,17,47,7,22,29,13,10,51,47,40,11,48,18,16,50,49,16,40,15,59,25,47,23,45,22,48,53,26,33,45,50,48,51,37,55,45,21,51,31,52,45,17,26,41,32,45,48,13,30,41,30,18,32,30,40,31,16,11,48,46,38,15,50,17,52,14,46,53,31,33,37,17,16,21,20,19,26,21,43,46,47,34,41,19,27,23,52,41,48,43,52,23,50,38,33,45,59,21,30,46,17,26,39,36,28,22,46,53,48,45,39,17,18,33,20,12,31,53,20,34,13,30,40,49,46,45,16,47,42,33,19,36,46,45,44,35,47,42,16,40,45,53,55,20,46,14,38,15,50,31,18,47,39,48,42,18,12,27,9,26,14,16,36,36,34,21,39,53,41,18,25,43,47,56,6,18,39,18,21,18,45,42,49,42,44,16,34,55,40,15,44,25,52,32,43,48,24,20,15,24,55,30,30,18,9,48,43,56,12,22,28,46,53,40,52,52,40,35,13,47,21,52,14,52,32,19,19,41,6,55,49,25,19,21,44],\"xaxis\":\"x\",\"yaxis\":\"y\",\"type\":\"histogram\"},{\"alignmentgroup\":\"True\",\"bingroup\":\"x\",\"hovertemplate\":\"color=age<br>tweet_length=%{x}<br>count=%{y}<extra></extra>\",\"legendgroup\":\"age\",\"marker\":{\"color\":\"#ab63fa\",\"pattern\":{\"shape\":\"\"}},\"name\":\"age\",\"offsetgroup\":\"age\",\"orientation\":\"v\",\"showlegend\":true,\"x\":[48,25,55,25,29,44,19,56,29,43,28,12,51,47,28,39,53,52,27,13,53,57,28,33,10,25,17,58,17,53,15,33,18,31,44,17,49,12,2,49,37,47,53,15,5,45,18,14,40,18,36,55,50,20,21,9,19,25,51,4,53,29,40,29,20,26,16,37,8,27,21,49,27,19,17,42,51,29,45,25,46,7,39,17,13,48,10,19,40,45,51,24,29,48,26,10,57,7,39,19,16,27,10,47,46,50,11,50,19,52,34,24,20,21,15,27,25,14,55,35,9,55,45,2,23,49,42,9,50,26,40,17,53,17,22,44,31,54,25,55,45,48,56,54,27,29,17,25,54,22,26,42,13,53,35,26,57,50,60,24,17,3,54,22,19,4,34,49,10,22,31,35,14,21,34,56,17,49,51,46,21,45,57,18,20,29,24,51,47,50,26,16,24,28,32,22,15,51,49,42,36,16,60,38,34,26,44,49,44,39,44,40,24,20,24,48,50,43,13,47,11,5,41,13,13,16,45,52,18,32,53,57,40,18,51,47,24,54,20,21,30,21,17,54,37,35,20,14,38,30,14,16,14,26,24,19,36,24,48,36,43,41,49,53,59,15,9,31,23,17,24,21,54,43,19,20,11,16,30,26,32,23,11,6,21,28,30,47,31,55,19,34,25,52,48,46,16,50,14,35,24,38,26,52,12,14,57,44,14,34,56,52,30,12,44,28,53,15,44,21,54,9,52,17,45,16,54,50,19,52,35,20,21,26,29,49,11,32,19,27,46,55,35,45,32,52,19,25,17,48,49,13,50,56,8,36,37,30,6,13,30,13,37,26,57,29,25,17,21,40,38,16,23,21,42,50,30,15,51,14,55,37,43,10,38,47,24,37,22,44,22,22,50,18,48,56,34,19,50,60,54,41,52,23,41,20,24,30,34,18,25,23,13,47,26,37,30,49,28,52,22,21,13,35,35,18,48,14,28,54,32,49,28,26,50,13,20,30,12,58,47,49,54,18,41,34,44,49,45,26,48,17,56,40,48,54,15,13,52,55,24,52,56,40,36,56,23,50,7,12,49,30,11,52,42,49,27,35,15,32,57,20,19,29,40,46,14,22,18,45,47,41,48,22,53,37,43,4,13,54,14,39,50,25,31,30,28,11,21,23,42,57,16,40,14,39,52,54,19,23,41,6,35,6,49,53,48,15,55,51,48,29,12,10,20,34,42,36,21,28,48,15,28,16,48,22,51,22,19,56,58,31,14,38,19,38,25,15,46,56,53,31,15,46,16,24,28,49,32,18,57,14,13,45,19,19,51,16,47,9,23,21,17,54,50,5,11,13,46,47,49,25,12,25,40,50,33,54,47,17,56,48,30,50,10,10,35,42,43,40,13,11,14,8,25,48,41,38,58,29,24,53,48,52,41,28,46,35,45,23,15,32,51,35,13,47,4,45,46,23,29,54,55,34,26,53,11,40,34,42,23,22,9,27,46,54,53,5,21,27,27,11,30,27,14,32,58,14,47,13,57,17,16,27,52,11,16,29,24,13,47,15,38,42,20,35,49,42,46,14,52,35,24,22,8,66,12,43,20,45,45,48,43,31,16,49,12,48,13,57,17,54,52,10,55,11,46,57,58,54,55,34,20,8,53,47,23,28,31,55,34,45,26,50,27,51,53,36,44,9,45,20,27,29,56,58,25,55,10,25,23,42,49,49,16,40,25,32,29,22,31,55,21,22,16,20,40,37,51,41,37,42,49,20,54,57,24,9,43,49,49,22,19,55,41,41,52,23,24,44,26,43,12,49,55,54,8,45,45,48,44,21,12,14,48,31,17,21,38,16,49,44,38,54,8,44,23,32,27,55,20,30,59,39,26,46,33,22,54,4,32,19,18,27,18,27,26,41,58,14,34,22,55,37,27,16,60,43,22,56,53,49,32,16,8,19,51,33,43,51,12,8,38,28,15,22,13,26,52,14,54,16,33,20,36,21,49,25,5,28,10,34,15,53,48,36,16,26,22,13,43,20,9,53,4,21,37,50,15,7,16,30,43,9,16,37,44,15,22,60,38,23,8,27,49,23,13,15,25,18,41,42,9,25,26,7,47,38,14,11,46,17,18,26,15,27,12,15,53,51,51,14,24,47,44,43,13,15,22,13,23,7,57,18,40,10,21,46,17,27,9,28,24,19,44,46,28,8,20,9,30,56,16,38,38,52,8,38,40,38,52,53,45,24,17,27,52,11,56,56,31,19,39,31,13,45,61,23,46,28,19,42,53,26,39,23,12,46,18,45,21,14,16,43,49,46,35,34,55,16,12,37,51,52,33,40,20,46,9,13,23,25,61,30,6,54,42,41,48,23,35,40,40,5,34,45,53,5,52,50,53,22,28,37,33,31,13,8,18,55,55,24,50,55,54,19,44,32,48,25,20,37,8,18,26,53,51,32,51,21,27,28,48,13,30,21,35,26,39,53,16,19,54,61,22,13,28,18,21,14,18,21,18,46,9,52,61,28,29,39,31,25,16,51,55,52,26,23,56,3,16,44,51,20,16,34,32,48,34,54,21,44,34,32,19,14,44,42,36,36,12,51,13,18,49,11,38,17,40,53,23,27,22,20,51,23,13,36,27,57,26,25,14,34,12,21,40,34,36,11,14,19,28,22,26,27,22,28,17,56,51,41,36,48,30,55,55,47,37,29,10,46,10,46,50,61,23,14,56,45,48,52,32,28,35,42,20,43,51,12,57,49,57,50,24,30,55,42,65,30,44,47,29,18,13,55,7,42,44,21,24,40,13,14,17,56,5,41,54,54,44,14,33,18,26,53,10,31,13,50,54,22,32,53,46,31,12,59,54,54,42,54,44,35,34,22,19,13,27,34,21,7,24,43,51,9,24,46,28,35,47,19,15,42,15,15,32,24,26,51,41,37,36,47,46,14,49,29,29,28,36,26,16,19,55,60,46,59,23,13,48,23,23,15,28,34,12,11,14,42,44,21,10,50,53,51,12,50,35,51,27,31,18,29,52,52,46,24,34,46,53,51,15,20,50,37,13,6,47,40,44,6,10,18,39,47,55,30,40,20,29,52,43,48,52,53,43,28,39,56,52,35,42,56,45,52,21,55,14,29,33,42,56,44,24,21,24,25,51,25,36,40,37,41,11,35,28,12,48,48,29,17,43,43,32,55,50,12,53,31,43,20,22,19,54,48,13,24,23,24,22,55,43,7,56,36,16,27,51,54,19,17,34,34,14,47,31,24,20,19,29,52,21,45,24,56,29,25,29,56,42,18,22,55,6,21,15,46,41,35,43,14,17,48,19,25,23,19,48,29,22,53,28,54,35,52,38,39,50,46,35,7,44,45,25,44,18,35,46,22,31,13,25,46,36,16,52,15,45,51,59,48,19,24,19,30,41,27,44,33,37,14,45,58,56,24,50,17,53,5,26,36,28,31,39,9,13,16,54,32,17,30,38,30,40,54,46,47,31,31,37,31,27,47,14,31,14,41,51,18,40,51,17,26,45,17,7,9,59,38,39,14,14,53,34,4,55,53,42,22,18,13,40,56,24,54,46,42,46,21,35,20,47,44,6,22,25,25,52,11,49,27,44,42,39,52,52,24,9,41,23,11,11,32,24,13,23,19,48,49,51,47,21,23,18,13,39,23,19,38,54,49,19,35,51,19,13,10,48,35,37,47,43,14,46,41,24,8,16,17,53,26,45,35,35,55,49,54,50,53,50,6,16,11,14,52,44,10,53,14,45,17,32,36,42,17,51,22,46,52,26,19,42,33,5,25,18,21,50,52,10,22,14,32,34,29,42,61,10,47,49,13,29,16,22,15,52,11,32,25,57,16,38,16,39,47,27,34,22,25,43,14,32,39,55,21,20,20,19,54,36,26,55,9,46,52,14,26,27,32,13,49,33,9,27,4,11,44,59,43,29,13,53,14,44,31,38,46,52,29,33,57,7,47,7,24,50,12,33,8,13,58,52,17,20,22,20,37,29,40,46,16,35,41,26,50,41,26,52,16,27,16,29,27,53,49,46,7,17,35,44,48,32,3,49,43,43,46,16,32,37,29,15,29,13,15,11,39,14,39,55,51,31,11,33,54,23,45,43,8,17,52,56,39,52,47,53,52,51,16,18,5,22,30,15,16,22,53,21,14,15,18,19,21,11,17,8,41,8,56,56,4,52,52,12,26,8,33,50,53,42,35,15,33,19,35,30,9,26,11,51,19,36,25,52,36,44,47,15,42,50,39,42,50,8,55,38,35,29,21,47,21,46,45,33,10,49,53,52,28,21,23,39,31,31,8,29,33,47,30,35,54,42,26,50,14,14,7,12,25,7,40,11,22,17,13,49,26,38,20,56,53,38,54,11,51,29,52,27,32,10,10,14,30,45,23,14,25,23,48,49,31,22,38,36,17,24,58,23,60,15,15,51,30,26,25,39,27,15,26,33,38,45,28,19,51,17,21,49,42,42,7,42,25,38,275,32,48,15,28,14,12,52,31,28,51,31,32,19,39,53,13,11,40,58,27,38,50,19,16,24,55,48,19,33,48,56,9,30,17,22,33,18,34,42,15,52,53,14,34,53,43,38,48,27,55,53,13,12,35,31,43,62,28,42,37,10,15,22,47,47,19,52,28,17,50,32,53,53,22,50,16,57,19,55,17,11,33,55,42,42,29,52,52,36,32,56,58,32,51,41,46,27,40,35,25,32,5,43,53,47,34,38,31,17,13,23,28,45,25,35,52,22,36,13,34,20,52,28,48,12,45,47,18,9,17,53,43,32,31,47,10,48,28,32,48,46,50,43,20,52,25,13,29,32,32,15,32,50,35,59,20,57,50,46,14,36,31,40,53,9,42,22,9,39,11,58,8,25,47,15,13,9,39,36,50,50,22,34,50,43,58,50,15,55,44,14,15,26,45,15,23,37,30,25,28,22,34,16,24,49,46,50,51,9,21,50,26,43,28,23,18,55,44,28,19,40,27,50,3,55,29,37,19,51,24,22,33,29,41,32,29,16,48,56,23,13,11,15,26,38,28,14,40,45,36,53,33,49,19,15,19,30,33,43,41,20,45,27,31,55,44,19,8,19,54,17,28,42,11,22,43,57,8,53,39,47,21,18,3,16,51,13,54,34,19,33,56,17,36,53,52,29,46,31,21,52,22,48,16,20,10,27,21,28,44,9,35,29,21,22,15,45,41,20,57,41,40,44,31,32,46,26,8,32,53,40,27,29,19,50,50,10,20,42,29,60,40,15,36,22,41,24,13,40,32,47,23,51,50,21,24,21,53,15,48,20,48,37,8,39,17,32,43,45,18,26,42,49,23,53,18,13,9,11,38,55,25,9,24,22,19,44,52,49,20,28,46,52,47,18,34,50,49,25,44,33,56,35,22,51,53,51,23,56,28,18,33,11,22,44,8,56,32,10,51,39,19,16,17,34,15,45,33,19,54,37,52,26,34,27,26,15,40,59,49,36,50,13,20,41,51,48,53,32,19,29,30,28,27,62,24,30,45,48,25,59,57,52,21,53,58,21,52,43,40,26,33,34,57,40,12,13,16,40,44,28,31,15,52,25,23,38,42,34,53,33,12,5,39,10,11,35,57,29,41,44,47,47,47,41,39,14,15,19,47,31,15,10,53,46,45,56,46,53,33,10,38,19,41,14,55,37,31,56,25,35,47,25,7,38,28,42,28,20,33,50,35,20,60,50,47,51,46,18,8,21,49,44,42,31,28,16,12,23,50,53,17,17,35,17,34,57,21,49,55,38,20,21,57,5,33,51,24,19,27,50,50,15,40,39,28,31,16,12,9,35,30,43,11,56,46,16,29,54,28,26,46,36,57,19,22,13,46,50,46,47,38,34,19,23,48,28,45,45,52,16,11,50,58,21,53,35,21,54,10,51,23,9,40,39,9,54,26,14,57,5,17,48,35,52,7,18,48,38,41,19,14,53,51,19,35,10,48,14,14,44,59,40,29,60,31,27,49,53,40,44,36,8,42,52,26,12,30,12,18,27,26,49,18,50,24,35,54,43,11,44,24,47,14,52,24,22,42,25,52,43,27,26,49,53,13,22,17,49,38,14,27,29,62,40,47,33,42,4,49,50,16,29,12,20,14,52,55,39,19,34,48,17,56,31,53,44,35,17,54,34,52,16,7,34,11,9,48,20,50,37,49,12,19,48,55,47,66,37,22,30,33,43,26,10,19,17,22,49,50,49,36,55,13,4,21,16,10,19,37,36,51,28,42,54,24,36,33,20,14,47,41,36,48,24,56,25,37,50,13,41,48,21,51,57,22,44,49,31,25,48,52,21,36,44,49,20,56,23,23,6,47,49,29,22,22,21,21,52,44,38,36,46,17,38,8,57,28,20,46,7,41,29,43,49,42,20,16,16,27,22,22,17,28,41,53,28,45,25,27,13,20,24,43,26,27,39,51,38,54,46,7,18,22,20,46,8,52,39,52,26,35,19,12,24,17,42,48,55,47,50,31,32,9,19,14,15,52,42,20,34,35,17,23,6,46,50,14,57,46,13,44,26,21,56,35,41,25,31,27,41,21,35,51,24,24,19,26,56,14,46,21,54,10,38,38,53,61,19,26,57,40,54,11,38,30,21,52,49,44,37,19,28,17,28,46,9,15,21,29,42,37,17,46,36,48,25,43,16,21,59,13,46,42,8,30,32,26,16,60,57,47,32,9,8,48,59,47,7,37,14,24,34,28,59,26,12,47,23,34,21,51,29,27,34,48,43,45,15,32,26,33,31,42,22,37,31,42,36,46,5,28,5,55,13,51,52,48,24,55,52,53,36,51,26,17,46,14,43,12,41,38,28,17,29,38,45,22,28,34,7,21,54,34,45,52,41,22,30,58,48,16,22,34,27,52,13,13,44,7,15,28,18,13,56,43,21,18,17,8,57,19,4,19,15,53,25,41,21,11,57,23,43,26,19,35,7,10,23,13,12,23,14,32,24,33,18,51,26,10,17,13,19,30,14,35,31,31,43,61,53,7,33,26,46,28,37,13,8,53,15,23,33,51,58,19,20,16,6,15,49,59,13,18,51,42,25,9,50,46,12,45,25,49,51,46,11,20,22,4,21,45,9,53,37,53,63,35,16,23,5,35,43,20,24,22,52,51,12,57,14,50,10,32,12,45,38,36,34,21,19,41,20,10,38,11,55,13,25,48,21,8,51,27,8,53,9,32,24,20,18,29,37,15,9,19,53,15,41,25,56,54,33,55,39,41,44,23,32,10,44,46,11,25,35,43,39,41,26,20,26,41,62,39,51,56,46,45,33,23,40,21,56,35,14,19,49,44,39,45,18,52,25,25,23,45,48,3,20,45,16,44,43,22,33,38,55,52,39,48,9,22,25,30,25,15,12,33,17,11,9,6,23,24,50,30,12,40,28,63,25,36,18,61,46,30,29,24,26,28,14,11,45,11,22,29,54,29,22,28,37,26,47,38,7,21,30,59,13,52,37,39,39,48,13,25,23,36,8,13,21,48,21,51,56,49,18,13,44,42,10,49,13,49,11,7,14,13,9,47,21,39,29,15,54,18,14,47,23,25,49,33,16,42,48,9,20,54,25,16,51,21,22,36,13,26,10,44,55,60,12,19,18,20,51,54,61,8,11,48,34,35,31,52,38,21,44,46,51,20,13,32,53,23,52,52,19,48,35,35,38,29,35,25,13,35,6,38,54,37,48,54,46,41,37,20,32,11,7,36,53,37,26,38,49,20,24,47,26,51,50,59,14,28,7,10,45,52,20,25,16,11,58,40,19,10,9,43,54,42,34,19,22,35,13,54,17,24,51,23,23,10,48,7,21,36,27,42,56,26,21,13,22,35,36,15,31,34,54,40,40,39,15,17,36,59,43,53,27,21,25,60,24,34,42,26,17,42,31,33,43,23,51,41,32,37,52,23,26,19,17,41,12,13,19,36,41,46,20,60,33,48,39,19,45,46,27,9,31,38,18,54,46,22,13,29,48,45,52,45,14,20,8,31,18,26,28,9,36,36,43,51,57,53,38,16,18,50,55,47,39,20,53,30,45,56,6,10,41,39,31,22,15,21,24,56,53,26,36,12,50,15,25,18,56,35,11,6,7,47,8,24,15,41,54,45,27,29,5,45,21,18,17,23,28,52,41,24,18,43,30,28,21,23,21,20,31,61,32,43,49,30,33,56,26,44,51,22,19,37,6,38,33,34,16,31,21,44,39,50,48,55,55,30,40,36,22,51,36,56,20,10,22,47,39,36,10,44,60,28,42,42,23,61,49,42,13,13,48,16,27,29,43,38,31,42,52,55,48,33,37,55,14,22,49,28,35,22,49,35,44,19,32,14,49,32,31,41,43,14,47,52,27,25,20,31,18,50,9,54,19,35,21,51,35,14,47,9,38,12,22,37,16,52,10,39,9,42,15,31,34,17,21,51,28,32,50,21,50,28,57,40,25,47,55,57,35,39,56,21,11,28,36,52,51,15,32,51,23,24,21,54,15,57,35,48,25,51,34,23,18,45,37,22,57,21,15,53,17,52,24,55,15,52,17,47,17,23,53,44,51,26,50,23,16,46,38,46,49,16,17,46,42,24,28,28,7,45,56,55,15,32,20,48,54,32,18,34,43,51,18,28,14,28,15,22,18,36,40,38,38,39,5,58,45,46,39,44,33,46,53,53,13,47,43,60,13,27,51,34,22,26,28,45,45,52,51,20,12,53,46,51,43,25,39,32,38,48,21,12,18,51,53,11,22,48,20,28,43,37,41,24,5,9,8,46,55,46,43,28,48,24,20,52,41,25,52,47,25,18,52,15,45,25,30,25,50,6,55,18,20,29,39,56,20,28,57,50,35,36,37,21,50,44,47,28,33,53,41,54,24,31,14,26,49,15,51,9,34,19,20,10,25,48,37,13,36,52,46,14,38,28,26,48,15,38,35,35,15,34,51,52,46,26,49,39,52,18,54,14,20,38,33,53,21,9,18,39,12,16,48,11,44,50,20,40,39,34,41,43,20,36,17,25,13,35,15,11,37,10,24,18,20,14,8,43,39,29,33,43,45,47,59,49,23,41,52,48,44,37,46,53,26,24,42,35,23,55,9,19,49,39,34,28,33,58,19,13,29,49,34,27,26,23,21,55,18,23,33,37,51,12,35,51,55,22,25,55,24,49,23,50,25,13,56,18,49,24,53,52,56,20,24,50,13,40,27,33,27,10,53,45,15,9,10,18,15,25,28,11,9,13,22,45,17,29,11,30,33,36,15,51,30,54,10,44,14,13,18,26,6,27,19,30,13,29,55,12,8,35,18,37,38,19,23,6,12,23,13,47,18,48,13,26,25,52,41,21,29,30,45,11,58,48,49,43,36,50,14,9,49,59,40,48,47,34,27,44,8,48,49,22,23,43,12,48,21,57,23,55,27,52,33,33,54,47,15,26,24,29,41,32,23,12,49,23,13,19,22,26,20,24,15,38,10,38,31,27,13,43,8,55,40,51,23,30,16,37,51,29,20,20,51,56,20,31,21,25,55,26,33,48,17,50,40,31,17,19,35,50,19,7,26,39,37,34,13,22,59,40,39,35,49,27,28,21,54,21,47,15,47,18,40,53,9,40,52,14,30,12,33,44,14,12,14,50,35,20,40,52,54,25,16,30,44,34,45,53,46,27,29,20,21,47,31,62,50,21,22,27,31,38,15,22,51,51,23,52,11,12,47,12,32,36,44,44,31,38,38,38,53,4,18,42,56,27,16,41,54,10,50,61,25,43,25,11,32,48,18,21,52,18,43,53,37,23,51,18,32,27,11,42,24,27,56,56,29,50,33,20,26,47,13,44,19,36,39,42,31,36,47,14,12,34,40,22,12,18,51,33,8,17,30,25,9,54,51,29,50,38,36,32,33,36,32,45,6,15,3,48,35,30,35,33,43,30,25,43,52,15,19,32,18,23,36,39,25,32,47,36,50,36,44,33,27,9,12,51,16,19,8,17,39,7,48,25,30,52,42,29,22,42,47,46,26,43,12,53,32,56,30,34,42,44,46,43,39,8,31,24,28,10,24,44,23,28,29,8,37,34,41,54,20,52,38,21,12,17,45,12,29,13,53,23,56,40,42,50,18,30,18,27,56,48,13,34,12,56,22,37,62,27,26,19,34,19,49,51,29,19,18,41,14,51,8,48,15,50,10,53,7,25,50,46,54,31,39,41,50,43,39,15,22,23,58,47,6,33,24,36,47,21,35,31,32,31,22,3,15,29,18,45,39,19,28,21,50,30,48,45,31,14,32,21,26,46,30,57,52,52,51,41,22,52,14,39,26,25,33,42,37,13,20,49,20,47,8,38,56,36,16,30,19,35,19,6,58,44,17,53,48,34,46,18,55,30,26,45,11,23,45,53,41,20,53,28,40,20,43,23,8,48,28,43,18,25,40,34,41,39,54,35,7,38,6,49,33,46,58,54,11,34,27,32,44,24,13,40,25,48,26,15,48,50,21,5,50,41,17,24,5,36,40,42,15,35,52,18,27,30,49,14,16,29,24,50,19,38,35,9,49,38,38,14,12,26,40,54,9,26,29,23,37,14,8,22,19,22,41,25,32,22,27,45,44,14,55,30,11,24,12,10,46,27,51,4,36,28,5,46,47,13,11,46,50,17,12,22,33,37,34,37,39,55,22,21,34,42,14,17,42,43,40,52,56,24,55,19,27,26,19,50,17,36,19,35,31,40,45,23,47,33,49,54,6,24,43,20,33,52,19,24,43,27,46,52,51,38,14,16,42,32,17,54,37,49,41,58,52,53,24,39,47,41,36,18,37,30,34,38,49,55,23,45,30,18,42,50,55,25,44,23,31,25,58,12,16,19,59,16,18,7,23,19,56,57,18,17,49,35,16,48,42,17,20,51,11,18,32,20,44,29,19,33,46,38,25,50,8,20,21,6,44,19,45,36,29,28,39,28,39,37,52,30,47,36,40,33,29,17,37,11,10,44,56,49,14,20,8,40,13,24,7,6,20,42,19,46,54,48,56,48,49,47,32,50,15,42,16,7,22,25,17,53,42,33,25,20,31,43,58,18,50,34,39,39,17,37,56,15,33,22,24,13,35,19,24,55,17,13,53,44,30,15,48,39,13,49,28,53,15,49,41,21,45,31,8,15,30,20,29,22,37,53,15,28,13,51,38,35,38,32,21,54,23,44,40,27,56,16,50,31,15,31,43,48,21,20,44,21,45,25,26,15,13,21,46,10,43,17,3,9,40,51,31,49,22,59,35,13,41,44,32,39,18,52,53,38,42,36,52,38,46,30,11,45,36,58,55,46,43,60,40,17,50,50,50,14,7,11,34,50,47,20,51,20,17,13,16,56,11,40,51,45,11,24,33,25,27,7,35,46,53,13,42,10,24,35,32,14,60,34,19,52,35,37,30,57,42,45,23,30,51,46,38,27,47,12,46,13,29,10,28,43,56,20,29,9,25,48,57,30,55,22,28,32,15,9,30,58,54,34,25,27,39,55,17,27,35,16,61,56,29,48,42,46,10,60,19,25,12,46,17,40,32,43,41,55,43,10,49,47,47,49,53,42,55,19,53,7,52,33,20,21,11,54,36,26,10,33,9,10,32,35,30,9,57,54,34,42,46,31,14,56,30,7,13,53,37,5,34,39,42,26,20,53,31,21,24,55,13,51,48,41,25,33,35,27,44,42,48,47,19,13,32,50,41,54,22,16,14,37,18,31,54,12,46,52,38,52,14,36,50,45,49,62,18,41,12,8,42,45,33,55,19,30,22,26,27,44,31,52,52,17,27,20,50,58,4,39,6,34,17,19,19,18,38,47,42,30,22,35,57,49,39,21,21,22,44,50,18,40,48,36,19,28,51,55,56,19,55,28,44,6,32,12,20,20,25,33,29,38,23,6,30,28,21,42,36,44,51,54,38,27,43,54,44,20,18,20,17,7,13,15,27,52,35,45,52,23,52,31,10,18,54,50,13,18,50,41,12,21,24,42,56,33,7,23,43,54,25,48,53,10,51,43,57,13,23,38,12,36,51,34,14,47,31,11,50,33,20,22,44,54,40,50,15,31,24,52,18,53,48,51,11,53,28,23,54,49,31,50,31,54,7,51,25,39,19,36,41,38,43,29,22,46,30,11,41,41,27,44,21,34,24,51,29,13,23,15,48,37,40,23,7,47,38,6,26,50,59,49,41,20,32,30,24,43,34,37,30,15,33,27,49,40,20,18,52,54,18,50,45,18,23,46,38,20,15,43,45,24,49,18,52,54,19,20,13,14,37,13,24,11,52,47,21,50,25,45,35,40,36,20,43,49,24,21,54,49,40,11,23,23,15,48,25,27,42,35,32,21,39,51,37,25,26,51,47,30,50,4,23,45,49,36,14,56,6,39,37,37,55,42,3,13,23,25,13,21,42,50,22,12,13,45,48,43,54,53,46,44,47,48,16,34,24,57,45,53,47,59,49,11,36,48,13,32,24,31,12,40,23,51,41,30,15,41,15,36,16,26,13,61,58,24,28,42,12,13,40,25,30,57,29,52,24,17,38,19,28,15,52,12,53,38,23,28,31,50,34,23,26,50,30,33,52,56,21,48,32,20,41,43,15,17,12,22,22,16,29,25,55,9,9,14,51,53,57,38,41,48,53,50,10,49,21,29,12,31,38,55,12,24,36,28,19,53,29,15,53,15,51,39,25,41,14,7,42,13,28,37,29,33,4,15,37,36,13,20,50,30,48,45,38,20,16,36,8,41,54,22,29,38,34,52,52,20,50,52,26,25,58,19,48,28,24,23,48,36,20,40,28,20,38,5,15,8,18,53,35,32,24,27,49,23,23,8,12,17,7,19,22,51,13,52,46,31,48,41,53,53,48,53,47,51,9,43,16,15,40,15,23,41,12,45,59,32,46,17,53,38,18,27,11,14,52,15,44,13,38,21,26,38,42,16,10,16,9,19,47,40,34,29,28,52,57,29,42,29,57,5,39,52,40,52,59,22,32,23,14,23,15,47,42,26,25,32,18,42,23,45,26,39,24,44,40,31,51,27,22,51,24,20,52,49,8,11,27,38,37,13,56,28,26,20,14,18,38,13,53,21,52,19,24,44,24,20,34,49,49,17,25,30,28,34,50,49,19,26,43,50,18,20,48,22,29,7,8,24,53,29,38,36,26,41,51,55,46,47,41,34,34,33,46,49,11,29,18,35,16,53,15,34,18,51,9,36,53,22,40,11,15,20,45,27,26,23,43,44,39,20,30,29,26,21,23,31,8,64,6,50,39,54,46,39,53,49,8,42,26,24,30,16,19,28,49,23,53,9,26,4,51,21,41,20,41,35,58,47,9,51,12,41,45,55,48,17,35,50,20,52,51,40,27,40,32,32,53,45,53,13,52,38,28,52,43,18,50,6,19,42,49,17,6,20,36,48,59,49,45,42,53,34,14,44,32,19,52,31,27,42,22,45,6,42,19,5,45,33,26,43,15,13,21,6,13,14,11,16,50,36,50,12,14,46,14,14,47,21,54,51,44,26,20,53,36,61,13,18,17,39,23,14,18,42,17,26,37,25,18,49,46,17,27,25,2,22,55,22,6,21,51,8,46,54,31,42,34,47,32,14,50,54,17,52,13,36,10,14,50,13,39,50,18,30,41,41,19,4,14,49,20,9,53,11,19,37,7,35,59,50,26,26,21,28,49,23,43,12,38,28,32,41,36,9,8,51,28,50,52,31,60,21,24,35,25,37,50,28,41,27,4,30,40,17,53,32,23,19,13,22,20,33,19,13,50,51,41,20,17,51,37,29,22,27,48,48,53,47,30,11,17,33,19,56,54,7,57,44,50,10,22,25,46,37,31,44,47,48,11,55,19,47,10,14,29,20,30,20,37,13,46,30,51,42,25,13,24,15,19,51,58,44,33,29,48,51,15,51,10,21,32,30,42,34,52,48,33,21,47,33,40,53,40,28,20,38,54,32,56,19,49,10,46,15,40,21,27,45,53,47,12,54,53,20,53,21,49,39,47,31,15,11,32,12,9,53,51,35,11,36,38,34,9,22,44,31,43,54,51,29,35,10,15,50,55,16,12,14,53,44,42,52,28,45,32,12,45,21,14,37,25,36,36,20,13,57,17,10,38,21,46,35,25,55,27,32,14,51,38,54,30,14,22,18,29,22,46,48,19,42,47,23,36,16,25,46,36,39,25,58,34,44,57,56,40,12,11,43,37,14,16,38,12,51,23,34,54,35,27,24,64,51,30,48,37,28,30,16,50,36,36,35,32,23,44,55,44,13,33,15,8,22,55,48,53,37,51,14,14,54,24,47,43,51,47,8,14,24,14,31,54,52,51,25,48,6,39,15,18,25,16,49,49,37,54,46,51,54,31,32,21,19,57,38,42,5,47,39,49,12,43,27,36,53,33,18,30,55,58,39,42,8,20,30,30,27,39,16,15,9,14,5,22,13,13,52,21,21,46,48,50,34,47,41,14,34,39,49,7,48,36,12,23,32,35,27,27,14,24,33,32,14,14,46,46,10,33,39,28,3,44,31,49,20,15,26,49,16,31,47,29,52,59,12,53,40,25,39,53,55,11,58,37,20,28,18,15,11,40,49,44,56,40,61,52,14,47,25,30,26,25,32,34,46,10,55,42,32,5,16,44,26,53,36,51,37,15,21,42,48,18,38,54,53,37,37,13,57,30,19,21,32,53,37,16,45,22,17,13,36,18,16,16,52,38,45,51,46,47,8,7,58,7,7,43,47,31,33,20,56,15,20,46,10,31,37,8,20,46,19,26,21,24,24,38,38,28,17,8,61,8,40,40,18,38,13,51,25,5,26,18,30,25,22,44,11,35,20,54,45,36,35,27,21,49,56,30,55,14,46,7,57,18,20,40,41,36,33,8,45,52,47,45,46,26,10,6,22,48,20,24,38,33,13,49,40,32,30,45,11,46,41,40,44,48,58,17,34,28,32,54,10,44,45,24,42,46,51,41,22,15,19,22,20,34,15,22,48,40,25,33,26,28,19,25,14,57,46,35,24,55,43,10,13,25,53,8,18,53,46,5,42,36,29,30,33,50,63,41,14,31,52,43,22,6,24,43,28,16,24,50,41,38,38,30,48,44,32,34,47,27,22,22,22,52,44,48,49,38,62,20,22,47,22,63,18,41,52,16,17,41,57,21,20,48,50,38,20,51,14,60,56,44,28,48,17,9,16,57,19,54,52,38,14,32,42,21,40,50,24,37,35,33,48,27,31,21,43,11,15,39,59,23,47,47,22,18,24,30,26,48,50,26,26,10,42,8,13,11,34,47,23,51,42,39,43,12,54,20,32,42,17,46,13,22,46,47,29,42,26,30,39,18,52,49,59,48,32,53,35,32,42,49,33,17,30,28,22,44,49,9,38,28,45,49,13,36,23,26,31,19,54,13,10,9,16,30,9,15,47,22,54,26,19,14,43,26,58,25,13,52,40,40,28,42,40,49,49,25,48,41,28,53,44,23,55,30,9,21,25,20,29,18,39,32,9,34,14,21,25,50,27,36,48,51,32,53,38,13,38,44,29,22,42,20,49,50,25,5,35,29,21,48,13,57,44,34,47,32,11,45,45,37,34,30,53,49,29,27,33,7,9,8,12,47,17,24,40,17,46,51,49,23,52,50,30,47,9,56,24,46,54,19,30,50,30,27,49,41,45,10,18,29,31,38,49,35,35,44,19,24,31,15,21,21,37,12,13,22,16,49,21,26,45,29,7,37,23,21,49,48,25,29,54,4,20,41,55,58,55,31,16,55,8,49,18,34,28,12,34,12,57,50,25,44,8,14,20,30,26,49,50,20,42,34,45,22,53,62,49,53,17,13,52,38,38,18,15,48,17,57,54,16,12,25,10,60,15,34,17,13,21,35,38,57,56,47,35,34,15,25,21,31,17,18,29,30,15,19,23,8,56,27,50,11,53,13,32,14,27,20,52,30,34,43,26,50,48,11,35,43,37,50,44,30,49,40,14,23,43,42,9,54,36,25,5,6,37,49,49,45,51,57,21,46,57,50,41,16,26,17,47,11,49,34,22,20,16,11,14,54,49,42,51,20,37,35,14,53,24,39,14,54,56,44,37,48,24,56,12,19,57,15,33,50,40,47,59,15,48,53,22,32,9,30,17,40,31,33,56,4,49,62,48,50,47,37,11,47,42,20,11,49,36,31,50,28,40,8,38,14,30,50,22,5,52,13,48,22,8,14,56,20,20,5,21,45,16,51,17,21,22,34,50,51,25,33,52,48,57,18,51,50,30,24,48,35,49,23,48,18,16,47,53,30,8,27,50,18,23,14,54,61,43,49,36,22,16,43,13,28,30,11,39,51,51,14,15,25,48,50,44,8,53,46,13,46,25,22,11,15,26,26,29,46,56,30,55,37,51,30,20,24,12,15,8,35,8,44,55,22,56,52,40,14,27,33,20,45,49,14,12,53,49,49,58,19,26,7,37,28,30,26,32,29,13,7,19,51,57,40,46,15,18,52,54,44,15,56,16,26,21,16,42,22,49,26,18,5,18,26,11,18,26,53,27,25,45,11,19,33,20,47,47,30,49,32,17,45,55,28,9,54,16,45,20,18,36,6,18,29,14,21,58,45,42,27,54,26,17,56,31,47,58,23,12,31,17,50,55,35,22,19,41,45,13,56,47,29,32,27,55,27,28,32,46,24,13,35,47,3,12,29,33,35,26,14,41,16,51,39,27,37,51,45,9,32,5,35,44,18,42,13,39,56,21,27,41,38,27,59,50,40,59,30,25,9,20,47,11,28,53,25,32,53,37,36,32,37,41,31,30,14,48,53,19,37,43,52,26,40,7,53,28,29,32,22,55,47,20,10,52,21,26,31,29,36,33,16,30,40,20,36,37,10,56,42,42,36,45,30,49,27,55,24,36,43,45,46,27,54,29,28,30,18,20,43,21,24,18,24,49,43,34,52,44,48,51,52,48,52,55,31,7,51,21,17,15,41,31,37,43,26,40,57,12,46,8,13,21,40,30,8,19,17,57,38,58,9,22,56,35,50,46,23,33,21,48,14,22,47,13,35,18,17,27,56,40,20,23,53,12,58,45,53,51,24,9,54,55,35,9,32,51,24,31,28,28,14,27,14,46,21,25,21,35,20,28,25,37,21,18,40,16,56,34,38,59,47,28,21,35,39,44,11,53,46,59,23,20,20,17,12,27,11,15,55,39,19,44,29,15,57,19,25,24,30,15,9,22,21,15,12,48,13,17,17,18,13,26,47,40,21,15,16,22,22,37,30,27,62,35,29,10,51,18,17,26,43,29,22,28,48,36,15,53,51,30,10,51,26,23,29,20,44,35,50,49,53,56,25,27,51,55,22,59,28,36,43,54,52,49,18,40,8,24,48,23,22,43,47,23,26,53,36,43,48,45,48,34,25,28,27,8,30,41,18,54,43,52,36,39,24,16,11,15,39,38,52,44,17,14,58,20,49,47,33,52,12,10,59,8,28,20,39,34,17,52,46,32,43,45,53,18,24,33,22,30,51,34,38,55,55,39,18,42,48,35,18,49,23,32,56,17,10,5,26,45,50,54,42,50,39,44,29,46,20,29,31,57,23,52,30,12,51,53,11,14,40,29,48,33,39,47,37,50,43,11,5,44,7,14,24,7,31,36,21,36,17,55,40,13,14,54,54,26,47,45,52,43,43,23,18,47,40,41,36,14,5,57,34,35,16,21,22,55,50,12,26,47,36,29,52,22,20,21,46,24,26,52,49,13,15,17,40,49,40,22,31,22,18,42,9,11,9,23,17,43,28,40,17,44,51,55,51,41,20,20,21,14,7,51,24,11,52,37,45,50,38,47,30,44,25,37,47,25,43,52,29,36,13,19,43,57,41,49,51,17,50,52,57,16,61,46,23,29,37,50,14,27,31,33,5,27,41,13,60,11,28,50,31,45,54,28,34,53,19,13,48,38,38,30,22,44,18,37,21,55,53,53,9,35,34,40,11,48,44,47,36,25,15,49,52,19],\"xaxis\":\"x\",\"yaxis\":\"y\",\"type\":\"histogram\"},{\"alignmentgroup\":\"True\",\"bingroup\":\"x\",\"hovertemplate\":\"color=ethnicity<br>tweet_length=%{x}<br>count=%{y}<extra></extra>\",\"legendgroup\":\"ethnicity\",\"marker\":{\"color\":\"#FFA15A\",\"pattern\":{\"shape\":\"\"}},\"name\":\"ethnicity\",\"offsetgroup\":\"ethnicity\",\"orientation\":\"v\",\"showlegend\":true,\"x\":[21,9,54,20,9,24,15,52,13,19,27,48,54,16,23,15,25,18,13,24,42,19,25,4,21,11,33,24,18,47,17,19,26,50,46,19,14,27,12,24,18,40,27,26,21,46,46,9,21,0,10,50,26,16,4,12,9,27,58,26,11,48,9,24,13,20,16,16,5,15,42,16,11,26,16,19,18,49,13,13,10,10,14,29,11,51,51,17,27,13,9,17,25,7,8,37,32,19,23,17,35,24,17,23,46,45,10,15,52,49,52,31,53,36,16,52,6,22,24,22,20,16,25,10,22,8,9,12,12,16,49,17,22,47,38,38,16,25,23,21,13,26,44,47,19,19,45,19,21,19,24,12,16,8,14,20,36,42,23,20,34,36,49,24,11,17,11,51,22,47,23,24,37,9,11,16,21,31,27,55,15,27,7,46,19,24,16,53,22,49,55,12,19,20,15,20,16,17,21,22,14,20,8,5,21,18,46,19,28,49,21,29,24,14,49,53,16,28,16,23,26,22,22,22,28,13,45,12,6,9,21,17,13,32,16,15,19,51,32,23,23,40,16,20,14,12,24,11,17,26,43,21,6,19,10,15,28,56,37,21,24,21,50,23,29,11,18,18,18,52,21,57,11,25,8,11,32,23,25,52,19,12,16,9,21,30,43,24,26,52,14,15,17,15,20,15,7,15,33,17,23,14,19,37,24,16,21,16,52,18,13,20,27,46,44,50,20,47,23,12,51,36,36,53,24,36,8,24,27,8,24,18,51,44,9,24,16,11,17,26,34,29,15,17,18,16,19,48,22,11,12,25,13,8,47,49,8,14,51,13,36,27,24,6,48,51,12,16,17,10,7,13,13,50,18,48,54,25,14,46,48,24,54,18,53,27,45,0,22,24,10,25,25,15,10,20,16,12,27,7,14,21,26,8,14,27,22,56,8,18,6,14,22,16,41,12,42,27,18,24,11,25,22,14,24,9,11,46,24,17,15,5,7,24,23,26,9,16,6,49,23,13,50,30,15,7,19,56,8,26,28,11,17,22,14,17,18,12,18,28,15,11,25,23,24,52,14,11,21,41,28,11,50,19,9,30,15,9,20,32,52,21,9,46,26,14,21,11,21,39,17,20,56,47,20,27,29,26,22,46,49,5,26,25,29,55,15,11,44,18,52,52,20,27,11,25,8,45,17,11,21,13,30,41,6,33,23,6,18,8,23,5,22,21,25,16,26,13,9,34,52,21,48,26,21,18,9,42,14,14,46,54,14,6,48,15,49,19,20,25,45,13,23,17,20,6,44,22,7,20,18,41,24,14,22,9,37,13,45,10,50,9,28,14,43,48,49,18,14,58,46,50,59,51,14,41,47,14,23,20,22,33,23,13,20,7,25,46,10,56,16,21,49,20,16,10,4,19,12,10,21,12,29,8,17,9,25,34,46,22,12,17,25,22,12,9,42,21,22,23,20,20,14,15,21,13,25,21,59,47,51,13,13,20,37,15,12,18,10,27,22,11,38,22,16,17,47,19,20,23,31,12,22,22,17,21,20,39,55,12,24,11,5,8,36,39,10,6,3,11,5,34,55,29,18,27,28,44,32,14,32,33,38,51,11,18,20,13,16,10,10,18,18,10,5,10,49,17,21,14,22,6,55,47,25,29,14,16,8,17,13,48,24,6,12,18,15,4,16,23,13,17,57,50,46,17,25,50,11,11,26,14,21,46,34,18,27,27,9,23,27,9,21,22,19,46,25,24,21,20,45,17,50,44,12,24,25,9,14,13,10,19,27,49,21,21,9,6,24,14,13,35,23,15,15,24,54,58,20,8,36,11,9,7,21,12,15,16,53,25,24,5,15,13,24,13,17,20,29,19,20,18,51,24,22,4,17,25,14,22,19,39,14,22,11,26,11,16,14,16,47,16,22,27,43,27,20,12,51,11,25,19,17,27,48,28,9,9,51,26,48,9,24,19,15,51,57,9,25,19,13,20,34,21,14,17,28,21,7,5,38,50,44,11,24,20,10,14,21,8,53,14,23,30,28,14,34,50,24,28,17,38,29,23,6,22,11,6,39,23,25,48,25,46,20,58,18,24,24,39,8,21,11,5,20,51,55,57,13,8,9,38,12,32,57,45,27,15,8,14,8,51,18,19,7,50,10,15,19,17,46,29,13,29,24,28,17,15,25,26,6,7,39,55,30,20,31,26,46,52,21,21,34,25,18,24,17,62,20,21,12,27,16,35,9,52,52,36,10,16,48,4,23,33,11,15,25,23,15,15,25,11,26,51,5,21,27,26,35,10,20,25,62,21,13,13,25,14,48,29,41,16,16,44,23,61,13,19,10,20,50,51,20,26,13,19,13,23,18,53,8,22,49,19,13,35,16,8,39,50,53,50,14,26,24,28,15,16,41,20,22,15,9,5,18,17,54,51,24,19,34,42,18,27,5,21,8,32,43,23,51,24,21,25,18,23,24,22,24,10,19,22,21,26,12,22,53,8,24,50,6,24,36,18,14,17,10,20,11,13,6,13,48,18,26,40,23,16,9,26,7,18,25,9,16,17,20,5,51,9,23,16,25,17,9,19,17,29,28,15,21,8,14,50,16,11,9,9,16,7,19,38,7,61,23,18,22,11,6,41,28,17,21,18,15,11,28,13,7,23,14,46,40,23,23,25,34,7,16,7,11,41,23,46,14,16,50,16,5,9,39,12,19,9,19,3,7,21,54,23,18,6,20,37,17,57,12,26,4,26,6,19,5,15,28,61,24,54,18,17,21,48,13,17,18,38,24,20,28,26,24,13,28,17,41,26,18,19,50,54,50,8,12,7,11,20,15,13,18,11,31,50,43,37,23,30,51,13,20,3,16,13,5,10,18,12,26,44,41,20,23,11,16,19,23,21,54,21,10,11,19,26,15,13,19,19,17,32,20,27,49,40,24,41,39,24,20,14,21,12,16,26,18,19,59,15,22,18,18,19,9,15,52,33,18,16,12,43,29,19,20,53,43,17,7,21,15,20,9,19,23,41,26,24,26,23,20,15,21,16,60,12,13,11,17,23,22,45,14,19,6,24,26,22,52,19,35,15,25,33,18,18,24,8,25,11,16,15,43,8,21,13,13,17,22,6,18,15,24,46,20,14,41,19,27,4,40,17,7,21,8,49,52,8,24,14,14,26,19,16,18,5,28,6,46,25,18,37,19,52,16,24,12,24,48,46,50,41,49,9,21,22,20,7,15,9,26,56,10,23,57,24,12,19,51,18,52,22,20,22,21,42,1,5,28,8,47,11,48,31,20,34,40,20,31,18,6,8,26,21,26,19,15,25,10,23,10,18,13,26,25,14,15,55,27,15,12,50,17,15,19,23,6,9,8,20,18,20,35,17,8,27,26,11,8,27,26,29,16,51,9,29,13,9,21,22,26,40,41,27,18,21,8,9,49,11,20,56,12,51,45,44,20,9,47,5,13,24,32,22,24,11,24,35,4,27,20,13,7,23,16,27,21,42,49,13,22,25,15,8,44,44,13,40,13,29,21,24,29,31,16,50,10,15,25,18,56,22,13,27,11,13,7,44,12,5,41,4,20,22,37,18,9,52,49,22,55,46,27,10,46,54,28,51,13,44,21,51,27,50,21,13,19,9,19,19,16,49,24,52,15,40,21,35,19,10,14,31,11,47,27,54,47,17,30,10,55,14,13,32,11,16,12,50,36,28,9,29,12,11,12,27,21,20,26,12,22,25,29,25,45,18,21,27,25,49,7,52,42,21,9,17,52,11,15,53,53,24,51,8,24,4,46,27,22,20,23,25,31,48,42,32,27,36,16,15,5,28,13,19,27,14,16,42,27,21,37,16,12,13,25,8,38,45,17,15,46,46,5,23,15,22,6,12,27,14,8,12,31,49,14,43,4,24,18,19,10,38,51,17,48,28,15,16,7,22,17,11,15,12,21,22,12,38,20,24,21,17,14,35,8,11,25,40,49,21,11,42,20,24,21,49,4,21,12,45,8,23,40,35,17,54,38,23,16,12,18,7,26,19,50,36,14,19,29,29,21,44,51,28,10,13,20,18,18,16,20,10,45,11,16,7,39,27,50,10,25,18,48,19,26,11,18,8,22,19,22,22,26,15,25,19,21,44,48,9,5,28,21,43,14,12,57,9,49,13,11,24,21,25,21,24,19,35,46,22,23,20,23,8,40,17,51,8,24,14,52,20,18,44,54,52,28,41,20,14,30,28,44,16,40,27,22,61,15,23,24,24,0,25,17,19,26,19,8,11,16,15,51,11,32,21,20,21,27,18,18,21,26,51,21,13,41,47,50,13,18,19,22,9,12,13,12,15,22,7,15,50,18,21,23,20,46,10,56,18,10,44,25,13,48,15,52,8,22,14,17,31,50,54,8,52,47,48,46,26,56,28,27,24,25,9,26,12,21,48,57,18,48,18,38,37,22,21,12,9,16,11,27,56,42,8,22,53,18,19,4,13,51,24,23,26,27,27,22,6,45,49,59,23,13,56,38,15,17,15,12,22,18,15,31,16,44,45,26,44,17,7,25,22,26,22,47,4,25,22,22,18,54,12,20,9,30,13,19,18,17,38,21,19,22,21,27,21,9,50,22,17,15,18,39,16,14,12,21,10,18,18,19,23,45,17,24,23,50,13,23,16,11,16,51,17,13,28,4,31,5,14,53,16,26,17,41,7,11,32,22,16,40,20,16,22,17,42,15,31,20,16,26,27,35,24,26,25,27,21,10,26,11,52,45,12,18,16,26,55,45,5,26,24,32,24,12,21,21,60,8,25,47,14,18,19,29,24,25,18,11,8,29,15,15,18,47,52,17,29,23,52,16,6,43,35,32,24,6,20,42,12,4,29,52,27,43,29,22,9,51,21,48,8,10,25,24,30,49,42,8,37,24,32,47,7,13,15,44,36,7,21,0,20,41,54,18,42,38,24,7,50,17,56,18,11,10,35,9,29,15,9,13,16,16,9,57,49,44,11,17,22,44,27,7,25,17,33,45,10,14,13,15,18,9,27,15,5,13,48,12,26,24,17,6,44,11,16,24,8,50,16,14,23,42,34,25,46,23,23,20,25,15,15,8,23,10,57,19,12,23,29,16,24,9,18,48,17,26,17,30,10,28,20,10,21,24,45,10,24,51,30,19,23,11,26,14,48,28,11,27,17,10,44,15,43,31,18,13,26,9,19,18,18,6,37,26,27,8,43,28,22,25,20,9,23,49,58,19,22,16,24,25,6,17,55,19,22,10,31,53,42,12,8,17,16,11,17,51,23,61,8,36,21,22,45,12,52,33,17,43,74,15,26,24,17,14,19,26,51,42,9,13,30,54,23,10,8,25,21,13,22,21,11,24,19,22,12,39,16,16,5,14,26,46,18,6,20,45,23,22,14,13,24,10,52,53,9,19,17,19,51,9,23,15,20,15,46,48,8,25,21,23,23,15,16,42,15,35,14,13,6,24,12,17,26,14,17,21,17,10,23,52,16,32,31,22,5,15,20,19,6,23,32,9,25,54,14,29,21,55,18,8,16,23,18,9,27,56,17,48,56,14,50,48,54,22,16,10,8,21,31,40,26,16,19,14,44,24,17,20,18,39,9,7,27,35,14,11,21,16,17,15,46,18,20,12,21,26,22,33,9,50,19,15,55,29,0,43,7,8,25,21,30,58,7,48,49,50,10,46,21,26,37,28,7,25,13,10,15,20,25,54,54,30,52,11,15,9,54,7,50,16,48,16,43,7,24,11,27,6,59,11,41,25,58,13,17,38,48,19,9,42,14,10,7,18,55,5,46,11,25,11,36,20,19,6,47,16,31,6,13,50,50,9,26,4,38,15,12,13,18,17,21,13,19,45,22,32,39,20,25,28,11,19,46,29,21,61,50,23,10,18,11,24,54,12,17,11,14,24,18,20,23,4,48,52,14,15,28,14,24,24,28,43,9,22,56,22,27,14,8,31,13,20,29,22,23,24,36,13,21,30,49,53,52,45,17,15,9,42,11,13,46,15,24,4,30,24,20,54,22,18,26,22,46,23,21,47,18,26,19,23,10,45,44,28,35,27,21,51,9,7,12,18,11,9,20,9,3,9,24,22,23,47,48,44,19,7,24,19,8,40,27,44,23,50,49,14,18,52,27,31,16,13,21,15,14,20,13,17,7,9,27,24,55,45,8,10,22,12,22,25,55,27,38,27,42,15,11,45,17,8,19,48,18,26,41,51,34,19,11,25,56,26,51,16,25,27,9,34,11,25,19,18,23,10,30,22,44,18,26,18,48,13,49,49,51,9,7,13,27,18,15,6,28,14,25,12,52,37,50,12,21,13,22,48,19,15,35,30,30,47,17,13,20,14,14,43,19,14,17,47,15,21,30,23,48,11,45,44,47,50,12,17,17,12,18,8,51,21,13,14,12,18,21,19,13,50,13,46,7,12,17,23,13,27,9,22,26,21,6,13,40,9,22,21,14,43,22,14,15,24,26,10,26,18,47,31,14,8,12,43,15,24,17,11,9,27,32,3,18,17,54,34,6,9,28,24,20,4,52,23,26,45,18,45,10,24,48,35,10,9,13,15,11,13,10,17,38,20,37,7,27,65,24,13,15,19,7,16,23,15,6,20,12,19,21,8,42,19,10,13,47,17,42,19,7,15,25,30,18,22,21,43,20,56,9,22,31,38,15,17,19,45,14,28,55,13,16,10,25,24,25,5,51,13,31,19,15,9,50,45,25,21,17,17,15,53,23,13,22,57,24,24,24,20,52,32,13,27,18,10,48,12,12,22,22,27,39,15,13,19,22,13,12,21,19,13,17,45,45,22,18,49,8,19,17,20,52,15,18,24,14,50,38,10,34,18,61,16,26,30,33,23,23,7,17,53,2,5,5,21,23,20,24,15,28,13,21,20,12,33,9,13,22,37,23,23,10,18,33,47,14,32,19,54,26,18,10,20,19,26,5,24,17,17,9,15,19,55,22,27,22,5,7,46,24,18,9,21,11,27,25,7,17,14,20,11,13,52,14,10,8,13,23,26,35,11,46,20,12,25,4,50,18,16,7,48,22,29,16,7,22,31,61,63,52,39,53,28,16,23,19,19,24,17,22,5,12,21,31,6,30,24,20,20,51,56,24,23,31,15,7,34,21,47,27,23,14,7,12,4,15,17,17,23,33,20,10,55,47,9,17,47,6,19,47,22,16,22,15,20,9,20,15,16,14,16,37,7,22,21,7,17,6,25,16,12,27,18,23,11,13,53,21,19,15,8,27,15,45,17,49,49,25,59,18,19,4,53,48,27,13,52,9,44,16,25,14,23,13,47,49,13,16,13,51,15,17,15,23,21,22,16,22,23,15,15,32,20,8,10,24,36,23,11,11,35,16,11,42,19,46,7,56,44,50,57,19,46,38,19,14,32,26,9,43,10,14,36,11,8,18,16,23,14,20,28,22,42,16,7,18,48,26,52,24,37,48,10,17,17,8,13,15,12,26,51,45,25,20,8,21,21,11,10,25,16,19,11,13,44,54,10,26,15,8,27,23,27,11,21,10,17,44,33,24,26,6,16,6,21,45,52,23,15,8,28,6,29,60,16,21,23,9,13,23,11,15,27,46,50,18,51,17,21,10,20,43,30,52,50,8,20,25,42,26,20,15,50,17,14,21,8,13,4,17,10,17,20,19,11,11,16,22,16,25,13,48,48,48,22,22,4,19,51,24,26,12,11,14,9,16,15,20,52,15,22,24,11,13,19,19,17,29,10,31,39,50,57,14,49,23,11,19,54,9,54,23,16,61,11,49,21,47,27,56,27,54,22,23,24,48,25,4,26,7,19,52,42,52,6,12,42,18,41,21,13,21,12,47,18,47,19,22,22,13,13,21,24,4,46,16,18,28,5,21,36,45,7,16,8,23,17,19,20,12,24,16,16,27,4,25,6,43,37,22,25,6,39,52,43,22,22,19,5,50,9,20,19,25,17,23,15,16,36,6,19,4,21,23,43,4,5,14,3,22,14,26,15,21,47,13,14,25,11,50,55,14,12,20,18,6,11,8,12,17,28,33,16,52,12,10,30,37,35,10,55,14,34,47,26,13,4,6,24,29,20,25,19,15,17,28,23,24,23,42,20,46,12,11,19,46,46,22,13,20,16,15,45,20,15,27,6,32,23,12,25,19,46,42,6,10,26,26,20,11,7,7,5,24,22,15,23,22,13,21,12,23,44,5,4,35,25,27,5,56,11,16,25,22,26,45,14,16,19,50,50,46,15,13,35,59,16,13,52,21,55,48,11,8,14,46,15,31,18,9,16,19,6,33,13,22,22,23,39,10,11,21,29,21,45,12,46,20,18,11,23,23,14,14,9,22,7,53,10,19,8,25,45,18,25,7,17,57,53,11,25,21,22,9,32,19,19,42,20,16,15,8,50,18,19,30,25,8,16,26,23,7,17,14,53,51,14,20,14,19,46,20,24,31,21,10,15,14,21,33,48,23,16,11,23,28,26,23,16,26,27,21,42,26,20,38,25,20,34,4,14,13,20,17,12,25,48,7,46,18,24,39,13,19,56,19,20,8,56,24,4,27,20,14,17,12,10,8,23,14,50,13,18,41,7,21,15,42,20,22,24,9,25,25,56,4,26,23,23,55,18,18,33,25,19,9,34,44,44,7,53,18,49,50,9,9,25,11,8,52,23,26,25,15,35,11,22,6,12,17,17,16,14,48,13,15,59,28,14,52,53,46,24,28,21,8,15,25,23,56,14,46,9,18,49,47,23,21,50,23,16,9,28,21,13,10,38,22,44,18,16,55,18,39,15,27,18,46,16,17,17,49,14,54,22,21,16,51,24,26,18,8,31,13,48,51,23,14,14,13,11,21,17,16,27,5,9,27,12,20,19,25,12,14,14,39,42,13,7,14,25,26,12,25,42,16,23,12,34,53,10,7,10,15,19,10,56,17,18,44,11,20,57,23,18,11,50,25,7,7,4,48,21,26,9,13,7,8,10,43,45,36,22,51,7,8,52,39,26,37,33,23,9,21,27,43,49,21,11,12,47,18,23,10,8,25,15,21,42,16,51,5,12,29,22,52,20,26,18,16,44,24,11,27,21,14,13,13,22,45,16,17,46,31,24,3,16,25,54,58,50,50,44,47,5,11,23,36,51,20,21,15,36,44,16,11,16,12,20,39,21,6,24,37,11,12,23,16,22,50,9,6,30,9,14,23,14,30,39,5,13,20,15,13,18,21,22,23,33,30,4,24,26,18,7,22,54,24,8,20,30,9,29,34,21,21,10,22,20,18,55,19,42,19,11,48,42,49,18,22,25,24,46,43,58,22,16,49,57,27,8,24,22,19,21,10,13,46,7,28,11,5,50,60,16,43,12,20,13,21,21,24,24,22,23,16,20,27,11,5,56,24,20,15,17,27,31,15,20,54,5,51,13,16,15,14,19,14,51,24,58,46,15,14,13,18,48,23,14,18,16,8,30,17,18,21,5,43,12,59,35,50,19,21,21,20,16,55,24,55,15,50,12,20,21,23,45,24,24,8,15,41,10,12,23,23,53,9,22,25,25,21,6,26,42,9,20,19,25,26,12,25,50,46,61,16,27,17,21,11,16,10,7,13,28,27,22,11,25,27,26,25,50,25,55,22,25,20,47,39,38,8,54,43,34,22,27,20,5,15,16,33,17,48,47,27,42,16,22,10,18,16,10,19,6,17,7,11,45,24,318,11,43,24,37,36,13,18,21,19,15,42,16,50,26,19,23,11,18,13,13,12,11,9,54,13,9,34,22,12,15,6,37,14,9,54,14,18,16,40,28,42,4,51,21,14,23,25,14,15,49,24,23,22,44,43,19,6,25,16,4,6,21,26,16,22,8,24,9,17,24,14,6,6,22,46,7,26,13,16,16,26,30,23,23,11,11,5,10,36,49,54,53,13,27,7,24,41,42,24,13,6,42,10,29,22,58,50,5,22,11,32,19,53,6,49,26,12,16,20,21,38,14,13,10,49,23,24,17,54,17,10,47,9,25,15,25,45,55,20,26,48,46,19,9,20,53,10,13,28,9,15,26,44,26,25,26,17,20,26,55,42,8,13,44,33,21,48,5,8,55,22,7,24,5,43,5,15,10,22,24,7,26,15,35,43,42,16,40,38,47,18,37,11,14,50,11,32,32,38,11,31,22,18,24,12,17,20,19,28,14,45,14,21,24,13,40,44,26,23,17,15,35,37,32,12,8,15,23,55,16,19,11,53,55,23,19,25,18,48,47,12,55,27,24,10,42,27,21,40,22,15,15,19,5,20,38,55,9,111,12,45,16,46,20,5,29,20,22,33,12,40,23,23,22,37,24,45,7,29,48,20,27,14,49,11,48,21,56,15,15,15,17,8,34,11,4,10,55,21,52,14,17,54,28,52,20,12,19,24,6,49,6,40,19,20,12,16,45,48,9,57,28,6,47,18,13,17,19,41,26,23,6,12,23,50,45,50,13,16,16,34,51,9,8,15,8,23,21,10,50,52,49,19,25,9,5,15,10,61,14,6,39,60,19,20,8,45,19,20,9,46,14,38,21,20,24,17,32,11,14,16,51,24,22,25,20,48,27,10,17,48,26,58,4,17,12,27,27,12,17,25,19,17,25,20,8,18,19,22,15,20,43,20,26,40,9,13,9,22,49,6,16,20,52,9,20,26,16,17,22,11,11,36,51,17,10,20,8,18,23,16,42,22,5,16,15,26,21,22,11,15,36,15,13,10,15,11,17,25,21,12,9,48,12,26,26,10,34,15,53,52,7,18,53,19,14,6,50,23,43,6,5,19,46,5,15,18,24,6,15,50,32,28,20,23,25,8,16,7,28,12,16,28,52,13,28,8,24,12,7,12,24,45,8,11,22,9,13,15,18,22,21,43,4,10,28,47,9,16,22,5,46,23,22,17,23,21,29,5,8,25,12,8,22,41,48,51,55,44,10,20,22,21,19,54,23,21,54,9,27,37,12,51,48,19,50,7,13,23,26,23,14,6,11,35,47,55,10,53,33,23,49,15,49,50,19,15,24,32,7,45,15,24,41,6,26,11,15,40,23,19,50,19,14,23,22,44,14,22,28,9,25,23,12,25,25,7,28,41,26,19,52,41,52,41,5,13,10,12,41,15,43,26,20,23,24,46,24,10,48,15,15,16,5,13,18,27,29,47,52,25,23,8,27,18,10,50,24,10,25,20,9,22,24,26,9,6,18,12,21,11,7,18,26,8,11,12,7,54,29,28,55,24,13,25,53,13,15,16,6,12,17,18,46,51,42,19,9,16,54,37,48,17,54,14,12,50,7,51,20,25,36,9,25,10,56,16,18,58,19,26,22,21,20,20,13,21,11,38,10,44,28,11,15,23,24,41,6,34,23,9,5,21,18,15,13,53,45,33,14,11,53,56,9,27,12,10,51,33,26,17,10,53,7,44,18,18,40,22,23,15,23,25,18,24,9,18,26,28,15,54,18,15,27,15,6,24,18,11,23,24,22,16,8,18,3,18,50,5,11,16,51,9,8,20,26,21,11,13,20,13,18,24,22,11,18,14,16,52,44,14,20,23,29,51,21,43,14,46,12,50,51,16,24,13,11,36,23,8,11,7,45,16,16,11,21,21,23,7,14,24,36,16,16,23,44,47,27,17,49,13,9,24,13,50,17,11,47,25,25,40,12,8,16,16,16,44,37,16,23,15,16,10,29,10,33,12,26,19,28,24,52,11,51,14,10,35,24,15,36,22,24,55,37,19,56,28,25,21,14,42,45,10,21,54,24,25,36,52,17,21,20,18,21,10,43,50,23,26,25,59,18,20,22,54,47,10,20,20,38,31,27,8,44,27,21,12,21,5,21,44,8,10,23,9,22,23,17,25,21,11,50,12,50,18,36,55,20,52,24,21,45,24,22,27,8,43,17,16,14,14,19,48,21,48,12,12,22,16,19,14,11,22,36,10,52,16,27,16,45,50,5,19,22,21,21,24,34,7,24,23,46,13,57,46,14,9,11,18,22,10,10,24,7,16,24,26,14,23,25,8,6,36,15,15,10,14,50,29,50,37,23,46,15,50,16,9,19,55,6,1,6,9,53,13,16,19,13,21,12,46,17,48,17,16,7,20,19,12,53,16,25,10,52,39,23,12,50,18,22,50,21,50,30,50,15,11,16,27,9,31,27,5,14,14,18,58,9,21,42,7,23,25,28,30,4,53,58,4,51,16,59,17,12,20,36,20,24,54,23,46,55,44,26,40,9,19,15,7,278,23,5,19,22,43,13,10,45,9,17,25,29,22,9,6,17,16,11,15,14,51,7,11,10,51,17,15,47,12,19,27,7,7,12,9,28,20,15,41,57,26,47,9,10,52,26,26,16,27,24,24,20,19,52,33,51,16,22,47,21,38,11,11,14,39,18,10,24,9,46,44,48,26,26,22,13,19,13,25,6,17,12,21,45,15,10,23,13,10,14,57,10,28,49,46,22,8,29,50,17,59,19,17,22,15,10,25,7,27,36,22,17,15,4,25,12,5,44,45,26,24,51,25,15,16,51,28,14,13,17,47,22,11,48,47,59,44,23,16,22,22,7,20,45,37,14,5,45,57,20,33,34,18,10,10,22,19,10,25,50,50,9,25,53,14,26,12,11,9,38,7,23,34,26,17,42,19,12,17,23,54,17,48,9,14,13,20,16,26,51,33,17,10,18,20,45,25,11,18,11,0,24,8,26,30,32,20,14,7,45,13,11,17,42,23,25,42,27,7,50,19,36,13,21,10,9,17,8,25,50,33,51,27,51,8,22,19,27,14,29,16,19,57,11,21,50,7,14,9,30,19,11,24,21,49,14,27,51,21,8,19,6,49,20,14,9,53,10,24,6,16,19,15,17,19,15,55,14,18,50,44,16,13,35,35,17,27,19,38,29,55,20,16,16,12,19,50,24,18,27,17,21,17,27,47,10,13,17,13,6,48,17,16,56,6,21,39,5,8,11,22,45,5,12,50,29,19,55,14,17,19,50,20,17,38,44,44,49,10,8,52,18,25,5,14,16,28,31,22,24,14,17,27,49,6,41,19,51,36,52,24,19,24,21,17,24,9,24,52,20,17,27,24,5,9,17,23,14,43,30,42,8,50,52,19,23,48,19,12,19,15,11,56,38,56,8,9,25,14,57,15,20,10,19,14,19,39,24,12,47,22,27,25,22,6,22,49,19,55,60,22,23,15,24,12,20,13,18,13,29,55,33,25,46,23,21,8,13,18,5,14,26,18,24,18,19,37,19,18,9,15,20,15,47,21,42,5,55,16,20,28,4,4,22,7,20,18,29,35,8,19,10,14,11,12,22,21,11,6,9,8,49,12,41,15,52,43,22,22,8,12,40,9,29,46,9,21,25,19,19,17,50,18,56,54,14,20,23,56,43,22,11,18,18,49,22,47,11,24,51,24,21,26,14,19,50,5,54,44,27,23,24,21,48,22,40,50,25,43,22,17,5,21,10,15,21,56,22,15,21,13,19,14,23,21,6,12,28,12,43,45,22,24,49,14,15,28,8,25,10,25,16,50,24,8,41,8,27,7,5,46,8,45,23,20,20,45,59,18,17,35,42,9,54,9,13,25,9,26,6,17,22,12,31,24,4,12,23,39,8,27,17,23,24,12,9,48,24,8,24,55,22,39,9,36,17,18,21,19,55,15,15,46,12,26,9,16,11,20,46,11,24,9,21,16,8,9,48,51,40,25,9,14,30,18,49,21,19,52,10,54,29,20,30,23,18,56,40,39,17,57,18,5,18,53,17,8,24,10,51,14,42,21,15,31,17,30,10,18,25,22,49,11,12,14,20,54,36,22,28,4,49,8,57,49,51,44,30,9,19,40,40,16,21,26,37,15,24,27,44,25,20,15,16,50,17,40,5,24,15,29,43,26,27,40,23,27,20,57,10,28,21,27,10,25,12,13,19,18,13,21,22,14,47,45,7,12,35,22,25,18,25,27,10,57,22,7,17,24,21,26,20,46,8,38,14,49,18,26,17,40,12,32,8,19,23,14,21,28,22,26,11,37,22,18,17,25,43,23,20,12,8,36,17,13,25,15,17,15,25,17,34,54,26,8,12,6,17,38,13,13,21,46,6,10,10,25,57,25,49,29,22,25,8,13,16,6,17,25,27,12,18,25,20,24,22,57,14,50,12,28,27,12,6,9,7,27,42,15,51,9,43,12,17,56,25,14,39,24,47,21,12,47,11,19,34,22,20,11,20,42,32,43,8,10,17,48,11,29,26,22,56,21,24,23,19,14,49,25,10,15,42,10,28,56,17,12,18,52,44,16,7,13,27,17,25,7,47,29,28,15,8,23,21,8,52,14,25,19,11,6,48,25,18,12,12,22,38,16,19,23,52,27,14,11,29,54,19,27,22,19,57,14,21,9,22,16,43,31,9,23,20,11,19,29,18,41,16,10,36,14,14,22,14,53,25,23,19,20,11,46,11,11,23,22,14,36,21,12,24,27,27,44,23,8,23,52,51,29,41,15,14,28,56,9,6,16,15,17,6,44,25,19,48,30,12,22,20,21,49,21,23,8,28,10,31,17,23,22,8,22,19,14,52,22,23,14,21,17,31,16,13,9,14,21,50,27,19,24,24,18,22,4,14,18,22,21,13,14,54,50,13,31,8,20,23,7,35,10,16,47,55,25,48,37,24,4,19,16,13,18,7,51,22,22,11,39,34,43,33,6,8,43,8,19,28,19,5,51,9,29,10,49,26,18,16,43,20,17,44,19,9,53,7,14,16,8,6,21,23,38,23,19,24,52,16,17,23,9,7,27,21,24,7,11,28,34,56,6,52,31,20,22,54,17,26,14,17,37,24,52,38,7,21,55,51,26,12,23,34,15,44,46,26,21,8,42,13,20,22,11,26,58,25,26,9,15,9,10,14,23,24,36,27,5,24,25,21,14,10,10,27,26,26,21,45,17,26,22,49,20,55,41,19,8,25,18,17,28,27,49,11,26,53,12,25,11,52,4,47,17,22,52,17,18,59,40,18,10,20,32,20,21,12,35,21,17,15,21,52,15,19,9,61,21,19,15,25,20,53,19,52,19,14,6,49,8,16,47,23,24,38,23,21,44,50,9,49,18,23,14,7,47,26,19,51,19,40,15,18,28,22,17,26,22,21,20,22,4,20,37,24,21,39,33,24,21,21,13,22,17,16,25,24,7,14,22,23,25,58,40,51,19,35,22,26,53,8,43,48,15,24,12,52,10,21,47,22,11,49,11,56,31,25,61,39,9,15,17,15,27,26,15,13,26,54,19,21,5,24,14,21,28,41,24,20,23,24,49,7,22,13,15,8,26,24,5,9,38,18,44,34,22,13,23,51,9,9,16,5,18,40,17,22,52,23,15,41,36,50,18,24,20,16,44,25,12,13,48,16,23,6,24,15,22,47,37,24,8,7,16,53,7,25,42,20,15,21,30,43,43,14,26,19,8,7,54,45,41,13,53,53,50,18,49,20,21,25,12,24,25,27,18,6,56,24,15,21,16,57,50,24,11,50,49,6,50,21,27,26,9,27,24,48,14,15,31,10,21,11,25,60,51,18,23,13,14,17,19,9,43,13,16,20,38,17,37,47,21,42,8,9,24,22,25,19,11,17,47,19,21,16,12,26,19,11,44,18,23,25,15,20,24,12,25,52,53,45,19,9,33,14,19,35,44,11,18,48,28,20,16,11,22,24,16,45,22,48,12,12,16,45,6,44,47,17,26,6,52,8,17,12,6,39,13,16,19,40,5,25,23,12,4,27,59,23,37,13,25,20,6,45,20,14,24,16,23,8,17,16,52,26,18,42,6,20,20,38,19,46,21,17,25,15,22,23,16,24,61,21,15,35,27,18,20,41,26,37,51,30,22,19,50,45,22,47,21,12,19,21,15,58,15,22,29,51,9,46,24,41,20,15,7,54,21,52,8,50,14,28,15,23,20,23,43,33,26,53,16,29,12,22,22,55,5,13,18,18,50,17,12,21,21,9,14,16,19,19,8,27,8,6,11,9,11,20,21,13,46,21,14,24,10,14,16,8,48,15,45,7,49,21,11,10,36,42,11,28,13,4,22,25,26,3,27,48,14,15,55,12,29,10,11,8,19,23,25,23,21,16,12,12,19,27,29,18,24,16,50,52,15,23,54,28,31,24,38,21,21,18,14,18,45,29,43,20,14,17,21,30,13,34,47,16,23,45,4,22,7,24,53,20,12,20,9,27,21,18,23,10,41,14,22,48,20,4,39,49,12,15,6,7,19,4,25,6,52,21,20,20,12,13,9,22,46,4,46,16,24,40,6,21,38,18,16,24,13,23,21,13,33,14,8,11,13,28,1,27,30,9,18,20,24,14,26,29,23,14,50,15,14,20,15,8,40,26,22,14,22,46,26,55,14,9,45,48,17,21,8,32,48,34,11,49,24,16,7,48,33,23,10,21,46,16,56,15,22,25,17,9,23,202,57,36,17,10,55,51,37,13,22,10,25,8,6,12,17,18,47,11,46,36,12,25,8,22,19,19,17,14,23,17,17,21,47,22,50,18,13,50,54,26,17,21,23,9,9,14,23,43,12,24,49,31,24,17,41,16,54,23,7,22,14,20,48,25,25,16,52,17,21,23,11,43,6,48,12,10,45,7,16,22,18,24,49,12,15,20,20,27,48,18,45,10,40,46,44,12,47,10,48,10,9,50,31,6,19,11,11,11,53,22,16,14,20,13,20,6,19,15,12,15,47,41,12,16,8,53,21,16,42,41,28,9,13,17,19,27,8,23,53,50,23,16,52,15,45,26,47,48,34,9,17,15,50,19,21,28,22,57,43,17,25,24,26,32,57,16,46,4,47,10,58,8,14,20,15,7,21,43,25,25,16,42,27,9,21,22,49,45,25,55,23,25,12,27,18,20,15,50,5,5,21,42,33,60,4,13,24,23,51,4,26,47,23,12,22,23,5,23,8,26,19,5,56,19,13,14,7,52,45,14,24,8,8,20,31,9,45,21,24,17,51,27,16,8,6,21,44,54,28,15,29,28,9,21,19,22,7,13,16,28,40,20,41,14,28,24,19,21,20,26,24,54,3,16,18,21,8,30,45,17,9,26,11,45,12,19,54,25,18,25,26,8,56,8,57,17,33,43,17,19,9,40,22,42,50,42,4,10,19,38,38,39,52,24,55,48,22,18,16,16,46,22,32,33,17,19,7,22,13,47,20,10,17,26,41,47,19,21,9,7,42,41,24,6,8,20,49,23,19,26,23,19,31,26,36,11,15,25,25,30,40,53,22,10,46,7,47,21,18,8,23,16,22,18,11,17,23,29,10,23,32,7,3,21,15,58,38,11,27,16,12,50,5,19,21,15,12,12,23,15,33,36,16,27,53,13,19,51,47,24,39,12,48,10,16,25,19,35,14,49,44,9,19,24,46,11,11,18,26,18,50,16,10,22,23,13,32,6,17,19,22,11,11,7,17,15,12,53,49,24,6,17,20,15,50,18,27,18,6,12,35,8,23,7,31,13,39,33,14,17,19,17,48,8,32,9,23,23,27,18,6,42,10,42,38,38,13,20,40,52,30,10,26,20,23,32,18,7,26,18,23,16,21,14,24,22,35,19,18,19,18,17,33,11,6,21,47,12,8,34,8,24,18,10,11,36,52,7,8,17,26,17,9,46,25,61,27,13,36,14,10,35,20,18,9,25,55,20,7,22,11,16,26,12,47,19,16,21,23,24,53,16,13,13,23,12,22,15,16,53,47,45,9,17,6,17,17,21,33,19,16,49,25,6,31,30,8,23,11,14,13,48,19,32,52,55,15,12,24,31,17,31,18,17,16,8,20,11,51,6,9,24,7,16,43,15,7,19,32,26,24,32,16,11,16,18,17,14,20,10,18,46,19,27,21,21,6,8,10,13,20,50,28,51,42,17,49,20,14,42,45,21,14,13],\"xaxis\":\"x\",\"yaxis\":\"y\",\"type\":\"histogram\"}],                        {\"template\":{\"data\":{\"bar\":[{\"error_x\":{\"color\":\"#2a3f5f\"},\"error_y\":{\"color\":\"#2a3f5f\"},\"marker\":{\"line\":{\"color\":\"#E5ECF6\",\"width\":0.5},\"pattern\":{\"fillmode\":\"overlay\",\"size\":10,\"solidity\":0.2}},\"type\":\"bar\"}],\"barpolar\":[{\"marker\":{\"line\":{\"color\":\"#E5ECF6\",\"width\":0.5},\"pattern\":{\"fillmode\":\"overlay\",\"size\":10,\"solidity\":0.2}},\"type\":\"barpolar\"}],\"carpet\":[{\"aaxis\":{\"endlinecolor\":\"#2a3f5f\",\"gridcolor\":\"white\",\"linecolor\":\"white\",\"minorgridcolor\":\"white\",\"startlinecolor\":\"#2a3f5f\"},\"baxis\":{\"endlinecolor\":\"#2a3f5f\",\"gridcolor\":\"white\",\"linecolor\":\"white\",\"minorgridcolor\":\"white\",\"startlinecolor\":\"#2a3f5f\"},\"type\":\"carpet\"}],\"choropleth\":[{\"colorbar\":{\"outlinewidth\":0,\"ticks\":\"\"},\"type\":\"choropleth\"}],\"contour\":[{\"colorbar\":{\"outlinewidth\":0,\"ticks\":\"\"},\"colorscale\":[[0.0,\"#0d0887\"],[0.1111111111111111,\"#46039f\"],[0.2222222222222222,\"#7201a8\"],[0.3333333333333333,\"#9c179e\"],[0.4444444444444444,\"#bd3786\"],[0.5555555555555556,\"#d8576b\"],[0.6666666666666666,\"#ed7953\"],[0.7777777777777778,\"#fb9f3a\"],[0.8888888888888888,\"#fdca26\"],[1.0,\"#f0f921\"]],\"type\":\"contour\"}],\"contourcarpet\":[{\"colorbar\":{\"outlinewidth\":0,\"ticks\":\"\"},\"type\":\"contourcarpet\"}],\"heatmap\":[{\"colorbar\":{\"outlinewidth\":0,\"ticks\":\"\"},\"colorscale\":[[0.0,\"#0d0887\"],[0.1111111111111111,\"#46039f\"],[0.2222222222222222,\"#7201a8\"],[0.3333333333333333,\"#9c179e\"],[0.4444444444444444,\"#bd3786\"],[0.5555555555555556,\"#d8576b\"],[0.6666666666666666,\"#ed7953\"],[0.7777777777777778,\"#fb9f3a\"],[0.8888888888888888,\"#fdca26\"],[1.0,\"#f0f921\"]],\"type\":\"heatmap\"}],\"heatmapgl\":[{\"colorbar\":{\"outlinewidth\":0,\"ticks\":\"\"},\"colorscale\":[[0.0,\"#0d0887\"],[0.1111111111111111,\"#46039f\"],[0.2222222222222222,\"#7201a8\"],[0.3333333333333333,\"#9c179e\"],[0.4444444444444444,\"#bd3786\"],[0.5555555555555556,\"#d8576b\"],[0.6666666666666666,\"#ed7953\"],[0.7777777777777778,\"#fb9f3a\"],[0.8888888888888888,\"#fdca26\"],[1.0,\"#f0f921\"]],\"type\":\"heatmapgl\"}],\"histogram\":[{\"marker\":{\"pattern\":{\"fillmode\":\"overlay\",\"size\":10,\"solidity\":0.2}},\"type\":\"histogram\"}],\"histogram2d\":[{\"colorbar\":{\"outlinewidth\":0,\"ticks\":\"\"},\"colorscale\":[[0.0,\"#0d0887\"],[0.1111111111111111,\"#46039f\"],[0.2222222222222222,\"#7201a8\"],[0.3333333333333333,\"#9c179e\"],[0.4444444444444444,\"#bd3786\"],[0.5555555555555556,\"#d8576b\"],[0.6666666666666666,\"#ed7953\"],[0.7777777777777778,\"#fb9f3a\"],[0.8888888888888888,\"#fdca26\"],[1.0,\"#f0f921\"]],\"type\":\"histogram2d\"}],\"histogram2dcontour\":[{\"colorbar\":{\"outlinewidth\":0,\"ticks\":\"\"},\"colorscale\":[[0.0,\"#0d0887\"],[0.1111111111111111,\"#46039f\"],[0.2222222222222222,\"#7201a8\"],[0.3333333333333333,\"#9c179e\"],[0.4444444444444444,\"#bd3786\"],[0.5555555555555556,\"#d8576b\"],[0.6666666666666666,\"#ed7953\"],[0.7777777777777778,\"#fb9f3a\"],[0.8888888888888888,\"#fdca26\"],[1.0,\"#f0f921\"]],\"type\":\"histogram2dcontour\"}],\"mesh3d\":[{\"colorbar\":{\"outlinewidth\":0,\"ticks\":\"\"},\"type\":\"mesh3d\"}],\"parcoords\":[{\"line\":{\"colorbar\":{\"outlinewidth\":0,\"ticks\":\"\"}},\"type\":\"parcoords\"}],\"pie\":[{\"automargin\":true,\"type\":\"pie\"}],\"scatter\":[{\"marker\":{\"colorbar\":{\"outlinewidth\":0,\"ticks\":\"\"}},\"type\":\"scatter\"}],\"scatter3d\":[{\"line\":{\"colorbar\":{\"outlinewidth\":0,\"ticks\":\"\"}},\"marker\":{\"colorbar\":{\"outlinewidth\":0,\"ticks\":\"\"}},\"type\":\"scatter3d\"}],\"scattercarpet\":[{\"marker\":{\"colorbar\":{\"outlinewidth\":0,\"ticks\":\"\"}},\"type\":\"scattercarpet\"}],\"scattergeo\":[{\"marker\":{\"colorbar\":{\"outlinewidth\":0,\"ticks\":\"\"}},\"type\":\"scattergeo\"}],\"scattergl\":[{\"marker\":{\"colorbar\":{\"outlinewidth\":0,\"ticks\":\"\"}},\"type\":\"scattergl\"}],\"scattermapbox\":[{\"marker\":{\"colorbar\":{\"outlinewidth\":0,\"ticks\":\"\"}},\"type\":\"scattermapbox\"}],\"scatterpolar\":[{\"marker\":{\"colorbar\":{\"outlinewidth\":0,\"ticks\":\"\"}},\"type\":\"scatterpolar\"}],\"scatterpolargl\":[{\"marker\":{\"colorbar\":{\"outlinewidth\":0,\"ticks\":\"\"}},\"type\":\"scatterpolargl\"}],\"scatterternary\":[{\"marker\":{\"colorbar\":{\"outlinewidth\":0,\"ticks\":\"\"}},\"type\":\"scatterternary\"}],\"surface\":[{\"colorbar\":{\"outlinewidth\":0,\"ticks\":\"\"},\"colorscale\":[[0.0,\"#0d0887\"],[0.1111111111111111,\"#46039f\"],[0.2222222222222222,\"#7201a8\"],[0.3333333333333333,\"#9c179e\"],[0.4444444444444444,\"#bd3786\"],[0.5555555555555556,\"#d8576b\"],[0.6666666666666666,\"#ed7953\"],[0.7777777777777778,\"#fb9f3a\"],[0.8888888888888888,\"#fdca26\"],[1.0,\"#f0f921\"]],\"type\":\"surface\"}],\"table\":[{\"cells\":{\"fill\":{\"color\":\"#EBF0F8\"},\"line\":{\"color\":\"white\"}},\"header\":{\"fill\":{\"color\":\"#C8D4E3\"},\"line\":{\"color\":\"white\"}},\"type\":\"table\"}]},\"layout\":{\"annotationdefaults\":{\"arrowcolor\":\"#2a3f5f\",\"arrowhead\":0,\"arrowwidth\":1},\"autotypenumbers\":\"strict\",\"coloraxis\":{\"colorbar\":{\"outlinewidth\":0,\"ticks\":\"\"}},\"colorscale\":{\"diverging\":[[0,\"#8e0152\"],[0.1,\"#c51b7d\"],[0.2,\"#de77ae\"],[0.3,\"#f1b6da\"],[0.4,\"#fde0ef\"],[0.5,\"#f7f7f7\"],[0.6,\"#e6f5d0\"],[0.7,\"#b8e186\"],[0.8,\"#7fbc41\"],[0.9,\"#4d9221\"],[1,\"#276419\"]],\"sequential\":[[0.0,\"#0d0887\"],[0.1111111111111111,\"#46039f\"],[0.2222222222222222,\"#7201a8\"],[0.3333333333333333,\"#9c179e\"],[0.4444444444444444,\"#bd3786\"],[0.5555555555555556,\"#d8576b\"],[0.6666666666666666,\"#ed7953\"],[0.7777777777777778,\"#fb9f3a\"],[0.8888888888888888,\"#fdca26\"],[1.0,\"#f0f921\"]],\"sequentialminus\":[[0.0,\"#0d0887\"],[0.1111111111111111,\"#46039f\"],[0.2222222222222222,\"#7201a8\"],[0.3333333333333333,\"#9c179e\"],[0.4444444444444444,\"#bd3786\"],[0.5555555555555556,\"#d8576b\"],[0.6666666666666666,\"#ed7953\"],[0.7777777777777778,\"#fb9f3a\"],[0.8888888888888888,\"#fdca26\"],[1.0,\"#f0f921\"]]},\"colorway\":[\"#636efa\",\"#EF553B\",\"#00cc96\",\"#ab63fa\",\"#FFA15A\",\"#19d3f3\",\"#FF6692\",\"#B6E880\",\"#FF97FF\",\"#FECB52\"],\"font\":{\"color\":\"#2a3f5f\"},\"geo\":{\"bgcolor\":\"white\",\"lakecolor\":\"white\",\"landcolor\":\"#E5ECF6\",\"showlakes\":true,\"showland\":true,\"subunitcolor\":\"white\"},\"hoverlabel\":{\"align\":\"left\"},\"hovermode\":\"closest\",\"mapbox\":{\"style\":\"light\"},\"paper_bgcolor\":\"white\",\"plot_bgcolor\":\"#E5ECF6\",\"polar\":{\"angularaxis\":{\"gridcolor\":\"white\",\"linecolor\":\"white\",\"ticks\":\"\"},\"bgcolor\":\"#E5ECF6\",\"radialaxis\":{\"gridcolor\":\"white\",\"linecolor\":\"white\",\"ticks\":\"\"}},\"scene\":{\"xaxis\":{\"backgroundcolor\":\"#E5ECF6\",\"gridcolor\":\"white\",\"gridwidth\":2,\"linecolor\":\"white\",\"showbackground\":true,\"ticks\":\"\",\"zerolinecolor\":\"white\"},\"yaxis\":{\"backgroundcolor\":\"#E5ECF6\",\"gridcolor\":\"white\",\"gridwidth\":2,\"linecolor\":\"white\",\"showbackground\":true,\"ticks\":\"\",\"zerolinecolor\":\"white\"},\"zaxis\":{\"backgroundcolor\":\"#E5ECF6\",\"gridcolor\":\"white\",\"gridwidth\":2,\"linecolor\":\"white\",\"showbackground\":true,\"ticks\":\"\",\"zerolinecolor\":\"white\"}},\"shapedefaults\":{\"line\":{\"color\":\"#2a3f5f\"}},\"ternary\":{\"aaxis\":{\"gridcolor\":\"white\",\"linecolor\":\"white\",\"ticks\":\"\"},\"baxis\":{\"gridcolor\":\"white\",\"linecolor\":\"white\",\"ticks\":\"\"},\"bgcolor\":\"#E5ECF6\",\"caxis\":{\"gridcolor\":\"white\",\"linecolor\":\"white\",\"ticks\":\"\"}},\"title\":{\"x\":0.05},\"xaxis\":{\"automargin\":true,\"gridcolor\":\"white\",\"linecolor\":\"white\",\"ticks\":\"\",\"title\":{\"standoff\":15},\"zerolinecolor\":\"white\",\"zerolinewidth\":2},\"yaxis\":{\"automargin\":true,\"gridcolor\":\"white\",\"linecolor\":\"white\",\"ticks\":\"\",\"title\":{\"standoff\":15},\"zerolinecolor\":\"white\",\"zerolinewidth\":2}}},\"xaxis\":{\"anchor\":\"y\",\"domain\":[0.0,1.0],\"title\":{\"text\":\"tweet_length\"}},\"yaxis\":{\"anchor\":\"x\",\"domain\":[0.0,1.0],\"title\":{\"text\":\"count\"}},\"legend\":{\"title\":{\"text\":\"color\"},\"tracegroupgap\":0},\"title\":{\"text\":\"Twitters Length Distribution Plot\"},\"barmode\":\"relative\"},                        {\"responsive\": true}                    ).then(function(){\n",
              "                            \n",
              "var gd = document.getElementById('ae071f78-b88a-47f3-a999-f433d275b859');\n",
              "var x = new MutationObserver(function (mutations, observer) {{\n",
              "        var display = window.getComputedStyle(gd).display;\n",
              "        if (!display || display === 'none') {{\n",
              "            console.log([gd, 'removed!']);\n",
              "            Plotly.purge(gd);\n",
              "            observer.disconnect();\n",
              "        }}\n",
              "}});\n",
              "\n",
              "// Listen for the removal of the full notebook cells\n",
              "var notebookContainer = gd.closest('#notebook-container');\n",
              "if (notebookContainer) {{\n",
              "    x.observe(notebookContainer, {childList: true});\n",
              "}}\n",
              "\n",
              "// Listen for the clearing of the current output cell\n",
              "var outputEl = gd.closest('.output');\n",
              "if (outputEl) {{\n",
              "    x.observe(outputEl, {childList: true});\n",
              "}}\n",
              "\n",
              "                        })                };                            </script>        </div>\n",
              "</body>\n",
              "</html>"
            ]
          },
          "metadata": {}
        }
      ]
    },
    {
      "cell_type": "code",
      "source": [
        "# Select nonempty instances with length > 60\n",
        "df.drop(df[(df.tweet_length > 60) | (df.tweet_length == 0)].index, inplace=True)\n",
        "df.drop(\"tweet_length\", axis=1, inplace=True)\n",
        "df"
      ],
      "metadata": {
        "id": "xdnQNQI3XX9q",
        "colab": {
          "base_uri": "https://localhost:8080/",
          "height": 424
        },
        "outputId": "ecd734fa-b879-4a08-c350-3ff2e319cfbf"
      },
      "execution_count": null,
      "outputs": [
        {
          "output_type": "execute_result",
          "data": {
            "text/plain": [
              "                                              tweet_text cyberbullying_type\n",
              "0      [in, other, words, your, food, was, crapilicious]  not_cyberbullying\n",
              "1                                   [why, is, so, white]  not_cyberbullying\n",
              "2      [a, classy, whore, or, more, red, velvet, cupc...  not_cyberbullying\n",
              "3      [meh, p, thanks, for, the, heads, up, but, not...  not_cyberbullying\n",
              "4      [this, is, an, isis, account, pretending, to, ...  not_cyberbullying\n",
              "...                                                  ...                ...\n",
              "47687  [black, ppl, arent, expected, to, do, anything...          ethnicity\n",
              "47688  [turner, did, not, withhold, his, disappointme...          ethnicity\n",
              "47689  [i, swear, to, god, this, dumb, nigger, bitch,...          ethnicity\n",
              "47690  [yea, fuck, you, rt, if, youre, a, nigger, fuc...          ethnicity\n",
              "47691  [bro, u, gotta, chill, rt, dog, fuck, kp, that...          ethnicity\n",
              "\n",
              "[39616 rows x 2 columns]"
            ],
            "text/html": [
              "\n",
              "  <div id=\"df-0b78e83b-07ad-4ce4-85ab-91fc81f0aab7\">\n",
              "    <div class=\"colab-df-container\">\n",
              "      <div>\n",
              "<style scoped>\n",
              "    .dataframe tbody tr th:only-of-type {\n",
              "        vertical-align: middle;\n",
              "    }\n",
              "\n",
              "    .dataframe tbody tr th {\n",
              "        vertical-align: top;\n",
              "    }\n",
              "\n",
              "    .dataframe thead th {\n",
              "        text-align: right;\n",
              "    }\n",
              "</style>\n",
              "<table border=\"1\" class=\"dataframe\">\n",
              "  <thead>\n",
              "    <tr style=\"text-align: right;\">\n",
              "      <th></th>\n",
              "      <th>tweet_text</th>\n",
              "      <th>cyberbullying_type</th>\n",
              "    </tr>\n",
              "  </thead>\n",
              "  <tbody>\n",
              "    <tr>\n",
              "      <th>0</th>\n",
              "      <td>[in, other, words, your, food, was, crapilicious]</td>\n",
              "      <td>not_cyberbullying</td>\n",
              "    </tr>\n",
              "    <tr>\n",
              "      <th>1</th>\n",
              "      <td>[why, is, so, white]</td>\n",
              "      <td>not_cyberbullying</td>\n",
              "    </tr>\n",
              "    <tr>\n",
              "      <th>2</th>\n",
              "      <td>[a, classy, whore, or, more, red, velvet, cupc...</td>\n",
              "      <td>not_cyberbullying</td>\n",
              "    </tr>\n",
              "    <tr>\n",
              "      <th>3</th>\n",
              "      <td>[meh, p, thanks, for, the, heads, up, but, not...</td>\n",
              "      <td>not_cyberbullying</td>\n",
              "    </tr>\n",
              "    <tr>\n",
              "      <th>4</th>\n",
              "      <td>[this, is, an, isis, account, pretending, to, ...</td>\n",
              "      <td>not_cyberbullying</td>\n",
              "    </tr>\n",
              "    <tr>\n",
              "      <th>...</th>\n",
              "      <td>...</td>\n",
              "      <td>...</td>\n",
              "    </tr>\n",
              "    <tr>\n",
              "      <th>47687</th>\n",
              "      <td>[black, ppl, arent, expected, to, do, anything...</td>\n",
              "      <td>ethnicity</td>\n",
              "    </tr>\n",
              "    <tr>\n",
              "      <th>47688</th>\n",
              "      <td>[turner, did, not, withhold, his, disappointme...</td>\n",
              "      <td>ethnicity</td>\n",
              "    </tr>\n",
              "    <tr>\n",
              "      <th>47689</th>\n",
              "      <td>[i, swear, to, god, this, dumb, nigger, bitch,...</td>\n",
              "      <td>ethnicity</td>\n",
              "    </tr>\n",
              "    <tr>\n",
              "      <th>47690</th>\n",
              "      <td>[yea, fuck, you, rt, if, youre, a, nigger, fuc...</td>\n",
              "      <td>ethnicity</td>\n",
              "    </tr>\n",
              "    <tr>\n",
              "      <th>47691</th>\n",
              "      <td>[bro, u, gotta, chill, rt, dog, fuck, kp, that...</td>\n",
              "      <td>ethnicity</td>\n",
              "    </tr>\n",
              "  </tbody>\n",
              "</table>\n",
              "<p>39616 rows × 2 columns</p>\n",
              "</div>\n",
              "      <button class=\"colab-df-convert\" onclick=\"convertToInteractive('df-0b78e83b-07ad-4ce4-85ab-91fc81f0aab7')\"\n",
              "              title=\"Convert this dataframe to an interactive table.\"\n",
              "              style=\"display:none;\">\n",
              "        \n",
              "  <svg xmlns=\"http://www.w3.org/2000/svg\" height=\"24px\"viewBox=\"0 0 24 24\"\n",
              "       width=\"24px\">\n",
              "    <path d=\"M0 0h24v24H0V0z\" fill=\"none\"/>\n",
              "    <path d=\"M18.56 5.44l.94 2.06.94-2.06 2.06-.94-2.06-.94-.94-2.06-.94 2.06-2.06.94zm-11 1L8.5 8.5l.94-2.06 2.06-.94-2.06-.94L8.5 2.5l-.94 2.06-2.06.94zm10 10l.94 2.06.94-2.06 2.06-.94-2.06-.94-.94-2.06-.94 2.06-2.06.94z\"/><path d=\"M17.41 7.96l-1.37-1.37c-.4-.4-.92-.59-1.43-.59-.52 0-1.04.2-1.43.59L10.3 9.45l-7.72 7.72c-.78.78-.78 2.05 0 2.83L4 21.41c.39.39.9.59 1.41.59.51 0 1.02-.2 1.41-.59l7.78-7.78 2.81-2.81c.8-.78.8-2.07 0-2.86zM5.41 20L4 18.59l7.72-7.72 1.47 1.35L5.41 20z\"/>\n",
              "  </svg>\n",
              "      </button>\n",
              "      \n",
              "  <style>\n",
              "    .colab-df-container {\n",
              "      display:flex;\n",
              "      flex-wrap:wrap;\n",
              "      gap: 12px;\n",
              "    }\n",
              "\n",
              "    .colab-df-convert {\n",
              "      background-color: #E8F0FE;\n",
              "      border: none;\n",
              "      border-radius: 50%;\n",
              "      cursor: pointer;\n",
              "      display: none;\n",
              "      fill: #1967D2;\n",
              "      height: 32px;\n",
              "      padding: 0 0 0 0;\n",
              "      width: 32px;\n",
              "    }\n",
              "\n",
              "    .colab-df-convert:hover {\n",
              "      background-color: #E2EBFA;\n",
              "      box-shadow: 0px 1px 2px rgba(60, 64, 67, 0.3), 0px 1px 3px 1px rgba(60, 64, 67, 0.15);\n",
              "      fill: #174EA6;\n",
              "    }\n",
              "\n",
              "    [theme=dark] .colab-df-convert {\n",
              "      background-color: #3B4455;\n",
              "      fill: #D2E3FC;\n",
              "    }\n",
              "\n",
              "    [theme=dark] .colab-df-convert:hover {\n",
              "      background-color: #434B5C;\n",
              "      box-shadow: 0px 1px 3px 1px rgba(0, 0, 0, 0.15);\n",
              "      filter: drop-shadow(0px 1px 2px rgba(0, 0, 0, 0.3));\n",
              "      fill: #FFFFFF;\n",
              "    }\n",
              "  </style>\n",
              "\n",
              "      <script>\n",
              "        const buttonEl =\n",
              "          document.querySelector('#df-0b78e83b-07ad-4ce4-85ab-91fc81f0aab7 button.colab-df-convert');\n",
              "        buttonEl.style.display =\n",
              "          google.colab.kernel.accessAllowed ? 'block' : 'none';\n",
              "\n",
              "        async function convertToInteractive(key) {\n",
              "          const element = document.querySelector('#df-0b78e83b-07ad-4ce4-85ab-91fc81f0aab7');\n",
              "          const dataTable =\n",
              "            await google.colab.kernel.invokeFunction('convertToInteractive',\n",
              "                                                     [key], {});\n",
              "          if (!dataTable) return;\n",
              "\n",
              "          const docLinkHtml = 'Like what you see? Visit the ' +\n",
              "            '<a target=\"_blank\" href=https://colab.research.google.com/notebooks/data_table.ipynb>data table notebook</a>'\n",
              "            + ' to learn more about interactive tables.';\n",
              "          element.innerHTML = '';\n",
              "          dataTable['output_type'] = 'display_data';\n",
              "          await google.colab.output.renderOutput(dataTable, element);\n",
              "          const docLink = document.createElement('div');\n",
              "          docLink.innerHTML = docLinkHtml;\n",
              "          element.appendChild(docLink);\n",
              "        }\n",
              "      </script>\n",
              "    </div>\n",
              "  </div>\n",
              "  "
            ]
          },
          "metadata": {},
          "execution_count": 23
        }
      ]
    },
    {
      "cell_type": "code",
      "source": [
        "# find the length of the longest tweet\n",
        "MAX_LENGTH = df['tweet_text'].apply(len).max()\n",
        "MAX_LENGTH"
      ],
      "metadata": {
        "colab": {
          "base_uri": "https://localhost:8080/"
        },
        "id": "RKeYrhMJpUh5",
        "outputId": "9a694963-b01c-4cf6-9180-5f7473d01d27"
      },
      "execution_count": null,
      "outputs": [
        {
          "output_type": "execute_result",
          "data": {
            "text/plain": [
              "60"
            ]
          },
          "metadata": {},
          "execution_count": 24
        }
      ]
    },
    {
      "cell_type": "code",
      "source": [
        "intent2label = {\n",
        "    intent: label\n",
        "    for label, intent in enumerate(df['cyberbullying_type'].unique())\n",
        "}\n",
        "\n",
        "df['label'] = df['cyberbullying_type'].apply(lambda x: intent2label[x])"
      ],
      "metadata": {
        "id": "KT9adJUX5R3x"
      },
      "execution_count": null,
      "outputs": []
    },
    {
      "cell_type": "code",
      "source": [
        "intent2label"
      ],
      "metadata": {
        "colab": {
          "base_uri": "https://localhost:8080/"
        },
        "id": "fvuX4lt771Mt",
        "outputId": "fac1dd2a-1e23-44c5-ca83-7dc70beadbf9"
      },
      "execution_count": null,
      "outputs": [
        {
          "output_type": "execute_result",
          "data": {
            "text/plain": [
              "{'age': 3, 'ethnicity': 4, 'gender': 1, 'not_cyberbullying': 0, 'religion': 2}"
            ]
          },
          "metadata": {},
          "execution_count": 26
        }
      ]
    },
    {
      "cell_type": "code",
      "source": [
        "df"
      ],
      "metadata": {
        "colab": {
          "base_uri": "https://localhost:8080/",
          "height": 424
        },
        "id": "S1FTUqaQ5mEg",
        "outputId": "cc96ec33-0411-4ac0-d0b6-702e15e47059"
      },
      "execution_count": null,
      "outputs": [
        {
          "output_type": "execute_result",
          "data": {
            "text/plain": [
              "                                              tweet_text cyberbullying_type  \\\n",
              "0      [in, other, words, your, food, was, crapilicious]  not_cyberbullying   \n",
              "1                                   [why, is, so, white]  not_cyberbullying   \n",
              "2      [a, classy, whore, or, more, red, velvet, cupc...  not_cyberbullying   \n",
              "3      [meh, p, thanks, for, the, heads, up, but, not...  not_cyberbullying   \n",
              "4      [this, is, an, isis, account, pretending, to, ...  not_cyberbullying   \n",
              "...                                                  ...                ...   \n",
              "47687  [black, ppl, arent, expected, to, do, anything...          ethnicity   \n",
              "47688  [turner, did, not, withhold, his, disappointme...          ethnicity   \n",
              "47689  [i, swear, to, god, this, dumb, nigger, bitch,...          ethnicity   \n",
              "47690  [yea, fuck, you, rt, if, youre, a, nigger, fuc...          ethnicity   \n",
              "47691  [bro, u, gotta, chill, rt, dog, fuck, kp, that...          ethnicity   \n",
              "\n",
              "       label  \n",
              "0          0  \n",
              "1          0  \n",
              "2          0  \n",
              "3          0  \n",
              "4          0  \n",
              "...      ...  \n",
              "47687      4  \n",
              "47688      4  \n",
              "47689      4  \n",
              "47690      4  \n",
              "47691      4  \n",
              "\n",
              "[39616 rows x 3 columns]"
            ],
            "text/html": [
              "\n",
              "  <div id=\"df-cf4e7e0c-cdaf-4ead-bf32-095224d6bb43\">\n",
              "    <div class=\"colab-df-container\">\n",
              "      <div>\n",
              "<style scoped>\n",
              "    .dataframe tbody tr th:only-of-type {\n",
              "        vertical-align: middle;\n",
              "    }\n",
              "\n",
              "    .dataframe tbody tr th {\n",
              "        vertical-align: top;\n",
              "    }\n",
              "\n",
              "    .dataframe thead th {\n",
              "        text-align: right;\n",
              "    }\n",
              "</style>\n",
              "<table border=\"1\" class=\"dataframe\">\n",
              "  <thead>\n",
              "    <tr style=\"text-align: right;\">\n",
              "      <th></th>\n",
              "      <th>tweet_text</th>\n",
              "      <th>cyberbullying_type</th>\n",
              "      <th>label</th>\n",
              "    </tr>\n",
              "  </thead>\n",
              "  <tbody>\n",
              "    <tr>\n",
              "      <th>0</th>\n",
              "      <td>[in, other, words, your, food, was, crapilicious]</td>\n",
              "      <td>not_cyberbullying</td>\n",
              "      <td>0</td>\n",
              "    </tr>\n",
              "    <tr>\n",
              "      <th>1</th>\n",
              "      <td>[why, is, so, white]</td>\n",
              "      <td>not_cyberbullying</td>\n",
              "      <td>0</td>\n",
              "    </tr>\n",
              "    <tr>\n",
              "      <th>2</th>\n",
              "      <td>[a, classy, whore, or, more, red, velvet, cupc...</td>\n",
              "      <td>not_cyberbullying</td>\n",
              "      <td>0</td>\n",
              "    </tr>\n",
              "    <tr>\n",
              "      <th>3</th>\n",
              "      <td>[meh, p, thanks, for, the, heads, up, but, not...</td>\n",
              "      <td>not_cyberbullying</td>\n",
              "      <td>0</td>\n",
              "    </tr>\n",
              "    <tr>\n",
              "      <th>4</th>\n",
              "      <td>[this, is, an, isis, account, pretending, to, ...</td>\n",
              "      <td>not_cyberbullying</td>\n",
              "      <td>0</td>\n",
              "    </tr>\n",
              "    <tr>\n",
              "      <th>...</th>\n",
              "      <td>...</td>\n",
              "      <td>...</td>\n",
              "      <td>...</td>\n",
              "    </tr>\n",
              "    <tr>\n",
              "      <th>47687</th>\n",
              "      <td>[black, ppl, arent, expected, to, do, anything...</td>\n",
              "      <td>ethnicity</td>\n",
              "      <td>4</td>\n",
              "    </tr>\n",
              "    <tr>\n",
              "      <th>47688</th>\n",
              "      <td>[turner, did, not, withhold, his, disappointme...</td>\n",
              "      <td>ethnicity</td>\n",
              "      <td>4</td>\n",
              "    </tr>\n",
              "    <tr>\n",
              "      <th>47689</th>\n",
              "      <td>[i, swear, to, god, this, dumb, nigger, bitch,...</td>\n",
              "      <td>ethnicity</td>\n",
              "      <td>4</td>\n",
              "    </tr>\n",
              "    <tr>\n",
              "      <th>47690</th>\n",
              "      <td>[yea, fuck, you, rt, if, youre, a, nigger, fuc...</td>\n",
              "      <td>ethnicity</td>\n",
              "      <td>4</td>\n",
              "    </tr>\n",
              "    <tr>\n",
              "      <th>47691</th>\n",
              "      <td>[bro, u, gotta, chill, rt, dog, fuck, kp, that...</td>\n",
              "      <td>ethnicity</td>\n",
              "      <td>4</td>\n",
              "    </tr>\n",
              "  </tbody>\n",
              "</table>\n",
              "<p>39616 rows × 3 columns</p>\n",
              "</div>\n",
              "      <button class=\"colab-df-convert\" onclick=\"convertToInteractive('df-cf4e7e0c-cdaf-4ead-bf32-095224d6bb43')\"\n",
              "              title=\"Convert this dataframe to an interactive table.\"\n",
              "              style=\"display:none;\">\n",
              "        \n",
              "  <svg xmlns=\"http://www.w3.org/2000/svg\" height=\"24px\"viewBox=\"0 0 24 24\"\n",
              "       width=\"24px\">\n",
              "    <path d=\"M0 0h24v24H0V0z\" fill=\"none\"/>\n",
              "    <path d=\"M18.56 5.44l.94 2.06.94-2.06 2.06-.94-2.06-.94-.94-2.06-.94 2.06-2.06.94zm-11 1L8.5 8.5l.94-2.06 2.06-.94-2.06-.94L8.5 2.5l-.94 2.06-2.06.94zm10 10l.94 2.06.94-2.06 2.06-.94-2.06-.94-.94-2.06-.94 2.06-2.06.94z\"/><path d=\"M17.41 7.96l-1.37-1.37c-.4-.4-.92-.59-1.43-.59-.52 0-1.04.2-1.43.59L10.3 9.45l-7.72 7.72c-.78.78-.78 2.05 0 2.83L4 21.41c.39.39.9.59 1.41.59.51 0 1.02-.2 1.41-.59l7.78-7.78 2.81-2.81c.8-.78.8-2.07 0-2.86zM5.41 20L4 18.59l7.72-7.72 1.47 1.35L5.41 20z\"/>\n",
              "  </svg>\n",
              "      </button>\n",
              "      \n",
              "  <style>\n",
              "    .colab-df-container {\n",
              "      display:flex;\n",
              "      flex-wrap:wrap;\n",
              "      gap: 12px;\n",
              "    }\n",
              "\n",
              "    .colab-df-convert {\n",
              "      background-color: #E8F0FE;\n",
              "      border: none;\n",
              "      border-radius: 50%;\n",
              "      cursor: pointer;\n",
              "      display: none;\n",
              "      fill: #1967D2;\n",
              "      height: 32px;\n",
              "      padding: 0 0 0 0;\n",
              "      width: 32px;\n",
              "    }\n",
              "\n",
              "    .colab-df-convert:hover {\n",
              "      background-color: #E2EBFA;\n",
              "      box-shadow: 0px 1px 2px rgba(60, 64, 67, 0.3), 0px 1px 3px 1px rgba(60, 64, 67, 0.15);\n",
              "      fill: #174EA6;\n",
              "    }\n",
              "\n",
              "    [theme=dark] .colab-df-convert {\n",
              "      background-color: #3B4455;\n",
              "      fill: #D2E3FC;\n",
              "    }\n",
              "\n",
              "    [theme=dark] .colab-df-convert:hover {\n",
              "      background-color: #434B5C;\n",
              "      box-shadow: 0px 1px 3px 1px rgba(0, 0, 0, 0.15);\n",
              "      filter: drop-shadow(0px 1px 2px rgba(0, 0, 0, 0.3));\n",
              "      fill: #FFFFFF;\n",
              "    }\n",
              "  </style>\n",
              "\n",
              "      <script>\n",
              "        const buttonEl =\n",
              "          document.querySelector('#df-cf4e7e0c-cdaf-4ead-bf32-095224d6bb43 button.colab-df-convert');\n",
              "        buttonEl.style.display =\n",
              "          google.colab.kernel.accessAllowed ? 'block' : 'none';\n",
              "\n",
              "        async function convertToInteractive(key) {\n",
              "          const element = document.querySelector('#df-cf4e7e0c-cdaf-4ead-bf32-095224d6bb43');\n",
              "          const dataTable =\n",
              "            await google.colab.kernel.invokeFunction('convertToInteractive',\n",
              "                                                     [key], {});\n",
              "          if (!dataTable) return;\n",
              "\n",
              "          const docLinkHtml = 'Like what you see? Visit the ' +\n",
              "            '<a target=\"_blank\" href=https://colab.research.google.com/notebooks/data_table.ipynb>data table notebook</a>'\n",
              "            + ' to learn more about interactive tables.';\n",
              "          element.innerHTML = '';\n",
              "          dataTable['output_type'] = 'display_data';\n",
              "          await google.colab.output.renderOutput(dataTable, element);\n",
              "          const docLink = document.createElement('div');\n",
              "          docLink.innerHTML = docLinkHtml;\n",
              "          element.appendChild(docLink);\n",
              "        }\n",
              "      </script>\n",
              "    </div>\n",
              "  </div>\n",
              "  "
            ]
          },
          "metadata": {},
          "execution_count": 27
        }
      ]
    },
    {
      "cell_type": "code",
      "source": [
        "train_df, test_df = train_test_split(df, test_size=0.25, random_state=42, shuffle=True)\n",
        "train_df = train_df.sort_values(by=['label'], ignore_index=True)\n",
        "test_df = test_df.sort_values(by=['label'], ignore_index=True)"
      ],
      "metadata": {
        "id": "JqYn-H1Hl7-Z"
      },
      "execution_count": null,
      "outputs": []
    },
    {
      "cell_type": "code",
      "source": [
        "train_df"
      ],
      "metadata": {
        "colab": {
          "base_uri": "https://localhost:8080/",
          "height": 424
        },
        "id": "fOmJqTUGFe3L",
        "outputId": "eca19d9e-3091-48c9-cefd-a62fdb9754f7"
      },
      "execution_count": null,
      "outputs": [
        {
          "output_type": "execute_result",
          "data": {
            "text/plain": [
              "                                              tweet_text cyberbullying_type  \\\n",
              "0      [back, to, work, this, week, practice, workout...  not_cyberbullying   \n",
              "1      [packed, house, all, round, cant, wait, for, c...  not_cyberbullying   \n",
              "2      [rt, mark, hamill, becomes, han, solo, for, st...  not_cyberbullying   \n",
              "3      [the, sweetest, love, story, a, freebsdgirl, a...  not_cyberbullying   \n",
              "4                                  [blizzcon, announced]  not_cyberbullying   \n",
              "...                                                  ...                ...   \n",
              "29707  [your, slow, as, fuck, you, dumb, nigger, fuck...          ethnicity   \n",
              "29708  [thats, not, even, a, barbie, and, calling, bl...          ethnicity   \n",
              "29709  [ur, the, one, who, mentioned, messi, first, c...          ethnicity   \n",
              "29710  [the, amount, of, aggressive, disrespectful, d...          ethnicity   \n",
              "29711  [shut, the, fuck, up, you, dumb, nigger, get, ...          ethnicity   \n",
              "\n",
              "       label  \n",
              "0          0  \n",
              "1          0  \n",
              "2          0  \n",
              "3          0  \n",
              "4          0  \n",
              "...      ...  \n",
              "29707      4  \n",
              "29708      4  \n",
              "29709      4  \n",
              "29710      4  \n",
              "29711      4  \n",
              "\n",
              "[29712 rows x 3 columns]"
            ],
            "text/html": [
              "\n",
              "  <div id=\"df-a7f84f79-7775-4abe-93cd-310669a13eb4\">\n",
              "    <div class=\"colab-df-container\">\n",
              "      <div>\n",
              "<style scoped>\n",
              "    .dataframe tbody tr th:only-of-type {\n",
              "        vertical-align: middle;\n",
              "    }\n",
              "\n",
              "    .dataframe tbody tr th {\n",
              "        vertical-align: top;\n",
              "    }\n",
              "\n",
              "    .dataframe thead th {\n",
              "        text-align: right;\n",
              "    }\n",
              "</style>\n",
              "<table border=\"1\" class=\"dataframe\">\n",
              "  <thead>\n",
              "    <tr style=\"text-align: right;\">\n",
              "      <th></th>\n",
              "      <th>tweet_text</th>\n",
              "      <th>cyberbullying_type</th>\n",
              "      <th>label</th>\n",
              "    </tr>\n",
              "  </thead>\n",
              "  <tbody>\n",
              "    <tr>\n",
              "      <th>0</th>\n",
              "      <td>[back, to, work, this, week, practice, workout...</td>\n",
              "      <td>not_cyberbullying</td>\n",
              "      <td>0</td>\n",
              "    </tr>\n",
              "    <tr>\n",
              "      <th>1</th>\n",
              "      <td>[packed, house, all, round, cant, wait, for, c...</td>\n",
              "      <td>not_cyberbullying</td>\n",
              "      <td>0</td>\n",
              "    </tr>\n",
              "    <tr>\n",
              "      <th>2</th>\n",
              "      <td>[rt, mark, hamill, becomes, han, solo, for, st...</td>\n",
              "      <td>not_cyberbullying</td>\n",
              "      <td>0</td>\n",
              "    </tr>\n",
              "    <tr>\n",
              "      <th>3</th>\n",
              "      <td>[the, sweetest, love, story, a, freebsdgirl, a...</td>\n",
              "      <td>not_cyberbullying</td>\n",
              "      <td>0</td>\n",
              "    </tr>\n",
              "    <tr>\n",
              "      <th>4</th>\n",
              "      <td>[blizzcon, announced]</td>\n",
              "      <td>not_cyberbullying</td>\n",
              "      <td>0</td>\n",
              "    </tr>\n",
              "    <tr>\n",
              "      <th>...</th>\n",
              "      <td>...</td>\n",
              "      <td>...</td>\n",
              "      <td>...</td>\n",
              "    </tr>\n",
              "    <tr>\n",
              "      <th>29707</th>\n",
              "      <td>[your, slow, as, fuck, you, dumb, nigger, fuck...</td>\n",
              "      <td>ethnicity</td>\n",
              "      <td>4</td>\n",
              "    </tr>\n",
              "    <tr>\n",
              "      <th>29708</th>\n",
              "      <td>[thats, not, even, a, barbie, and, calling, bl...</td>\n",
              "      <td>ethnicity</td>\n",
              "      <td>4</td>\n",
              "    </tr>\n",
              "    <tr>\n",
              "      <th>29709</th>\n",
              "      <td>[ur, the, one, who, mentioned, messi, first, c...</td>\n",
              "      <td>ethnicity</td>\n",
              "      <td>4</td>\n",
              "    </tr>\n",
              "    <tr>\n",
              "      <th>29710</th>\n",
              "      <td>[the, amount, of, aggressive, disrespectful, d...</td>\n",
              "      <td>ethnicity</td>\n",
              "      <td>4</td>\n",
              "    </tr>\n",
              "    <tr>\n",
              "      <th>29711</th>\n",
              "      <td>[shut, the, fuck, up, you, dumb, nigger, get, ...</td>\n",
              "      <td>ethnicity</td>\n",
              "      <td>4</td>\n",
              "    </tr>\n",
              "  </tbody>\n",
              "</table>\n",
              "<p>29712 rows × 3 columns</p>\n",
              "</div>\n",
              "      <button class=\"colab-df-convert\" onclick=\"convertToInteractive('df-a7f84f79-7775-4abe-93cd-310669a13eb4')\"\n",
              "              title=\"Convert this dataframe to an interactive table.\"\n",
              "              style=\"display:none;\">\n",
              "        \n",
              "  <svg xmlns=\"http://www.w3.org/2000/svg\" height=\"24px\"viewBox=\"0 0 24 24\"\n",
              "       width=\"24px\">\n",
              "    <path d=\"M0 0h24v24H0V0z\" fill=\"none\"/>\n",
              "    <path d=\"M18.56 5.44l.94 2.06.94-2.06 2.06-.94-2.06-.94-.94-2.06-.94 2.06-2.06.94zm-11 1L8.5 8.5l.94-2.06 2.06-.94-2.06-.94L8.5 2.5l-.94 2.06-2.06.94zm10 10l.94 2.06.94-2.06 2.06-.94-2.06-.94-.94-2.06-.94 2.06-2.06.94z\"/><path d=\"M17.41 7.96l-1.37-1.37c-.4-.4-.92-.59-1.43-.59-.52 0-1.04.2-1.43.59L10.3 9.45l-7.72 7.72c-.78.78-.78 2.05 0 2.83L4 21.41c.39.39.9.59 1.41.59.51 0 1.02-.2 1.41-.59l7.78-7.78 2.81-2.81c.8-.78.8-2.07 0-2.86zM5.41 20L4 18.59l7.72-7.72 1.47 1.35L5.41 20z\"/>\n",
              "  </svg>\n",
              "      </button>\n",
              "      \n",
              "  <style>\n",
              "    .colab-df-container {\n",
              "      display:flex;\n",
              "      flex-wrap:wrap;\n",
              "      gap: 12px;\n",
              "    }\n",
              "\n",
              "    .colab-df-convert {\n",
              "      background-color: #E8F0FE;\n",
              "      border: none;\n",
              "      border-radius: 50%;\n",
              "      cursor: pointer;\n",
              "      display: none;\n",
              "      fill: #1967D2;\n",
              "      height: 32px;\n",
              "      padding: 0 0 0 0;\n",
              "      width: 32px;\n",
              "    }\n",
              "\n",
              "    .colab-df-convert:hover {\n",
              "      background-color: #E2EBFA;\n",
              "      box-shadow: 0px 1px 2px rgba(60, 64, 67, 0.3), 0px 1px 3px 1px rgba(60, 64, 67, 0.15);\n",
              "      fill: #174EA6;\n",
              "    }\n",
              "\n",
              "    [theme=dark] .colab-df-convert {\n",
              "      background-color: #3B4455;\n",
              "      fill: #D2E3FC;\n",
              "    }\n",
              "\n",
              "    [theme=dark] .colab-df-convert:hover {\n",
              "      background-color: #434B5C;\n",
              "      box-shadow: 0px 1px 3px 1px rgba(0, 0, 0, 0.15);\n",
              "      filter: drop-shadow(0px 1px 2px rgba(0, 0, 0, 0.3));\n",
              "      fill: #FFFFFF;\n",
              "    }\n",
              "  </style>\n",
              "\n",
              "      <script>\n",
              "        const buttonEl =\n",
              "          document.querySelector('#df-a7f84f79-7775-4abe-93cd-310669a13eb4 button.colab-df-convert');\n",
              "        buttonEl.style.display =\n",
              "          google.colab.kernel.accessAllowed ? 'block' : 'none';\n",
              "\n",
              "        async function convertToInteractive(key) {\n",
              "          const element = document.querySelector('#df-a7f84f79-7775-4abe-93cd-310669a13eb4');\n",
              "          const dataTable =\n",
              "            await google.colab.kernel.invokeFunction('convertToInteractive',\n",
              "                                                     [key], {});\n",
              "          if (!dataTable) return;\n",
              "\n",
              "          const docLinkHtml = 'Like what you see? Visit the ' +\n",
              "            '<a target=\"_blank\" href=https://colab.research.google.com/notebooks/data_table.ipynb>data table notebook</a>'\n",
              "            + ' to learn more about interactive tables.';\n",
              "          element.innerHTML = '';\n",
              "          dataTable['output_type'] = 'display_data';\n",
              "          await google.colab.output.renderOutput(dataTable, element);\n",
              "          const docLink = document.createElement('div');\n",
              "          docLink.innerHTML = docLinkHtml;\n",
              "          element.appendChild(docLink);\n",
              "        }\n",
              "      </script>\n",
              "    </div>\n",
              "  </div>\n",
              "  "
            ]
          },
          "metadata": {},
          "execution_count": 29
        }
      ]
    },
    {
      "cell_type": "code",
      "source": [
        "glove = GloVe(name='6B', dim=50)"
      ],
      "metadata": {
        "id": "0Ps3Gh_a6a1c",
        "colab": {
          "base_uri": "https://localhost:8080/"
        },
        "outputId": "07bbab82-3bb1-4578-aa3e-3a0909b9e817"
      },
      "execution_count": null,
      "outputs": [
        {
          "output_type": "stream",
          "name": "stderr",
          "text": [
            ".vector_cache/glove.6B.zip: 862MB [02:42, 5.30MB/s]                           \n",
            "100%|█████████▉| 399999/400000 [00:13<00:00, 29535.58it/s]\n"
          ]
        }
      ]
    },
    {
      "cell_type": "code",
      "source": [
        "class Dataset:\n",
        "    def __init__(self, df, max_length=MAX_LENGTH):\n",
        "        self.df = df\n",
        "        self.max_length = max_length\n",
        "\n",
        "    def __len__(self):\n",
        "        return self.df.shape[0]\n",
        "\n",
        "    def __getitem__(self, idx):\n",
        "        arr = self.df.loc[idx, 'tweet_text']\n",
        "        arr = arr + [ '<PAD>' ] * (self.max_length - len(arr))\n",
        "\n",
        "        return (\n",
        "            glove.get_vecs_by_tokens(arr), \n",
        "            self.df.loc[idx, 'label']\n",
        "        )"
      ],
      "metadata": {
        "id": "MQHYkxDK6kD4"
      },
      "execution_count": null,
      "outputs": []
    },
    {
      "cell_type": "code",
      "source": [
        "train_dataset = Dataset(train_df)\n",
        "test_dataset = Dataset(test_df)"
      ],
      "metadata": {
        "id": "YGhh9_r86s15"
      },
      "execution_count": null,
      "outputs": []
    },
    {
      "cell_type": "code",
      "source": [
        "BATCH_SIZE = 32\n",
        "train_loader = DataLoader(train_dataset, batch_size=BATCH_SIZE, shuffle=True)\n",
        "test_loader = DataLoader(test_dataset, batch_size=BATCH_SIZE, shuffle=True)"
      ],
      "metadata": {
        "id": "t2I-l3pP6xAV"
      },
      "execution_count": null,
      "outputs": []
    },
    {
      "cell_type": "code",
      "source": [
        "class LSTM(nn.Module):\n",
        "    #define all the layers used in model\n",
        "    def __init__(self, embedding_dim, hidden_dim, output_dim, n_layers, bidirectional=True, dropout=0.2):\n",
        "        #Constructor\n",
        "        super().__init__()          \n",
        "        \n",
        "        # embedding layer\n",
        "        # self.embedding = nn.Embedding(vocab_size, embedding_dim)\n",
        "        \n",
        "        #lstm layer\n",
        "        self.lstm = nn.LSTM(embedding_dim, \n",
        "                           hidden_dim, \n",
        "                           num_layers=n_layers, \n",
        "                           bidirectional=bidirectional, \n",
        "                           dropout=dropout,\n",
        "                           batch_first=True)\n",
        "        \n",
        "        #dense layer\n",
        "        self.fc = nn.Linear(hidden_dim * 2, output_dim)\n",
        "        \n",
        "    def forward(self, embeds):\n",
        "        \n",
        "        #text = [batch size, sent_length]\n",
        "        # embedded = self.embedding(text)\n",
        "      \n",
        "        #embedded = [batch size, sent_len, emb_dim]\n",
        "        packed_output, (hidden, cell) = self.lstm(embeds)\n",
        "\n",
        "        #hidden = [batch size, num layers * num directions,hid dim]\n",
        "        #cell = [batch size, num layers * num directions,hid dim]\n",
        "        \n",
        "        #concat the final forward and backward hidden state\n",
        "        hidden = torch.cat((hidden[-2, : , : ], hidden[-1, : , : ]), dim = 1)\n",
        "                \n",
        "        #hidden = [batch size, hid dim * num directions]\n",
        "        dense_outputs = self.fc(hidden)\n",
        "\n",
        "        return dense_outputs"
      ],
      "metadata": {
        "id": "rUN0OjlA66lz"
      },
      "execution_count": null,
      "outputs": []
    },
    {
      "cell_type": "code",
      "source": [
        "device = torch.device('cuda')\n",
        "device"
      ],
      "metadata": {
        "colab": {
          "base_uri": "https://localhost:8080/"
        },
        "id": "AJD4M2n-7E3e",
        "outputId": "560803f7-5b37-4920-e104-71e381929bc7"
      },
      "execution_count": null,
      "outputs": [
        {
          "output_type": "execute_result",
          "data": {
            "text/plain": [
              "device(type='cuda')"
            ]
          },
          "metadata": {},
          "execution_count": 35
        }
      ]
    },
    {
      "cell_type": "code",
      "source": [
        "model = LSTM(50, 32, len(intent2label), 2).to(device)"
      ],
      "metadata": {
        "id": "uD_-BX8d7fIr"
      },
      "execution_count": null,
      "outputs": []
    },
    {
      "cell_type": "code",
      "source": [
        "optimizer = optim.Adam(model.parameters())\n",
        "loss_fn = nn.CrossEntropyLoss()"
      ],
      "metadata": {
        "id": "vLx3eoGp7iMz"
      },
      "execution_count": null,
      "outputs": []
    },
    {
      "cell_type": "code",
      "source": [
        "# Defining the function that contains the training loop\n",
        "def training_loop(\n",
        "    n_epochs, optimizer, model, loss_fn,\n",
        "    train_loader, test_loader, device\n",
        "):\n",
        "    # The following torch tensor will hold information about\n",
        "    # the accuracy results after every epoch\n",
        "    train_accuracy = torch.zeros(n_epochs)\n",
        "    test_accuracy = torch.zeros(n_epochs)\n",
        "\n",
        "    # The actual training_loop\n",
        "    for epoch in range(n_epochs):\n",
        "        model.train()\n",
        "        for examples, labels in train_loader:\n",
        "            # Copying these tensors to the gpu ram\n",
        "            # if needed\n",
        "            # If a cuda compatible gpu is not available\n",
        "            # the data remains on the cpu ram \n",
        "            examples = examples.to(device=device)\n",
        "            labels = labels.to(device=device)\n",
        "\n",
        "            outputs = model(examples)\n",
        "            loss = loss_fn(outputs, labels)\n",
        "\n",
        "            # Sets the gradients of all optimized torch.Tensor to zero\n",
        "            optimizer.zero_grad()\n",
        "            # Back Propagation\n",
        "            loss.backward()\n",
        "            # the optimizer updates the parameters\n",
        "            optimizer.step()\n",
        "        \n",
        "        \n",
        "        # This loop computes the accuracy for test and train data\n",
        "        # after every epoch\n",
        "        model.eval()\n",
        "        for name, loader, accuracy in [\n",
        "            ('train', train_loader, train_accuracy),\n",
        "            ('test', test_loader, test_accuracy)\n",
        "        ]:\n",
        "            correct = 0\n",
        "            total = 0\n",
        "\n",
        "            # This with statement turns off auto grad\n",
        "            with torch.no_grad():\n",
        "                for examples, labels in loader:\n",
        "                    examples = examples.to(device=device)\n",
        "                    labels = labels.to(device=device)\n",
        "\n",
        "                    outputs = model(examples)\n",
        "                    _, predicted = torch.max(outputs, dim=1)\n",
        "                    \n",
        "                    total += labels.shape[0]\n",
        "                    correct += int((predicted == labels).sum())\n",
        "            \n",
        "            accuracy[epoch] = correct / total\n",
        "\n",
        "\n",
        "        # This piece of code saves the models that has the best\n",
        "        # test accuracy\n",
        "        best_test_accuracy = (epoch == test_accuracy.max(dim=0)[1].item())\n",
        "        if best_test_accuracy:\n",
        "            best_model = copy.deepcopy(model.state_dict())\n",
        "\n",
        "        print(\n",
        "            f'Epoch {epoch + 1})', \n",
        "            f'Train Accuracy: {train_accuracy[epoch]}',\n",
        "            f'Test Accuracy: {test_accuracy[epoch]}',\n",
        "            f'{\"Best test accuracy!\" if best_test_accuracy else \"\"}'\n",
        "        )\n",
        "\n",
        "    # Plotting the train and test accuracy after every epoch\n",
        "    plt.figure(dpi=150)\n",
        "    plt.xlabel('Number of Epochs')\n",
        "    plt.ylabel('Accuracy')\n",
        "    plt.plot(range(1, n_epochs + 1), train_accuracy)\n",
        "    plt.plot(range(1, n_epochs + 1), test_accuracy)\n",
        "    plt.legend(['Train Accuracy', 'Test Accuracy'])\n",
        "    plt.grid()\n",
        "    plt.show()\n",
        "\n",
        "    return best_model"
      ],
      "metadata": {
        "id": "LNoM3uPm8qri"
      },
      "execution_count": null,
      "outputs": []
    },
    {
      "cell_type": "code",
      "source": [
        "best_model = training_loop(\n",
        "    n_epochs=20,\n",
        "    optimizer=optimizer,\n",
        "    model=model,\n",
        "    loss_fn=loss_fn,\n",
        "    train_loader=train_loader,\n",
        "    test_loader=test_loader,\n",
        "    device=device\n",
        ")"
      ],
      "metadata": {
        "colab": {
          "base_uri": "https://localhost:8080/",
          "height": 909
        },
        "id": "KQmCiiX19PFe",
        "outputId": "c716c611-6a49-4ad6-ba9f-7a857770230f"
      },
      "execution_count": null,
      "outputs": [
        {
          "output_type": "stream",
          "name": "stdout",
          "text": [
            "Epoch 1) Train Accuracy: 0.882438063621521 Test Accuracy: 0.8785338997840881 Best test accuracy!\n",
            "Epoch 2) Train Accuracy: 0.9047859311103821 Test Accuracy: 0.9008481502532959 Best test accuracy!\n",
            "Epoch 3) Train Accuracy: 0.9113489389419556 Test Accuracy: 0.9053917527198792 Best test accuracy!\n",
            "Epoch 4) Train Accuracy: 0.9132336974143982 Test Accuracy: 0.9045839905738831 \n",
            "Epoch 5) Train Accuracy: 0.9174744486808777 Test Accuracy: 0.9113489389419556 Best test accuracy!\n",
            "Epoch 6) Train Accuracy: 0.9244076609611511 Test Accuracy: 0.9140751361846924 Best test accuracy!\n",
            "Epoch 7) Train Accuracy: 0.9242393374443054 Test Accuracy: 0.9133683443069458 \n",
            "Epoch 8) Train Accuracy: 0.9283454418182373 Test Accuracy: 0.9118537902832031 \n",
            "Epoch 9) Train Accuracy: 0.9329900145530701 Test Accuracy: 0.9184167981147766 Best test accuracy!\n",
            "Epoch 10) Train Accuracy: 0.9378365874290466 Test Accuracy: 0.9207391142845154 Best test accuracy!\n",
            "Epoch 11) Train Accuracy: 0.9368605017662048 Test Accuracy: 0.9180129170417786 \n",
            "Epoch 12) Train Accuracy: 0.9402934908866882 Test Accuracy: 0.9146809577941895 \n",
            "Epoch 13) Train Accuracy: 0.9387452602386475 Test Accuracy: 0.9155896902084351 \n",
            "Epoch 14) Train Accuracy: 0.9428850412368774 Test Accuracy: 0.9172051548957825 \n",
            "Epoch 15) Train Accuracy: 0.9490104913711548 Test Accuracy: 0.9159935116767883 \n",
            "Epoch 16) Train Accuracy: 0.9513328075408936 Test Accuracy: 0.9187197089195251 \n",
            "Epoch 17) Train Accuracy: 0.9560446739196777 Test Accuracy: 0.9165993332862854 \n",
            "Epoch 18) Train Accuracy: 0.9551023244857788 Test Accuracy: 0.9164983630180359 \n",
            "Epoch 19) Train Accuracy: 0.9612951278686523 Test Accuracy: 0.9161954522132874 \n",
            "Epoch 20) Train Accuracy: 0.9604536890983582 Test Accuracy: 0.9157915711402893 \n"
          ]
        },
        {
          "output_type": "display_data",
          "data": {
            "text/plain": [
              "<Figure size 900x600 with 1 Axes>"
            ],
            "image/png": "[encoded data removed]"
          },
          "metadata": {
            "needs_background": "light"
          }
        }
      ]
    },
    {
      "cell_type": "code",
      "source": [
        "# Load the model that had the best test accuracy\n",
        "model.load_state_dict(best_model)"
      ],
      "metadata": {
        "id": "6vE87ISy9Sx1",
        "colab": {
          "base_uri": "https://localhost:8080/"
        },
        "outputId": "0b1306d9-6f90-40c9-b283-171d4f76984c"
      },
      "execution_count": null,
      "outputs": [
        {
          "output_type": "execute_result",
          "data": {
            "text/plain": [
              "<All keys matched successfully>"
            ]
          },
          "metadata": {},
          "execution_count": 40
        }
      ]
    },
    {
      "cell_type": "code",
      "source": [
        "correct = 0\n",
        "total = 0\n",
        "\n",
        "y_test = torch.zeros(len(test_df))\n",
        "y_pred = torch.zeros(len(test_df))\n",
        "low = 0\n",
        "\n",
        "# Make predictions on the test data\n",
        "model.eval()\n",
        "with torch.no_grad():\n",
        "    for examples, labels in test_loader:\n",
        "        examples = examples.to(device=device)\n",
        "        labels = labels.to(device=device)\n",
        "\n",
        "        outputs = model(examples)\n",
        "        _, predicted = torch.max(outputs, dim=1)\n",
        "\n",
        "        high = low + labels.shape[0]\n",
        "        y_test[low : high] = labels\n",
        "        y_pred[low : high] = predicted\n",
        "        low = high\n",
        "\n",
        "        total += labels.shape[0]\n",
        "        correct += int((predicted == labels).sum())\n",
        "            \n",
        "accuracy = correct / total\n",
        "accuracy"
      ],
      "metadata": {
        "id": "XAiJRE2CCOzs",
        "colab": {
          "base_uri": "https://localhost:8080/"
        },
        "outputId": "6caa5c81-1c69-4e53-fd34-825fbac1c415"
      },
      "execution_count": null,
      "outputs": [
        {
          "output_type": "execute_result",
          "data": {
            "text/plain": [
              "0.9207390953150242"
            ]
          },
          "metadata": {},
          "execution_count": 44
        }
      ]
    },
    {
      "cell_type": "code",
      "source": [
        "# Creating a Confusion Matrix plot\n",
        "plt.figure(dpi=150)\n",
        "sns.heatmap(confusion_matrix(y_test, y_pred), annot=True, fmt='d')\n",
        "plt.ylabel('True Label')\n",
        "plt.xlabel('Predicted Label')"
      ],
      "metadata": {
        "id": "CouMyD8CCoqL",
        "colab": {
          "base_uri": "https://localhost:8080/",
          "height": 579
        },
        "outputId": "5214d773-d2f0-4e30-bba1-46262c1b1446"
      },
      "execution_count": null,
      "outputs": [
        {
          "output_type": "execute_result",
          "data": {
            "text/plain": [
              "Text(0.5, 32.08333333333333, 'Predicted Label')"
            ]
          },
          "metadata": {},
          "execution_count": 47
        },
        {
          "output_type": "display_data",
          "data": {
            "text/plain": [
              "<Figure size 900x600 with 2 Axes>"
            ],
            "image/png": "[encoded data removed]"
          },
          "metadata": {
            "needs_background": "light"
          }
        }
      ]
    },
    {
      "cell_type": "code",
      "source": [
        ""
      ],
      "metadata": {
        "id": "N0eT2vCjC7yP"
      },
      "execution_count": null,
      "outputs": []
    }
  ]
}