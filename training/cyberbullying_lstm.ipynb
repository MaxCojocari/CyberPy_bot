{
  "nbformat": 4,
  "nbformat_minor": 0,
  "metadata": {
    "colab": {
      "name": "cyberbullying_lstm.ipynb",
      "provenance": [],
      "collapsed_sections": [],
      "include_colab_link": true
    },
    "kernelspec": {
      "name": "python3",
      "display_name": "Python 3"
    },
    "language_info": {
      "name": "python"
    },
    "accelerator": "GPU"
  },
  "cells": [
    {
      "cell_type": "markdown",
      "metadata": {
        "id": "view-in-github",
        "colab_type": "text"
      },
      "source": [
        "<a href=\"https://colab.research.google.com/github/MaxCojocari/CyberPy_bot/blob/main/training/cyberbullying_lstm.ipynb\" target=\"_parent\"><img src=\"https://colab.research.google.com/assets/colab-badge.svg\" alt=\"Open In Colab\"/></a>"
      ]
    },
    {
      "cell_type": "code",
      "execution_count": null,
      "metadata": {
        "colab": {
          "base_uri": "https://localhost:8080/"
        },
        "id": "tLzvRQkNjDRH",
        "outputId": "e2db4903-ca60-49a4-c0b0-fe6a8e1905e1"
      },
      "outputs": [
        {
          "output_type": "stream",
          "name": "stdout",
          "text": [
            "Mounted at drive\n"
          ]
        }
      ],
      "source": [
        "from google.colab import drive\n",
        "drive.mount('drive')"
      ]
    },
    {
      "cell_type": "code",
      "source": [
        "!mkdir -p ~/.kaggle\n",
        "!cp drive/MyDrive/kaggle.json ~/.kaggle\n",
        "!chmod 600 ~/.kaggle/kaggle.json\n",
        "!kaggle datasets download --unzip -d andrewmvd/cyberbullying-classification"
      ],
      "metadata": {
        "colab": {
          "base_uri": "https://localhost:8080/"
        },
        "id": "7RP-09TCSX2m",
        "outputId": "d425afaa-c62f-4e85-cc51-0bc3d323e6ad"
      },
      "execution_count": null,
      "outputs": [
        {
          "output_type": "stream",
          "name": "stdout",
          "text": [
            "Downloading cyberbullying-classification.zip to /content\n",
            "\r  0% 0.00/2.82M [00:00<?, ?B/s]\n",
            "\r100% 2.82M/2.82M [00:00<00:00, 157MB/s]\n"
          ]
        }
      ]
    },
    {
      "cell_type": "code",
      "source": [
        "import torch\n",
        "from torchtext.data.utils import get_tokenizer\n",
        "from torch.utils.data import DataLoader\n",
        "from torch import nn, optim\n",
        "from torchtext.vocab import GloVe\n",
        "torch.manual_seed(69)\n",
        "\n",
        "import nltk\n",
        "nltk.download('stopwords')\n",
        "from nltk.corpus import stopwords\n",
        "list_stopwords = set(stopwords.words('english'))\n",
        "\n",
        "import pandas as pd\n",
        "import matplotlib.pyplot as plt\n",
        "import plotly.express as px\n",
        "import seaborn as sns\n",
        "from sklearn.metrics import confusion_matrix\n",
        "from sklearn.model_selection import train_test_split\n",
        "import re\n",
        "\n",
        "import copy"
      ],
      "metadata": {
        "id": "_8p1rB4Hjtat",
        "colab": {
          "base_uri": "https://localhost:8080/"
        },
        "outputId": "a344c84e-5178-4dad-ec23-7241f8386541"
      },
      "execution_count": null,
      "outputs": [
        {
          "output_type": "stream",
          "name": "stdout",
          "text": [
            "[nltk_data] Downloading package stopwords to /root/nltk_data...\n",
            "[nltk_data]   Unzipping corpora/stopwords.zip.\n"
          ]
        }
      ]
    },
    {
      "cell_type": "code",
      "source": [
        "#Upload the data frame\n",
        "df = pd.read_csv('cyberbullying_tweets.csv')\n",
        "df"
      ],
      "metadata": {
        "colab": {
          "base_uri": "https://localhost:8080/",
          "height": 424
        },
        "id": "jgd1X5u6j0uo",
        "outputId": "e2e0d913-1b14-4e8d-e138-411f741bae3a"
      },
      "execution_count": null,
      "outputs": [
        {
          "output_type": "execute_result",
          "data": {
            "text/plain": [
              "                                              tweet_text cyberbullying_type\n",
              "0      In other words #katandandre, your food was cra...  not_cyberbullying\n",
              "1      Why is #aussietv so white? #MKR #theblock #ImA...  not_cyberbullying\n",
              "2      @XochitlSuckkks a classy whore? Or more red ve...  not_cyberbullying\n",
              "3      @Jason_Gio meh. :P  thanks for the heads up, b...  not_cyberbullying\n",
              "4      @RudhoeEnglish This is an ISIS account pretend...  not_cyberbullying\n",
              "...                                                  ...                ...\n",
              "47687  Black ppl aren't expected to do anything, depe...          ethnicity\n",
              "47688  Turner did not withhold his disappointment. Tu...          ethnicity\n",
              "47689  I swear to God. This dumb nigger bitch. I have...          ethnicity\n",
              "47690  Yea fuck you RT @therealexel: IF YOURE A NIGGE...          ethnicity\n",
              "47691  Bro. U gotta chill RT @CHILLShrammy: Dog FUCK ...          ethnicity\n",
              "\n",
              "[47692 rows x 2 columns]"
            ],
            "text/html": [
              "\n",
              "  <div id=\"df-8831f0b4-a43a-4308-bd8d-d0fa17a712ac\">\n",
              "    <div class=\"colab-df-container\">\n",
              "      <div>\n",
              "<style scoped>\n",
              "    .dataframe tbody tr th:only-of-type {\n",
              "        vertical-align: middle;\n",
              "    }\n",
              "\n",
              "    .dataframe tbody tr th {\n",
              "        vertical-align: top;\n",
              "    }\n",
              "\n",
              "    .dataframe thead th {\n",
              "        text-align: right;\n",
              "    }\n",
              "</style>\n",
              "<table border=\"1\" class=\"dataframe\">\n",
              "  <thead>\n",
              "    <tr style=\"text-align: right;\">\n",
              "      <th></th>\n",
              "      <th>tweet_text</th>\n",
              "      <th>cyberbullying_type</th>\n",
              "    </tr>\n",
              "  </thead>\n",
              "  <tbody>\n",
              "    <tr>\n",
              "      <th>0</th>\n",
              "      <td>In other words #katandandre, your food was cra...</td>\n",
              "      <td>not_cyberbullying</td>\n",
              "    </tr>\n",
              "    <tr>\n",
              "      <th>1</th>\n",
              "      <td>Why is #aussietv so white? #MKR #theblock #ImA...</td>\n",
              "      <td>not_cyberbullying</td>\n",
              "    </tr>\n",
              "    <tr>\n",
              "      <th>2</th>\n",
              "      <td>@XochitlSuckkks a classy whore? Or more red ve...</td>\n",
              "      <td>not_cyberbullying</td>\n",
              "    </tr>\n",
              "    <tr>\n",
              "      <th>3</th>\n",
              "      <td>@Jason_Gio meh. :P  thanks for the heads up, b...</td>\n",
              "      <td>not_cyberbullying</td>\n",
              "    </tr>\n",
              "    <tr>\n",
              "      <th>4</th>\n",
              "      <td>@RudhoeEnglish This is an ISIS account pretend...</td>\n",
              "      <td>not_cyberbullying</td>\n",
              "    </tr>\n",
              "    <tr>\n",
              "      <th>...</th>\n",
              "      <td>...</td>\n",
              "      <td>...</td>\n",
              "    </tr>\n",
              "    <tr>\n",
              "      <th>47687</th>\n",
              "      <td>Black ppl aren't expected to do anything, depe...</td>\n",
              "      <td>ethnicity</td>\n",
              "    </tr>\n",
              "    <tr>\n",
              "      <th>47688</th>\n",
              "      <td>Turner did not withhold his disappointment. Tu...</td>\n",
              "      <td>ethnicity</td>\n",
              "    </tr>\n",
              "    <tr>\n",
              "      <th>47689</th>\n",
              "      <td>I swear to God. This dumb nigger bitch. I have...</td>\n",
              "      <td>ethnicity</td>\n",
              "    </tr>\n",
              "    <tr>\n",
              "      <th>47690</th>\n",
              "      <td>Yea fuck you RT @therealexel: IF YOURE A NIGGE...</td>\n",
              "      <td>ethnicity</td>\n",
              "    </tr>\n",
              "    <tr>\n",
              "      <th>47691</th>\n",
              "      <td>Bro. U gotta chill RT @CHILLShrammy: Dog FUCK ...</td>\n",
              "      <td>ethnicity</td>\n",
              "    </tr>\n",
              "  </tbody>\n",
              "</table>\n",
              "<p>47692 rows × 2 columns</p>\n",
              "</div>\n",
              "      <button class=\"colab-df-convert\" onclick=\"convertToInteractive('df-8831f0b4-a43a-4308-bd8d-d0fa17a712ac')\"\n",
              "              title=\"Convert this dataframe to an interactive table.\"\n",
              "              style=\"display:none;\">\n",
              "        \n",
              "  <svg xmlns=\"http://www.w3.org/2000/svg\" height=\"24px\"viewBox=\"0 0 24 24\"\n",
              "       width=\"24px\">\n",
              "    <path d=\"M0 0h24v24H0V0z\" fill=\"none\"/>\n",
              "    <path d=\"M18.56 5.44l.94 2.06.94-2.06 2.06-.94-2.06-.94-.94-2.06-.94 2.06-2.06.94zm-11 1L8.5 8.5l.94-2.06 2.06-.94-2.06-.94L8.5 2.5l-.94 2.06-2.06.94zm10 10l.94 2.06.94-2.06 2.06-.94-2.06-.94-.94-2.06-.94 2.06-2.06.94z\"/><path d=\"M17.41 7.96l-1.37-1.37c-.4-.4-.92-.59-1.43-.59-.52 0-1.04.2-1.43.59L10.3 9.45l-7.72 7.72c-.78.78-.78 2.05 0 2.83L4 21.41c.39.39.9.59 1.41.59.51 0 1.02-.2 1.41-.59l7.78-7.78 2.81-2.81c.8-.78.8-2.07 0-2.86zM5.41 20L4 18.59l7.72-7.72 1.47 1.35L5.41 20z\"/>\n",
              "  </svg>\n",
              "      </button>\n",
              "      \n",
              "  <style>\n",
              "    .colab-df-container {\n",
              "      display:flex;\n",
              "      flex-wrap:wrap;\n",
              "      gap: 12px;\n",
              "    }\n",
              "\n",
              "    .colab-df-convert {\n",
              "      background-color: #E8F0FE;\n",
              "      border: none;\n",
              "      border-radius: 50%;\n",
              "      cursor: pointer;\n",
              "      display: none;\n",
              "      fill: #1967D2;\n",
              "      height: 32px;\n",
              "      padding: 0 0 0 0;\n",
              "      width: 32px;\n",
              "    }\n",
              "\n",
              "    .colab-df-convert:hover {\n",
              "      background-color: #E2EBFA;\n",
              "      box-shadow: 0px 1px 2px rgba(60, 64, 67, 0.3), 0px 1px 3px 1px rgba(60, 64, 67, 0.15);\n",
              "      fill: #174EA6;\n",
              "    }\n",
              "\n",
              "    [theme=dark] .colab-df-convert {\n",
              "      background-color: #3B4455;\n",
              "      fill: #D2E3FC;\n",
              "    }\n",
              "\n",
              "    [theme=dark] .colab-df-convert:hover {\n",
              "      background-color: #434B5C;\n",
              "      box-shadow: 0px 1px 3px 1px rgba(0, 0, 0, 0.15);\n",
              "      filter: drop-shadow(0px 1px 2px rgba(0, 0, 0, 0.3));\n",
              "      fill: #FFFFFF;\n",
              "    }\n",
              "  </style>\n",
              "\n",
              "      <script>\n",
              "        const buttonEl =\n",
              "          document.querySelector('#df-8831f0b4-a43a-4308-bd8d-d0fa17a712ac button.colab-df-convert');\n",
              "        buttonEl.style.display =\n",
              "          google.colab.kernel.accessAllowed ? 'block' : 'none';\n",
              "\n",
              "        async function convertToInteractive(key) {\n",
              "          const element = document.querySelector('#df-8831f0b4-a43a-4308-bd8d-d0fa17a712ac');\n",
              "          const dataTable =\n",
              "            await google.colab.kernel.invokeFunction('convertToInteractive',\n",
              "                                                     [key], {});\n",
              "          if (!dataTable) return;\n",
              "\n",
              "          const docLinkHtml = 'Like what you see? Visit the ' +\n",
              "            '<a target=\"_blank\" href=https://colab.research.google.com/notebooks/data_table.ipynb>data table notebook</a>'\n",
              "            + ' to learn more about interactive tables.';\n",
              "          element.innerHTML = '';\n",
              "          dataTable['output_type'] = 'display_data';\n",
              "          await google.colab.output.renderOutput(dataTable, element);\n",
              "          const docLink = document.createElement('div');\n",
              "          docLink.innerHTML = docLinkHtml;\n",
              "          element.appendChild(docLink);\n",
              "        }\n",
              "      </script>\n",
              "    </div>\n",
              "  </div>\n",
              "  "
            ]
          },
          "metadata": {},
          "execution_count": 5
        }
      ]
    },
    {
      "cell_type": "code",
      "source": [
        "sns.set(rc={'figure.figsize':(14,4)})\n",
        "sns.countplot(\n",
        "    x=\"cyberbullying_type\", \n",
        "    data=df, \n",
        "    order=df.cyberbullying_type.value_counts().index).set_title(\"Tweets distribution by cyberbullying types\"\n",
        ")"
      ],
      "metadata": {
        "colab": {
          "base_uri": "https://localhost:8080/",
          "height": 319
        },
        "id": "E9TI0aKq7kAs",
        "outputId": "74c90272-b572-4bcf-e998-9c82da8c99bb"
      },
      "execution_count": null,
      "outputs": [
        {
          "output_type": "execute_result",
          "data": {
            "text/plain": [
              "Text(0.5, 1.0, 'Tweets distribution by cyberbullying types')"
            ]
          },
          "metadata": {},
          "execution_count": 6
        },
        {
          "output_type": "display_data",
          "data": {
            "text/plain": [
              "<Figure size 1008x288 with 1 Axes>"
            ],
            "image/png": "[encoded data removed]"
          },
          "metadata": {}
        }
      ]
    },
    {
      "cell_type": "markdown",
      "source": [
        "From barchart is visible that our dataset is perfectly balanced."
      ],
      "metadata": {
        "id": "bTp-Wp4S7978"
      }
    },
    {
      "cell_type": "code",
      "source": [
        "df.drop(df[(df.cyberbullying_type == \"other_cyberbullying\")].index, inplace=True)\n",
        "sns.set(rc={'figure.figsize':(14,4)})\n",
        "sns.countplot(\n",
        "    x=\"cyberbullying_type\", \n",
        "    data=df, \n",
        "    order=df.cyberbullying_type.value_counts().index).set_title(\"Tweets distribution by cyberbullying types\"\n",
        ")"
      ],
      "metadata": {
        "colab": {
          "base_uri": "https://localhost:8080/",
          "height": 319
        },
        "id": "QdCCGCTP-wyq",
        "outputId": "a1cc2d3c-446e-4f56-8feb-dbe2368df6ac"
      },
      "execution_count": null,
      "outputs": [
        {
          "output_type": "execute_result",
          "data": {
            "text/plain": [
              "Text(0.5, 1.0, 'Tweets distribution by cyberbullying types')"
            ]
          },
          "metadata": {},
          "execution_count": 7
        },
        {
          "output_type": "display_data",
          "data": {
            "text/plain": [
              "<Figure size 1008x288 with 1 Axes>"
            ],
            "image/png": "[encoded data removed]"
          },
          "metadata": {}
        }
      ]
    },
    {
      "cell_type": "code",
      "source": [
        "sns.reset_orig()"
      ],
      "metadata": {
        "id": "IjhSxGYOIkz4"
      },
      "execution_count": null,
      "outputs": []
    },
    {
      "cell_type": "code",
      "source": [
        "tokenizer = get_tokenizer('basic_english')\n",
        "\n",
        "# to avoid removing contractions in english\n",
        "df['tweet_text'] = df['tweet_text'].apply(lambda x: re.sub(\"'\", \"\", x))\n",
        "\n",
        "# removing hashtags and mentions\n",
        "df['tweet_text'] = df['tweet_text'].apply(lambda x: re.sub(\"@[A-Za-z0-9_]+\",\"\", x))\n",
        "df['tweet_text'] = df['tweet_text'].apply(lambda x: re.sub(\"#[A-Za-z0-9_]+\",\"\", x))\n",
        "\n",
        "# removing url\n",
        "df['tweet_text'] = df['tweet_text'].apply(lambda x: re.sub(r'http\\S+', '', x))\n",
        "\n",
        "# removing non-alphanumeric char\n",
        "df['tweet_text'] = df['tweet_text'].apply(lambda x: re.sub(\"[^a-zA-Z0-9]\",\" \", x))\n",
        "\n",
        "# tokenize each tweet\n",
        "df['tweet_text'] = df['tweet_text'].apply(tokenizer)\n",
        "\n",
        "# remove stopwords\n",
        "df['tweet_text'] = df['tweet_text'].apply(lambda x: [word for word in x if word not in list_stopwords])"
      ],
      "metadata": {
        "id": "nsx94cGXxuTl"
      },
      "execution_count": null,
      "outputs": []
    },
    {
      "cell_type": "code",
      "source": [
        "df"
      ],
      "metadata": {
        "colab": {
          "base_uri": "https://localhost:8080/",
          "height": 424
        },
        "id": "iyVecgcKxPTg",
        "outputId": "4f095880-ddc9-4676-c7a9-1c4912fd018e"
      },
      "execution_count": null,
      "outputs": [
        {
          "output_type": "execute_result",
          "data": {
            "text/plain": [
              "                                              tweet_text cyberbullying_type\n",
              "0                            [words, food, crapilicious]  not_cyberbullying\n",
              "1                                                [white]  not_cyberbullying\n",
              "2                 [classy, whore, red, velvet, cupcakes]  not_cyberbullying\n",
              "3      [meh, p, thanks, heads, concerned, another, an...  not_cyberbullying\n",
              "4      [isis, account, pretending, kurdish, account, ...  not_cyberbullying\n",
              "...                                                  ...                ...\n",
              "47687  [black, ppl, arent, expected, anything, depend...          ethnicity\n",
              "47688  [turner, withhold, disappointment, turner, cal...          ethnicity\n",
              "47689  [swear, god, dumb, nigger, bitch, got, bleach,...          ethnicity\n",
              "47690  [yea, fuck, rt, youre, nigger, fucking, unfoll...          ethnicity\n",
              "47691  [bro, u, gotta, chill, rt, dog, fuck, kp, dumb...          ethnicity\n",
              "\n",
              "[39869 rows x 2 columns]"
            ],
            "text/html": [
              "\n",
              "  <div id=\"df-6e0ec005-3fe0-4b25-b01d-5f87107d7946\">\n",
              "    <div class=\"colab-df-container\">\n",
              "      <div>\n",
              "<style scoped>\n",
              "    .dataframe tbody tr th:only-of-type {\n",
              "        vertical-align: middle;\n",
              "    }\n",
              "\n",
              "    .dataframe tbody tr th {\n",
              "        vertical-align: top;\n",
              "    }\n",
              "\n",
              "    .dataframe thead th {\n",
              "        text-align: right;\n",
              "    }\n",
              "</style>\n",
              "<table border=\"1\" class=\"dataframe\">\n",
              "  <thead>\n",
              "    <tr style=\"text-align: right;\">\n",
              "      <th></th>\n",
              "      <th>tweet_text</th>\n",
              "      <th>cyberbullying_type</th>\n",
              "    </tr>\n",
              "  </thead>\n",
              "  <tbody>\n",
              "    <tr>\n",
              "      <th>0</th>\n",
              "      <td>[words, food, crapilicious]</td>\n",
              "      <td>not_cyberbullying</td>\n",
              "    </tr>\n",
              "    <tr>\n",
              "      <th>1</th>\n",
              "      <td>[white]</td>\n",
              "      <td>not_cyberbullying</td>\n",
              "    </tr>\n",
              "    <tr>\n",
              "      <th>2</th>\n",
              "      <td>[classy, whore, red, velvet, cupcakes]</td>\n",
              "      <td>not_cyberbullying</td>\n",
              "    </tr>\n",
              "    <tr>\n",
              "      <th>3</th>\n",
              "      <td>[meh, p, thanks, heads, concerned, another, an...</td>\n",
              "      <td>not_cyberbullying</td>\n",
              "    </tr>\n",
              "    <tr>\n",
              "      <th>4</th>\n",
              "      <td>[isis, account, pretending, kurdish, account, ...</td>\n",
              "      <td>not_cyberbullying</td>\n",
              "    </tr>\n",
              "    <tr>\n",
              "      <th>...</th>\n",
              "      <td>...</td>\n",
              "      <td>...</td>\n",
              "    </tr>\n",
              "    <tr>\n",
              "      <th>47687</th>\n",
              "      <td>[black, ppl, arent, expected, anything, depend...</td>\n",
              "      <td>ethnicity</td>\n",
              "    </tr>\n",
              "    <tr>\n",
              "      <th>47688</th>\n",
              "      <td>[turner, withhold, disappointment, turner, cal...</td>\n",
              "      <td>ethnicity</td>\n",
              "    </tr>\n",
              "    <tr>\n",
              "      <th>47689</th>\n",
              "      <td>[swear, god, dumb, nigger, bitch, got, bleach,...</td>\n",
              "      <td>ethnicity</td>\n",
              "    </tr>\n",
              "    <tr>\n",
              "      <th>47690</th>\n",
              "      <td>[yea, fuck, rt, youre, nigger, fucking, unfoll...</td>\n",
              "      <td>ethnicity</td>\n",
              "    </tr>\n",
              "    <tr>\n",
              "      <th>47691</th>\n",
              "      <td>[bro, u, gotta, chill, rt, dog, fuck, kp, dumb...</td>\n",
              "      <td>ethnicity</td>\n",
              "    </tr>\n",
              "  </tbody>\n",
              "</table>\n",
              "<p>39869 rows × 2 columns</p>\n",
              "</div>\n",
              "      <button class=\"colab-df-convert\" onclick=\"convertToInteractive('df-6e0ec005-3fe0-4b25-b01d-5f87107d7946')\"\n",
              "              title=\"Convert this dataframe to an interactive table.\"\n",
              "              style=\"display:none;\">\n",
              "        \n",
              "  <svg xmlns=\"http://www.w3.org/2000/svg\" height=\"24px\"viewBox=\"0 0 24 24\"\n",
              "       width=\"24px\">\n",
              "    <path d=\"M0 0h24v24H0V0z\" fill=\"none\"/>\n",
              "    <path d=\"M18.56 5.44l.94 2.06.94-2.06 2.06-.94-2.06-.94-.94-2.06-.94 2.06-2.06.94zm-11 1L8.5 8.5l.94-2.06 2.06-.94-2.06-.94L8.5 2.5l-.94 2.06-2.06.94zm10 10l.94 2.06.94-2.06 2.06-.94-2.06-.94-.94-2.06-.94 2.06-2.06.94z\"/><path d=\"M17.41 7.96l-1.37-1.37c-.4-.4-.92-.59-1.43-.59-.52 0-1.04.2-1.43.59L10.3 9.45l-7.72 7.72c-.78.78-.78 2.05 0 2.83L4 21.41c.39.39.9.59 1.41.59.51 0 1.02-.2 1.41-.59l7.78-7.78 2.81-2.81c.8-.78.8-2.07 0-2.86zM5.41 20L4 18.59l7.72-7.72 1.47 1.35L5.41 20z\"/>\n",
              "  </svg>\n",
              "      </button>\n",
              "      \n",
              "  <style>\n",
              "    .colab-df-container {\n",
              "      display:flex;\n",
              "      flex-wrap:wrap;\n",
              "      gap: 12px;\n",
              "    }\n",
              "\n",
              "    .colab-df-convert {\n",
              "      background-color: #E8F0FE;\n",
              "      border: none;\n",
              "      border-radius: 50%;\n",
              "      cursor: pointer;\n",
              "      display: none;\n",
              "      fill: #1967D2;\n",
              "      height: 32px;\n",
              "      padding: 0 0 0 0;\n",
              "      width: 32px;\n",
              "    }\n",
              "\n",
              "    .colab-df-convert:hover {\n",
              "      background-color: #E2EBFA;\n",
              "      box-shadow: 0px 1px 2px rgba(60, 64, 67, 0.3), 0px 1px 3px 1px rgba(60, 64, 67, 0.15);\n",
              "      fill: #174EA6;\n",
              "    }\n",
              "\n",
              "    [theme=dark] .colab-df-convert {\n",
              "      background-color: #3B4455;\n",
              "      fill: #D2E3FC;\n",
              "    }\n",
              "\n",
              "    [theme=dark] .colab-df-convert:hover {\n",
              "      background-color: #434B5C;\n",
              "      box-shadow: 0px 1px 3px 1px rgba(0, 0, 0, 0.15);\n",
              "      filter: drop-shadow(0px 1px 2px rgba(0, 0, 0, 0.3));\n",
              "      fill: #FFFFFF;\n",
              "    }\n",
              "  </style>\n",
              "\n",
              "      <script>\n",
              "        const buttonEl =\n",
              "          document.querySelector('#df-6e0ec005-3fe0-4b25-b01d-5f87107d7946 button.colab-df-convert');\n",
              "        buttonEl.style.display =\n",
              "          google.colab.kernel.accessAllowed ? 'block' : 'none';\n",
              "\n",
              "        async function convertToInteractive(key) {\n",
              "          const element = document.querySelector('#df-6e0ec005-3fe0-4b25-b01d-5f87107d7946');\n",
              "          const dataTable =\n",
              "            await google.colab.kernel.invokeFunction('convertToInteractive',\n",
              "                                                     [key], {});\n",
              "          if (!dataTable) return;\n",
              "\n",
              "          const docLinkHtml = 'Like what you see? Visit the ' +\n",
              "            '<a target=\"_blank\" href=https://colab.research.google.com/notebooks/data_table.ipynb>data table notebook</a>'\n",
              "            + ' to learn more about interactive tables.';\n",
              "          element.innerHTML = '';\n",
              "          dataTable['output_type'] = 'display_data';\n",
              "          await google.colab.output.renderOutput(dataTable, element);\n",
              "          const docLink = document.createElement('div');\n",
              "          docLink.innerHTML = docLinkHtml;\n",
              "          element.appendChild(docLink);\n",
              "        }\n",
              "      </script>\n",
              "    </div>\n",
              "  </div>\n",
              "  "
            ]
          },
          "metadata": {},
          "execution_count": 10
        }
      ]
    },
    {
      "cell_type": "code",
      "source": [
        "# create a dict len_data with key – len of array, value – number \n",
        "# of that unique values\n",
        "df[\"tweet_length\"] = df['tweet_text'].apply(len)\n",
        "len_data = {x:0 for x in df[\"tweet_length\"].unique()}\n",
        "for L in df[\"tweet_length\"]:\n",
        "    len_data[L] += 1"
      ],
      "metadata": {
        "id": "rCdoxAuL4ogX"
      },
      "execution_count": null,
      "outputs": []
    },
    {
      "cell_type": "code",
      "source": [
        "px.histogram(\n",
        "    df[\"tweet_length\"], \n",
        "    x=\"tweet_length\", \n",
        "    color=df[\"cyberbullying_type\"], \n",
        "    title=\"Twitters Length Distribution Plot\"\n",
        ")"
      ],
      "metadata": {
        "colab": {
          "base_uri": "https://localhost:8080/",
          "height": 542
        },
        "id": "isNo6HbSSi3Z",
        "outputId": "5de84f40-6dce-4cec-93f7-c944b242fbaa"
      },
      "execution_count": null,
      "outputs": [
        {
          "output_type": "display_data",
          "data": {
            "text/html": [
              "<html>\n",
              "<head><meta charset=\"utf-8\" /></head>\n",
              "<body>\n",
              "    <div>            <script src=\"https://cdnjs.cloudflare.com/ajax/libs/mathjax/2.7.5/MathJax.js?config=TeX-AMS-MML_SVG\"></script><script type=\"text/javascript\">if (window.MathJax) {MathJax.Hub.Config({SVG: {font: \"STIX-Web\"}});}</script>                <script type=\"text/javascript\">window.PlotlyConfig = {MathJaxConfig: 'local'};</script>\n",
              "        <script src=\"https://cdn.plot.ly/plotly-2.8.3.min.js\"></script>                <div id=\"4f3325e2-1cc6-4bb9-8c34-8ee6e5e26ee0\" class=\"plotly-graph-div\" style=\"height:525px; width:100%;\"></div>            <script type=\"text/javascript\">                                    window.PLOTLYENV=window.PLOTLYENV || {};                                    if (document.getElementById(\"4f3325e2-1cc6-4bb9-8c34-8ee6e5e26ee0\")) {                    Plotly.newPlot(                        \"4f3325e2-1cc6-4bb9-8c34-8ee6e5e26ee0\",                        [{\"alignmentgroup\":\"True\",\"bingroup\":\"x\",\"hovertemplate\":\"color=not_cyberbullying<br>tweet_length=%{x}<br>count=%{y}<extra></extra>\",\"legendgroup\":\"not_cyberbullying\",\"marker\":{\"color\":\"#636efa\",\"pattern\":{\"shape\":\"\"}},\"name\":\"not_cyberbullying\",\"offsetgroup\":\"not_cyberbullying\",\"orientation\":\"v\",\"showlegend\":true,\"x\":[3,1,5,9,8,11,10,6,3,6,0,3,1,13,10,9,7,5,13,8,6,6,15,11,10,5,2,9,11,7,6,1,13,10,13,6,6,8,8,1,12,3,3,2,8,3,4,3,20,5,19,15,9,6,5,1,9,8,11,13,5,5,5,10,9,6,11,10,13,5,6,9,11,8,5,14,2,10,9,4,6,1,8,5,12,5,9,8,3,11,4,13,10,6,10,2,7,6,12,12,11,5,11,7,10,13,11,6,10,14,1,1,12,13,3,9,4,9,4,4,1,1,5,3,9,6,13,10,13,12,4,13,4,9,1,6,7,5,8,5,15,5,10,12,2,3,7,8,9,2,18,11,12,12,12,4,8,12,13,9,1,7,10,14,4,10,11,11,10,8,5,11,12,0,4,7,11,1,3,4,6,7,2,11,16,6,10,10,11,0,2,7,6,12,7,9,3,3,10,9,4,13,3,8,12,10,7,12,18,6,4,11,8,7,2,1,9,7,8,2,14,4,5,10,11,8,13,1,6,3,6,6,5,6,2,4,3,7,24,9,5,6,16,2,12,11,15,10,11,5,6,3,4,5,9,6,9,8,2,14,5,12,3,2,9,8,12,9,8,5,13,3,4,3,8,6,9,2,6,7,0,11,3,8,11,3,1,14,11,7,3,8,8,3,11,9,12,9,14,4,4,4,13,15,14,12,12,0,7,12,12,11,9,11,1,3,3,9,6,13,1,15,2,0,7,9,2,9,1,10,6,13,2,6,1,13,9,6,11,8,11,12,5,3,6,6,12,8,6,8,17,4,16,6,10,9,7,8,13,10,1,7,8,6,8,5,6,3,12,14,3,8,5,6,19,3,8,17,6,15,11,5,8,5,3,6,3,8,12,15,4,2,8,10,1,2,4,6,9,3,6,11,9,7,13,1,9,14,9,6,13,9,1,2,9,2,5,5,3,4,7,7,2,13,10,3,10,6,3,8,3,4,12,10,3,9,8,12,9,12,10,8,4,10,4,2,4,2,12,11,7,10,3,4,15,12,1,9,22,5,4,11,2,7,11,3,0,9,6,8,5,24,4,3,8,3,4,4,2,5,7,5,11,1,5,14,2,12,11,7,6,10,15,6,10,19,8,3,15,11,15,3,12,22,13,5,12,5,1,7,13,4,4,8,6,8,4,3,6,1,1,12,7,17,14,4,2,6,14,6,10,6,6,4,7,6,1,2,5,8,12,6,4,13,9,3,12,6,7,8,3,7,23,7,10,15,9,3,1,9,3,5,7,7,5,10,7,0,5,9,8,8,3,3,14,6,6,9,6,7,4,12,4,12,5,10,9,12,4,2,6,7,7,5,9,6,5,4,5,4,9,2,7,2,7,11,8,13,3,10,10,10,9,12,5,11,10,15,4,5,8,16,4,5,8,6,14,6,4,6,3,9,10,9,13,3,4,2,12,6,3,11,5,7,9,5,4,13,3,4,3,15,2,8,4,9,3,11,11,15,3,5,7,4,4,8,4,14,13,5,3,6,16,5,4,2,8,4,11,10,8,15,1,8,6,6,14,11,3,1,8,11,6,1,9,6,2,15,7,6,19,8,7,7,11,3,3,12,7,4,1,6,9,8,2,8,8,4,8,23,10,9,2,4,7,9,11,8,5,10,8,5,12,6,3,4,6,11,5,4,9,2,5,11,6,11,5,14,12,7,14,5,6,11,9,13,8,7,5,5,6,14,5,7,3,4,7,5,4,4,4,11,6,7,9,4,3,4,7,5,8,4,2,2,11,10,15,6,8,5,0,11,12,13,9,0,4,13,1,2,3,4,6,7,2,9,23,4,10,6,5,5,7,8,8,11,6,8,10,0,2,3,9,10,8,3,11,6,3,11,11,8,13,7,9,15,5,10,4,10,7,10,0,5,11,1,2,12,3,13,1,7,7,2,14,1,7,13,6,12,8,5,4,10,4,11,5,5,8,0,11,10,1,6,4,4,11,4,2,7,7,6,15,6,4,4,8,8,11,5,8,6,14,1,11,4,3,4,3,4,9,4,14,9,17,12,12,5,7,2,9,17,4,9,14,2,5,6,4,4,3,0,4,13,2,8,6,4,4,9,7,8,16,4,8,9,10,7,15,2,8,12,7,7,10,6,2,1,8,7,4,4,6,13,4,15,16,8,11,3,3,4,6,1,0,5,8,4,9,11,2,5,5,18,15,2,2,3,3,4,10,11,7,6,8,8,2,9,6,8,12,4,1,6,21,3,10,10,8,4,4,10,13,7,12,4,6,2,4,10,10,12,17,2,0,4,10,2,7,3,9,11,1,12,4,1,9,2,5,4,3,10,6,12,3,2,7,2,5,4,6,11,5,6,4,7,12,8,2,3,6,13,11,4,5,9,11,6,7,14,3,10,2,10,9,11,7,10,6,5,11,10,10,14,5,9,8,10,2,7,8,4,6,10,2,3,3,4,7,5,7,10,12,9,5,10,2,5,2,7,2,7,14,6,7,16,9,8,8,2,6,14,3,9,5,5,0,11,5,13,7,7,2,8,1,12,11,11,8,7,12,6,10,10,4,6,0,8,16,2,4,10,4,4,6,7,1,17,9,9,11,10,9,7,6,7,1,8,11,5,10,10,9,6,11,9,7,5,9,1,6,12,7,10,1,6,12,3,13,11,5,7,0,7,10,11,1,2,8,9,4,9,6,4,6,8,8,8,11,6,9,5,13,23,16,9,8,9,15,8,3,9,4,2,12,6,9,13,6,5,8,10,4,5,11,8,2,7,9,7,13,5,1,8,14,6,4,7,8,12,10,7,13,12,2,7,4,13,7,3,4,3,16,13,2,8,6,19,10,3,11,10,23,10,10,8,5,2,6,5,5,5,1,3,8,11,5,1,2,8,18,10,3,4,8,13,4,9,28,11,6,5,13,2,9,4,9,7,10,1,15,4,16,14,1,10,13,2,11,8,3,15,10,7,10,12,1,145,9,3,3,5,12,8,4,4,10,15,2,5,4,6,5,9,5,15,5,10,11,12,0,5,11,15,7,5,13,2,3,3,4,7,1,9,12,9,3,11,17,9,13,11,17,0,12,7,9,6,8,0,7,4,6,5,10,4,4,4,8,8,8,6,5,4,4,1,14,4,12,3,5,8,7,6,14,3,1,6,5,3,16,7,6,6,1,8,2,5,7,0,6,15,5,1,7,10,6,3,13,15,9,7,0,10,7,4,10,8,17,8,8,12,1,1,5,13,6,8,7,8,14,5,8,10,12,8,9,11,9,8,11,12,10,17,2,2,3,10,5,6,7,7,3,7,1,4,1,2,4,2,5,3,3,9,5,13,5,3,11,10,11,8,4,3,9,14,4,4,3,4,6,9,11,4,6,4,2,12,4,3,12,2,1,0,10,4,6,6,13,6,19,4,3,0,7,13,3,7,8,2,9,1,9,3,9,11,4,6,10,1,5,12,4,6,3,10,3,6,20,4,10,5,16,13,9,6,5,2,1,8,2,7,14,16,1,14,5,6,12,8,0,4,1,18,2,6,4,1,13,5,2,5,10,9,7,12,3,4,12,4,7,9,15,13,10,9,8,10,4,10,9,5,4,5,6,2,4,2,4,3,8,4,12,5,4,0,11,1,17,1,2,3,4,9,11,4,6,13,6,1,16,4,3,4,6,7,11,14,6,6,3,3,4,6,5,3,4,3,5,17,3,7,3,1,5,10,3,9,8,4,11,2,8,3,8,12,4,19,11,8,13,1,4,2,7,4,11,11,10,8,4,3,1,4,5,22,9,11,6,9,6,10,6,1,8,10,7,14,1,2,6,1,8,11,14,6,8,7,5,13,5,7,1,12,4,2,7,9,0,7,1,8,10,8,1,4,11,14,9,6,7,3,10,7,11,4,1,11,11,5,8,4,7,2,4,5,12,5,7,2,3,7,13,10,6,6,9,5,7,15,11,7,4,6,4,10,1,8,11,8,13,9,6,5,5,4,5,2,11,1,13,3,5,6,12,14,11,6,6,6,14,6,1,13,2,9,10,5,3,8,9,1,6,8,3,8,4,12,3,9,19,8,11,2,6,8,16,7,11,6,10,7,6,8,14,8,4,3,4,6,4,5,6,5,9,8,15,6,1,4,10,13,10,6,8,13,14,15,5,0,8,10,3,3,11,7,8,12,11,10,5,8,13,4,8,8,13,5,5,8,18,3,9,5,6,2,1,17,9,7,24,7,7,10,13,12,4,5,14,4,11,6,9,6,6,19,8,13,5,2,5,0,3,7,8,16,8,12,7,9,8,2,13,8,8,9,6,6,16,13,5,9,0,8,7,8,16,11,12,9,7,2,15,1,8,0,2,6,9,12,2,12,11,5,13,7,6,9,6,7,6,8,8,4,12,8,14,5,9,16,7,9,1,10,0,7,3,4,13,11,2,6,11,12,9,4,5,10,6,7,6,8,4,4,12,7,13,4,1,7,1,7,11,14,9,14,8,5,13,12,11,10,8,2,14,14,6,11,7,11,10,11,10,11,4,9,5,2,7,4,3,2,11,3,3,8,13,6,8,3,2,3,7,1,11,4,9,16,7,13,5,8,12,3,3,8,13,12,2,10,4,11,3,11,7,12,1,7,18,10,1,8,8,6,2,7,7,1,6,7,3,19,6,13,13,6,12,14,9,7,7,6,11,12,11,7,5,5,5,10,6,6,3,12,12,8,4,19,6,3,11,13,5,1,6,6,5,7,5,11,8,5,4,8,8,13,6,4,8,17,10,8,12,11,4,7,5,4,4,5,8,5,6,12,2,5,6,0,14,1,4,22,4,7,4,15,6,0,23,12,5,5,5,8,12,5,24,8,3,6,11,10,7,9,21,16,7,7,10,15,8,2,5,3,5,4,3,14,14,13,13,3,6,13,15,7,15,4,4,7,5,10,22,5,7,2,1,1,8,6,6,11,0,10,5,7,2,9,3,7,3,1,10,3,13,10,4,12,9,3,15,11,4,11,10,13,5,8,2,5,5,3,4,10,4,7,14,2,3,10,15,2,6,5,9,5,8,7,12,15,2,7,4,14,6,3,5,5,3,3,2,6,11,17,22,8,4,20,4,7,10,12,12,10,13,6,4,4,8,9,3,9,13,10,17,13,9,2,4,10,3,11,12,5,5,5,7,3,13,6,9,5,9,13,9,17,13,7,8,5,2,9,1,8,7,13,5,1,9,7,8,11,5,5,9,7,3,15,10,11,11,2,9,13,4,5,8,5,2,4,9,8,7,1,12,7,4,10,9,8,12,1,7,8,6,5,7,4,14,5,7,8,6,7,4,6,12,7,7,10,4,8,4,3,3,15,7,7,3,11,11,12,7,5,5,6,9,10,11,4,8,12,8,3,3,2,1,5,5,3,13,4,11,10,4,4,11,4,1,4,10,6,10,11,3,8,5,1,0,9,7,5,2,7,11,5,17,3,5,7,14,2,3,8,6,8,1,9,11,10,4,7,12,14,13,7,4,10,9,18,7,10,1,3,13,18,12,5,1,15,8,10,3,1,8,4,3,18,16,4,14,10,9,8,12,16,13,13,8,9,8,8,4,3,5,1,10,7,14,13,15,14,8,5,9,8,5,6,7,5,2,5,5,3,2,12,13,6,2,20,1,11,10,13,5,1,6,12,5,9,8,2,12,9,20,11,10,3,3,9,2,13,12,9,7,5,12,11,4,2,6,6,4,4,3,5,5,4,5,7,12,10,10,12,11,7,9,3,7,15,12,9,13,8,8,0,0,5,8,7,5,10,12,13,4,1,18,7,1,3,0,4,15,8,9,10,23,7,9,13,13,6,2,9,3,5,5,11,10,20,8,8,0,1,3,2,7,8,7,15,12,6,2,12,10,5,15,6,9,4,3,9,4,1,10,7,6,8,2,3,9,5,9,6,3,2,13,5,0,8,10,6,5,2,15,12,2,11,7,12,4,13,0,10,6,10,10,11,10,2,19,9,12,8,12,6,10,3,12,11,11,13,10,13,3,12,3,5,10,3,2,3,4,10,2,0,11,3,7,1,2,13,2,6,5,2,17,1,12,4,10,4,12,4,4,7,6,16,11,5,11,4,15,12,4,11,10,6,8,5,2,10,4,6,5,7,7,14,8,2,0,4,11,4,11,6,13,4,0,13,9,10,1,8,3,7,5,10,5,5,4,7,8,5,12,4,3,7,5,3,12,9,3,10,10,6,7,2,4,4,6,4,10,4,14,4,3,5,18,9,5,13,7,5,5,5,0,10,23,6,4,5,6,13,6,7,6,3,3,1,9,12,3,9,7,8,6,12,4,6,8,5,15,14,7,7,4,2,6,7,12,4,1,13,9,7,2,3,8,7,10,8,12,5,12,2,4,0,3,4,11,9,11,6,13,9,10,9,8,5,7,7,1,7,8,16,3,9,4,9,9,10,10,8,3,7,16,23,7,12,5,12,2,5,8,8,15,13,4,3,14,3,14,13,10,11,4,1,9,5,11,2,6,11,13,20,13,3,7,10,14,2,4,3,13,13,13,0,5,13,10,6,7,1,11,14,13,5,8,12,12,8,6,9,12,6,15,12,10,12,7,10,4,5,9,4,4,4,7,13,5,14,10,11,4,7,8,5,6,3,6,6,4,7,7,4,5,4,4,3,2,3,9,13,4,4,6,4,3,12,6,12,0,8,8,4,6,11,3,1,4,11,3,7,6,8,19,9,4,8,9,13,5,4,8,6,11,15,12,11,10,18,9,7,8,11,8,5,7,1,5,12,6,8,18,8,7,5,6,9,2,8,7,1,11,8,20,8,10,7,2,1,1,5,3,11,13,9,6,16,101,5,7,6,2,3,8,6,0,6,15,4,4,3,1,4,15,10,3,11,2,19,7,8,10,9,3,3,7,6,8,15,9,4,2,8,3,5,8,10,6,7,15,4,3,18,7,2,1,1,12,4,6,8,7,7,8,2,11,10,1,1,5,1,13,14,5,0,4,5,4,9,9,3,13,3,9,12,4,13,8,5,5,2,4,5,15,12,14,11,6,10,20,6,14,8,5,14,4,5,2,12,9,2,3,3,1,10,1,6,1,2,10,5,12,5,7,8,2,3,14,5,4,13,1,13,9,5,2,7,1,9,13,3,12,2,14,0,8,2,6,6,0,11,8,10,18,0,7,1,10,0,8,3,10,5,8,8,2,8,4,13,5,15,18,4,15,3,14,10,2,9,5,10,5,13,20,3,6,8,9,1,11,6,10,6,9,9,12,12,22,7,12,12,12,17,3,4,11,2,7,9,2,5,9,5,21,2,13,3,13,4,5,2,16,5,9,8,11,8,1,8,5,9,3,2,12,8,8,2,4,5,6,10,6,6,4,11,11,1,11,5,9,9,2,16,6,4,11,13,11,4,5,7,7,10,9,10,11,13,8,9,2,3,4,7,1,6,7,10,8,6,1,14,4,10,5,14,17,9,7,6,4,8,4,3,4,9,15,3,9,10,3,12,8,3,1,6,5,10,9,12,4,13,6,8,5,5,15,5,8,10,12,11,10,5,2,0,7,5,3,3,7,2,3,5,10,10,7,5,8,13,12,8,11,13,1,9,3,13,13,8,10,1,9,7,10,10,3,7,8,1,10,7,6,1,7,4,11,5,10,10,3,7,8,12,7,2,3,3,5,7,13,8,5,5,5,5,11,4,10,5,18,8,1,17,3,12,9,11,19,8,8,2,6,6,11,9,10,3,6,12,7,12,11,7,5,5,6,7,6,6,6,0,1,11,11,6,4,6,9,7,2,4,6,11,5,0,4,0,6,9,1,8,11,8,15,11,7,6,0,5,13,5,9,7,12,6,3,6,5,13,5,7,3,11,7,4,10,3,4,10,11,6,4,5,10,2,10,13,2,1,7,14,6,9,4,20,16,3,12,15,14,14,11,6,14,9,11,12,5,13,4,1,8,12,2,4,3,6,9,2,8,4,19,4,7,11,1,9,12,7,9,5,4,8,8,0,12,8,5,0,7,13,4,6,3,10,4,5,11,8,11,4,4,6,2,10,3,10,8,8,0,5,4,5,0,18,5,7,7,6,7,8,13,5,2,4,4,7,8,4,11,6,5,4,10,3,5,3,0,3,11,10,9,7,8,17,8,2,17,8,5,9,9,5,5,7,2,4,7,9,2,5,15,8,10,7,6,10,4,10,7,5,10,8,13,9,7,2,0,2,7,5,3,1,15,8,8,4,1,4,6,4,11,15,2,14,11,8,3,7,12,11,11,14,12,2,5,8,20,8,2,6,12,15,11,7,4,1,5,6,6,12,8,3,7,5,11,1,1,6,9,9,17,12,10,2,10,13,5,10,9,1,8,10,10,5,3,8,4,6,14,3,12,14,10,12,14,8,11,8,13,2,11,10,9,10,13,2,10,3,9,13,1,4,8,4,6,16,13,13,8,6,6,4,11,0,5,2,4,1,1,3,7,3,12,4,10,4,6,4,9,13,9,13,13,12,9,6,15,7,12,2,3,7,11,7,3,14,14,20,4,10,4,3,2,10,2,12,3,4,8,9,4,7,3,5,10,7,1,10,5,17,8,3,3,2,6,7,2,5,9,9,12,2,14,15,13,3,12,5,8,5,7,1,12,9,8,8,0,2,2,5,12,4,10,2,5,10,3,3,7,4,9,16,9,1,4,8,14,12,8,4,10,4,6,0,7,3,9,2,8,6,14,9,12,13,13,6,10,10,4,8,13,9,3,13,12,3,9,2,3,5,4,0,13,20,13,4,8,3,10,11,7,11,22,6,4,12,14,3,13,9,5,4,12,1,10,10,0,9,11,8,9,13,5,14,6,7,4,6,6,9,6,1,6,9,9,13,5,6,7,2,11,8,9,6,13,10,9,7,2,5,6,15,5,10,8,10,14,15,12,4,14,8,9,7,6,9,15,2,8,8,2,2,6,9,4,7,8,5,11,23,10,8,6,7,4,8,15,8,1,3,17,15,2,0,6,12,2,8,5,10,9,4,3,13,13,6,3,3,13,5,4,6,12,4,6,18,8,0,7,14,10,8,0,5,1,12,6,10,11,13,7,6,4,13,10,8,19,11,9,2,4,14,13,12,4,11,8,6,8,3,12,4,11,12,6,3,8,10,8,6,8,14,4,8,3,9,3,4,8,6,5,7,3,9,8,4,13,4,7,6,8,16,5,8,1,9,5,3,4,1,4,10,7,12,7,15,5,4,2,4,4,6,11,3,4,6,16,20,11,3,1,13,10,7,5,7,8,7,14,12,3,4,2,9,7,10,10,5,3,9,9,7,11,11,2,10,9,9,5,2,10,0,6,2,4,13,6,2,5,2,9,2,3,5,4,13,1,12,3,5,2,2,6,0,7,6,12,5,9,9,4,11,11,11,7,8,3,6,10,5,4,6,8,7,17,10,2,5,1,7,5,3,5,6,4,3,5,8,8,5,5,4,1,12,3,6,0,10,2,10,9,6,2,16,8,3,7,2,0,14,2,23,5,5,5,4,1,10,3,6,7,6,9,8,5,11,7,8,5,13,8,4,6,1,5,3,7,5,13,6,13,8,12,9,8,10,8,0,4,9,7,9,12,4,1,6,6,10,2,4,7,19,5,3,11,13,3,5,9,11,12,7,2,4,13,9,2,8,6,10,8,8,9,3,1,13,6,3,3,3,17,6,9,9,4,0,17,10,5,13,9,11,14,15,18,0,5,14,2,9,12,5,4,12,0,6,6,2,5,6,2,6,6,11,6,3,12,9,5,4,10,2,5,7,2,16,9,11,24,10,9,9,3,10,9,8,0,7,2,11,2,7,13,10,10,18,2,8,5,9,14,11,13,15,8,6,3,13,3,13,11,6,11,8,2,0,1,5,5,7,11,7,11,2,8,4,13,10,1,8,13,7,3,9,8,3,11,13,6,2,11,4,8,7,13,3,13,8,3,0,4,9,4,16,4,2,10,5,3,8,11,5,5,8,4,5,11,3,4,5,5,3,5,5,4,6,4,1,3,4,0,11,2,8,8,7,2,9,3,15,1,5,1,9,3,6,0,6,4,11,6,12,14,10,17,3,6,0,7,10,6,6,3,13,0,2,13,11,4,4,5,1,12,0,3,17,10,10,20,9,4,12,6,12,4,2,8,11,5,12,1,10,0,4,13,12,5,7,12,7,1,8,11,1,1,9,6,8,8,7,10,2,4,6,11,6,6,10,3,7,3,1,13,2,4,8,5,2,6,10,2,2,2,18,3,11,9,11,17,6,7,10,15,6,3,5,17,13,8,8,3,5,2,4,3,1,10,4,3,16,0,5,7,5,8,15,7,8,0,15,2,0,13,1,8,12,3,3,9,3,8,22,11,9,4,10,7,2,7,3,6,9,7,9,12,15,8,15,9,10,11,6,13,3,12,6,3,10,10,5,1,9,6,7,14,9,3,4,7,6,12,3,10,7,13,5,9,5,3,8,7,4,2,10,1,18,1,12,10,5,3,9,4,4,0,8,7,11,4,7,3,3,4,2,7,0,3,3,4,3,3,5,12,10,13,4,11,19,0,10,13,5,12,3,15,8,0,8,7,7,2,10,7,2,6,9,8,1,11,16,11,5,1,12,10,5,6,6,3,6,3,9,11,0,4,5,3,10,19,3,6,5,2,15,8,7,4,1,10,12,6,6,11,10,8,2,16,7,8,7,7,3,6,2,7,6,15,10,9,10,5,16,2,11,6,9,20,15,8,8,1,5,12,17,16,2,5,7,5,9,4,15,10,9,7,9,5,11,8,6,9,4,12,4,5,11,6,0,5,9,14,15,8,8,13,4,5,5,0,8,6,10,16,14,6,13,16,3,14,1,3,19,12,0,3,8,10,3,6,7,4,8,3,10,6,7,9,10,20,11,4,6,6,2,8,3,6,4,15,5,13,5,80,9,8,7,8,14,1,13,5,13,19,9,8,8,6,6,7,9,4,8,3,4,10,4,8,5,6,4,10,8,6,5,1,11,13,7,3,3,6,11,3,4,9,7,3,12,3,5,9,6,4,8,5,3,5,6,1,7,8,9,9,4,2,14,12,6,7,9,9,3,12,15,3,10,4,4,10,7,12,13,11,8,0,9,9,4,13,10,12,6,9,2,5,6,5,10,2,12,13,15,8,7,7,3,10,7,1,16,8,12,9,14,7,14,7,11,1,14,4,12,10,8,7,9,10,2,11,4,16,10,5,7,8,3,12,10,4,1,3,14,11,1,2,5,3,8,5,9,2,1,5,8,8,11,8,5,12,10,12,8,7,5,4,11,15,4,1,0,16,5,12,5,3,6,3,6,14,7,12,6,11,10,3,6,14,4,4,11,14,5,14,12,8,3,2,9,5,12,6,8,8,4,7,5,3,4,5,11,2,9,9,6,8,12,10,5,7,10,5,6,3,5,3,1,10,3,18,5,11,1,1,10,16,4,10,5,5,12,7,6,8,14,12,7,6,4,4,11,12,10,15,5,9,5,2,4,10,2,17,12,6,3,4,4,11,8,5,8,8,1,5,7,5,9,6,2,4,7,3,14,3,3,6,7,6,4,11,15,3,6,13,7,8,0,6,4,5,4,7,6,13,5,6,3,2,9,5,9,3,8,6,7,9,6,7,9,11,9,11,2,17,10,8,12,3,12,9,6,2,1,12,0,9,3,10,3,7,5,10,8,13,9,9,7,18,3,11,7,7,7,14,6,13,13,4,10,7,12,10,10,14,2,8,7,13,13,14,11,14,5,4,1,6,5,2,13,5,3,3,5,7,7,8,4,14,6,3,10,14,4,10,4,14,3,4,10,8,4,2,0,1,6,7,7,2,8,12,7,1,3,12,9,11,10,9,5,8,13,12,6,11,3,8,7,8,7,3,5,11,6,4,9,11,7,13,7,6,8,9,13,13,3,8,8,3,8,4,12,0,7,9,6,5,12,1,9,8,11,4,0,10,13,6,5,1,9,3,8,4,0,6,9,11,7,3,2,10,9,5,7,7,4,6,10,9,6,1,11,11,3,3,10,5,5,4,4,10,9,9,0,7,4,8,13,10,6,9,10,10,2,12,5,8,9,7,6,3,12,15,8,4,12,1,10,11,15,1,10,6,18,3,7,7,12,9,4,10,2,4,9,11,3,11,7,11,9,4,6,7,6,14,6,7,6,1,15,11,1,10,5,3,13,8,4,18,4,8,1,10,3,10,6,4,19,9,12,7,10,13,13,4,5,6,6,0,8,10,6,2,7,14,15,2,20,8,6,12,2,16,3,14,5,7,2,9,3,7,9,8,16,25,11,16,8,6,15,15,7,6,10,10,12,3,7,7,7,8,7,14,3,5,10,5,2,5,15,5,14,1,10,1,6,4,10,7,6,2,11,3,7,12,5,11,2,10,6,7,14,4,8,14,3,2,2,9,10,5,11,10,4,2,6,5,4,5,7,7,5,4,5,8,16,6,6,8,11,12,9,4,22,10,7,7,3,9,13,5,1,8,1,6,5,0,6,0,7,20,3,3,6,6,13,4,8,3,9,5,9,4,7,8,1,7,5,10,9,8,22,2,7,22,6,8,7,7,1,13,4,4,8,2,6,3,6,14,6,8,9,14,5,4,8,14,1,7,2,2,8,4,15,4,8,3,18,11,3,10,4,11,4,4,10,14,2,15,5,11,2,5,6,9,6,11,5,6,2,3,6,11,2,13,11,5,5,11,16,10,6,3,18,6,6,6,3,13,3,6,13,2,6,15,12,5,11,4,3,2,5,10,0,10,2,11,7,11,1,2,2,4,1,4,10,9,8,6,0,11,18,10,5,12,3,9,14,5,8,8,6,6,6,4,11,16,3,6,0,11,15,5,1,5,6,4,1,11,4,19,0,2,1,16,7,8,6,12,2,4,7,6,19,5,2,7,10,10,3,7,7,12,11,7,2,3,2,10,10,4,12,11,0,5,8,13,1,8,8,14,5,5,11,6,6,5,12,14,11,6,3,5,7,16,8,10,7,1,8,2,2,9,2,17,7,9,11,6,10,5,9,7,9,4,7,2,6,6,3,12,7,7,5,1,10,4,10,4,7,7,11,6,12,3,7,2,10,9,4,3,7,4,4,4,19,8,6,6,9,1,4,7,2,6,10,5,22,8,7,9,6,6,5,1,3,4,6,9,8,12,8,12,11,1,13,8,8,10,12,5,6,4,9,5,6,14,7,3,6,16,6,8,19,2,15,6,8,5,5,6,3,4,10,8,15,12,6,9,11,23,3,4,9,5,3,2,11,12,3,3,7,6,5,13,5,6,5,10,8,9,4,9,13,0,11,6,14,2,5,10,3,11,5,5,5,0,9,18,4,4,9,16,7,5,6,7,15,5,7,7,3,10,0,1,2,1,6,14,5,9,13,5,3,2,10,9,1,12,7,4,13,5,9,8,0,9,5,9,2,3,6,7,1,13,14,28,10,8,11,7,10,11,4,6,4,10,6,0,10,13,11,14,10,5,11,8,13,11,3,5,11,13,3,18,7,11,9,5,8,7,4,4,1,7,4,6,7,12,5,5,15,4,7,6,5,5,6,3,8,12,8,8,3,9,10,3,1,4,15,9,12,2,15,7,8,4,13,6,7,3,6,11,4,3,2,8,12,8,8,9,1,15,6,7,7,7,13,5,2,8,7,7,2,5,6,6,10,12,16,12,8,8,10,5,2,5,6,5,7,2,11,8,15,7,1,6,13,1,5,14,3,0,7,0,2,10,11,4,1,10,8,12,17,7,11,6,3,11,11,8,10,16,9,8,5,10,3,18,6,13,15,15,12,7,2,9,2,13,6,2,8,10,5,13,7,3,4,3,16,12,4,5,2,9,12,7,5,3,8,14,5,12,1,9,7,9,8,4,10,9,7,6,6,6,9,12,3,5,11,18,10,16,13,4,3,1,17,7,7,12,6,8,6,7,1,5,9,4,4,5,16,3,6,6,9,6,0,7,14,3,4,9,6,6,7,9,7,7,3,7,10,2,5,3,10,4,5,9,8,2,9,3,4,7,9,4,8,15,14,6,16,15,2,5,5,14,7,22,4,15,7,12,5,3,3,2,14,3,11,13,16,4,6,2,7,6,7,12,13,6,4,7,14,7,12,2,9,5,8,8,13,5,6,1,5,10,7,9,14,14,12,8,5,2,6,3,8,12,12,4,2,9,5,14,16,9,13,11,2,7,11,13,12,4,13,4,10,10,5,3,7,0,4,7,7,12,5,14,7,2,12,5,21,6,6,3,9,4,3,3,18,17,8,3,6,11,3,1,1,7,2,5,7,3,10,4,6,7,7,5,4,7,3,5,5,9,1,6,6,12,12,2,9,3,21,10,8,1,7,8,14,8,6,9,10,2,4,7,10,10,6,14,3,9,4,8,15,10,6,3,14,3,4,8,4,2,2,10,8,6,3,6,3,3,7,9,8,17,7,6,6,0,3,1,13,6,4,23,2,5,11,6,12,10,4,3,4,8,3,9,5,1,5,0,3,0,9,6,3,5,12,0,6,12,5,3,2,3,0,3,4,10,12,6,6,5,3,4,4,15,2,5,2,2,5,8,4,10,12,11,15,8,1,5,2,7,4,3,3,8,12,3,1,9,3,11,3,7,2,9,12,6,7,9,13,9,1,10,10,11,11,0,2,12,6,0,5,9,6,1,13,16,11,7,1,10,10,4,6,0,4,10,14,0,9,6,25,9,5,16,8,8,3,1,3,13,7,1,6,10,10,5,0,5,1,9,3,17,7,9,1,7,6,4,8,4,9,5,7,9,10,8,1,4,6,9,9,3,3,5,6,4,2,17,1,2,9,8,4,12,2,6,4,9,3,14,1,8,9,4,12,6,7,9,4,3,8,4,3,9,12,11,3,3,9,13,4,2,25,7,13,3,13,13,7,9,11,10,17,4,2,7,5,5,1,4,7,5,6,13,11,8,5,4,14,1,7,6,21,11,6,14,6,5,13,5,7,2,3,1,2,10,8,13,10,10,6,8,8,1,5,2,10,4,8,6,6,3,15,4,1,16,13,5,7,13,1,0,0,7,7,16,10,11,14,4,1,5,9,13,9,12,9,1,1,0,4,1,2,12,13,22,14,3,6,14,12,6,13,9,5,12,6,11,3,4,4,10,11,7,11,10,7,3,6,9,4,8,8,10,3,9,10,2,10,9,5,6,5,5,11,3,14,1,19,5,4,11,8,9,5,17,7,3,13,10,15,8,9,5,4,11,6,12,8,1,4,7,8,7,2,5,6,13,3,0,7,5,6,6,6,10,8,3,6,9,4,9,15,7,17,5,6,14,11,14,11,5,5,8,3,7,12,2,9,12,2,8,7,7,5,7,5,7,6,8,6,2,9,4,2,6,11,7,9,4,7,3,1,10,2,14,10,5,19,10,15,22,9,3,9,7,7,5,10,4,7,10,11,2,8,2,9,11,9,21,11,6,7,4,9,9,6,2,3,7,4,9,4,9,14,3,12,2,10,4,3,4,4,9,11,5,9,4,7,12,9,9,2,10,9,8,8,8,5,13,3,10,5,12,12,2,4,7,1,10,2,5,6,15,8,7,4,15,3,8,17,8,7,16,6,8,8,9,8,11,11,5,0,8,4,10,9,9,3,3,6,12,3,12,6,4,4,7,1,14,11,2,5,0,16,10,8,7,12,3,5,14,8,5,19,4,2,9,15,9,3,5,11,19,0,7,5,10,11,9,7,7,11,8,12,5,2,10,4,7,13,2,0,12,10,5,11,1,10,9,8,1,2,7,13,6,3,12,9,3,5,11,13,3,7,10,5,5,5,10,5,10,2,11,7,6,10,10,9,7,12,7,5,8,12,8,11,15,9,14,2,6,3,3,8,7,8,3,2,6,4,4,1,8,7,5,9,4,13,7,18,3,5,12,4,10,7,4,9,5,1,8,13,9,3,4,4,6,4,10,6,13,4,8,7,8,5,7,13,1,4,12,5,5,14,2,5,13,1,5,12,11,5,6,17,12,5,5,9,3,13,8,5,8,7,2,13,2,9,3,3,1,13,7,5,4,1,14,3,10,5,0,7,2,7,6,4,1,7,4,7,7,9,4,4,5,18,4,6,10,5,7,5,5,3,8,1,6,2,5,5,10,10,8,3,8,9,11,10,11,2,8,4,8,6,10,14,5,6,4,4,17,6,2,12,7,8,11,5,2,5,9,7,8,5,14,7,13,9,5,4,9,5,11,10,2,6,9,13,7,4,14,1,19,8,15,7,6,6,11,11,11,15,4,2,9,17,14,9,3,4,9,18,6,8,8,6,3,9,6,7,7,2,10,1,9,12,7,9,7,8,4,15,9,14,10,5,3,10,1,4,8,9,3,12,4,9,16,5,7,5,2,6,8,17,13,14,12,2,9,11,9,16,10,7,15,5,12,2,3,4,0,5,4,10,2,6,10,6,2,18,1,4,3,2,4,8,6,4,1,13,8,14,3,15,3,4,3,12,9,11,10,2,2,8,9,8,10,5,4,12,5,9,5,9,6,14,11,1,11,8,7,11,6,7,3,2,5,4,2,12,7,9,2,12,2,4,4,16,17,10,4,5,9,4,4,6,3,1,1,6,13,16,3,7,17,13,8,2,12,9,5,2,11,13,3,8,9,1,6,3,11,3,8,10,0,4,0,8,7,8,7,6,13,9,6,7,13,7,8,5,11,4,16,18,2,3,3,12,3,5,9,9,1,5,14,12,12,10,5,9,7,6,1,8,5,5,9,2,2,5,6,7,4,5,8,5,6,5,3,15,4,6,3,14,3,8,4,7,5,6,0,1,6,12,7,2,14,7,17,6,15,10,8,6,9,17,6,3,7,8,9,9,1,1,2,3,0,9,15,10,4,8,8,6,3,17,7,2,4,4,11,3,7,7,8,5,1,10,5,14,5,10,15,12,13,9,2,10,10,6,9,5,3,2,11,4,6,11,1,12,3,10,5,10,9,15,3,6,1,5,7,7,17,3,8,6,9,12,4,4,6,9,12,7,6,3,22,15,6,5,5,4,8,2,13,9,11,11,8,13,6,2,5,6,9,8,2,10,8,14,4,4,12,8,4,6,13,2,3,2,3,5,10,15,3,9,2,13,5,9,12,12,3,5,0,3,8,10,0,8,9,10,10,11,5,6,14,18,20,8,2,5,13,12,9,10,5,10,4,8,7,12,13,13,6,9,7,6,14,2,8,11,12,3,6,6,4,9,14,10,3,2,2,10,7,6,5,8,11,6,7,7,6,11,2,6,4,8,1,4,12,12,13,6,24,8,5,14,9,14,6,6,5,7,2,4,0,10,0,9,5,7,4,14,12,13,8,14,11,5,2,10,5,11,3,25,8,9,13,5,4,2,7,7,6,10,13,10,10,11,12,5,3,4,8,6,4,11,7,16,11,11,4,6,7,6,11,5,17,7,11,6,25,7,4,14,9,9,15,7,24,4,7,8,12,6,1,6,3,6,3,11,3,8,4,8,15,4,4,8,1,6,7,21,10,2,17,2,2,15,3,9,4,7,10,2,6,1,9,4,7,16,17,5,4,15,7,2,9,2,2,1,6,7,2,6,12,8,11,2,3,5,14,11,14,9,11,6,11,13,5,1,9,5,12,13,11,2,13,10,5,9,18,8,5,5,2,20,24,6,0,6,9,8,12,0,8,7,12,3,8,11,12,4,2,8,8,8,0,5,13,7,12,2,12,8,5,8,12,4,2,7,10,17,18,5,3,1,13,6,5,6,16,3,12,9,3,6,5,7,20,11,12,3,13,13,3,3,15,2,12,8,7,8,7,6,9,9,15,2,3,4,7,4,4,5,7,12,8,14,13,7,6,10,1,7,11,4,3,5,9,15,1,4,9,5,7,6,12,9,4,5,8,12,12],\"xaxis\":\"x\",\"yaxis\":\"y\",\"type\":\"histogram\"},{\"alignmentgroup\":\"True\",\"bingroup\":\"x\",\"hovertemplate\":\"color=gender<br>tweet_length=%{x}<br>count=%{y}<extra></extra>\",\"legendgroup\":\"gender\",\"marker\":{\"color\":\"#EF553B\",\"pattern\":{\"shape\":\"\"}},\"name\":\"gender\",\"offsetgroup\":\"gender\",\"orientation\":\"v\",\"showlegend\":true,\"x\":[15,19,9,2,27,15,14,12,1,5,10,12,14,27,29,11,23,9,14,7,9,19,8,11,6,8,17,11,5,12,25,8,2,15,3,8,12,26,8,7,12,12,11,8,25,14,13,11,8,17,11,9,2,26,24,0,22,10,12,13,5,7,19,8,9,4,4,22,4,5,20,8,15,12,7,23,13,10,7,14,34,15,17,20,10,11,10,22,25,8,33,15,2,15,14,10,4,25,29,23,13,26,9,16,11,8,10,21,29,20,5,12,10,25,27,9,12,35,6,8,6,9,30,7,17,8,5,13,12,12,19,9,10,16,26,6,26,11,13,22,9,19,1,18,12,7,5,10,24,16,9,12,21,12,11,16,15,10,14,10,11,25,10,17,23,14,31,8,28,8,9,14,6,11,25,15,16,10,2,7,9,3,24,5,11,9,18,17,13,10,15,8,12,25,5,10,9,18,18,4,22,30,3,7,24,29,3,18,26,13,9,8,18,11,11,26,10,11,14,15,1,8,10,30,22,1,12,14,14,5,7,15,13,11,17,6,10,32,13,19,4,9,8,12,7,15,1,17,8,7,25,33,12,6,6,6,18,7,10,16,8,13,16,7,10,17,17,17,9,26,11,11,14,10,3,16,12,1,10,10,11,16,6,5,7,6,35,6,15,14,10,12,11,10,18,14,11,25,7,29,27,8,22,5,25,3,17,28,19,6,9,13,26,24,3,4,8,8,3,9,5,3,7,5,9,10,7,24,11,20,4,13,24,8,20,18,13,12,17,10,27,7,23,3,8,10,12,15,15,2,6,12,6,10,5,13,20,12,24,26,21,11,8,10,15,11,8,9,11,5,6,22,6,25,16,17,7,15,12,15,11,9,22,13,14,23,8,6,25,28,21,11,13,10,26,19,16,13,7,30,8,27,14,16,13,15,13,15,4,8,14,14,2,27,14,13,6,10,13,2,13,3,14,29,10,12,27,13,4,12,6,12,17,4,6,10,14,13,12,23,11,15,8,11,20,8,11,12,27,12,6,7,23,13,30,14,30,11,6,15,18,5,10,12,18,18,8,9,11,9,22,10,11,15,12,6,9,32,22,14,12,37,14,14,5,6,13,7,7,8,27,8,13,22,5,6,13,27,11,3,0,12,3,4,13,7,7,11,9,11,8,5,0,14,2,3,38,22,11,4,22,13,8,9,16,14,24,13,22,24,15,4,9,8,8,14,17,17,17,17,31,11,5,9,13,13,12,9,11,5,14,12,3,20,27,12,9,13,1,32,14,13,15,20,24,13,14,14,24,24,15,11,13,7,12,6,11,3,27,11,13,14,10,14,7,6,15,9,24,9,13,12,14,30,11,15,27,28,31,0,11,10,22,5,14,11,22,6,11,5,9,25,12,6,10,16,8,12,11,11,7,9,16,14,27,11,8,8,13,30,29,18,9,8,17,16,2,25,8,12,20,16,6,14,5,8,14,25,4,29,23,13,6,4,12,10,5,10,15,6,3,6,3,10,12,9,16,24,9,16,30,10,29,10,8,26,5,7,14,9,24,0,12,7,11,16,13,14,26,9,12,16,11,3,15,7,15,3,5,12,16,4,8,3,8,17,12,9,14,16,13,4,12,8,0,12,26,12,26,26,5,25,10,12,17,14,7,10,19,23,9,11,12,15,16,28,33,8,35,15,15,8,30,16,9,9,13,8,4,0,0,9,14,28,9,22,8,24,7,19,16,9,7,6,13,22,25,8,8,9,15,11,9,21,8,9,13,3,4,13,14,11,6,17,16,25,22,18,16,10,22,6,18,14,30,3,10,7,7,2,10,10,8,14,7,17,5,30,9,30,15,3,21,8,16,18,12,23,9,5,8,10,10,5,13,9,12,7,1,21,1,16,9,28,13,28,19,4,14,4,19,22,32,11,16,19,16,9,7,5,11,15,9,10,14,20,9,16,3,16,13,4,14,19,1,10,11,2,14,7,8,13,1,6,11,10,17,5,3,14,15,5,8,25,12,2,23,17,20,18,24,9,13,26,14,27,21,10,22,26,22,14,26,14,10,11,17,12,19,0,12,15,6,30,4,11,10,13,11,11,6,4,10,5,2,10,9,28,9,18,5,14,16,14,12,7,14,2,6,13,14,16,4,6,10,20,4,10,10,14,10,35,12,7,6,16,10,16,11,10,1,6,13,8,23,33,7,26,7,16,14,10,10,14,16,26,26,15,5,22,11,10,14,7,12,12,13,14,3,29,8,23,4,12,12,7,9,24,6,13,7,5,14,14,17,8,8,13,18,10,7,17,15,8,16,17,10,15,10,16,15,22,16,8,27,21,13,2,10,6,18,9,6,6,2,3,3,16,14,11,20,20,12,16,9,3,7,9,16,16,10,12,15,18,13,11,15,28,14,9,12,12,8,10,10,29,11,2,31,24,18,11,8,14,24,10,14,18,15,8,7,29,29,28,15,25,7,12,7,12,9,5,13,11,17,6,15,14,21,29,21,13,33,22,16,18,9,15,11,27,5,13,7,10,12,12,1,9,10,13,0,9,4,7,9,30,9,11,33,14,16,27,14,11,10,9,12,9,30,13,10,8,16,3,9,2,10,8,13,23,9,4,10,10,6,11,22,9,6,15,13,9,29,15,8,20,11,28,13,2,6,16,13,11,33,6,11,14,15,12,11,16,30,9,7,30,23,15,18,4,4,19,30,8,12,29,2,9,10,23,8,29,14,8,8,32,10,6,10,12,16,12,27,11,8,10,8,22,3,18,7,9,11,25,13,32,11,7,7,9,14,5,10,12,15,9,4,8,14,2,14,11,11,24,9,14,16,11,24,14,6,11,13,15,6,15,30,22,24,20,7,4,14,16,12,11,1,17,8,5,13,17,11,15,11,4,12,7,14,9,5,10,16,15,7,7,18,25,8,24,11,32,17,8,17,14,17,18,3,6,24,11,14,11,15,8,9,10,12,15,7,5,4,10,20,13,11,7,3,8,33,27,4,7,9,10,13,4,16,14,7,12,13,14,6,18,6,6,13,7,8,10,28,22,16,12,16,28,10,10,10,14,14,7,11,30,30,31,8,13,14,8,7,11,23,30,15,8,5,11,9,15,6,12,14,10,5,6,22,9,6,29,12,6,19,4,28,25,10,12,8,11,15,14,12,14,14,12,22,11,11,19,10,12,25,9,15,21,15,13,32,5,13,6,16,6,10,10,28,13,9,12,29,19,6,9,29,6,15,12,7,16,10,12,8,12,17,17,19,10,14,26,15,11,6,26,8,7,14,8,5,24,10,12,14,8,15,8,18,30,12,5,6,14,23,6,8,11,14,16,13,15,12,16,12,10,7,23,29,15,17,6,10,10,4,11,12,8,25,30,16,12,20,9,2,13,9,7,7,28,26,8,13,10,6,24,12,27,11,14,5,12,14,26,6,3,15,12,22,6,14,11,17,12,5,13,5,28,7,9,12,8,31,9,4,9,22,11,22,10,4,2,31,11,9,2,8,16,8,13,13,13,17,11,4,8,7,10,16,10,8,20,4,20,9,14,12,28,5,20,5,9,9,11,7,3,14,9,11,2,14,18,11,4,11,9,13,9,24,12,6,21,22,28,16,7,14,12,11,5,6,11,16,14,2,14,21,9,17,20,27,10,13,8,5,14,10,8,18,24,10,10,13,15,11,6,28,3,13,6,9,30,16,11,7,7,13,5,7,9,15,14,24,2,11,8,28,8,4,11,19,1,7,22,15,6,10,15,5,14,1,11,6,7,23,32,33,14,16,13,17,22,27,3,5,12,15,8,23,20,9,12,9,6,8,10,11,11,10,12,12,11,9,36,32,9,16,13,12,13,14,5,25,13,2,11,7,10,4,5,26,10,12,23,26,6,10,8,14,11,9,8,7,23,11,11,10,8,25,29,6,11,12,10,12,3,17,18,17,18,15,14,26,12,19,10,13,9,11,16,8,8,7,6,27,9,6,15,8,11,23,24,8,6,19,7,33,26,12,11,7,24,10,14,1,13,19,14,29,23,13,7,7,5,11,11,16,28,25,11,4,9,15,32,13,12,7,22,26,11,9,11,7,12,12,13,18,9,30,14,14,40,12,8,23,12,2,9,13,7,1,29,6,15,17,6,0,6,8,12,16,12,11,12,9,12,8,9,5,7,13,8,28,8,14,13,1,25,5,8,8,7,11,19,19,30,3,19,13,5,13,12,13,12,6,29,9,9,10,2,13,15,11,13,9,12,12,21,14,13,10,11,28,14,25,8,17,15,9,13,8,22,13,9,3,5,16,9,5,8,11,23,11,18,31,15,15,9,10,10,24,21,8,12,13,7,12,13,14,7,16,11,13,13,11,6,10,10,6,13,6,6,14,6,5,17,27,23,14,2,5,8,13,12,3,9,29,27,4,10,22,10,22,8,8,2,7,12,20,30,10,25,2,25,26,32,8,13,24,7,3,9,23,25,8,20,14,11,12,5,8,17,9,2,27,14,5,9,13,7,10,14,13,6,15,2,10,19,13,4,18,22,16,11,9,12,6,24,16,12,11,26,27,9,28,8,8,8,13,15,12,25,14,11,13,15,12,0,15,15,2,14,13,6,8,15,0,14,14,9,12,4,17,18,25,11,17,21,17,5,17,4,6,16,11,11,11,13,12,12,18,8,16,12,22,8,7,10,10,19,17,9,3,12,7,7,10,8,8,7,16,11,15,6,11,7,26,14,2,9,12,29,14,6,27,7,14,9,7,22,29,4,17,7,24,24,15,7,5,3,8,5,13,17,36,9,17,3,14,28,8,19,14,12,29,14,2,36,7,8,4,12,12,10,7,5,19,5,22,3,10,5,22,8,7,15,5,11,12,15,13,25,6,20,26,16,2,31,6,8,26,11,9,19,18,13,2,15,8,27,12,2,6,9,7,12,22,11,9,5,12,8,15,9,2,15,12,20,13,10,13,2,17,1,9,19,16,15,15,14,16,12,9,16,6,11,16,9,7,23,15,14,12,32,10,6,6,3,22,19,0,11,20,12,10,15,15,9,9,11,2,6,17,9,14,8,24,15,9,11,6,5,30,10,13,12,12,5,27,11,10,10,14,13,16,9,8,9,14,8,11,14,12,11,7,9,9,5,10,16,6,8,17,9,11,12,16,4,5,15,26,12,9,13,8,13,18,8,16,10,11,11,12,31,16,17,12,11,5,13,14,6,8,16,14,26,25,9,8,8,11,6,9,19,26,10,23,30,6,12,13,14,11,23,12,10,17,18,7,4,16,14,9,16,17,12,1,2,25,16,22,11,15,20,2,33,7,7,24,16,15,10,11,11,12,24,1,25,19,14,24,8,2,30,5,23,6,11,21,5,5,11,26,19,10,11,6,16,14,19,22,13,18,4,17,10,11,15,17,30,6,9,15,16,7,5,4,23,8,6,7,12,8,16,7,14,17,3,2,8,27,5,29,8,25,11,8,13,11,16,1,9,11,25,11,13,12,12,13,17,12,11,4,5,18,12,14,13,16,5,23,10,13,26,11,30,6,13,28,14,17,5,7,25,12,10,10,14,15,8,6,10,18,22,6,19,29,8,12,20,7,32,26,14,24,13,13,11,11,11,12,6,15,15,29,9,7,11,11,18,4,8,6,15,10,3,8,14,25,16,11,18,15,4,13,14,9,29,35,11,31,30,5,13,11,6,7,11,19,10,11,15,11,26,9,9,9,21,10,17,32,13,11,5,23,21,9,19,7,13,5,25,2,13,11,15,20,13,4,10,8,5,25,14,3,22,23,4,11,13,14,8,7,9,15,24,10,20,35,8,27,10,6,14,8,7,2,7,10,15,13,28,9,6,10,10,3,24,5,7,5,11,9,10,27,0,11,7,9,11,16,11,3,7,4,19,9,14,9,16,11,23,15,9,12,4,12,27,15,8,10,4,19,9,9,17,21,4,8,6,3,9,5,14,13,0,29,9,14,13,14,11,5,4,14,9,12,21,19,30,14,14,10,4,15,12,13,20,10,14,11,14,13,13,14,9,10,4,15,8,10,13,27,22,9,26,4,7,8,27,8,12,11,12,13,10,8,14,8,11,10,25,12,18,4,14,11,17,12,15,18,16,6,0,14,9,7,23,14,15,11,18,8,5,29,16,15,5,10,24,7,23,6,17,19,15,9,0,2,4,10,28,8,14,12,12,8,16,16,31,30,6,12,24,15,28,8,6,14,23,12,28,7,28,12,4,11,17,16,19,9,13,11,18,6,6,14,4,6,35,4,12,9,11,28,14,11,0,15,22,28,17,21,23,22,11,12,3,9,11,24,8,8,10,24,22,25,2,1,14,23,25,12,8,5,3,27,5,4,7,35,6,7,7,21,17,1,7,1,21,18,3,24,9,11,21,9,11,15,28,17,10,9,4,15,6,7,13,22,14,23,14,10,12,20,12,9,14,9,14,26,2,27,15,14,7,8,7,11,12,4,27,8,13,14,13,7,5,19,6,14,17,13,11,12,8,11,13,27,1,3,8,14,9,18,14,11,4,3,8,5,10,3,26,2,11,16,6,12,18,15,20,13,6,18,5,22,26,19,11,24,6,14,11,5,16,8,23,10,9,2,10,16,16,13,13,5,27,16,15,11,6,26,15,28,11,5,18,22,12,21,29,16,14,15,13,10,9,21,10,30,6,16,13,12,19,8,5,13,2,35,13,24,15,14,16,9,22,15,23,14,3,24,10,8,19,15,122,24,5,23,26,9,17,23,24,12,2,27,11,5,11,13,13,31,19,17,10,7,10,6,2,17,14,6,10,10,17,9,28,21,17,12,15,13,9,12,29,14,15,13,9,2,9,11,12,8,12,10,23,30,18,19,30,7,29,4,11,5,6,9,14,9,10,9,11,13,8,15,14,18,4,7,9,23,14,24,15,11,11,5,16,23,7,12,12,2,0,6,9,10,18,12,12,16,7,5,25,10,8,26,27,28,4,17,15,2,11,26,12,26,10,14,1,13,14,14,20,4,14,31,11,13,14,9,7,5,16,18,12,31,23,12,12,7,27,15,6,12,9,11,15,23,2,16,14,7,12,13,24,14,10,8,5,12,13,16,32,7,8,8,5,9,5,7,1,15,14,7,20,8,18,27,10,14,22,32,8,9,15,10,5,16,6,12,13,5,3,13,21,14,10,5,9,13,11,8,9,4,12,18,8,10,26,25,13,14,14,10,31,17,30,22,29,7,18,19,20,20,4,14,26,9,20,6,11,6,11,5,20,11,4,16,14,6,11,17,5,8,11,4,14,9,13,12,10,16,8,5,11,31,12,12,23,13,13,13,20,1,28,10,14,15,8,1,23,17,10,22,7,11,8,8,19,15,32,12,12,18,7,15,24,9,24,11,7,5,12,13,8,13,9,17,7,7,12,17,4,13,23,11,15,16,8,17,8,7,8,13,8,7,10,15,9,11,9,9,9,3,14,26,16,4,17,16,6,10,18,18,12,11,3,17,25,11,8,10,5,13,12,8,18,11,13,0,5,11,26,12,14,8,15,7,14,10,37,13,8,13,11,28,11,8,1,13,12,18,6,9,16,15,5,24,9,14,6,22,6,11,15,14,21,8,7,9,29,7,8,9,12,8,12,4,4,6,26,16,14,11,11,9,9,9,7,13,15,13,7,11,24,11,14,8,1,13,7,18,15,15,13,13,13,6,11,12,6,8,12,8,10,9,16,9,12,11,12,20,32,12,11,24,16,6,10,18,16,10,21,14,18,8,17,14,1,13,12,28,7,13,12,11,15,13,9,1,15,9,6,16,22,18,34,4,23,13,28,24,17,13,4,18,24,12,5,25,11,6,12,23,14,26,4,9,11,22,4,8,12,8,15,19,13,8,13,3,7,33,20,11,24,6,20,7,3,13,14,26,5,7,8,15,10,27,15,13,16,11,13,9,17,6,31,21,29,9,16,28,13,5,9,13,9,11,19,8,12,5,24,34,11,13,15,20,10,21,17,15,14,17,27,2,12,11,5,1,9,16,6,9,3,26,19,16,28,25,7,12,12,10,8,4,10,20,29,1,14,6,24,7,10,7,23,7,14,27,15,24,10,7,23,10,11,25,14,42,13,8,5,25,22,10,31,13,2,10,8,25,8,12,23,14,4,30,14,20,9,16,9,12,6,17,13,0,9,24,3,3,13,27,5,14,16,8,13,7,11,19,13,30,17,8,10,9,6,7,13,10,19,29,28,28,15,34,3,16,26,26,11,10,12,8,8,16,28,25,27,15,10,14,11,7,26,13,14,21,0,11,10,12,13,5,11,9,11,20,22,13,14,10,11,20,2,3,11,10,0,16,3,3,3,29,13,9,4,3,7,11,14,15,10,23,8,10,8,14,24,15,7,3,13,6,14,27,5,9,3,17,18,6,11,7,11,19,10,11,26,5,5,12,8,12,13,8,17,16,14,6,30,6,28,9,11,14,14,12,15,4,6,8,10,13,10,12,35,12,8,11,14,12,11,23,14,10,26,5,10,16,9,9,14,17,27,25,14,10,11,9,12,4,13,6,15,21,15,23,12,5,23,17,7,9,1,27,6,19,11,18,13,22,36,9,7,2,15,2,6,13,14,19,4,7,8,10,28,8,8,8,12,9,15,7,1,9,6,7,14,26,8,15,27,23,1,16,6,11,9,6,7,13,20,15,30,11,12,7,24,13,17,12,13,24,9,12,8,8,19,12,6,14,24,18,6,5,14,3,14,9,6,28,14,30,3,12,11,20,8,25,8,12,8,13,10,6,10,17,11,24,15,8,14,0,29,18,13,9,8,21,4,5,6,8,4,27,17,36,6,10,9,8,12,8,12,18,5,5,29,29,13,3,6,25,7,13,26,8,3,14,30,2,4,8,3,15,17,14,13,31,8,9,13,34,11,9,11,9,14,24,15,15,16,12,3,12,25,13,20,26,29,3,30,8,13,6,9,18,9,5,13,14,11,10,11,9,13,6,10,13,14,15,5,12,6,7,17,7,19,8,7,15,16,5,15,12,14,9,4,15,31,15,11,23,12,26,13,11,11,9,10,28,14,17,13,9,5,8,11,17,14,23,12,26,22,24,11,11,30,13,11,28,5,7,14,10,9,12,25,15,31,13,11,4,20,9,15,6,12,7,29,9,3,15,8,15,11,4,27,13,6,12,9,13,12,16,7,11,5,7,14,14,30,20,11,15,0,12,6,8,8,11,5,16,4,13,16,17,18,1,8,16,5,32,13,25,9,5,13,21,5,13,14,12,16,9,12,5,14,13,25,8,9,26,8,8,13,3,9,29,33,30,24,12,10,15,26,27,28,12,13,16,4,7,6,13,6,18,12,10,1,12,10,9,1,17,15,13,4,13,8,17,12,25,13,6,17,13,1,0,17,7,12,10,12,12,27,10,12,15,1,10,18,3,16,14,22,12,6,7,8,8,13,7,1,14,9,12,13,20,13,6,1,9,24,13,6,14,16,11,5,23,11,1,29,19,5,5,16,27,8,10,15,7,5,10,12,7,8,10,15,9,7,13,13,19,6,12,12,1,6,9,6,14,12,5,14,12,20,1,29,13,21,13,18,14,21,8,8,8,3,8,28,6,11,5,12,9,7,9,6,13,9,10,12,21,2,12,30,23,11,1,27,32,8,12,4,12,18,17,11,6,7,7,7,26,20,10,14,4,3,24,11,11,12,29,9,26,16,12,9,7,11,12,7,5,15,20,17,5,17,9,25,28,19,6,21,12,18,8,20,12,28,27,18,10,4,6,22,27,12,10,9,15,11,11,14,4,11,20,20,6,32,15,15,14,8,9,8,12,11,12,5,12,14,13,12,12,11,21,0,10,10,10,3,21,19,6,15,12,38,25,20,29,38,16,26,12,10,15,10,16,25,27,10,11,7,16,9,16,10,21,10,19,13,13,15,9,14,21,5,14,6,9,16,6,2,9,4,23,13,5,12,16,19,23,10,0,4,14,26,20,30,3,9,10,12,14,19,14,6,10,13,27,21,12,7,13,10,12,10,20,28,1,5,23,14,11,7,9,4,10,13,25,10,16,1,11,10,8,14,6,26,10,11,13,12,16,24,2,31,9,4,27,9,31,24,10,5,10,31,12,20,4,20,8,14,2,12,8,13,15,22,6,17,12,28,2,6,24,13,10,6,2,11,7,12,14,15,9,12,27,30,9,16,2,12,11,17,9,16,11,10,11,11,14,41,13,6,9,13,16,10,12,0,10,7,11,8,17,27,13,16,11,4,9,15,18,15,18,15,7,19,8,14,4,7,11,7,13,6,12,12,6,6,12,7,14,1,14,9,5,10,11,19,21,7,12,6,5,6,8,13,18,6,17,12,3,18,10,13,9,27,8,6,24,9,16,3,25,14,10,11,18,13,11,11,13,16,8,18,10,16,23,5,21,15,17,9,28,29,24,12,3,22,8,29,13,12,3,5,18,11,18,12,8,40,4,23,11,12,11,7,10,15,25,6,6,11,14,10,11,8,10,18,11,8,14,8,9,17,14,20,15,5,13,12,15,16,6,13,10,7,11,13,8,9,7,19,11,5,7,14,15,32,9,5,3,12,6,16,10,13,12,5,12,10,28,6,12,0,8,11,14,14,6,11,18,5,11,8,28,18,5,5,14,6,16,22,11,6,16,7,26,12,22,16,15,6,13,27,10,9,5,23,11,9,19,28,9,18,13,15,15,6,8,10,31,10,7,14,7,14,6,11,10,3,13,21,3,22,17,8,27,13,7,2,19,17,5,9,12,3,8,0,11,11,10,19,20,5,15,5,17,5,31,11,13,11,14,6,6,20,11,27,15,14,8,17,10,8,21,7,26,5,12,23,13,11,7,4,10,15,4,12,14,9,9,9,12,24,2,12,2,7,25,15,10,18,11,1,11,29,7,5,6,11,9,4,25,11,9,27,15,8,15,13,7,7,17,5,22,21,31,18,24,9,11,30,10,25,11,9,16,19,15,28,6,16,8,6,12,8,2,11,1,9,21,13,15,6,16,11,27,11,13,9,22,24,3,14,14,10,8,11,12,5,22,26,5,13,2,6,12,15,27,14,15,2,7,14,14,28,11,10,15,13,20,11,13,32,5,10,27,12,19,16,7,8,14,6,12,27,4,6,17,15,19,15,24,8,22,14,17,28,7,8,11,9,12,33,13,0,11,15,29,26,12,8,13,14,15,24,28,19,14,29,13,21,20,11,31,12,13,9,19,16,11,8,5,13,14,29,5,12,12,23,29,8,7,8,13,11,29,13,5,10,3,22,16,16,14,10,15,7,1,6,7,10,10,13,4,4,2,18,3,25,7,4,17,7,5,11,9,24,12,13,10,6,11,8,13,21,14,24,17,26,3,10,17,8,18,8,16,9,4,3,17,16,13,1,25,15,16,25,14,15,11,4,7,5,15,16,21,10,2,13,5,11,4,13,12,23,4,13,11,0,22,13,10,15,11,7,15,29,12,10,14,13,20,13,11,16,12,12,7,15,15,17,4,13,5,34,10,25,7,16,22,9,32,13,5,30,6,2,8,9,6,5,10,8,36,12,4,31,11,24,30,16,13,9,7,9,6,6,13,6,19,22,33,12,28,21,10,11,20,16,29,15,3,15,15,13,6,10,8,1,18,13,12,18,23,12,8,14,25,13,11,11,5,11,4,2,6,9,11,9,22,13,11,7,8,18,21,7,7,12,13,7,9,5,12,10,8,13,8,13,10,10,23,1,8,29,15,2,16,10,10,5,14,10,6,11,6,4,23,9,3,23,6,12,8,22,19,31,18,11,9,26,3,8,30,15,12,21,13,22,8,5,9,6,11,21,11,10,16,21,9,7,9,7,10,15,14,12,14,31,11,11,10,34,17,9,14,15,10,29,4,10,27,11,9,20,12,9,22,6,23,14,10,9,29,17,9,18,6,19,10,15,13,15,14,18,26,30,12,26,15,4,8,14,17,23,14,21,24,26,10,5,3,13,20,7,23,14,10,15,9,0,12,17,6,16,15,25,8,12,9,20,16,13,15,8,15,15,13,8,1,13,9,10,12,9,14,4,11,8,11,3,22,13,17,12,14,3,10,26,11,24,15,15,18,9,21,14,4,12,9,13,16,29,9,12,25,7,8,6,3,10,8,8,12,10,10,7,27,16,15,7,6,10,16,14,15,13,14,16,25,18,24,4,26,19,10,2,10,12,13,11,10,9,32,17,10,7,15,11,9,17,6,29,9,14,11,5,11,28,5,10,5,8,4,9,12,8,20,29,10,23,13,13,11,0,10,26,12,10,6,15,16,11,20,16,13,9,3,3,2,11,12,16,6,17,11,11,13,9,10,11,12,23,11,7,12,14,16,7,11,14,5,10,12,15,13,21,16,7,28,10,8,2,9,6,9,13,19,3,28,4,26,24,10,13,24,21,11,21,19,24,10,9,8,6,24,9,9,4,10,11,7,13,12,11,26,7,15,14,15,8,8,11,27,19,14,14,9,12,14,17,5,17,29,27,28,9,14,18,27,26,11,8,11,16,26,13,15,25,7,19,24,28,4,5,1,11,6,10,11,8,6,10,10,9,6,10,27,22,12,15,24,8,30,13,5,10,5,11,22,12,10,14,13,1,3,12,8,10,11,9,16,10,5,18,7,31,12,11,22,5,5,10,25,20,30,14,10,20,16,7,15,6,8,12,14,4,4,22,22,33,4,1,18,7,13,9,9,11,31,21,15,14,6,14,23,12,3,13,4,16,17,16,5,10,5,2,9,8,7,5,26,17,11,7,6,14,12,14,17,36,9,15,12,8,27,14,2,22,14,1,20,8,5,26,18,6,10,27,12,14,22,14,22,8,9,13,6,20,2,12,24,30,11,20,0,7,11,22,3,11,14,11,33,26,23,11,13,12,15,22,28,10,20,14,8,15,5,11,8,29,5,7,15,1,5,12,20,21,9,28,11,8,14,17,6,21,8,7,11,11,10,9,13,14,30,28,9,12,16,19,10,13,15,26,24,19,1,28,5,11,14,12,4,11,15,7,11,16,16,28,11,19,7,11,9,10,20,9,24,4,18,13,12,11,7,23,1,14,13,7,14,2,8,29,6,13,15,4,33,11,13,13,12,11,32,19,9,27,11,16,23,15,12,12,30,16,12,8,24,13,5,5,25,13,8,6,20,8,4,18,18,1,25,11,11,25,23,1,10,18,3,25,9,24,14,6,19,20,11,31,14,27,17,13,26,1,27,15,3,6,9,19,13,7,11,9,6,8,10,11,11,7,7,32,15,13,11,2,16,14,11,4,10,4,15,25,24,9,9,7,15,5,31,2,8,13,8,8,7,11,20,12,9,14,11,13,10,20,10,26,23,13,12,27,13,22,13,28,8,11,28,10,6,15,16,18,14,13,4,1,8,26,3,7,7,9,18,13,13,18,5,29,3,7,15,13,8,10,13,7,25,11,13,13,23,24,11,7,21,4,14,6,19,17,11,28,12,25,0,13,10,9,13,7,10,5,32,25,7,6,29,8,7,10,10,8,18,10,33,18,11,12,11,9,23,9,16,12,4,13,15,13,0,8,25,8,11,5,12,8,18,28,24,27,8,24,13,14,11,5,18,11,25,1,4,11,13,7,6,12,28,10,5,4,11,4,14,6,8,7,12,14,15,12,8,12,12,8,29,2,20,8,10,14,15,13,9,29,15,14,10,11,26,13,7,11,13,28,12,15,12,9,26,16,12,13,7,7,13,14,11,31,14,13,18,12,6,14,11,5,15,15,21,3,8,5,4,14,12,29,2,3,12,8,18,8,9,22,10,31,19,14,10,14,14,28,9,27,20,13,25,15,3,1,4,13,11,10,27,22,1,11,22,15,20,5,28,12,12,23,12,28,8,28,4,16,14,20,10,13,26,14,6,12,12,19,18,8,11,25,29,3,13,13,9,3,8,11,29,6,15,3,11,11,8,13,4,20,26,10,13,26,23,25,24,25,12,28,29,10,10,22,19,24,6,21,8,14,34,11,11,3,23,6,16,5,8,9,14,22,15,34,12,10,5,10,9,118,29,14,11,17,9,9,10,13,11,7,11,9,8,5,11,10,23,2,14,15,15,4,18,28,1,6,28,12,15,14,15,6,17,15,14,4,26,17,9,17,13,7,10,13,10,13,4,8,13,12,5,17,16,6,29,26,12,9,11,16,8,8,5,18,20,13,10,11,3,35,7,9,2,13,13,8,9,11,10,32,9,10,12,14,5,29,8,10,8,5,16,5,7,11,7,9,10,15,11,10,10,26,14,2,26,10,9,13,23,25,10,26,12,8,35,23,12,4,22,20,14,6,8,17,23,13,24,13,24,1,16,11,12,15,9,2,17,8,11,28,19,3,15,11,19,10,6,15,9,14,8,16,14,10,27,11,6,23,6,2,32,9,10,12,5,14,18,16,14,24,25,11,14,10,6,13,8,17,10,6,23,5,8,7,34,14,1,10,4,13,28,15,8,25,7,8,11,7,8,10,21,14,12,10,16,27,10,16,25,4,25,9,4,9,13,13,12,9,10,16,22,34,31,7,7,9,14,24,10,2,9,17,12,28,10,9,13,12,17,11,16,13,22,8,4,13,5,14,4,4,10,11,8,29,8,11,8,18,15,9,3,14,22,30,33,14,11,14,13,14,9,10,14,8,10,2,6,8,17,9,29,4,7,22,23,10,9,10,8,0,13,6,3,1,14,4,14,13,21,15,26,31,12,17,5,30,8,11,10,14,19,23,22,12,3,17,14,6,12,17,2,15,7,17,25,9,3,28,7,34,20,9,7,12,2,3,16,11,12,29,14,2,13,13,21,10,14,7,9,6,27,13,12,38,18,13,7,22,12,15,25,20,13,14,13,13,22,29,23,14,9,9,18,15,11,15,10,6,32,11,2,7,6,6,7,13,1,28,13,12,11,33,6,22,3,11,16,14,13,14,11,9,10,10,13,23,9,17,25,11,2,10,22,19,8,18,10,24,15,29,16,3,7,24,15,5,6,13,17,16,10,14,12,13,3,12,8,29,7,8,4,20,11,28,31,17,12,21,10,26,24,9,11,26,6,14,12,9,12,5,29,7,11,11,15,12,11,8,21,7,10,12,18,28,36,12,2,29,9,13,10,4,15,15,14,26,25,26,11,9,10,6,20,14,26,36,27,10,4,8,6,11,8,12,10,15,8,11,15,13,11,25,15,34,19,12,8,14,30,10,29,30,0,7,11,14,9,4,8,12,21,17,12,32,4,6,15,2,9,20,14,14,12,2,14,9,4,10,28,18,5,18,26,24,14,9,14,11,5,16,2,14,6,17,8,27,14,24,28,12,24,27,12,21,17,10,6,14,24,10,37,34,18,6,11,9,12,0,13,18,24,10,16,14,22,16,14,27,33,19,7,33,13,1,25,9,11,10,4,5,24,2,9,21,17,12,4,16,8,17,17,16,7,14,9,19,13,2,22,27,12,13,19,31,15,26,6,34,13,16,15,8,8,12,4,13,31,4,9,14,9,14,1,11,14,6,12,10,10,7,9,13,3,8,12,17,10,15,13,17,8,16,13,13,12,8,26,15,8,11,13,5,4,33,8,11,9,16,7,14,25,27,18,8,11,8,17,24,8,13,25,4,27,16,8,16,18,1,10,15,10,24,9,5,11,18,13,6,17,14,14,19,6,12,13,6,14,28,6,13,10,14,6,1,28,6,2,11,12,5,10,12,7,27,24,16,21,12,13,1,9,12,0,5,9,5,14,8,4,31,2,12,6,9,27,10,1,3,8,5,10,24,9,17,11,14,14,12,1,19,15,11,6,11,9,10,25,9,10,12,5,16,11,8,14,28,15,12,9,15,7,16,9,13,6,11,10,10,27,9,8,23,24,20,15,5,21,9,4,17,10,11,14,22,16,14,6,26,8,11,10,6,11,27,19,11,10,7,31,3,16,7,36,10,18,10,12,26,11,8,11,14,8,14,2,8,9,5,11,31,22,22,14,11,12,27,6,11,10,11,23,12,4,10,27,10,6,24,13,22,24,7,12,5,8,13,14,8,10,28,8,13,10,16,4,20,7,11,11,14,15,11,22,15,14,11,13,13,17,12,13,12,24,15,6,7,28,12,0,6,30,9,15,11,10,31,25,11,8,5,13,15,17,12,30,15,14,18,9,30,34,7,9,12,17,28,7,11,13,11,2,34,2,18,11,7,9,15,21,14,27,28,28,12,13,9,19,11,16,6,16,14,13,11,11,15,8,12,11,3,30,29,7,9,9,10,7,23,9,18,16,13,26,25,28,20,8,13,10,11,22,9,10,18,12,9,1,9,18,9,11,9,11,12,8,26,11,15,14,24,18,30,15,27,9,9,18,24,9,12,14,21,25,2,10,7,15,13,12,12,22,14,6,7,8,33,10,17,15,22,17,9,7,15,24,6,11,10,11,14,16,6,10,7,7,2,7,5,10,22,12,14,5,9,10,14,16,14,22,9,16,5,8,15,4,3,11,9,12,10,15,15,7,15,20,7,31,27,7,11,31,15,22,25,26,9,23,11,1,2,16,11,11,6,7,12,17,19,13,8,8,11,22,12,12,7,12,9,10,6,6,11,12,11,18,11,7,10,24,13,14,23,9,3,27,28,28,7,19,4,11,5,11,26,4,11,11,13,12,12,0,13,1,17,29,6,28,14,7,1,19,4,15,10,13,5,8,26,11,26,11,8,26,7,18,13,16,15,15,1,13,2,8,16,11,2,26,29,8,5,5,11,24,14,16,21,15,4,13,13,11,22,12,17,31,16,28,11,11,17,1,16,16,4,14,12,24,9,19,14,6,15,17,15,15,12,18,12,8,7,15,9,9,8,16,4,13,10,25,12,9,7,16,8,7,8,5,30,9,8,15,22,14,33,9,14,3,22,15,15,8,13,14,11,6,12,19,16,9,28,12,29,12,3,14,32,27,9,15,5,19,17,12,5,7,27,17,5,14,14,14,27,15,28,19,10,6,11,9,10,5,6,7,14,23,11,26,18,6,24,7,4,1,6,15,11,5,17,24,9,10,14,8,18,13,22,12,10,25,8,14,10,4,29,14,24,12,17,21,29,9,26,4,19,26,9,13,15,11,14,25,10,24,15,8,10,8,8,11,19,8,31,9,28,10,8,10,8,8,11,5,14,20,6,8,19,15,7,16,16,31,3,7,20,21,24,29,4,12,13,9,16,17,12,17,15,10,7,8,18,13,8,13,14,9,15,15,23,14,7,3,18,11,15,13,6,11,30,15,9,4,13,22,12,19,6,24,13,14,14,14,25,16,15,8,12,13,28,22,8,12,9,117,8,11,11,18,17,27,25,1,8,27,22,31,29,29,31,21,25,17,21,3,12,12,12,27,23,10,13,10,8,11,4,28,4,10,21,32,14,10,16,31,7,16,15,10,4,12,4,8,9,23,8,9,20,14,11,10,11,15,16,8,16,15,16,2,6,9,12,11,9,7,26,13,14,16,9,27,24,15,7,11,8,10,23,15,9,26,8,14,24,11,12,15,8,15,19,9,29,12,9,8,20,12,12,15,8,22,5,14,16,4,7,10,4,26,8,4,13,8,7,34,16,6,12,26,15,17,3,18,28,12,16,7,15,6,8,3,5,25,15,10,7,11,15,9,16,11,8,26,4,10,11,10,13,25,24,8,12,11,26,13,15,10,24,32,5,10,1,24,30,14,3,16,12,8,8,4,28,9,23,6,13,0,31,20,12,9,12,10,10,13,1,20,26,19,8,13,29,28,13,12,26,11,22,11,11,13,9,13,6,15,12,22,12,8,8,12,4,9,15,33,14,14,6,10,6,9,23,12,13,15,16,0,33,11,26,24,8,5,22,13,16,10,11,13,10,14,16,9,0,29,7,8,12,9,11,8,7,15,11,3,16,24,19,19,13,12,2,4,3,21,28,12,13,25,13,15,5,2,2,28,27,9,4,11,14,21,1,8,8,6,10,24,4,10,18,15],\"xaxis\":\"x\",\"yaxis\":\"y\",\"type\":\"histogram\"},{\"alignmentgroup\":\"True\",\"bingroup\":\"x\",\"hovertemplate\":\"color=religion<br>tweet_length=%{x}<br>count=%{y}<extra></extra>\",\"legendgroup\":\"religion\",\"marker\":{\"color\":\"#00cc96\",\"pattern\":{\"shape\":\"\"}},\"name\":\"religion\",\"offsetgroup\":\"religion\",\"orientation\":\"v\",\"showlegend\":true,\"x\":[19,10,18,22,26,30,7,13,19,41,22,14,9,35,14,23,32,15,19,13,4,22,23,21,13,5,5,25,21,13,23,25,22,9,8,7,15,12,32,21,22,21,11,7,16,28,30,23,19,17,11,32,15,10,11,20,17,27,18,16,31,23,8,7,13,19,15,27,10,9,15,30,29,20,29,21,11,6,6,6,27,20,11,27,25,20,14,6,8,18,4,25,8,23,27,17,12,25,20,26,23,12,9,23,19,15,24,12,12,5,22,8,13,24,9,17,30,19,7,23,24,14,8,8,32,26,11,19,33,17,8,20,21,23,27,22,20,25,13,10,16,30,16,20,7,26,18,5,7,27,26,15,5,15,11,22,21,28,28,9,18,25,29,13,16,10,24,26,7,5,30,12,30,22,23,23,13,24,13,20,10,4,18,22,23,13,12,13,13,25,16,26,26,21,3,23,8,24,21,22,27,6,26,7,29,28,23,7,33,23,19,28,7,23,15,34,31,34,20,11,9,30,24,30,28,30,30,9,5,9,20,18,5,22,17,27,20,21,16,13,20,5,6,25,19,22,21,28,24,32,21,8,19,13,25,8,15,22,39,16,5,30,13,19,31,11,29,12,19,26,20,6,24,27,17,26,12,28,13,25,15,14,23,24,14,15,31,8,18,28,28,26,13,25,10,26,17,32,25,24,23,25,21,17,17,13,5,24,22,17,13,24,17,19,10,24,15,15,25,25,17,6,19,18,11,26,11,8,15,14,27,12,22,12,16,6,27,6,21,19,10,24,14,24,22,28,25,28,20,8,29,16,25,20,11,4,25,20,28,27,19,16,24,8,10,18,21,26,28,25,21,29,2,25,30,17,32,23,9,16,7,12,25,21,10,31,29,31,8,25,26,26,32,11,11,13,25,29,8,21,24,12,11,20,10,5,23,10,9,22,13,22,27,19,31,6,27,29,19,19,14,11,13,13,25,21,27,27,13,28,23,11,9,27,30,12,24,22,21,29,30,17,23,27,6,13,26,22,22,10,23,23,8,34,20,21,25,26,41,5,3,9,23,17,30,12,10,11,23,22,25,5,24,9,24,16,27,16,7,29,13,20,32,35,10,11,10,10,25,20,16,29,28,23,15,9,10,11,20,10,11,21,9,34,23,14,9,22,18,11,29,26,32,27,22,13,8,23,23,19,9,11,28,29,5,11,22,18,13,25,16,24,28,26,27,11,25,31,24,10,23,4,10,10,14,10,26,21,25,12,18,13,19,4,12,18,5,28,29,27,12,28,11,15,27,18,21,23,11,19,25,22,28,21,14,18,23,23,30,23,26,9,32,21,12,9,15,23,28,25,31,25,20,27,24,21,29,12,8,23,24,18,17,27,20,12,17,26,18,12,15,17,6,16,19,24,16,24,10,25,8,26,22,12,7,10,11,24,19,29,10,24,30,9,23,15,19,23,15,20,20,24,30,22,17,13,26,22,27,21,32,23,31,26,8,25,12,29,11,11,23,23,23,11,8,25,28,28,9,14,2,26,9,14,10,27,31,10,4,23,20,11,27,11,25,23,22,17,22,19,10,11,13,24,29,5,15,8,26,23,11,6,18,33,24,6,13,6,24,9,11,14,27,9,10,24,29,15,21,27,19,9,31,21,25,17,9,15,31,6,20,5,10,22,15,32,14,24,25,29,1,13,30,7,25,11,6,13,3,8,29,29,19,18,25,6,22,23,14,29,19,21,12,25,27,23,25,6,8,32,11,12,20,10,16,15,24,14,10,3,24,20,27,6,9,13,13,4,6,29,10,7,19,30,21,27,26,25,8,24,24,29,26,16,32,22,12,13,27,27,18,20,17,8,25,15,10,13,25,27,4,12,14,13,21,10,7,16,21,21,20,19,24,24,31,29,11,23,7,19,10,20,29,16,27,21,15,31,19,17,9,18,9,19,17,4,30,6,3,30,28,39,21,23,25,7,25,26,27,17,12,17,11,21,21,22,8,13,25,31,10,19,22,11,27,16,26,8,8,8,24,8,22,20,27,9,32,29,22,7,22,25,13,14,10,33,9,21,26,30,24,21,9,15,23,27,17,22,21,7,28,7,21,25,28,32,8,16,10,24,28,32,16,22,19,23,27,10,25,16,8,20,23,9,5,24,24,11,21,11,23,33,14,12,29,8,12,22,27,10,8,30,26,23,14,20,28,27,31,21,8,19,35,25,26,16,13,22,25,37,19,27,14,28,27,29,23,14,24,25,12,29,26,20,6,25,24,9,16,3,24,28,7,23,23,8,18,7,7,9,36,4,9,26,19,28,10,16,26,17,7,30,16,11,4,33,21,4,23,15,19,14,23,30,22,27,25,9,6,22,16,13,31,18,17,3,19,26,23,20,30,11,20,17,35,25,32,16,22,9,11,34,8,6,22,29,30,21,6,31,22,22,11,22,24,19,11,33,16,17,10,29,4,29,5,13,25,19,26,11,25,28,13,19,3,8,22,15,25,20,22,14,7,23,9,17,24,27,19,20,14,15,8,25,29,20,6,21,5,21,15,24,24,29,27,32,13,21,21,31,12,24,18,25,17,17,25,29,21,29,7,32,8,21,7,21,20,4,10,31,33,17,29,8,31,18,22,23,29,26,17,21,22,6,5,10,11,11,24,10,30,24,16,25,7,11,21,5,19,20,15,31,29,23,3,28,12,19,11,15,9,9,22,20,23,23,25,8,15,5,7,18,8,24,24,4,27,27,20,6,17,5,26,26,24,26,10,10,22,15,27,10,22,20,23,14,32,27,24,15,27,6,24,33,29,22,17,19,13,18,19,24,17,5,17,5,13,13,20,14,15,17,12,20,13,20,21,24,22,8,18,16,15,8,21,22,28,23,27,26,16,18,3,28,27,21,12,11,32,28,14,23,10,10,20,21,21,24,24,27,34,16,15,5,16,24,14,26,22,17,30,23,23,8,9,7,18,17,31,28,25,22,12,8,24,16,23,10,20,23,25,7,7,25,24,32,9,10,10,28,25,17,6,6,22,5,23,26,27,19,10,26,25,13,10,13,32,5,30,15,14,12,14,15,17,26,7,17,7,31,21,25,11,25,25,25,18,8,27,31,25,7,24,19,26,16,24,9,24,23,9,10,23,14,16,18,20,6,25,27,15,24,8,25,19,18,25,15,7,26,6,28,15,23,25,18,11,21,34,7,28,11,37,9,12,11,22,10,23,31,16,17,31,38,22,10,27,29,9,26,22,26,14,6,30,27,24,41,27,30,23,12,23,9,7,23,18,14,16,22,28,30,25,14,26,7,12,14,34,15,25,23,13,19,18,27,27,16,34,26,18,25,24,24,23,22,11,7,27,8,13,11,21,14,28,11,24,9,9,8,15,22,21,12,30,34,10,31,26,6,18,13,9,25,5,22,17,10,13,33,23,10,14,6,29,24,25,12,42,18,26,24,5,23,25,14,23,26,24,10,23,19,9,28,12,7,25,18,17,16,9,9,6,13,20,4,10,22,9,21,39,25,25,12,5,11,7,4,25,13,23,23,30,29,13,14,31,23,27,26,19,11,20,23,13,8,9,28,22,30,29,19,30,23,8,19,30,24,10,26,20,21,13,13,24,8,9,24,25,19,22,8,10,21,19,11,40,28,19,24,18,11,12,34,5,24,9,28,7,7,8,11,7,6,19,20,27,24,18,8,29,19,26,15,18,12,19,22,18,34,23,22,17,11,31,35,24,7,5,27,27,21,23,31,7,5,30,24,27,15,13,27,17,29,27,23,27,16,26,30,10,21,13,11,8,6,30,21,20,18,25,7,11,24,13,8,27,2,22,20,29,7,25,11,12,12,11,19,23,22,25,8,31,17,15,9,23,23,7,32,34,18,11,23,28,22,6,2,8,9,8,7,26,11,21,8,10,15,26,27,23,6,23,18,24,11,10,30,22,22,29,23,20,11,32,16,26,14,15,11,9,10,14,18,5,30,16,28,17,10,20,14,11,7,24,25,25,25,6,29,33,16,23,21,12,30,20,34,25,6,24,17,17,23,25,13,24,28,5,13,12,29,28,20,25,8,13,7,26,8,7,12,18,7,26,23,28,30,24,10,7,10,12,17,27,24,29,13,27,18,17,25,4,20,32,16,14,28,13,20,15,9,14,5,26,28,22,27,27,23,23,21,6,22,26,15,7,13,11,24,21,21,24,7,17,12,16,6,27,32,25,26,18,22,24,27,7,23,7,26,9,9,13,30,11,18,30,18,25,18,23,22,7,7,29,9,18,33,19,7,22,21,25,27,25,6,22,22,23,11,28,25,7,28,27,20,23,27,9,17,25,16,11,9,25,28,19,29,9,32,27,28,6,6,27,29,29,25,23,23,11,26,29,21,8,11,26,29,21,38,22,28,11,14,26,32,36,10,34,28,25,23,11,16,7,9,30,26,8,30,21,25,25,28,9,34,11,14,7,14,24,18,25,9,21,21,12,23,23,29,26,11,23,24,7,33,19,7,7,23,24,10,5,20,9,23,9,21,11,22,8,23,22,25,28,18,7,12,24,12,27,28,8,18,17,26,30,23,12,26,10,11,11,11,11,5,31,29,12,7,18,27,21,6,27,22,31,17,8,11,22,18,12,6,4,26,15,25,25,24,4,18,20,15,24,11,33,2,10,4,12,24,8,14,25,22,10,15,9,18,26,21,6,4,29,20,17,6,23,20,10,21,20,27,11,32,17,14,30,3,28,26,6,27,14,29,14,27,19,17,25,42,11,19,24,10,15,20,12,20,28,18,22,25,25,34,18,29,20,21,20,15,22,8,11,26,17,33,5,29,22,16,23,15,19,24,15,26,24,15,9,25,13,30,8,24,17,9,10,30,23,26,11,24,21,15,25,12,10,9,23,26,12,8,8,6,10,9,10,28,11,9,33,14,23,29,5,28,20,30,27,8,35,8,9,22,25,22,22,13,24,23,4,9,13,24,6,29,8,12,12,7,10,22,24,22,25,17,24,5,12,31,28,19,26,20,20,8,21,20,17,8,8,8,21,11,9,24,8,23,16,10,26,25,34,2,30,9,23,16,14,20,19,17,9,15,13,11,12,10,26,26,28,4,28,28,26,30,5,10,28,24,9,7,24,22,4,28,12,12,30,19,32,27,10,24,25,21,13,22,20,26,10,7,14,33,26,8,23,16,14,16,20,4,9,14,20,3,7,25,37,19,28,17,25,31,28,7,28,17,33,34,23,22,12,9,23,24,26,30,30,30,21,8,22,6,12,16,16,26,27,16,11,13,25,5,15,32,8,24,7,14,22,27,35,24,11,20,32,18,18,30,24,11,12,8,26,25,9,12,6,8,10,9,8,26,25,30,20,35,12,25,16,24,25,30,7,25,13,20,11,18,23,11,8,24,25,24,25,28,8,6,23,19,17,25,30,8,31,28,12,9,14,25,11,29,25,21,25,8,23,10,5,4,32,14,12,14,11,31,12,30,9,11,10,12,10,17,22,21,17,6,18,25,22,10,9,26,3,26,12,9,19,27,10,7,37,26,24,8,8,13,21,26,28,12,32,27,15,23,20,17,32,5,17,16,17,20,29,13,4,14,16,34,25,21,12,20,25,18,27,28,8,15,25,21,15,9,35,32,9,20,24,15,29,25,20,9,19,21,11,29,26,20,17,8,17,20,7,22,18,25,21,32,16,16,3,17,32,16,21,3,23,9,9,25,28,30,13,12,15,26,27,9,23,26,5,23,24,23,6,32,12,13,14,23,21,31,33,26,23,9,18,14,11,28,7,11,24,25,16,8,20,18,23,11,17,9,9,19,16,12,29,22,28,5,24,18,21,14,25,25,15,26,19,6,15,11,26,7,28,26,25,8,27,10,12,22,11,22,7,24,10,31,6,28,22,14,3,6,15,10,24,17,31,27,9,7,8,13,14,22,29,15,22,14,5,27,9,11,24,24,9,20,25,29,21,29,16,7,15,10,22,30,16,8,22,34,9,20,24,21,22,7,11,17,32,37,25,21,30,25,35,11,26,26,22,10,21,23,31,13,27,15,25,5,31,28,25,7,36,25,9,19,14,19,25,10,23,24,25,9,16,11,4,20,7,24,9,7,5,18,31,26,25,24,12,24,24,27,9,7,8,10,6,23,25,19,9,10,25,13,29,22,28,14,8,12,9,17,30,27,23,25,26,29,11,30,28,25,21,23,17,26,10,11,24,19,14,3,18,12,17,11,16,19,29,25,9,5,19,23,30,18,6,24,10,16,8,22,17,9,7,23,4,20,24,24,23,24,7,31,26,6,17,9,23,21,25,12,16,29,9,11,28,27,3,27,11,31,27,14,11,12,26,16,20,25,14,6,23,22,25,36,16,28,13,8,21,7,16,4,21,21,26,12,22,26,18,13,6,23,9,31,23,31,23,21,20,23,8,15,11,9,12,21,18,10,23,9,12,30,32,13,25,23,11,27,23,31,12,18,21,11,22,29,26,15,6,23,5,30,27,33,11,13,27,31,10,26,20,7,18,22,18,24,29,7,9,8,28,38,11,31,28,20,23,7,24,26,15,9,6,21,21,13,13,8,23,26,13,5,3,22,21,30,14,25,16,27,27,22,30,20,22,14,23,14,14,26,26,9,5,36,11,17,22,16,13,22,20,10,13,30,34,24,28,14,2,16,27,25,15,16,29,8,13,8,24,23,29,23,12,8,16,10,20,10,11,5,28,20,28,14,7,3,21,20,16,21,21,26,28,21,22,27,8,21,7,10,7,15,10,4,17,29,22,22,31,6,5,12,37,23,18,23,11,15,21,32,8,29,23,20,9,27,7,20,24,26,5,23,20,36,20,27,22,30,15,20,19,22,32,1,27,8,23,14,11,25,6,21,22,5,11,15,10,8,21,17,26,23,25,19,18,9,32,9,36,21,24,12,28,6,10,20,19,25,22,27,7,13,23,40,25,5,10,22,21,20,7,23,9,11,13,17,10,8,21,34,27,31,20,12,6,26,11,14,23,15,20,8,9,8,29,29,7,10,13,11,21,15,28,12,27,26,6,21,9,10,7,9,19,12,26,10,9,28,34,10,27,10,23,8,6,12,24,31,27,28,25,25,15,25,32,17,22,21,19,30,24,7,25,6,10,25,14,23,24,12,12,16,25,8,23,26,27,24,22,27,9,26,8,23,26,13,16,25,30,24,9,29,33,8,32,23,27,22,25,21,30,14,4,24,9,16,13,9,11,11,21,22,8,32,23,16,21,8,25,10,7,26,10,29,17,6,12,21,25,10,10,25,18,35,13,12,20,5,32,13,23,21,23,29,34,9,18,23,28,10,11,9,15,32,9,9,29,22,9,23,19,12,20,11,5,12,9,14,25,29,25,20,30,26,27,19,21,20,10,25,26,9,23,18,21,12,22,6,29,32,26,26,4,25,19,9,26,30,10,12,8,33,11,19,6,9,7,29,24,22,26,19,16,28,30,27,18,16,23,22,7,6,6,25,24,4,11,17,2,31,7,11,17,10,11,4,30,11,7,27,28,28,14,19,10,29,22,22,21,26,24,14,28,8,22,19,17,22,25,28,20,11,16,17,5,12,11,21,19,28,26,8,3,8,13,8,24,8,14,15,12,16,23,21,11,13,27,8,11,21,5,6,13,29,11,12,17,26,31,32,20,21,3,14,10,21,22,27,26,25,14,7,30,24,14,18,22,9,28,7,28,12,17,15,29,23,13,27,7,32,3,4,7,20,28,10,32,7,23,37,3,24,21,16,10,12,22,11,15,30,24,27,20,18,22,4,23,32,5,28,12,22,9,20,25,36,24,30,27,32,10,10,12,11,25,21,19,4,28,4,5,11,23,26,10,19,4,24,13,9,7,25,4,14,23,17,24,28,5,18,24,24,27,18,9,12,14,26,16,19,23,17,14,18,34,19,24,13,21,34,29,20,6,28,5,20,10,23,24,19,35,6,12,33,10,27,26,21,24,25,18,20,15,17,19,27,22,27,9,25,20,16,12,7,30,24,23,28,30,25,19,12,27,13,12,5,16,17,34,20,5,6,34,8,21,29,13,20,34,24,25,26,9,27,26,8,11,22,19,8,28,6,12,26,9,28,18,26,27,9,13,6,28,13,29,13,19,16,24,3,9,9,27,17,6,23,25,24,25,29,8,6,23,6,12,27,28,7,27,11,28,34,8,16,25,16,18,16,14,18,16,27,17,17,26,6,16,21,22,24,8,7,27,22,29,23,15,19,8,12,15,20,17,23,7,30,29,8,8,27,5,28,21,25,26,23,18,21,16,21,7,19,24,16,30,16,9,25,5,11,30,16,11,10,7,15,5,31,33,22,13,27,13,8,25,26,19,12,23,29,24,14,30,25,5,24,25,21,8,8,19,22,27,21,5,15,6,17,9,11,28,18,18,23,17,23,22,12,21,14,22,14,32,20,3,32,22,28,9,26,21,8,24,7,21,29,16,24,22,11,9,7,11,23,7,25,22,22,28,13,24,23,25,27,31,33,17,11,10,9,20,25,26,9,29,24,14,7,28,10,8,11,24,22,15,8,18,12,15,23,24,26,28,10,5,12,25,25,7,10,7,11,24,13,18,11,28,33,22,17,24,7,21,23,10,10,28,26,21,25,18,19,6,5,27,7,25,32,6,29,10,14,11,21,9,10,15,28,20,29,10,27,10,25,22,26,13,8,29,13,20,7,25,26,7,14,24,27,24,13,24,9,9,9,26,23,17,18,27,25,5,26,24,13,8,26,30,23,20,4,24,29,11,16,29,26,35,8,16,7,17,7,28,21,26,25,10,12,11,28,14,17,17,17,15,7,23,5,9,19,5,12,16,25,12,20,11,25,27,8,11,10,18,26,24,23,14,21,20,32,5,10,19,9,16,19,21,16,23,6,23,14,18,23,19,8,25,23,24,23,20,28,23,12,30,8,5,19,31,24,30,20,8,11,26,9,26,8,6,24,16,24,18,18,19,8,24,24,9,32,11,29,42,11,14,5,27,24,6,8,3,9,17,13,22,24,15,7,15,5,27,7,10,8,21,29,26,24,40,16,19,7,18,19,23,26,26,26,19,14,24,19,10,16,7,28,19,37,24,9,24,9,22,6,7,31,12,20,33,15,26,9,25,21,16,15,17,24,6,17,29,21,22,7,11,27,27,12,35,26,9,7,8,19,25,16,18,15,11,14,10,15,11,8,20,25,17,9,9,17,25,23,24,26,25,35,18,10,12,23,7,26,34,31,9,18,19,21,24,27,3,6,25,22,11,27,26,33,23,25,34,20,14,25,12,13,6,19,20,10,23,22,17,16,20,19,25,7,6,32,10,18,17,27,11,14,14,26,25,16,30,25,25,20,25,27,7,9,10,27,24,12,11,29,13,18,12,22,3,14,32,19,31,7,8,9,32,13,19,26,10,24,10,23,22,32,21,28,26,26,24,10,29,18,8,16,6,21,10,10,13,10,28,19,17,1,13,16,7,24,19,20,14,8,11,11,12,5,16,20,3,6,7,10,12,8,22,19,18,10,21,24,7,10,24,12,20,7,19,23,8,11,20,11,14,15,13,28,21,12,27,25,7,24,18,25,33,18,16,25,26,11,10,24,27,34,32,22,9,2,9,23,10,24,8,29,21,29,17,31,9,24,5,17,21,23,36,19,23,20,7,6,7,12,5,9,30,12,35,31,7,11,9,12,10,28,11,30,6,9,4,10,19,22,30,24,9,15,3,37,24,5,23,24,20,12,13,26,24,24,20,12,19,19,18,24,10,5,26,12,31,20,26,25,24,17,16,14,8,27,19,22,24,21,23,32,25,7,25,22,20,22,15,28,11,23,17,27,9,18,27,30,7,17,10,25,7,22,24,7,14,27,13,25,9,11,28,38,12,11,9,11,8,9,11,21,25,8,24,10,8,23,32,13,30,26,24,25,27,9,25,15,6,8,15,17,13,11,24,17,30,13,27,33,14,20,23,19,25,27,5,16,30,26,16,26,27,17,25,20,27,30,39,12,22,19,18,19,22,23,22,21,26,19,24,3,6,33,18,19,23,19,17,23,23,14,26,25,15,28,28,17,5,21,9,30,8,28,4,10,12,10,4,21,11,26,11,12,26,29,33,24,9,19,22,10,11,30,27,25,19,10,20,9,12,16,11,17,11,9,10,24,6,7,3,25,21,21,27,8,28,23,11,4,13,13,9,20,14,6,25,23,30,11,10,26,19,21,29,25,19,5,12,24,28,25,27,17,7,10,8,19,9,28,19,19,23,22,29,31,5,32,9,5,7,24,11,16,24,4,24,28,24,5,13,29,36,7,15,20,8,3,30,29,28,22,21,9,6,23,20,26,21,22,23,17,5,7,10,30,6,10,5,22,15,33,23,19,23,21,11,22,21,11,18,11,21,28,27,8,14,25,28,23,22,18,19,11,24,18,18,21,43,8,27,25,17,24,4,29,14,10,21,22,23,14,12,10,15,20,18,18,9,6,5,13,33,34,22,8,27,25,22,9,28,5,11,29,17,12,21,26,13,11,7,11,19,28,6,24,31,27,25,12,24,16,17,17,15,17,7,11,17,10,29,24,25,24,29,7,6,5,24,23,24,18,7,20,16,11,20,32,18,18,20,6,21,7,10,11,25,25,7,14,23,8,17,8,9,21,10,20,24,8,6,8,26,20,9,23,19,8,17,9,11,24,11,23,38,24,8,8,19,12,7,15,14,8,11,27,26,27,25,23,12,26,10,24,24,12,8,8,26,23,8,10,28,8,29,26,15,21,28,18,23,30,26,12,13,6,24,16,32,16,26,20,30,11,21,5,21,32,25,16,18,19,11,25,28,25,8,31,25,8,21,3,27,9,11,23,10,8,13,12,13,30,23,20,9,17,14,6,13,18,25,18,26,22,10,20,29,26,8,20,18,28,25,20,13,9,26,25,21,7,18,17,15,21,23,21,8,32,20,20,22,28,3,20,29,22,24,20,25,7,10,18,12,16,7,9,6,8,30,21,31,18,23,20,28,28,9,17,7,9,30,30,26,23,6,31,27,22,19,23,22,2,38,33,30,25,9,26,13,13,19,10,10,22,32,31,17,6,27,12,19,13,12,6,9,18,9,13,39,26,29,23,18,35,10,17,9,9,6,19,24,26,28,14,27,25,9,8,11,9,44,34,26,11,11,5,11,24,11,27,21,15,13,23,5,14,36,8,27,28,11,10,7,7,19,19,10,26,11,26,26,20,11,28,23,17,24,11,7,27,24,25,9,27,16,24,7,24,18,30,23,20,7,26,26,24,7,27,23,18,29,17,5,20,7,24,16,20,28,22,3,25,20,40,13,7,11,14,13,5,25,27,9,29,9,19,10,14,17,11,33,13,34,3,26,16,7,23,8,18,26,6,37,10,5,15,35,28,6,25,28,13,29,5,24,16,28,18,33,24,17,6,22,21,17,27,27,10,4,20,16,23,29,8,25,8,21,23,12,9,10,7,23,13,14,29,26,28,10,35,25,7,31,6,6,18,9,25,22,4,6,20,21,21,20,18,11,31,25,24,23,23,30,13,10,27,23,26,44,15,24,25,28,22,29,14,12,34,5,26,12,26,10,5,19,22,35,13,10,7,22,11,22,12,22,24,27,19,28,15,30,26,19,17,28,12,6,21,11,28,26,19,28,8,23,19,29,23,10,27,12,21,28,17,14,23,23,13,29,5,28,11,21,15,8,3,15,8,7,7,25,22,7,6,7,14,12,14,16,9,11,8,29,23,23,29,31,27,18,9,22,25,14,21,33,16,22,28,9,17,14,7,23,21,28,28,26,20,30,19,26,22,27,15,8,26,12,10,8,21,24,24,22,29,10,21,14,11,11,23,17,20,16,19,28,5,21,19,16,8,23,37,3,22,14,18,25,10,20,5,16,9,29,26,14,11,10,10,26,15,32,14,21,7,9,23,21,12,6,31,9,19,14,11,7,25,22,16,26,16,10,19,22,10,27,26,14,29,7,7,21,21,27,12,20,8,13,22,10,44,26,29,11,19,20,15,24,24,15,23,13,30,34,27,24,31,25,12,27,24,23,15,9,6,23,28,9,17,12,6,22,22,8,23,7,16,20,23,19,7,28,19,9,18,10,24,13,32,14,22,13,11,23,24,27,18,6,13,26,27,25,25,10,29,17,17,12,18,18,14,9,22,26,27,34,18,15,3,25,8,10,35,24,17,11,26,4,6,10,24,7,23,23,12,31,7,14,20,8,21,24,8,8,22,12,27,10,29,14,16,25,10,12,20,32,7,24,21,21,8,30,21,29,8,22,26,16,11,16,23,24,18,15,20,24,34,30,29,9,7,7,9,14,23,12,17,7,8,30,9,25,22,12,21,8,24,22,19,27,16,6,19,4,28,9,13,29,10,16,24,23,27,27,8,28,27,8,21,3,25,23,10,26,26,8,32,8,14,8,6,12,10,12,29,18,23,12,24,11,11,27,29,34,23,18,11,6,28,27,12,27,7,6,27,29,5,12,12,6,15,6,5,25,10,21,20,28,30,9,18,12,22,30,16,29,22,24,12,10,28,11,9,25,11,27,20,12,5,13,6,7,8,28,8,23,21,9,9,8,30,21,13,24,26,7,21,27,17,30,19,17,9,22,26,11,24,25,24,8,24,6,27,30,5,6,8,15,12,24,8,14,11,7,22,30,21,7,14,9,32,25,12,24,20,29,25,19,9,8,27,15,24,18,5,17,12,15,11,21,21,27,20,10,19,12,14,18,30,19,29,15,9,27,14,21,22,11,39,37,32,19,10,31,13,25,12,15,24,27,16,24,16,11,23,9,15,27,19,28,22,33,23,23,25,18,28,27,24,25,26,28,26,7,20,20,19,25,40,6,30,10,22,10,23,31,5,22,9,28,20,6,10,26,15,5,11,25,28,18,9,7,15,18,9,18,16,9,29,11,31,16,10,29,15,7,18,25,5,3,12,13,23,13,23,22,24,28,29,29,21,33,10,39,23,12,27,23,19,10,10,10,7,17,25,7,4,25,18,25,8,37,1,22,17,31,19,28,13,20,20,18,29,9,19,9,13,27,10,23,29,29,15,20,7,18,28,5,12,4,21,14,6,25,22,7,29,16,19,7,20,5,27,29,31,10,21,33,23,16,24,6,23,24,23,8,23,24,10,17,21,9,22,17,15,5,3,27,27,17,7,15,26,22,15,22,22,23,7,36,26,21,28,24,8,19,20,11,7,15,31,9,11,24,11,20,16,8,24,10,25,11,24,21,26,13,9,19,9,8,19,17,11,25,13,22,24,10,13,24,7,19,13,21,9,23,29,9,21,17,23,9,12,24,7,24,28,22,35,20,11,31,17,16,28,7,24,28,6,19,10,3,14,8,12,7,21,27,11,7,27,23,25,11,18,24,21,14,8,31,10,18,32,6,18,12,26,19,25,8,21,27,19,15,28,9,29,7,26,16,10,30,24,23,18,18,25,21,36,23,11,10,37,12,9,8,5,14,17,12,3,15,22,18,22,27,10,25,21,9,26,19,24,18,21,19,24,21,18,8,26,10,12,8,23,27,19,20,30,6,22,26,10,12,10,4,12,20,6,29,13,20,6,23,10,10,11,23,19,12,14,23,6,24,25,19,29,11,18,23,7,9,10,5,8,32,29,7,5,19,27,19,7,3,22,30,22,24,7,13,22,27,13,14,8,23,14,11,21,22,11,28,27,8,24,28,29,5,29,21,16,11,5,22,3,22,12,29,7,22,16,9,12,6,16,9,9,33,20,8,9,5,16,28,24,17,2,19,10,23,35,10,21,11,23,23,29,19,20,26,23,19,23,19,7,21,24,17,10,19,36,17,24,23,24,22,25,25,27,12,9,6,27,25,25,31,18,17,11,7,12,8,25,6,24,28,28,21,10,9,30,14,23,25,27,17,19,18,24,25,26,9,10,11,17,26,28,23,22,8,22,21,8,27,12,14,21,34,6,6,18,12,12,13,6,9,17,9,24,28,27,20,26,15,11,31,24,5,25,25,23,19,4,19,7,25,24,12,17,19,27,6,18,7,15,8,8,22,9,18,30,7,10,17,22,20,12,26,12,23,27,33,15,24,6,6,8,14,9,22,6,24,12,26,7,23,20,7,7,26,11,15,23,24,26,27,9,12,29,11,22,14,25,31,28,12,26,8,8,25,23,22,8,22,8,19,7,3,30,17,25,24,23,10,5,31,19,10,23,28,9,23,29,23,30,23,38,22,8,13,10,11,27,25,35,21,26,21,2,15,26,9,11,10,21,6,11,8,23,13,8,7,22,12,29,19,32,6,13,22,16,25,27,21,4,26,38,15,7,7,20,24,11,14,21,21,15,30,34,27,29,25,27,24,11,16,31,20,12,12,8,18,12,17,10,20,16,12,13,27,32,12,15,6,28,21,10,29,21,13,26,24,26,27,5,11,31,26,20,23,10,11,11,22,11,11,2,23,11,13,22,10,17,12,17,26,23,13,11,25,11,7,9,20,18,12,11,31,4,8,7,6,23,23,27,4,11,22,15,25,25,24,25,25,13,23,28,7,7,10,22,28,8,9,24,7,29,20,14,22,9,13,18,14,26,2,25,7,15,20,11,30,29,19,7,34,13,15,34,29,8,23,10,24,7,10,11,19,8,7,22,22,19,10,7,28,24,9,8,30,28,22,15,15,22,14,23,29,16,7,30,24,4,17,15,25,25,9,4,31,25,26,20,21,17,4,29,29,32,29,26,21,8,29,23,23,10,8,30,24,10,24,30,23,17,24,9,16,35,32,4,18,7,24,24,18,12,32,5,24,25,5,21,36,10,8,32,14,22,15,21,18,18,24,6,26,10,10,30,27,9,9,17,11,16,21,31,18,12,19,10,10,10,27,23,22,31,22,13,8,8,28,8,13,25,22,13,33,16,25,23,33,28,14,28,7,27,23,22,30,10,20,27,30,21,13,27,8,23,30,28,33,9,11,7,9,8,25,25,19,9,6,26,16,11,23,33,16,29,22,16,23,25,9,24,6,15,20,24,20,18,23,39,22,28,11,10,10,22,11,30,8,29,18,13,18,22,14,25,22,16,28,18,12,14,34,15,14,30,22,34,18,11,17,21,13,18,14,12,24,21,30,11,21,9,7,7,28,35,14,20,26,27,3,11,21,15,11,18,11,26,7,19,21,10,25,25,10,21,11,39,8,30,12,26,19,15,9,23,18,40,26,9,9,9,24,6,9,28,25,14,28,28,28,19,6,18,24,8,23,15,27,13,22,25,23,15,28,7,24,28,17,7,6,15,9,11,29,5,11,23,23,20,9,24,26,28,10,9,7,35,17,22,26,8,5,13,21,22,9,22,9,18,25,32,16,23,11,19,19,26,12,26,10,26,26,13,15,9,9,15,33,21,21,31,26,20,24,26,24,16,23,23,23,9,17,8,13,10,9,9,29,22,24,17,25,19,6,8,22,22,5,26,14,10,18,12,22,22,9,10,29,24,9,25,32,19,7,25,10,12,19,24,4,10,21,23,9,25,10,4,21,22,10,17,7,3,25,13,24,21,16,15,19,7,6,12,6,17,34,7,26,9,26,21,21,28,10,14,19,8,22,9,10,25,25,30,12,12,23,29,18,18,14,23,11,31,24,4,9,7,6,8,28,26,21,33,12,24,9,15,25,10,29,12,23,15,14,10,24,20,13,21,18,27,18,28,10,11,16,27,10,25,23,30,25,18,16,24,27,23,28,18,20,23,20,28,28,30,21,18,28,10,9,19,9,10,9,28,13,25,11,23,17,22,10,25,29,25,10,9,24,13,7,25,26,15,24,27,15,4,21,12,10,28,14,18,18,12,22,21,27,10,24,27,32,17,24,29,6,14,7,11,26,26,21,20,8,23,17,11,24,22,16,9,15,16,16,18,22,30,9,14,8,34,10,9,4,5,27,23,13,19,24,4,19,22,29,6,26,26,15,21,14,28,20,24,25,14,11,27,10,27,23,7,5,29,6,6,11,17,3,24,27,10,21,24,22,22,20,9,10,30,17,20,9,29,21,30,26,29,15,8,5,11,14,22,20,19,9,12,15,31,24,27,8,10,22,23,6,12,23,16,24,8,20,27,21,25,16,10,9,9,10,19,9,11,6,23,20,23,18,16,17,16,25,27,11,7,21,30,10,15,11,25,14,30,26,8,20,26,5,25,12,29,12,20,29,27,9,6,14,19,5,31,13,7,28,3,21,21,8,13,32,18,24,5,17,12,8,28,25,22,9,12,27,28,14,26,11,16,28,7,27,7,26,6,32,9,29,20,29,17,9,33,20,28,27,21,12,7,6,11,30,7,25,6,22,27,20,7,19,14,11,22,20,23,6,33,8,30,25,21,19,20,28,10,30,25,19,11,28,8,24,22,28,6,33,11,7,6,19,26,17,14,29,26,23,5,23,14,10,22,29,6,25,26,2,20,15,14,27,30,28,18,12,9,17,13,25,7,18,22,9,4,13,22,15,15,14,18,22,10,29,9,6,12,23,22,17,11,24,18,7,16,10,20,22,24,25,13,35,19,24,22,8,16,21,26,24,33,24,26,17,22,11,32,10,25,8,5,18,10,39,30,40,36,7,6,25,9,16,21,8,29,7,15,11,25,19,20,26,25,7,23,23,24,6,24,19,10,20,14,22,18,22,13,6,11,9,11,3,18,29,8,22,11,29,27,9,30,30,18,11,32,32,34,5,27,7,8,17,11,24,28,24,22,16,8,24,15,13,24,22,27,36,18,29,5,13,6,22,20,28,12,25,29,23,24,13,30,11,17,23,7,16,11,27,32,16,12,21,9,8,18,28,16,17,27,25,6,8,31,25,28,17,18,19,8,20,32,27,34,25,8,10,22,8,19,6,10,9,10,17,27,32,27,23,6,8,25,27,11,24,18,29,25,5,7,7,20,12,18,30,16,13,14,32,9,31,19,21,25,29,5,15,27,11,26,26,22,28,36,27,29,9,11,18,10,33,8,23,10,19,31,16,8,30,8,23,26,27,12,20,21,28,14,28,11,20,26,6,34,21,25,17,14,31,20,25,23,30,35,4,6,25,14,10,24,12,7,4,30,2,7,24,7,25,20,17,25,11,26,14,13,16,12,18,8,19,19,10,21,16,11,15,6,7,15,18,31,14,35,17,32,20,27,27,9,27,20,8,29,28,32,20,9,25,20,7,11,17,22,10,8,9,25,6,28,10,26,17,21,30,14,12,22,8,16,11,17,27,6,26,29,9,22,12,26,13,20,5,27,21,19,16,17,26,7,31,29,23,19,22,26,21,22,29,6,4,5,11,23,22,25,7,14,21,9,24,9,8,6,27,9,14,11,27,9,19,26,28,6,24,15,6,15,8,3,21,8,28,32,17,22,25,22,34,12,20,26,21,30,20,22,19,7,12,22,27,27,13,3,22,20,7,21,31,30,19,32,16,7,18,18,5,11,23,22,20,19,24,18,25,23,10,19,9,13,24,19,24,19,7,8,27,24,23,14,29,9,29,6,10,20,9,7,23,26,27,9,24,12,8,29,33,8,18,8,27,11,28,13,21,12,32,32,12,25,28,24,34,29,22,30,19,13,23,17,25,25,7,15,21,15,26,26,8,17,33,16,11,17,15,30,18,6,6,25,24,14,8,40,10,31,8,33,25,18,16,24,11,12,8,13,14,13,7,25,26,24,15,20,10,10,13,35,21,30,20,30,14,23,17,18,26,19,15,16,25,9,10,26,24,18,12,24,33,24,20,25,9,14,20,11,8,16,28,10,16,6,16,25,30,26,21,8,23,26,22,10,17,25,25,24,22,23,23,9,19,25,28,24,7,24,6,22,9,23,14,9,25,20,20,23,14,7,15,6,11,10,8,22,22,19,10,23,24,14,11,13,22,27,37,5,9,17,14,7,7,20,26,30,17,24,9,13,29,22,5,26,13,33,21,22,25,14,10,12,14,27,13,17,9,5,26,26,41,7,12,18,27,27,22,24,32,25,19,9,24,14,28,9,24,18,11,13,27,4,29,31,13,13,9,24],\"xaxis\":\"x\",\"yaxis\":\"y\",\"type\":\"histogram\"},{\"alignmentgroup\":\"True\",\"bingroup\":\"x\",\"hovertemplate\":\"color=age<br>tweet_length=%{x}<br>count=%{y}<extra></extra>\",\"legendgroup\":\"age\",\"marker\":{\"color\":\"#ab63fa\",\"pattern\":{\"shape\":\"\"}},\"name\":\"age\",\"offsetgroup\":\"age\",\"orientation\":\"v\",\"showlegend\":true,\"x\":[27,17,22,10,18,24,10,21,18,23,13,7,27,22,16,19,27,27,18,7,25,26,11,14,4,12,6,31,13,21,11,15,11,17,28,9,25,7,2,26,21,18,20,10,3,21,7,8,20,12,19,27,25,11,12,4,10,12,28,4,27,14,16,19,9,14,10,19,3,12,8,27,11,12,9,27,24,12,26,14,24,3,18,11,9,21,5,7,29,25,24,12,13,24,11,5,23,3,18,10,7,14,7,24,25,30,7,26,13,28,20,13,13,15,8,14,12,7,25,15,5,32,23,1,11,26,25,6,29,12,21,13,27,7,11,25,16,26,15,27,20,30,32,29,15,17,9,13,27,10,17,33,8,23,15,17,22,25,30,14,9,3,23,12,10,3,16,21,3,16,20,17,12,14,19,28,8,31,27,22,9,18,33,11,14,15,9,32,23,28,14,9,11,15,17,13,9,32,30,29,13,7,30,19,26,15,18,25,25,23,26,21,14,13,13,26,26,24,5,19,8,2,28,7,7,10,24,24,11,13,26,26,18,10,21,20,11,27,12,11,17,10,9,24,23,18,11,8,18,12,9,11,7,12,16,10,24,12,30,23,28,19,27,23,30,10,7,14,13,8,16,10,27,27,10,11,6,13,15,16,14,12,6,3,14,14,23,23,13,31,13,17,14,26,21,26,9,26,6,15,16,17,12,26,7,8,25,19,7,14,35,30,18,6,22,17,25,7,20,9,21,6,24,11,26,10,33,25,12,27,19,10,11,15,21,25,8,21,11,15,25,28,18,27,20,22,13,12,12,24,23,7,20,29,4,17,14,16,4,8,15,9,22,15,27,14,12,8,14,22,20,5,9,11,23,29,14,6,24,7,26,22,25,7,19,28,12,15,14,21,13,12,29,11,25,24,20,9,28,29,26,21,20,11,20,13,9,25,14,8,12,11,6,31,13,21,15,26,14,28,11,12,8,18,16,9,31,6,17,27,15,22,16,14,17,8,10,15,9,22,27,21,32,10,31,16,26,27,19,11,26,9,26,18,27,25,7,10,24,25,16,21,28,16,16,29,13,24,6,10,19,14,11,33,20,25,15,15,12,17,30,10,11,14,25,25,10,18,7,26,24,22,22,13,27,18,25,3,11,25,6,22,26,14,14,15,15,7,13,13,20,22,7,21,6,22,30,31,11,12,24,5,23,3,23,26,27,9,28,21,23,17,6,8,9,19,20,21,11,15,22,11,16,8,21,14,30,11,11,24,27,15,8,23,11,14,13,8,21,23,26,15,9,20,10,14,17,30,19,10,33,9,7,26,10,9,27,9,26,5,16,15,9,24,28,3,5,6,21,24,24,10,6,14,17,20,18,26,28,8,22,26,16,25,6,5,26,15,21,20,6,8,9,6,14,23,25,16,28,13,12,25,28,28,22,16,29,18,29,14,12,18,28,20,7,27,4,28,23,12,23,25,26,15,13,27,6,27,18,24,9,11,6,13,27,28,23,3,10,14,13,5,16,13,8,19,24,7,22,9,26,10,8,14,27,6,11,16,17,11,21,6,16,27,10,18,29,20,27,12,30,11,11,11,4,21,11,31,9,25,29,23,19,19,8,26,7,20,10,28,8,25,31,6,35,6,30,28,23,26,30,21,11,6,24,22,13,15,16,28,16,22,11,32,12,20,24,20,21,4,19,10,13,19,26,32,13,23,7,11,15,21,24,26,8,18,16,16,15,13,13,29,12,12,9,12,21,20,27,25,20,26,24,10,29,30,15,5,26,24,23,13,10,32,18,24,25,18,14,24,18,24,9,33,31,26,4,28,24,29,17,10,8,8,30,12,11,11,23,8,24,23,15,26,6,29,12,16,12,31,12,14,29,19,14,23,17,12,31,4,12,9,6,15,8,14,14,16,27,8,21,10,23,26,14,9,26,28,12,19,22,20,15,12,5,13,29,17,19,28,9,6,19,18,10,10,9,15,24,8,27,8,14,10,23,10,25,11,5,14,5,16,11,29,29,19,11,13,11,6,21,14,7,26,4,10,18,35,8,5,8,25,19,6,9,17,22,12,8,26,18,13,6,11,24,13,7,5,11,11,25,25,6,11,13,5,28,19,6,6,26,8,11,12,9,14,5,10,34,30,23,8,13,21,25,25,7,8,10,7,12,4,27,10,18,6,12,31,7,15,6,16,12,9,23,21,16,4,9,6,14,31,12,19,14,23,6,19,20,19,26,31,22,12,10,15,25,8,25,25,18,9,16,21,7,21,32,13,20,14,10,23,22,14,27,14,9,29,8,24,12,7,13,24,21,20,16,21,27,8,6,19,35,21,12,20,11,24,5,7,12,17,24,15,6,30,20,28,27,11,23,17,20,5,15,29,28,5,32,24,23,14,14,20,17,15,9,5,9,21,26,15,27,24,24,10,20,20,24,11,9,19,5,8,11,21,23,17,20,10,13,18,30,8,16,15,16,15,18,26,7,8,26,29,11,6,12,9,14,8,7,9,7,22,4,28,30,18,18,27,16,13,9,28,28,25,16,13,30,3,10,21,24,13,8,19,17,26,17,27,9,22,19,15,10,7,24,20,17,12,7,25,8,10,22,6,27,12,22,27,14,15,9,11,22,16,6,13,14,26,19,12,8,18,7,13,23,24,18,8,9,13,17,12,16,11,13,15,10,26,26,20,17,30,14,25,27,31,19,13,8,24,7,23,26,21,12,9,27,24,22,26,22,16,18,24,13,21,21,8,25,21,28,21,12,18,27,24,22,13,22,23,11,10,4,27,4,27,30,10,14,23,7,9,9,25,3,18,24,27,23,6,13,10,11,34,4,17,8,34,25,14,17,22,23,14,7,28,32,32,26,25,24,18,16,14,13,8,18,14,10,5,11,20,26,8,13,23,12,15,23,10,8,20,8,10,19,11,12,28,23,16,19,28,23,8,23,16,13,20,15,15,6,11,24,28,25,26,11,7,29,12,13,9,17,17,8,5,8,20,24,14,4,33,28,25,7,29,19,25,13,17,9,14,25,27,23,11,20,21,24,26,10,11,25,17,7,5,29,28,26,4,5,10,21,24,29,14,17,8,13,25,19,28,27,29,23,13,16,27,28,15,26,26,30,26,13,31,7,13,16,24,26,25,10,13,13,10,26,15,17,21,22,23,7,18,14,4,31,24,19,9,20,23,18,24,25,6,26,14,24,12,10,9,27,30,7,13,11,11,10,27,38,5,19,16,9,13,22,24,8,8,14,19,7,28,16,8,9,12,12,31,11,24,13,27,14,10,19,28,23,10,11,26,3,11,9,26,22,18,19,8,6,22,8,10,13,8,26,17,10,22,10,29,27,21,21,20,27,22,19,5,23,27,11,23,9,15,24,12,15,5,11,24,21,9,26,7,24,25,23,23,12,12,11,17,21,13,22,21,16,6,20,27,32,17,27,8,29,4,14,24,18,15,23,5,7,7,26,15,11,15,19,14,18,24,24,27,15,16,21,15,12,23,7,13,8,19,25,11,24,30,10,14,25,10,3,5,22,14,29,7,9,27,20,2,20,29,17,11,8,5,22,25,9,30,32,21,24,11,15,8,19,19,5,13,14,12,26,7,25,14,22,22,25,24,31,14,4,22,11,5,7,19,13,6,8,12,25,29,24,26,7,9,8,6,20,11,10,21,21,23,9,19,28,12,7,4,23,17,16,27,22,10,20,17,13,6,8,8,32,15,25,17,18,25,15,21,33,29,28,3,11,7,10,24,24,7,29,8,24,7,16,21,17,9,25,11,25,28,12,12,21,18,3,15,9,13,27,26,7,10,8,20,19,16,19,26,7,24,25,6,14,9,12,8,28,6,13,14,31,9,20,8,21,25,12,18,12,12,19,6,13,19,27,8,11,10,14,22,16,20,24,5,20,28,8,13,12,16,8,27,17,5,14,3,7,19,31,28,15,8,23,10,22,14,22,27,28,13,24,29,4,25,5,18,27,6,20,6,7,31,28,8,11,12,12,23,15,19,18,8,14,20,15,24,19,13,23,10,14,6,15,16,23,24,25,7,9,22,21,19,16,2,22,30,29,32,11,23,19,15,9,15,7,9,7,18,8,24,26,23,14,7,13,23,10,28,23,5,9,28,27,19,28,29,26,29,24,9,9,3,10,16,6,8,13,25,8,6,8,6,9,12,8,9,6,19,5,27,26,4,28,23,5,15,4,25,20,24,20,16,9,14,14,20,15,6,11,7,24,13,27,18,30,16,24,25,9,19,25,24,19,23,5,25,25,22,13,9,24,13,24,27,14,7,24,29,28,17,11,12,19,15,18,4,18,10,31,15,15,27,24,15,23,7,8,5,7,15,4,31,4,13,8,7,30,14,24,12,26,28,20,36,6,27,16,26,17,18,7,6,7,17,23,12,7,17,15,28,32,17,9,21,18,9,14,24,11,32,9,7,32,14,14,13,18,11,10,15,16,24,17,13,10,28,10,10,23,20,20,5,23,13,21,140,16,21,8,16,8,5,28,17,14,27,20,19,9,23,23,9,7,23,32,13,23,24,11,8,16,31,26,10,18,22,29,5,14,7,15,12,10,15,22,7,25,24,8,19,28,32,21,25,15,24,26,7,7,18,17,23,27,13,29,20,6,11,12,22,29,10,22,11,10,21,18,30,25,13,30,12,31,8,25,8,5,18,30,23,23,15,39,28,18,17,26,33,17,25,19,27,12,23,15,11,18,3,21,25,17,20,21,19,9,7,10,17,24,12,19,28,9,19,7,17,14,35,13,26,9,21,27,11,5,10,24,23,19,14,24,6,28,19,21,25,29,25,21,8,23,13,7,15,15,18,9,20,24,16,27,13,28,27,33,7,25,15,18,31,6,23,5,4,28,8,22,5,10,26,9,7,7,23,18,24,27,11,21,25,21,27,21,10,27,27,12,12,15,19,11,12,20,19,13,14,13,15,9,12,21,18,25,25,5,14,27,20,20,14,12,12,28,23,17,10,20,12,28,3,25,13,20,13,33,11,12,20,17,26,16,13,9,24,27,12,7,7,7,16,19,14,8,27,19,23,21,19,24,7,9,10,14,21,27,21,7,24,13,14,26,19,10,6,12,34,8,16,12,9,12,21,28,8,26,20,24,11,8,2,7,25,7,26,19,12,15,25,8,20,26,27,17,30,18,13,33,10,22,11,11,6,15,14,20,22,5,23,14,12,9,9,23,17,11,22,21,23,24,17,15,25,16,2,19,28,19,13,16,11,30,30,7,11,21,18,21,24,9,18,14,20,12,6,23,16,23,12,28,29,9,9,9,25,8,25,12,24,19,6,17,12,16,23,24,6,12,28,29,12,32,11,6,5,5,15,26,15,4,14,9,12,25,30,26,9,19,24,24,25,11,15,29,23,15,20,15,29,24,11,23,31,27,15,32,15,9,18,7,8,21,5,25,20,8,31,20,10,8,11,19,8,28,16,10,21,22,19,15,16,16,13,8,17,28,20,16,26,12,15,19,22,22,20,15,9,16,15,14,18,32,13,14,26,26,12,34,30,23,12,27,24,10,27,23,22,16,17,15,32,17,7,5,8,22,31,14,15,13,27,14,14,18,22,21,22,18,6,5,24,7,7,15,30,14,21,27,20,31,29,21,15,7,13,12,23,18,9,8,35,27,23,26,23,25,16,4,15,11,22,12,23,15,17,25,12,19,27,13,5,23,16,18,16,9,14,21,16,10,33,26,21,24,25,9,4,8,21,21,18,13,15,8,5,13,26,22,9,9,18,10,19,24,12,24,26,23,13,8,22,3,23,27,19,8,15,29,27,13,19,21,16,15,8,6,5,13,16,18,7,26,29,11,16,32,20,10,22,19,25,12,10,8,23,29,24,27,20,18,12,14,24,11,21,30,29,9,5,31,26,14,33,21,16,31,6,22,10,7,18,22,6,30,17,8,28,5,11,26,22,25,5,13,26,23,29,9,9,21,24,13,23,5,22,9,12,24,22,21,13,29,10,13,32,25,20,22,16,5,29,26,15,5,15,10,8,18,13,28,7,29,13,19,28,24,6,24,12,25,8,23,13,12,23,17,19,21,16,13,36,26,7,13,6,20,16,8,14,15,28,30,27,15,22,3,23,28,11,15,10,13,8,25,30,22,13,13,29,10,27,19,26,20,16,14,29,22,24,12,3,15,7,6,30,10,19,18,31,8,15,22,24,26,29,18,15,17,16,21,12,7,11,13,16,22,26,26,19,24,8,4,11,9,9,12,24,16,25,23,26,33,13,18,19,9,9,25,19,16,33,12,28,10,23,23,7,18,29,8,28,26,15,24,21,17,16,24,25,10,28,21,26,12,24,16,11,3,25,30,14,13,10,16,13,28,21,17,20,25,9,21,5,28,14,11,24,4,22,17,28,21,21,8,9,6,13,8,10,10,17,24,24,16,18,14,15,7,10,17,22,13,13,21,27,22,26,22,4,13,10,12,17,6,22,25,23,16,20,11,5,14,8,20,30,24,24,21,13,15,7,12,9,7,19,24,9,15,17,8,12,5,30,23,9,27,21,8,20,15,14,28,19,20,12,17,16,22,8,24,32,10,9,9,11,24,6,26,18,20,5,21,18,23,23,9,17,30,18,28,7,20,18,11,30,30,24,17,11,14,6,17,26,7,10,13,18,25,15,10,28,21,26,14,21,8,12,26,7,23,19,4,16,18,12,9,25,28,30,19,4,7,22,23,25,5,16,9,13,17,14,27,16,8,22,10,17,11,23,13,16,17,25,22,27,7,16,13,16,17,22,11,21,17,23,22,25,4,14,2,28,7,30,25,33,12,31,29,28,17,26,18,9,21,8,29,9,28,19,17,9,19,17,28,10,16,12,4,10,28,17,20,20,22,15,15,25,21,7,12,18,15,29,7,9,23,6,8,14,11,7,28,25,12,8,7,7,21,8,2,12,6,26,16,21,10,9,25,11,23,14,9,18,5,6,9,8,7,14,9,20,10,17,12,26,13,7,9,6,12,16,7,23,19,16,22,25,27,4,15,12,31,14,17,6,5,24,9,12,26,28,28,14,11,9,4,6,24,27,10,7,25,27,12,7,29,19,8,19,14,22,29,23,6,11,8,2,10,27,7,28,22,19,32,26,7,11,4,20,29,10,13,14,23,22,8,29,10,25,7,16,7,22,18,23,15,11,9,23,11,6,21,5,28,8,11,21,12,5,31,15,6,27,5,16,17,10,9,13,19,7,5,16,28,8,28,15,26,22,14,27,31,19,21,14,12,4,27,15,10,12,20,27,17,23,13,10,10,26,22,21,26,33,27,29,15,12,25,12,32,17,8,10,30,19,17,27,9,26,12,17,12,22,23,3,8,31,8,18,20,10,19,16,37,22,19,25,6,10,14,16,14,6,5,18,8,9,5,3,13,11,22,15,10,21,16,23,12,21,8,30,25,18,14,15,17,14,6,5,25,10,8,15,27,15,15,18,22,13,26,22,5,13,29,30,9,24,19,24,18,23,6,8,10,20,3,7,11,19,14,28,23,25,10,9,24,22,7,26,5,27,6,5,10,9,5,22,10,20,12,11,23,9,8,24,11,8,33,20,8,22,27,5,12,22,16,4,25,7,11,22,6,15,6,23,31,23,9,10,8,9,24,24,26,4,6,26,17,18,19,24,15,13,18,21,32,13,7,16,24,12,25,23,11,21,19,16,17,15,28,15,7,19,4,18,26,15,24,31,25,21,21,7,22,7,6,18,26,21,13,21,24,11,14,23,12,28,25,28,8,15,5,5,21,27,11,14,10,7,30,27,12,6,7,20,24,21,22,8,10,21,8,30,8,12,29,13,12,5,25,5,14,23,19,22,27,12,11,7,14,20,14,6,12,18,30,23,19,22,9,9,21,22,17,30,13,9,14,24,11,17,24,14,7,25,16,14,26,11,28,21,17,16,27,12,11,9,12,19,7,9,11,15,22,23,7,26,17,23,23,10,23,22,14,6,17,14,11,29,16,13,7,12,19,24,27,26,7,10,4,16,11,15,15,4,22,18,19,29,28,24,29,8,12,27,25,26,19,11,23,17,25,26,5,5,21,24,15,11,7,13,13,24,25,14,15,6,23,10,16,12,24,20,6,5,5,22,6,15,10,20,29,33,15,15,5,30,15,9,10,12,15,25,18,14,10,21,19,15,9,11,11,13,19,22,14,24,24,16,18,28,13,26,25,12,12,22,4,21,13,19,8,14,10,25,22,24,25,23,25,17,19,18,12,29,19,25,8,5,12,29,20,17,6,19,33,13,20,23,16,35,23,24,9,10,25,6,12,12,23,19,17,22,27,26,27,15,21,30,7,11,22,20,15,12,28,19,23,13,14,8,26,18,12,17,25,7,21,23,12,15,12,15,8,24,5,28,9,22,11,25,17,6,20,4,20,7,15,22,6,27,4,17,6,24,9,17,14,8,10,22,19,18,25,11,30,15,28,19,17,34,28,32,25,24,27,13,5,15,20,31,21,10,17,25,10,15,11,28,7,29,14,20,12,30,18,13,9,28,25,9,28,14,6,25,8,25,10,33,10,24,11,28,10,11,21,23,22,12,28,11,9,22,23,22,25,9,10,28,25,11,13,15,5,24,35,25,9,13,9,19,24,18,12,17,25,22,10,16,12,14,15,12,8,23,20,19,20,21,3,26,24,27,21,23,14,21,24,26,8,25,19,27,7,13,23,18,10,13,15,29,26,27,25,10,6,30,27,23,22,8,23,12,29,27,13,9,10,31,21,6,9,28,9,17,26,16,19,13,4,6,7,26,25,21,20,14,22,16,10,25,22,10,27,28,12,10,30,11,23,13,12,13,20,4,30,10,10,14,22,23,14,11,27,21,16,17,22,7,27,29,24,19,18,26,19,27,14,15,9,16,24,10,24,5,16,11,13,5,11,29,24,8,20,24,23,8,20,15,16,23,9,15,17,16,9,18,29,27,25,12,32,24,25,10,26,7,11,18,16,26,11,6,9,26,5,8,19,6,18,29,11,17,23,16,19,21,10,22,8,18,8,24,9,6,23,7,11,8,13,9,6,18,21,19,16,25,23,28,22,28,11,28,24,25,27,25,18,21,14,12,19,19,13,27,3,10,24,19,17,13,14,29,8,8,13,26,16,16,12,11,13,22,9,14,19,20,29,8,21,24,29,13,14,24,16,21,14,23,12,8,27,9,26,13,23,24,26,13,15,24,7,23,14,19,12,7,24,23,7,6,6,10,10,12,13,5,5,7,16,21,10,12,6,18,20,15,9,26,15,27,6,24,8,8,14,13,5,10,11,21,8,12,22,7,7,20,9,16,23,9,10,5,5,14,8,28,11,26,8,15,17,23,15,10,16,16,25,9,33,27,33,22,18,25,9,6,24,33,18,23,23,26,17,25,4,29,29,13,9,23,6,24,10,25,13,22,14,27,18,12,27,19,10,13,9,17,30,20,14,6,27,12,9,8,9,16,9,10,10,25,6,18,16,15,7,23,6,26,21,27,13,12,10,21,22,15,11,9,27,23,12,20,11,12,33,13,21,27,10,22,23,12,8,12,19,18,11,5,14,21,22,15,7,12,24,20,23,13,31,15,12,9,29,11,29,9,26,7,25,24,6,23,20,9,15,5,17,22,7,8,9,22,17,8,19,31,27,14,9,16,24,20,19,33,25,17,14,10,12,23,18,25,24,12,11,11,17,16,9,17,23,30,17,26,9,5,21,9,14,17,19,22,15,23,17,21,28,4,9,22,28,12,6,14,31,9,34,30,15,19,16,6,16,28,9,12,22,9,23,28,19,15,27,9,17,14,7,28,15,13,28,28,15,25,16,8,15,26,7,20,10,13,15,23,16,18,27,8,7,13,22,8,10,10,29,19,4,9,18,10,7,25,28,16,27,23,19,14,17,21,19,21,5,9,3,24,14,17,19,15,25,16,14,28,30,9,11,16,11,14,18,24,13,16,27,21,29,16,24,18,13,4,6,27,9,14,6,9,16,4,24,14,13,21,22,18,16,19,23,19,15,24,8,27,15,25,15,20,22,22,25,20,26,6,15,12,19,6,12,23,13,18,15,5,17,16,20,23,7,25,22,12,7,10,23,7,14,9,23,13,31,15,28,25,10,15,11,16,25,26,7,14,8,29,13,19,35,14,17,11,16,9,25,28,14,8,10,16,8,28,4,30,6,29,6,23,5,12,24,18,29,16,22,23,31,21,21,7,12,12,28,22,4,17,11,19,23,15,15,18,17,15,13,3,9,15,11,29,22,9,15,15,28,16,22,23,20,8,15,11,11,27,12,28,30,24,26,21,9,26,12,23,12,20,19,20,17,6,10,26,12,29,8,28,26,21,9,16,9,15,10,4,26,31,10,24,25,17,24,11,21,17,15,30,8,15,21,23,25,11,26,11,18,12,18,18,4,27,18,21,10,13,17,16,26,21,31,19,4,16,4,30,16,25,32,30,7,15,14,18,23,11,7,18,14,29,13,8,30,27,13,4,26,17,11,13,5,18,23,22,12,21,22,9,16,20,24,9,9,14,13,28,11,21,20,6,26,20,22,8,7,14,18,27,6,14,14,16,19,8,6,15,13,9,23,7,18,11,12,23,19,9,28,13,6,13,5,7,12,14,28,4,14,22,5,31,21,9,10,29,20,9,8,12,17,16,16,16,22,24,14,11,13,19,4,9,16,26,17,29,27,7,30,7,13,10,10,22,7,17,8,20,18,27,24,11,24,16,26,29,5,14,20,12,18,26,12,13,23,14,25,26,26,23,10,8,23,15,8,25,18,29,25,23,20,27,15,22,28,23,22,11,24,18,18,22,27,28,12,24,19,9,18,21,23,11,26,13,19,13,33,8,6,11,27,9,17,7,11,9,27,26,9,11,22,18,9,26,19,10,11,25,7,9,15,12,22,19,12,15,27,19,14,30,4,10,13,4,34,11,21,20,14,14,20,14,20,15,31,15,29,16,18,20,14,7,16,7,4,34,28,21,9,15,7,19,7,13,6,3,9,22,12,27,25,26,26,20,26,25,21,25,8,17,9,6,9,11,10,27,21,16,14,9,15,25,27,10,29,16,20,19,9,19,27,11,15,12,16,7,17,8,15,36,11,5,25,25,15,9,26,19,7,30,13,25,7,21,19,10,26,15,4,8,16,12,13,11,17,25,6,13,7,32,23,15,13,16,10,31,13,24,19,12,27,13,28,16,6,18,20,26,11,9,27,10,34,12,14,9,7,11,27,8,26,11,3,6,19,26,13,27,12,24,18,8,22,19,13,19,11,30,24,20,18,16,25,19,28,18,6,20,17,31,24,24,20,30,20,10,26,31,26,9,4,7,18,26,21,16,26,10,8,9,8,26,7,17,26,20,7,14,16,12,14,6,18,16,21,8,16,6,13,22,18,7,32,13,13,26,13,18,14,29,17,24,13,16,27,23,23,10,27,7,19,10,14,7,14,20,29,12,16,5,12,34,28,17,25,10,14,19,8,6,16,21,26,18,14,16,19,31,9,12,16,8,25,25,18,26,22,31,6,26,9,13,8,25,9,20,14,24,21,28,21,7,20,24,24,26,22,21,24,12,31,6,32,15,9,10,8,24,20,10,8,18,7,6,16,16,14,5,28,23,16,28,24,16,8,30,14,5,8,25,15,3,20,16,19,9,11,25,17,13,12,27,6,29,22,19,14,16,19,17,22,25,22,23,12,7,20,31,23,24,12,8,6,21,8,18,25,8,22,22,14,27,8,20,25,24,27,26,10,21,7,5,19,19,16,20,12,15,9,14,14,24,16,24,32,8,12,11,28,28,4,24,6,17,9,8,9,10,18,31,21,17,21,18,23,18,18,12,14,14,21,28,12,21,22,21,13,15,23,29,22,14,29,15,21,3,17,5,10,10,15,17,13,18,14,3,22,13,10,25,21,24,25,28,22,11,17,32,23,11,9,10,11,4,6,9,13,25,16,23,28,11,24,18,7,8,21,27,10,8,23,23,8,12,12,17,29,14,6,13,21,25,16,25,29,6,24,21,26,7,13,20,7,16,21,19,7,24,18,7,32,22,12,11,24,24,21,27,9,13,15,24,8,30,31,27,7,30,14,11,27,23,15,26,22,24,5,23,14,23,10,17,22,19,19,16,15,27,18,6,21,19,17,27,13,16,13,29,16,9,11,10,19,15,20,11,3,21,22,3,13,25,22,19,18,11,16,15,9,27,17,19,19,13,14,14,23,22,9,9,28,24,9,29,22,8,10,23,22,11,8,21,22,12,19,8,28,27,8,11,8,12,18,8,16,6,22,22,8,27,19,23,22,19,17,9,20,21,13,12,21,28,16,5,9,14,10,25,15,14,24,17,15,11,23,26,17,13,13,23,22,14,26,4,12,27,27,15,10,26,4,22,18,18,33,22,3,9,12,13,8,11,19,28,11,8,6,22,27,25,25,29,22,16,20,22,11,19,14,25,26,25,26,35,20,5,18,27,5,14,9,17,7,22,11,27,17,11,8,20,10,17,10,12,8,24,21,14,13,22,7,8,22,14,16,25,17,24,12,11,22,9,13,7,28,5,25,18,15,16,18,23,17,13,14,26,15,20,31,25,9,22,22,12,21,21,10,9,7,11,14,10,15,12,31,6,5,6,24,29,31,19,19,22,26,23,8,19,19,15,6,17,20,29,7,12,20,15,6,30,14,9,24,7,23,23,10,21,12,3,23,6,15,23,15,16,2,9,23,19,7,13,30,14,25,20,20,10,10,15,6,22,24,14,12,18,16,25,24,11,26,33,15,15,26,11,29,15,18,12,29,19,10,16,11,8,20,3,9,6,10,17,18,15,14,13,26,16,13,6,6,10,4,13,10,31,7,24,25,18,25,22,27,25,31,24,26,25,4,24,8,13,16,9,11,22,5,19,25,15,24,8,26,19,10,18,4,12,22,8,23,7,18,11,10,17,19,9,4,11,5,10,20,21,13,17,14,23,31,13,24,15,28,2,12,26,29,34,23,14,14,14,7,11,9,25,27,17,9,15,10,20,12,23,13,16,14,22,23,19,24,11,11,24,13,13,30,29,5,7,20,14,22,9,29,16,15,7,9,10,15,10,25,11,24,11,15,27,14,10,18,29,21,8,16,18,15,19,29,33,7,11,20,19,9,11,23,12,16,5,4,11,28,15,22,20,12,19,27,27,26,27,22,16,19,16,17,26,7,15,12,19,10,28,10,18,10,24,4,22,21,11,20,5,9,13,21,18,12,11,25,31,16,12,12,12,20,9,12,14,4,32,5,26,19,27,21,22,26,24,4,24,14,14,12,11,8,12,24,12,24,5,15,4,27,14,20,10,25,21,25,26,7,32,6,18,20,23,22,9,16,24,10,24,34,16,14,25,18,14,26,21,25,7,30,21,16,27,20,10,26,5,12,26,27,8,5,11,20,28,24,25,25,19,24,19,7,24,17,8,23,16,14,16,13,22,4,22,10,3,24,13,12,22,6,5,8,4,6,7,5,9,24,18,21,7,9,29,11,12,23,12,28,31,24,15,9,28,18,21,7,11,8,22,9,9,9,20,11,16,25,16,10,24,24,5,17,14,1,9,29,13,4,12,33,5,29,26,18,29,19,27,16,7,29,26,9,29,7,19,7,7,29,7,18,29,10,18,25,22,9,4,7,23,11,5,30,8,11,20,6,15,28,23,16,13,11,13,27,13,21,6,19,13,17,23,19,6,7,22,18,23,26,18,30,12,11,23,13,18,33,15,21,12,4,14,16,6,28,15,13,10,9,9,8,17,10,6,21,25,17,9,10,30,18,13,14,14,22,23,28,25,13,6,10,17,12,28,26,3,26,21,23,5,9,9,16,21,12,20,19,26,7,29,10,25,6,8,13,11,14,12,20,9,26,17,28,18,19,8,11,7,11,27,26,28,19,19,26,27,7,20,8,15,23,15,22,13,27,22,20,11,29,19,26,29,22,17,10,18,21,20,24,9,23,6,21,9,19,9,17,20,26,24,6,32,31,8,27,15,28,15,24,16,13,7,11,6,8,29,26,15,5,15,21,19,5,12,23,20,17,24,30,12,19,6,8,24,22,7,6,8,30,18,22,26,16,24,16,5,21,13,4,21,12,28,18,10,7,27,10,5,17,12,25,17,11,25,11,16,8,27,17,29,13,8,13,6,19,10,24,23,12,21,25,11,16,11,12,23,22,19,16,28,19,19,26,26,19,7,8,22,17,10,8,27,8,29,9,15,25,22,14,10,27,26,14,26,21,13,13,10,28,16,19,20,13,11,35,32,23,10,14,11,5,8,28,26,20,16,24,6,7,23,10,27,26,27,26,8,8,13,9,14,26,24,28,14,27,3,17,9,9,10,7,22,26,18,20,26,26,26,16,18,12,10,22,22,20,4,22,18,30,9,25,12,17,26,16,7,18,27,33,22,19,4,12,15,16,14,21,8,10,7,7,3,10,7,7,25,12,10,27,28,25,23,23,23,12,20,24,25,3,26,18,8,12,15,15,14,14,7,9,20,17,7,12,20,23,7,15,19,16,2,30,16,22,11,8,13,25,11,14,23,14,29,25,7,23,23,14,21,31,32,6,32,23,12,15,7,10,7,23,24,18,26,22,21,32,9,32,15,15,16,15,15,15,27,7,21,29,15,4,8,25,14,26,17,28,17,9,7,22,20,8,17,29,30,27,24,7,24,15,12,12,15,25,19,8,20,14,12,10,16,11,11,8,23,20,20,24,22,25,6,5,29,5,5,21,22,17,18,10,27,6,12,25,7,15,19,4,10,25,10,9,10,13,11,23,22,13,9,5,23,4,23,17,16,21,7,24,15,3,12,12,18,8,12,29,8,15,11,21,30,20,13,14,17,27,28,16,34,12,30,5,35,8,10,24,25,19,16,4,26,25,22,23,28,11,4,5,10,19,12,13,22,14,7,24,20,17,14,27,4,27,25,19,21,22,31,8,18,17,15,26,4,22,23,12,17,26,22,20,13,7,10,10,9,16,9,13,25,22,16,15,14,17,15,17,8,27,21,18,12,25,22,5,8,12,24,5,10,21,22,4,28,19,17,18,13,23,27,22,8,15,25,18,11,2,11,17,13,14,11,28,20,20,17,20,30,23,16,16,26,13,12,11,12,28,23,23,34,18,32,12,15,30,13,24,10,20,25,9,10,21,30,16,10,21,24,21,11,28,7,24,27,21,13,26,11,7,10,24,8,27,37,17,7,12,25,9,28,29,11,20,16,22,31,14,15,12,21,5,9,20,23,12,24,28,11,10,15,17,12,27,32,13,12,8,24,5,9,7,19,29,13,22,18,25,19,5,22,11,19,23,9,36,8,13,19,25,13,21,15,14,20,6,23,20,30,28,17,26,18,15,20,24,18,12,15,14,11,24,28,4,21,15,27,23,7,18,10,16,16,8,27,8,7,6,10,15,4,9,22,14,25,15,9,7,23,14,23,11,5,28,22,23,16,26,27,24,28,11,26,17,16,35,23,11,25,18,5,11,14,8,16,9,19,16,5,16,7,12,14,25,10,22,24,24,12,23,17,6,17,24,13,11,23,12,26,26,10,2,23,11,10,22,6,25,24,19,24,20,6,22,21,17,16,16,20,25,20,15,19,5,4,6,6,21,9,16,20,9,29,22,25,11,27,27,11,26,7,26,15,23,28,10,18,24,14,15,27,23,23,8,9,13,15,20,25,19,16,24,10,15,17,9,13,12,27,6,6,10,9,27,14,15,22,18,6,18,9,9,33,24,14,13,25,4,11,20,40,26,32,15,9,25,6,25,10,19,10,6,19,8,23,23,11,23,5,8,10,17,15,32,23,10,20,20,27,14,29,29,26,22,12,10,20,19,24,9,9,27,10,29,22,5,7,9,6,26,9,19,10,6,14,18,13,24,28,26,20,22,10,13,10,15,9,11,14,16,10,11,14,6,25,12,25,8,25,7,21,7,13,10,30,14,21,22,10,29,25,7,17,24,21,26,26,16,29,23,8,12,27,24,6,30,25,13,3,6,21,23,24,25,25,29,12,27,21,23,23,8,15,9,23,10,29,20,12,11,6,8,10,26,27,18,29,10,22,20,9,27,14,19,11,21,31,20,22,22,15,20,9,11,24,9,21,24,22,27,25,8,23,29,11,15,5,18,13,16,13,18,28,4,26,30,25,19,27,19,7,26,19,11,6,24,20,19,25,15,19,5,25,8,18,26,13,5,25,8,31,13,7,12,24,10,12,4,9,24,10,21,8,14,11,16,25,25,13,14,28,22,27,9,20,27,22,14,25,21,26,9,26,12,8,25,23,18,6,14,31,8,11,7,27,30,23,28,21,10,6,24,8,16,13,8,17,21,25,8,8,12,23,30,23,5,26,21,6,27,11,8,6,7,12,11,11,27,23,23,27,23,27,19,13,10,7,5,4,24,4,34,26,13,23,24,20,10,15,12,11,23,21,8,7,21,30,24,28,9,12,5,16,12,15,12,13,17,9,6,9,26,27,22,26,9,7,25,28,21,10,29,9,18,10,7,23,11,24,12,12,5,11,14,9,11,12,26,14,11,20,6,10,17,12,19,35,16,26,19,7,21,28,12,5,28,9,26,10,11,24,4,6,17,8,9,31,34,23,14,22,12,11,30,21,20,32,15,7,14,9,27,27,18,10,8,28,22,8,27,24,13,17,14,26,13,10,14,25,16,7,20,28,3,5,17,17,17,13,7,18,13,26,24,16,17,32,19,5,16,5,20,26,10,21,8,19,29,12,15,20,24,15,25,28,34,23,21,15,5,10,22,7,14,21,14,16,23,19,18,14,16,24,13,11,9,25,30,15,21,27,28,14,20,3,23,17,14,17,16,27,24,10,7,24,11,17,15,14,16,17,11,15,19,14,17,17,6,32,20,22,15,21,14,26,15,30,13,23,22,22,22,15,25,13,19,15,10,8,28,12,10,11,12,20,19,23,20,25,25,35,31,23,29,19,18,5,29,11,11,10,22,16,20,17,13,20,26,8,21,6,8,11,24,17,5,11,8,20,15,24,6,11,23,27,36,23,9,20,12,24,8,13,31,9,19,11,8,14,30,23,11,17,26,6,29,24,26,26,13,5,26,29,17,6,16,29,14,19,15,13,8,18,10,29,12,10,12,19,8,13,14,20,10,9,21,9,28,15,17,22,24,13,11,16,23,25,4,26,22,29,11,8,5,11,7,13,8,6,25,19,11,27,19,6,29,13,13,13,17,9,6,16,11,12,8,28,9,10,6,17,10,15,24,18,10,8,7,13,12,19,16,16,27,18,21,6,27,11,7,14,23,13,13,16,22,22,9,25,20,17,4,24,16,8,13,12,30,19,19,29,31,26,12,16,29,30,12,27,16,18,19,26,29,23,12,18,5,11,24,13,12,21,34,13,10,33,16,26,30,18,22,22,14,14,13,4,19,23,9,25,21,28,26,21,13,9,6,10,22,25,24,28,11,7,23,12,24,23,17,26,8,5,29,6,15,15,17,16,9,26,27,15,24,20,32,10,13,14,7,16,30,16,18,31,21,21,13,18,29,17,9,29,11,24,28,11,7,3,11,27,29,30,26,25,16,25,15,24,11,13,18,25,12,26,16,8,23,24,7,9,23,13,28,20,25,25,22,26,24,6,4,22,4,10,15,4,15,22,7,23,11,29,24,13,8,31,25,15,25,30,28,21,21,13,9,27,22,17,14,7,3,26,15,18,8,14,15,27,26,6,13,23,19,17,29,12,15,12,22,17,15,27,30,7,11,8,17,32,19,12,16,15,12,23,5,8,5,11,10,25,15,21,9,17,25,32,22,24,13,10,12,6,5,27,12,8,35,21,20,26,18,38,14,28,12,17,26,15,22,31,16,19,7,8,18,32,19,25,25,11,22,30,30,10,23,28,9,18,24,23,9,16,19,16,3,13,20,6,31,5,17,28,18,24,24,10,20,23,8,8,31,20,27,18,9,24,12,22,9,32,25,31,7,17,23,23,6,24,20,25,16,14,8,25,21,11],\"xaxis\":\"x\",\"yaxis\":\"y\",\"type\":\"histogram\"},{\"alignmentgroup\":\"True\",\"bingroup\":\"x\",\"hovertemplate\":\"color=ethnicity<br>tweet_length=%{x}<br>count=%{y}<extra></extra>\",\"legendgroup\":\"ethnicity\",\"marker\":{\"color\":\"#FFA15A\",\"pattern\":{\"shape\":\"\"}},\"name\":\"ethnicity\",\"offsetgroup\":\"ethnicity\",\"orientation\":\"v\",\"showlegend\":true,\"x\":[15,9,23,13,5,16,11,25,9,12,20,21,26,10,14,10,17,16,8,18,21,16,16,3,14,8,19,19,12,27,13,13,16,23,35,10,11,16,7,15,13,24,15,19,19,26,26,9,17,0,10,24,15,8,3,7,5,20,30,13,7,21,6,14,6,13,11,11,4,11,26,9,9,13,9,10,10,30,7,8,5,7,8,15,7,33,21,12,20,10,9,10,20,5,8,20,20,15,13,14,17,19,11,16,23,22,6,13,24,23,26,13,37,17,11,26,6,11,16,17,12,13,19,5,13,5,7,10,9,9,32,12,15,27,20,17,11,11,15,11,11,16,24,23,9,13,29,16,11,10,13,9,15,8,8,16,21,30,17,16,22,16,29,20,6,13,10,29,14,24,14,13,28,7,9,5,11,23,22,31,10,12,5,27,10,13,11,33,10,33,30,11,18,19,13,8,11,12,12,17,12,10,7,4,10,10,24,12,16,24,16,17,18,9,25,29,10,21,11,20,16,12,14,14,21,7,28,9,6,7,14,10,9,22,11,11,15,32,17,13,13,19,9,17,10,10,17,9,8,15,30,16,3,14,6,8,19,26,19,17,14,11,19,14,12,7,10,9,13,26,10,27,9,18,7,10,26,14,14,33,13,10,9,8,14,14,22,18,13,37,10,10,13,12,14,12,6,9,23,14,15,9,14,23,14,9,13,9,26,15,8,14,18,22,24,23,12,34,16,7,30,19,22,25,15,21,5,17,13,7,15,14,28,31,8,15,11,8,10,16,23,16,9,12,15,10,9,22,17,7,7,17,10,4,26,25,8,11,26,7,19,17,14,5,26,33,11,13,15,8,5,9,12,29,13,27,33,19,8,26,28,11,22,11,29,11,22,0,19,17,8,14,16,7,5,11,11,12,18,5,12,14,13,6,7,22,7,33,5,17,3,7,14,10,24,6,22,15,15,16,10,13,15,13,13,9,9,24,15,14,9,3,7,14,14,16,8,12,5,25,21,9,25,14,12,5,14,26,7,13,14,11,10,15,12,11,12,9,12,13,13,6,11,10,13,27,11,8,12,19,18,10,27,14,5,15,11,8,11,12,29,11,8,22,15,12,17,8,15,23,13,15,35,26,13,16,15,13,16,29,25,3,16,15,19,25,11,8,22,11,25,21,12,19,10,15,7,33,11,9,15,9,18,19,4,19,20,6,9,5,15,5,15,11,14,10,15,9,7,22,32,14,25,20,15,11,7,24,11,8,30,37,12,6,28,10,25,12,11,11,23,11,16,11,14,5,30,19,5,11,11,29,15,9,18,8,17,10,21,8,28,6,21,9,29,26,25,12,11,28,27,31,31,27,7,19,25,10,13,7,21,18,11,8,13,5,16,23,6,28,11,13,21,13,8,8,4,19,9,7,14,10,14,8,17,5,16,18,25,15,8,13,14,16,8,5,22,10,18,15,16,15,11,13,18,9,13,15,26,24,25,8,9,14,23,11,10,14,8,15,11,8,20,11,12,8,30,12,18,11,15,11,14,14,11,12,12,23,31,11,16,6,3,8,23,23,9,4,3,11,4,19,30,16,13,18,15,25,20,9,19,21,18,29,6,10,14,10,13,6,6,12,10,9,3,9,20,10,10,9,13,6,21,30,19,18,8,16,3,11,10,34,17,5,10,14,12,3,14,17,9,12,22,24,29,14,10,23,8,10,14,7,17,31,17,12,17,15,8,15,12,7,12,11,13,23,14,18,18,8,23,8,34,23,11,13,18,7,11,8,8,11,15,22,13,18,5,6,16,12,8,21,18,10,13,14,22,34,17,8,20,10,9,4,14,8,9,10,34,15,16,3,13,9,16,9,9,15,13,13,12,8,21,14,16,3,9,15,10,15,14,21,13,18,8,15,9,10,10,10,30,13,14,20,29,18,12,7,22,9,15,16,14,13,18,17,8,9,26,14,31,7,21,15,13,27,29,5,14,9,6,15,22,11,11,8,14,17,4,2,24,29,28,10,15,16,10,9,14,7,29,11,11,15,15,12,18,23,18,17,11,30,20,16,4,13,9,5,22,12,17,25,17,33,13,26,10,14,19,23,8,15,8,4,13,33,25,40,7,6,7,21,7,17,25,28,19,9,6,8,5,25,10,13,7,26,9,9,12,12,28,19,12,24,19,22,12,12,13,19,5,7,20,34,21,11,17,17,18,26,16,11,22,14,7,14,11,29,12,13,8,17,11,21,8,30,27,17,8,9,24,3,17,19,9,9,17,13,11,12,14,7,16,29,5,15,15,15,24,6,15,16,38,20,6,9,15,7,29,22,22,10,10,23,14,35,9,10,9,13,27,23,14,12,13,13,7,16,8,29,7,15,24,14,8,18,9,5,18,22,26,24,11,18,17,18,8,9,22,11,12,13,8,4,14,13,22,25,15,15,18,24,13,15,3,15,4,19,26,15,28,15,21,14,13,12,12,13,17,5,19,20,13,21,12,15,35,8,14,29,6,13,21,12,8,14,7,12,10,9,6,10,22,10,18,18,13,8,9,16,6,11,11,7,13,13,14,5,33,5,19,8,16,14,7,12,11,15,19,12,15,8,10,23,10,11,8,9,13,5,14,23,5,28,16,13,22,10,5,16,16,9,9,10,11,8,20,12,4,13,11,28,24,12,15,15,16,5,14,5,9,22,17,26,9,10,31,15,4,5,16,6,11,7,14,2,6,15,27,14,10,3,13,19,17,24,7,17,4,23,6,13,4,10,18,36,13,25,12,14,16,23,10,11,13,22,15,16,17,18,16,12,15,14,26,14,11,13,26,33,22,7,6,7,9,12,9,8,11,10,22,26,27,17,14,18,31,12,15,3,10,10,4,6,14,8,15,25,17,14,12,9,9,13,15,16,26,15,7,5,11,17,11,10,15,17,12,13,10,21,24,33,12,24,18,16,14,9,13,9,11,14,12,15,30,13,11,12,14,10,9,11,28,16,14,8,8,29,20,11,12,29,20,12,7,12,10,12,6,13,13,22,13,15,15,15,13,12,14,12,36,10,10,7,15,18,14,23,10,15,4,14,13,12,28,14,27,10,13,13,9,10,12,7,11,7,12,9,30,7,8,10,11,13,15,6,12,12,19,24,14,8,21,13,23,3,32,8,5,13,5,31,29,8,13,12,11,16,11,15,8,5,17,4,26,17,9,17,12,27,7,19,10,15,25,23,35,26,22,8,12,13,14,4,11,9,13,27,8,11,27,17,11,14,29,16,22,14,9,16,13,24,1,5,14,5,24,10,20,15,15,24,21,13,16,9,6,8,16,16,14,12,8,17,9,16,8,8,8,11,16,7,14,30,10,8,8,25,8,10,12,15,5,8,7,10,15,13,18,9,7,18,15,9,5,18,15,24,11,35,6,14,11,5,14,14,10,21,26,19,10,11,8,7,35,10,13,24,11,25,32,23,11,6,32,5,9,16,18,19,19,9,12,20,3,23,20,10,7,21,12,16,15,25,24,10,15,17,10,7,20,27,11,25,13,16,12,14,17,19,13,21,9,12,18,9,26,12,12,18,8,8,6,20,9,4,18,3,10,16,18,13,7,25,23,16,29,27,14,8,19,32,17,31,11,26,11,31,14,29,9,7,12,6,15,12,13,31,15,27,9,21,12,21,11,9,7,16,11,33,13,30,21,12,16,6,26,10,8,19,8,11,9,28,23,15,7,22,7,9,7,21,14,16,14,10,13,14,13,20,27,13,16,15,17,27,3,29,34,12,8,7,28,10,9,20,29,15,32,7,13,3,30,14,15,17,19,13,20,28,24,18,13,22,9,6,3,19,10,16,14,10,12,22,23,16,15,15,9,9,21,5,19,26,13,10,22,27,4,11,13,14,6,9,19,8,6,8,17,25,11,29,4,15,18,16,8,26,31,11,24,15,10,11,4,13,13,8,11,9,18,13,8,38,13,14,11,13,8,17,4,6,17,15,23,14,6,19,13,18,17,28,3,11,6,25,7,23,22,17,11,29,22,12,10,9,11,6,16,11,32,20,12,11,16,14,14,24,27,20,6,10,12,17,9,10,16,6,18,7,13,5,18,14,23,9,18,17,29,13,23,6,9,8,17,12,15,16,16,10,14,13,17,23,20,8,3,16,14,22,8,8,26,6,21,10,7,14,15,17,14,11,18,20,25,15,15,13,17,7,18,7,23,6,11,7,30,11,7,22,29,22,15,26,17,11,18,20,24,10,24,15,13,34,10,18,13,12,0,15,11,10,12,15,6,6,10,9,25,9,19,14,13,12,16,8,13,13,18,33,15,9,25,26,27,9,10,17,11,9,7,10,9,9,14,6,13,26,13,14,14,12,25,9,30,11,7,26,13,10,21,10,24,5,13,11,11,25,28,34,5,29,34,28,25,16,37,17,19,15,16,5,15,11,13,27,36,10,26,11,21,24,11,17,11,8,10,10,15,29,23,5,10,27,9,13,3,8,25,21,19,17,21,16,12,3,23,31,32,15,9,34,17,12,9,11,8,12,14,9,19,12,23,27,12,24,15,5,25,16,15,14,25,3,20,17,15,10,43,5,18,8,13,13,15,11,14,24,14,13,14,12,15,17,8,26,16,9,10,13,17,9,12,8,15,9,13,11,10,14,31,12,15,12,24,9,17,12,7,8,35,15,13,17,3,16,5,10,25,11,15,9,23,6,11,23,13,12,21,12,15,13,11,22,12,17,10,6,13,20,17,16,23,16,12,20,7,18,7,27,35,8,15,12,17,28,23,4,17,14,15,19,10,14,15,34,7,9,27,10,13,11,14,16,16,13,9,5,14,9,11,9,26,21,15,16,18,26,9,4,22,24,17,17,6,15,25,6,3,15,30,21,29,23,11,7,30,12,27,8,10,17,16,18,34,28,6,21,14,20,21,6,10,12,31,17,6,13,0,13,25,29,11,18,19,13,7,25,11,24,17,10,6,19,8,18,10,6,7,11,12,7,28,33,17,7,8,16,28,18,5,20,10,18,26,7,6,12,14,15,7,14,14,3,10,21,7,18,17,13,5,23,7,14,16,7,30,13,9,13,24,21,20,20,16,13,10,15,11,11,5,17,7,30,18,9,16,18,8,15,8,12,25,8,15,10,19,7,19,13,8,14,17,26,8,13,31,15,14,15,10,16,11,26,16,8,18,11,8,24,10,32,19,14,10,16,8,13,14,10,4,20,16,13,5,23,18,13,15,13,7,14,29,26,14,11,14,19,15,6,9,26,11,19,9,20,38,28,12,8,7,11,9,10,32,15,18,7,16,17,12,30,12,28,29,12,22,41,11,15,14,11,7,11,19,26,18,8,9,11,19,11,9,6,12,13,12,19,15,6,16,14,12,9,20,11,12,4,11,12,28,11,6,12,21,9,15,13,8,17,9,34,29,9,17,13,11,24,8,12,14,13,8,27,24,5,17,16,16,22,10,11,17,9,21,11,10,5,15,9,12,12,13,14,13,10,9,15,26,11,24,20,14,5,8,12,14,4,12,15,9,11,24,11,18,15,25,13,7,10,13,13,9,20,22,12,22,27,11,27,27,25,13,8,10,6,17,15,19,16,7,9,11,23,19,11,15,13,16,4,4,16,16,12,9,15,9,9,11,22,12,15,8,13,23,12,19,5,25,14,11,27,17,0,24,5,6,15,12,17,31,7,26,20,30,8,29,20,14,20,13,4,16,8,8,14,17,13,30,31,17,25,8,12,8,24,7,27,13,33,12,24,6,13,5,20,5,27,7,27,12,36,8,12,18,31,9,6,20,7,8,5,13,30,3,25,11,15,8,28,14,10,3,23,10,16,4,8,25,29,7,13,4,19,11,10,10,17,10,17,9,16,23,14,19,20,14,15,19,5,10,24,12,13,24,27,20,10,14,8,15,36,8,11,10,9,14,17,14,17,3,26,28,13,11,14,9,14,10,19,27,7,11,26,11,16,9,8,20,13,12,14,13,13,14,17,12,16,18,27,33,36,23,11,9,7,23,8,7,26,7,12,3,15,14,13,33,13,10,16,17,30,9,16,26,12,13,13,14,9,21,22,17,19,18,10,29,6,7,10,12,7,5,14,9,3,9,12,12,15,28,31,27,14,7,21,13,7,22,17,27,11,27,19,10,13,25,18,14,12,9,12,10,7,10,11,14,7,5,16,14,32,25,8,4,13,8,16,13,32,15,23,24,26,11,6,27,14,8,16,26,12,20,23,25,21,9,10,14,35,17,26,12,14,13,4,22,8,15,18,10,12,6,19,13,17,14,15,12,25,13,27,30,25,8,6,9,20,15,14,3,19,10,21,9,27,23,25,9,14,11,11,28,13,10,17,17,23,27,12,12,17,14,7,26,11,12,11,19,14,16,19,13,28,8,26,24,27,32,11,9,11,6,16,5,29,14,11,9,11,14,12,16,12,31,7,27,7,10,14,14,11,14,9,13,11,12,6,10,29,8,12,15,12,26,16,11,11,15,20,9,12,14,26,13,10,5,9,23,9,19,11,9,9,15,17,2,12,13,31,17,4,9,17,18,12,4,35,13,16,29,16,24,5,17,28,24,9,8,9,13,11,7,4,11,28,12,24,7,24,35,13,7,12,11,6,15,11,12,5,11,9,13,12,6,33,13,10,8,23,14,23,11,7,9,12,15,9,17,14,26,12,29,5,11,19,17,9,8,15,30,10,16,26,9,12,9,13,14,14,5,27,8,16,13,13,5,17,23,13,12,8,11,10,32,12,9,9,25,15,14,12,13,28,21,10,14,14,7,28,9,10,16,14,16,24,11,7,15,15,12,10,13,13,9,12,19,30,16,9,29,8,16,10,11,32,13,10,16,10,30,21,8,20,12,37,10,13,19,17,18,18,4,13,19,1,3,4,13,10,13,21,12,11,8,10,14,12,18,7,8,17,21,17,16,7,13,19,25,5,15,16,30,17,12,8,15,11,18,5,14,14,11,8,13,12,23,13,14,13,4,7,27,13,14,9,10,9,15,14,6,7,11,12,9,11,31,9,10,7,9,18,17,18,6,29,16,8,17,3,32,13,12,7,31,14,14,8,6,14,13,28,44,28,27,29,17,13,14,11,12,11,15,13,4,11,15,15,6,19,19,17,17,31,31,12,18,16,10,6,17,14,28,19,14,9,5,9,3,7,10,13,12,18,12,8,30,30,4,12,30,3,13,29,19,13,13,8,16,8,11,13,11,12,12,20,4,12,12,4,9,6,16,12,7,14,11,14,9,12,28,14,13,10,4,18,13,24,14,25,27,20,25,14,9,3,30,27,15,8,29,8,23,9,12,10,15,7,21,26,11,11,9,24,10,14,11,17,14,16,11,15,13,8,10,17,14,6,7,10,17,15,10,8,22,10,6,31,15,34,4,26,23,21,30,14,28,23,15,10,18,15,7,26,7,10,16,7,8,13,11,14,7,13,15,15,32,11,4,12,30,18,26,16,18,20,9,10,12,8,11,10,8,17,28,26,14,17,4,13,12,8,10,15,12,11,8,7,23,24,6,18,12,5,14,17,18,6,16,9,9,24,14,17,20,6,11,5,18,23,25,16,9,7,21,3,18,37,13,12,19,9,10,19,10,11,16,26,23,10,27,11,12,9,13,22,18,24,33,5,13,21,23,19,11,7,25,13,9,13,7,10,3,14,7,11,12,16,8,9,10,17,8,18,10,27,24,23,12,15,3,18,22,17,15,8,7,12,6,12,12,11,26,13,14,18,6,7,16,12,8,18,8,17,20,29,26,8,25,13,6,7,22,8,26,12,10,33,8,24,14,24,19,32,17,26,12,14,11,23,14,2,15,5,10,25,26,24,4,10,22,16,23,13,10,11,10,31,15,25,13,12,13,10,6,16,16,4,38,13,10,20,5,15,18,21,5,12,7,14,14,13,13,9,15,11,15,19,4,16,4,29,18,13,22,6,28,24,26,13,15,12,3,27,6,15,10,18,8,22,6,12,16,5,9,3,14,12,24,3,4,7,3,11,11,20,8,12,25,10,11,10,7,26,28,12,9,17,12,6,9,6,8,14,15,20,11,27,12,7,15,28,17,7,38,6,14,35,11,8,4,6,11,20,15,15,14,9,14,16,17,13,14,22,19,24,9,10,12,29,24,14,10,12,12,11,30,13,9,20,6,15,14,5,12,11,18,23,5,8,13,17,10,11,7,4,5,13,13,14,15,11,7,11,8,13,24,3,4,21,19,18,4,30,6,12,14,13,18,23,10,13,11,28,20,24,11,8,15,25,12,9,27,12,29,22,7,6,10,24,10,14,15,4,10,10,4,21,8,9,15,15,22,9,10,14,15,13,33,7,24,14,17,10,16,16,11,9,9,17,7,27,9,13,6,16,25,10,15,7,11,31,29,11,15,16,13,7,12,10,12,25,14,12,10,7,37,8,14,18,12,8,11,20,16,6,13,11,31,27,12,14,11,17,22,13,14,17,13,10,7,9,12,13,27,15,10,8,19,12,17,12,12,12,18,11,22,15,12,20,16,15,16,3,13,8,12,13,9,14,24,5,15,16,13,24,10,15,30,13,11,6,24,15,3,19,14,12,8,10,9,6,18,8,27,10,9,22,5,14,12,30,13,13,15,8,19,12,24,3,13,15,12,31,15,16,16,17,12,9,21,32,24,5,26,17,27,23,6,8,12,8,7,36,19,18,16,8,15,7,14,5,10,11,12,9,13,24,9,10,33,16,11,26,28,22,18,16,12,7,11,14,13,23,8,27,7,11,25,26,11,15,21,14,15,5,17,11,9,7,20,14,20,17,12,25,15,26,10,16,17,26,14,12,11,25,13,32,16,17,8,25,16,11,16,6,20,6,26,22,17,13,13,10,10,18,12,13,12,4,7,18,8,13,9,19,10,9,12,24,28,8,5,9,15,18,9,19,23,9,14,10,20,31,9,6,9,13,11,9,32,12,10,23,9,11,30,16,14,7,29,13,6,4,2,29,11,17,8,11,5,6,7,18,25,20,13,27,3,8,25,25,14,25,24,16,6,11,19,25,22,12,7,8,22,13,10,9,5,16,11,12,19,10,38,3,11,19,11,29,13,12,11,10,30,13,11,17,17,9,10,8,12,24,13,13,32,21,13,3,8,16,28,23,20,25,25,25,5,10,12,18,30,12,13,9,21,24,9,7,10,10,10,23,14,6,16,22,8,6,16,13,12,34,7,6,16,6,9,16,12,20,17,3,12,11,11,12,8,12,14,15,18,15,3,13,18,12,6,14,27,14,7,12,16,6,20,19,13,15,8,11,12,13,34,10,22,10,9,32,23,25,11,21,13,14,25,23,26,13,11,28,24,23,5,15,13,10,12,6,8,24,4,14,10,3,26,40,14,39,10,19,10,12,14,14,14,12,13,11,12,14,7,3,31,14,13,7,10,17,18,10,16,29,4,22,8,11,11,7,12,9,19,13,31,28,9,8,12,13,27,15,9,12,9,6,23,14,13,13,2,28,10,26,15,32,15,14,15,12,10,28,17,25,11,26,8,13,11,10,31,21,14,6,10,27,8,5,15,12,26,7,12,17,13,13,6,15,18,7,15,11,10,14,9,17,24,30,40,14,18,15,15,10,11,7,4,8,10,20,18,11,21,15,19,14,28,15,33,17,18,14,28,20,19,8,23,24,21,10,16,12,4,11,10,18,12,26,31,17,21,13,12,9,14,10,8,11,5,12,7,7,16,14,190,7,22,16,23,25,7,17,17,10,8,21,11,23,17,9,11,9,11,9,13,10,10,5,26,11,7,16,16,7,9,4,24,11,7,25,10,15,10,20,16,21,3,23,14,9,12,15,10,11,22,13,18,11,21,26,12,4,16,11,3,5,13,21,13,21,6,20,5,11,16,11,5,6,15,25,7,15,11,13,10,16,14,13,14,10,8,4,6,20,27,29,26,10,20,5,20,24,22,15,9,6,31,5,17,16,25,26,4,11,8,15,15,27,6,25,15,9,8,11,11,25,9,9,8,22,15,19,12,26,11,9,24,8,15,12,16,18,26,12,13,25,24,15,8,11,27,7,10,17,7,11,19,21,16,20,17,16,15,14,31,23,7,10,24,20,15,25,4,7,25,17,6,13,4,19,3,12,7,16,13,5,17,9,18,21,20,12,23,21,30,12,20,8,8,32,7,18,23,21,9,17,17,12,16,12,15,16,9,16,10,28,10,17,18,10,20,26,15,12,15,10,15,23,16,11,8,10,17,31,8,13,11,25,27,20,14,18,12,27,30,7,24,14,17,7,22,16,16,19,14,12,10,13,5,14,20,28,7,70,10,22,12,30,12,4,16,12,13,19,9,17,15,17,13,19,17,30,5,16,21,12,21,12,28,11,23,13,39,10,10,11,11,5,22,9,3,9,26,11,27,9,10,30,24,35,10,9,12,19,5,33,5,26,10,13,8,8,23,27,8,29,20,6,23,13,9,12,17,20,15,14,6,7,17,26,20,27,8,10,11,16,27,8,7,8,5,15,14,7,23,29,28,13,16,8,3,9,8,37,12,4,15,25,16,10,7,26,10,12,9,25,12,19,13,15,18,11,20,8,8,12,31,16,18,16,16,19,13,6,12,22,15,27,3,13,11,19,13,9,15,14,8,16,19,15,5,12,10,17,12,16,39,14,18,20,9,12,7,15,22,6,11,15,29,8,16,17,10,12,16,9,10,19,29,12,10,12,5,11,17,10,30,14,4,10,12,20,13,10,9,7,24,12,8,8,12,6,13,11,15,10,6,34,9,20,13,4,21,9,26,32,7,9,33,10,11,4,28,16,29,5,4,13,32,4,11,17,14,6,9,28,16,12,11,20,14,5,12,7,19,12,12,22,36,8,17,4,14,7,5,6,14,16,6,9,15,8,12,10,13,17,16,29,4,7,15,33,8,12,14,4,23,11,13,5,21,11,17,4,8,16,10,6,21,22,34,26,25,29,8,14,12,14,10,32,13,12,27,7,11,24,7,23,24,7,28,7,7,13,14,11,11,3,8,23,25,23,8,27,18,16,33,9,24,23,16,11,13,16,5,25,10,12,24,4,16,8,10,24,18,14,25,14,11,18,13,27,10,12,23,3,15,20,5,16,15,7,15,19,15,10,25,27,27,17,4,9,8,9,25,12,18,18,12,20,11,29,16,8,21,10,9,13,5,13,12,19,17,28,21,16,14,6,20,11,6,32,13,7,21,11,7,12,14,17,7,4,12,10,15,7,6,10,21,7,8,10,4,31,15,19,24,13,8,14,26,8,8,11,6,10,13,9,27,24,25,15,7,10,31,21,25,11,28,11,11,32,7,28,7,22,23,8,13,4,31,11,16,40,12,15,12,14,15,10,12,14,8,29,8,26,18,9,12,15,12,22,4,21,12,9,3,16,8,9,10,28,31,18,9,4,25,32,7,18,6,8,24,19,12,13,7,19,7,28,13,9,22,12,15,10,16,13,13,17,7,10,16,24,12,32,13,13,17,10,6,21,12,7,15,19,13,14,7,12,2,15,24,3,6,10,23,6,5,9,14,11,9,8,16,9,11,14,17,11,7,10,10,22,24,11,13,15,15,24,13,29,10,27,7,27,23,9,16,8,10,18,13,5,8,4,28,8,9,8,10,14,12,5,11,14,21,14,11,11,26,30,14,11,24,9,8,16,11,22,10,9,29,13,18,20,7,6,10,10,9,27,18,10,18,11,10,9,15,10,19,10,11,12,24,12,23,8,26,11,6,20,13,6,22,18,16,27,15,9,25,14,15,15,7,23,24,8,12,27,20,13,23,25,13,12,15,12,8,8,28,26,17,16,17,27,12,13,10,27,26,5,10,12,23,22,13,4,26,19,18,8,13,4,14,23,7,6,15,6,15,12,14,17,13,7,28,8,17,13,19,32,10,26,16,14,28,10,16,15,6,30,10,12,5,11,10,25,17,21,8,9,14,13,8,8,7,16,22,7,25,8,14,10,26,26,3,12,16,11,13,15,20,6,14,15,21,9,24,25,9,5,7,13,13,6,8,17,7,12,18,14,9,15,17,7,5,21,12,14,8,9,29,20,21,23,18,20,11,31,13,9,10,26,4,1,5,7,26,11,9,12,10,8,9,26,8,31,12,10,7,11,12,10,25,9,17,8,26,24,13,10,24,13,9,32,14,29,16,27,13,7,8,18,8,16,14,4,8,12,11,32,5,13,19,5,13,20,16,21,3,28,35,3,28,11,34,15,11,12,15,15,20,25,15,26,27,25,21,19,7,12,12,3,167,12,5,11,15,19,10,7,25,8,17,14,15,17,8,4,13,10,7,10,10,25,5,7,9,28,11,14,19,9,13,16,6,6,4,7,22,13,8,24,23,15,30,8,6,26,15,22,15,19,16,13,12,15,32,19,28,12,15,28,13,22,10,6,8,19,12,7,13,7,25,25,22,14,19,19,10,16,8,18,5,13,5,17,20,10,4,14,7,7,7,33,9,17,31,24,13,6,17,28,14,17,13,14,15,8,8,23,4,15,18,12,13,11,4,15,10,5,26,23,12,17,29,17,12,12,32,16,11,10,11,33,12,7,29,28,30,25,15,14,13,13,6,14,17,14,11,4,23,27,13,19,18,12,9,7,10,12,6,19,23,28,7,16,32,11,20,11,8,9,27,5,13,23,19,12,25,10,11,12,15,29,14,32,7,8,10,14,9,15,25,13,10,10,14,16,20,16,10,8,6,0,16,8,20,15,18,13,7,6,20,11,10,7,22,15,17,29,15,7,34,12,25,7,14,8,5,11,6,16,28,24,28,14,24,7,14,14,13,13,16,9,10,27,11,13,33,6,13,7,18,16,9,11,17,28,10,15,29,16,5,15,4,32,10,7,6,31,8,12,5,11,13,8,11,13,10,25,10,11,26,25,12,8,19,19,16,18,15,24,18,32,11,9,10,10,14,32,15,13,15,15,14,16,17,20,9,12,12,10,6,28,13,12,27,3,13,18,3,7,6,16,28,5,11,29,16,9,31,11,9,12,27,13,13,18,24,20,22,5,7,23,15,15,3,12,9,18,17,10,18,14,11,12,30,4,31,13,30,18,30,13,9,16,19,12,16,8,16,25,13,12,15,15,4,9,9,17,11,23,15,26,5,22,24,14,13,22,7,11,13,13,9,34,24,27,7,7,23,10,32,10,11,7,10,13,13,23,16,7,26,15,13,15,15,4,13,26,14,26,27,12,12,9,17,11,18,11,11,10,14,28,20,15,27,14,13,6,11,16,3,9,14,10,14,9,12,19,14,13,6,13,12,9,21,14,24,5,28,12,11,13,3,3,12,5,11,14,16,22,6,9,6,12,9,11,17,17,9,5,8,5,28,7,25,9,34,27,11,14,7,10,31,9,21,21,6,9,14,12,12,13,35,15,25,30,9,18,17,28,21,14,8,12,14,25,12,25,8,14,26,12,14,16,13,16,26,3,35,25,15,15,19,11,26,11,20,25,25,20,13,14,4,10,9,13,10,20,11,7,15,7,12,6,15,12,5,6,19,10,28,22,13,12,24,7,7,16,7,22,6,14,7,23,17,5,20,6,19,7,3,22,7,19,13,15,15,20,32,8,8,16,29,6,28,5,9,17,9,17,5,11,20,9,19,14,2,9,20,21,5,16,14,15,16,12,5,25,12,6,14,28,15,20,6,20,12,12,16,17,26,11,13,28,9,15,6,11,9,13,26,7,14,8,14,14,6,6,26,24,24,15,8,8,17,15,29,11,10,23,9,38,12,14,18,12,14,28,24,22,12,22,8,5,13,28,12,7,11,9,26,10,20,12,11,18,12,14,8,11,17,9,30,7,10,8,12,22,18,14,16,3,27,6,20,25,36,27,17,9,11,17,25,11,13,16,20,12,13,17,27,13,11,12,13,28,13,22,5,14,11,15,24,15,19,32,13,16,13,32,9,18,17,15,10,17,7,11,12,12,7,12,13,11,31,26,7,10,22,14,17,12,15,13,9,45,16,6,12,15,18,15,17,24,6,21,8,24,11,16,12,19,11,15,7,10,19,10,15,17,19,13,3,17,14,11,11,17,23,18,12,6,7,18,11,9,15,10,12,9,15,14,21,27,15,8,10,4,14,23,10,10,10,27,6,8,9,16,28,12,32,18,18,18,5,12,11,3,10,16,17,7,12,14,11,17,16,34,8,24,9,14,14,9,4,7,6,14,28,10,36,6,41,10,13,29,16,11,21,12,24,14,8,35,10,13,17,16,10,6,15,22,20,29,7,8,13,24,10,16,23,13,32,13,20,15,15,11,28,19,8,9,29,9,24,28,13,9,12,25,28,10,5,8,17,10,9,6,27,20,16,10,5,14,15,4,28,9,17,15,8,6,26,18,10,9,8,14,22,11,18,16,23,14,8,8,16,29,11,16,16,11,30,7,14,5,20,14,21,22,6,16,8,7,11,19,13,24,10,9,26,7,10,13,12,28,18,15,14,14,7,23,8,11,21,11,7,22,12,10,15,18,13,21,15,7,18,23,29,19,20,12,9,19,39,9,3,10,10,16,6,32,18,16,24,15,10,16,13,12,21,15,14,6,12,8,16,9,16,12,5,15,13,9,24,13,14,12,15,9,16,9,11,5,11,14,30,26,13,14,23,10,14,3,10,13,18,14,7,12,27,32,11,17,8,11,12,7,28,6,14,20,22,11,27,22,14,3,13,13,10,10,5,37,14,16,7,20,19,27,16,4,3,22,5,13,18,14,3,28,6,14,7,25,13,13,10,24,12,14,23,11,6,25,5,9,9,6,6,12,16,20,18,17,13,27,11,15,15,8,6,24,14,15,5,8,20,20,21,6,28,18,10,11,25,10,14,8,11,27,14,34,20,7,17,27,27,16,8,16,19,12,26,23,13,12,8,14,7,14,13,8,14,26,12,23,7,9,5,8,8,14,18,19,17,4,12,15,15,9,7,9,18,21,14,14,24,11,16,14,29,12,27,24,13,7,9,12,12,13,16,28,5,21,30,9,20,9,28,3,30,10,10,29,10,12,28,26,10,10,13,15,13,14,7,18,11,12,11,17,25,10,13,9,32,17,13,13,17,13,26,17,31,12,9,4,27,6,12,26,14,11,24,11,17,24,32,6,26,17,15,11,5,26,13,13,26,14,18,12,8,19,17,10,16,16,13,14,14,4,11,17,13,13,24,23,13,14,10,11,16,13,10,12,13,4,6,14,13,14,35,27,29,11,15,10,12,27,4,21,27,12,17,9,27,6,16,25,11,9,28,8,29,19,13,35,19,6,8,11,8,15,16,13,8,14,23,12,13,2,16,9,13,12,26,12,12,20,23,19,7,21,10,10,8,16,16,5,6,13,12,26,22,18,7,21,30,8,6,11,4,10,29,12,14,25,14,11,18,16,23,10,13,15,13,27,17,9,11,27,10,18,5,16,12,15,28,20,14,6,4,9,29,5,15,29,14,9,13,16,23,28,11,11,11,4,5,24,29,23,11,19,28,27,13,30,15,15,17,8,12,13,12,16,6,26,15,8,9,3,28,26,19,10,25,29,5,23,12,15,13,6,24,17,26,9,11,22,10,17,9,14,32,28,11,13,8,7,14,15,5,21,11,10,13,23,12,17,25,17,24,5,6,14,11,17,11,6,9,29,14,11,12,8,11,10,9,21,10,13,14,11,15,13,7,17,36,23,29,13,6,18,8,12,21,20,11,9,28,24,13,12,9,16,12,7,31,14,31,10,8,12,25,6,33,27,11,13,3,34,4,10,10,3,22,9,12,15,23,5,16,15,8,3,16,25,11,25,11,17,13,4,21,17,10,10,12,14,7,15,11,26,22,16,25,3,17,13,19,14,25,15,16,14,12,17,17,12,19,37,16,13,19,14,12,14,32,16,19,25,20,15,13,27,28,16,33,15,8,10,12,11,24,10,13,16,31,6,24,19,26,12,9,6,23,12,32,6,30,7,21,10,17,13,17,21,22,15,24,13,16,10,14,13,26,3,11,10,14,25,9,8,14,14,9,12,14,11,14,5,13,5,6,9,7,6,12,12,9,27,13,8,23,9,14,13,6,21,7,25,5,27,19,11,8,20,21,11,16,9,4,15,10,17,3,15,30,7,10,29,11,16,9,10,4,11,13,15,15,14,11,10,8,12,18,17,12,16,11,29,27,11,23,29,14,19,19,24,14,15,10,13,17,26,20,20,14,9,14,10,25,10,19,22,13,13,34,3,16,5,20,28,16,6,11,7,14,12,9,16,7,21,11,13,26,17,3,21,23,10,7,4,7,15,4,20,6,27,11,9,13,9,12,8,14,27,3,30,14,17,17,6,15,21,15,10,14,9,13,12,12,15,8,7,10,10,14,1,16,19,9,18,14,14,10,17,18,15,9,29,12,13,9,7,6,18,14,15,11,15,20,17,27,9,6,26,24,13,8,5,17,19,20,9,24,17,10,5,26,21,16,9,13,31,13,27,10,14,16,10,8,14,127,31,14,16,8,37,23,17,8,10,6,13,8,4,7,10,13,27,6,31,20,9,14,5,16,14,16,11,8,12,14,12,11,21,16,27,11,12,30,29,13,11,16,13,7,5,8,14,26,11,14,25,18,12,8,25,13,23,14,6,13,11,15,24,14,15,10,28,11,11,15,7,22,3,34,6,10,23,7,11,16,11,14,24,7,10,14,11,18,28,11,26,6,23,25,20,9,19,9,22,6,5,28,16,6,7,8,10,7,26,10,11,8,17,9,15,3,13,11,12,13,29,25,7,9,4,25,15,10,25,25,17,9,6,15,13,22,7,13,25,23,18,10,24,9,25,19,20,39,19,6,14,9,30,10,18,14,16,33,25,9,18,18,15,20,27,10,30,3,24,7,29,4,8,9,9,4,12,24,13,14,10,21,13,8,11,17,28,28,15,28,13,13,9,14,13,12,12,23,3,3,20,25,19,35,3,11,17,9,18,3,17,23,14,10,16,16,3,11,5,16,14,5,30,10,10,11,4,29,22,9,12,7,7,12,17,7,21,13,13,14,25,14,10,5,5,17,26,27,15,11,17,14,5,10,17,15,7,13,13,17,23,18,20,11,17,14,11,12,14,15,14,32,3,12,16,13,4,16,24,12,7,19,10,26,9,14,28,16,11,18,20,4,22,7,29,9,21,22,12,13,8,22,15,23,31,22,1,9,15,19,22,16,19,12,30,21,18,10,10,9,29,22,20,20,9,12,6,13,9,27,11,6,16,11,23,22,11,13,4,4,28,23,13,4,5,12,26,13,10,17,13,12,17,17,18,10,9,14,12,25,20,33,16,8,28,6,22,18,17,8,16,12,10,15,9,10,21,15,10,15,15,7,3,15,12,35,16,8,16,10,8,21,5,13,10,11,9,11,20,13,18,23,14,15,31,11,12,31,27,17,19,10,21,8,14,16,9,20,8,29,26,7,14,16,27,8,10,9,17,12,26,10,8,15,13,9,16,4,9,12,12,8,7,5,11,12,11,31,25,15,6,10,11,13,28,13,19,12,5,8,15,8,12,6,20,10,23,21,8,7,14,16,25,5,17,7,13,17,16,9,4,28,7,18,23,23,12,12,19,33,17,9,19,13,20,23,8,4,17,17,17,11,15,8,13,15,23,10,12,10,14,9,21,10,6,12,34,6,5,20,6,22,13,8,7,22,32,6,6,10,12,15,8,24,14,30,17,10,18,9,8,16,15,13,8,15,31,14,7,14,11,12,23,9,29,11,11,12,23,13,28,13,12,9,10,6,16,12,8,30,34,15,5,12,5,9,15,11,14,12,8,34,16,3,13,18,6,18,8,10,12,29,12,15,28,32,9,10,19,16,8,18,10,10,11,4,15,7,28,5,8,10,6,10,26,11,7,11,21,16,15,17,13,10,10,12,11,10,18,9,12,31,12,17,19,15,5,7,9,7,11,31,15,28,18,12,27,11,9,22,29,13,10,12],\"xaxis\":\"x\",\"yaxis\":\"y\",\"type\":\"histogram\"}],                        {\"template\":{\"data\":{\"bar\":[{\"error_x\":{\"color\":\"#2a3f5f\"},\"error_y\":{\"color\":\"#2a3f5f\"},\"marker\":{\"line\":{\"color\":\"#E5ECF6\",\"width\":0.5},\"pattern\":{\"fillmode\":\"overlay\",\"size\":10,\"solidity\":0.2}},\"type\":\"bar\"}],\"barpolar\":[{\"marker\":{\"line\":{\"color\":\"#E5ECF6\",\"width\":0.5},\"pattern\":{\"fillmode\":\"overlay\",\"size\":10,\"solidity\":0.2}},\"type\":\"barpolar\"}],\"carpet\":[{\"aaxis\":{\"endlinecolor\":\"#2a3f5f\",\"gridcolor\":\"white\",\"linecolor\":\"white\",\"minorgridcolor\":\"white\",\"startlinecolor\":\"#2a3f5f\"},\"baxis\":{\"endlinecolor\":\"#2a3f5f\",\"gridcolor\":\"white\",\"linecolor\":\"white\",\"minorgridcolor\":\"white\",\"startlinecolor\":\"#2a3f5f\"},\"type\":\"carpet\"}],\"choropleth\":[{\"colorbar\":{\"outlinewidth\":0,\"ticks\":\"\"},\"type\":\"choropleth\"}],\"contour\":[{\"colorbar\":{\"outlinewidth\":0,\"ticks\":\"\"},\"colorscale\":[[0.0,\"#0d0887\"],[0.1111111111111111,\"#46039f\"],[0.2222222222222222,\"#7201a8\"],[0.3333333333333333,\"#9c179e\"],[0.4444444444444444,\"#bd3786\"],[0.5555555555555556,\"#d8576b\"],[0.6666666666666666,\"#ed7953\"],[0.7777777777777778,\"#fb9f3a\"],[0.8888888888888888,\"#fdca26\"],[1.0,\"#f0f921\"]],\"type\":\"contour\"}],\"contourcarpet\":[{\"colorbar\":{\"outlinewidth\":0,\"ticks\":\"\"},\"type\":\"contourcarpet\"}],\"heatmap\":[{\"colorbar\":{\"outlinewidth\":0,\"ticks\":\"\"},\"colorscale\":[[0.0,\"#0d0887\"],[0.1111111111111111,\"#46039f\"],[0.2222222222222222,\"#7201a8\"],[0.3333333333333333,\"#9c179e\"],[0.4444444444444444,\"#bd3786\"],[0.5555555555555556,\"#d8576b\"],[0.6666666666666666,\"#ed7953\"],[0.7777777777777778,\"#fb9f3a\"],[0.8888888888888888,\"#fdca26\"],[1.0,\"#f0f921\"]],\"type\":\"heatmap\"}],\"heatmapgl\":[{\"colorbar\":{\"outlinewidth\":0,\"ticks\":\"\"},\"colorscale\":[[0.0,\"#0d0887\"],[0.1111111111111111,\"#46039f\"],[0.2222222222222222,\"#7201a8\"],[0.3333333333333333,\"#9c179e\"],[0.4444444444444444,\"#bd3786\"],[0.5555555555555556,\"#d8576b\"],[0.6666666666666666,\"#ed7953\"],[0.7777777777777778,\"#fb9f3a\"],[0.8888888888888888,\"#fdca26\"],[1.0,\"#f0f921\"]],\"type\":\"heatmapgl\"}],\"histogram\":[{\"marker\":{\"pattern\":{\"fillmode\":\"overlay\",\"size\":10,\"solidity\":0.2}},\"type\":\"histogram\"}],\"histogram2d\":[{\"colorbar\":{\"outlinewidth\":0,\"ticks\":\"\"},\"colorscale\":[[0.0,\"#0d0887\"],[0.1111111111111111,\"#46039f\"],[0.2222222222222222,\"#7201a8\"],[0.3333333333333333,\"#9c179e\"],[0.4444444444444444,\"#bd3786\"],[0.5555555555555556,\"#d8576b\"],[0.6666666666666666,\"#ed7953\"],[0.7777777777777778,\"#fb9f3a\"],[0.8888888888888888,\"#fdca26\"],[1.0,\"#f0f921\"]],\"type\":\"histogram2d\"}],\"histogram2dcontour\":[{\"colorbar\":{\"outlinewidth\":0,\"ticks\":\"\"},\"colorscale\":[[0.0,\"#0d0887\"],[0.1111111111111111,\"#46039f\"],[0.2222222222222222,\"#7201a8\"],[0.3333333333333333,\"#9c179e\"],[0.4444444444444444,\"#bd3786\"],[0.5555555555555556,\"#d8576b\"],[0.6666666666666666,\"#ed7953\"],[0.7777777777777778,\"#fb9f3a\"],[0.8888888888888888,\"#fdca26\"],[1.0,\"#f0f921\"]],\"type\":\"histogram2dcontour\"}],\"mesh3d\":[{\"colorbar\":{\"outlinewidth\":0,\"ticks\":\"\"},\"type\":\"mesh3d\"}],\"parcoords\":[{\"line\":{\"colorbar\":{\"outlinewidth\":0,\"ticks\":\"\"}},\"type\":\"parcoords\"}],\"pie\":[{\"automargin\":true,\"type\":\"pie\"}],\"scatter\":[{\"marker\":{\"colorbar\":{\"outlinewidth\":0,\"ticks\":\"\"}},\"type\":\"scatter\"}],\"scatter3d\":[{\"line\":{\"colorbar\":{\"outlinewidth\":0,\"ticks\":\"\"}},\"marker\":{\"colorbar\":{\"outlinewidth\":0,\"ticks\":\"\"}},\"type\":\"scatter3d\"}],\"scattercarpet\":[{\"marker\":{\"colorbar\":{\"outlinewidth\":0,\"ticks\":\"\"}},\"type\":\"scattercarpet\"}],\"scattergeo\":[{\"marker\":{\"colorbar\":{\"outlinewidth\":0,\"ticks\":\"\"}},\"type\":\"scattergeo\"}],\"scattergl\":[{\"marker\":{\"colorbar\":{\"outlinewidth\":0,\"ticks\":\"\"}},\"type\":\"scattergl\"}],\"scattermapbox\":[{\"marker\":{\"colorbar\":{\"outlinewidth\":0,\"ticks\":\"\"}},\"type\":\"scattermapbox\"}],\"scatterpolar\":[{\"marker\":{\"colorbar\":{\"outlinewidth\":0,\"ticks\":\"\"}},\"type\":\"scatterpolar\"}],\"scatterpolargl\":[{\"marker\":{\"colorbar\":{\"outlinewidth\":0,\"ticks\":\"\"}},\"type\":\"scatterpolargl\"}],\"scatterternary\":[{\"marker\":{\"colorbar\":{\"outlinewidth\":0,\"ticks\":\"\"}},\"type\":\"scatterternary\"}],\"surface\":[{\"colorbar\":{\"outlinewidth\":0,\"ticks\":\"\"},\"colorscale\":[[0.0,\"#0d0887\"],[0.1111111111111111,\"#46039f\"],[0.2222222222222222,\"#7201a8\"],[0.3333333333333333,\"#9c179e\"],[0.4444444444444444,\"#bd3786\"],[0.5555555555555556,\"#d8576b\"],[0.6666666666666666,\"#ed7953\"],[0.7777777777777778,\"#fb9f3a\"],[0.8888888888888888,\"#fdca26\"],[1.0,\"#f0f921\"]],\"type\":\"surface\"}],\"table\":[{\"cells\":{\"fill\":{\"color\":\"#EBF0F8\"},\"line\":{\"color\":\"white\"}},\"header\":{\"fill\":{\"color\":\"#C8D4E3\"},\"line\":{\"color\":\"white\"}},\"type\":\"table\"}]},\"layout\":{\"annotationdefaults\":{\"arrowcolor\":\"#2a3f5f\",\"arrowhead\":0,\"arrowwidth\":1},\"autotypenumbers\":\"strict\",\"coloraxis\":{\"colorbar\":{\"outlinewidth\":0,\"ticks\":\"\"}},\"colorscale\":{\"diverging\":[[0,\"#8e0152\"],[0.1,\"#c51b7d\"],[0.2,\"#de77ae\"],[0.3,\"#f1b6da\"],[0.4,\"#fde0ef\"],[0.5,\"#f7f7f7\"],[0.6,\"#e6f5d0\"],[0.7,\"#b8e186\"],[0.8,\"#7fbc41\"],[0.9,\"#4d9221\"],[1,\"#276419\"]],\"sequential\":[[0.0,\"#0d0887\"],[0.1111111111111111,\"#46039f\"],[0.2222222222222222,\"#7201a8\"],[0.3333333333333333,\"#9c179e\"],[0.4444444444444444,\"#bd3786\"],[0.5555555555555556,\"#d8576b\"],[0.6666666666666666,\"#ed7953\"],[0.7777777777777778,\"#fb9f3a\"],[0.8888888888888888,\"#fdca26\"],[1.0,\"#f0f921\"]],\"sequentialminus\":[[0.0,\"#0d0887\"],[0.1111111111111111,\"#46039f\"],[0.2222222222222222,\"#7201a8\"],[0.3333333333333333,\"#9c179e\"],[0.4444444444444444,\"#bd3786\"],[0.5555555555555556,\"#d8576b\"],[0.6666666666666666,\"#ed7953\"],[0.7777777777777778,\"#fb9f3a\"],[0.8888888888888888,\"#fdca26\"],[1.0,\"#f0f921\"]]},\"colorway\":[\"#636efa\",\"#EF553B\",\"#00cc96\",\"#ab63fa\",\"#FFA15A\",\"#19d3f3\",\"#FF6692\",\"#B6E880\",\"#FF97FF\",\"#FECB52\"],\"font\":{\"color\":\"#2a3f5f\"},\"geo\":{\"bgcolor\":\"white\",\"lakecolor\":\"white\",\"landcolor\":\"#E5ECF6\",\"showlakes\":true,\"showland\":true,\"subunitcolor\":\"white\"},\"hoverlabel\":{\"align\":\"left\"},\"hovermode\":\"closest\",\"mapbox\":{\"style\":\"light\"},\"paper_bgcolor\":\"white\",\"plot_bgcolor\":\"#E5ECF6\",\"polar\":{\"angularaxis\":{\"gridcolor\":\"white\",\"linecolor\":\"white\",\"ticks\":\"\"},\"bgcolor\":\"#E5ECF6\",\"radialaxis\":{\"gridcolor\":\"white\",\"linecolor\":\"white\",\"ticks\":\"\"}},\"scene\":{\"xaxis\":{\"backgroundcolor\":\"#E5ECF6\",\"gridcolor\":\"white\",\"gridwidth\":2,\"linecolor\":\"white\",\"showbackground\":true,\"ticks\":\"\",\"zerolinecolor\":\"white\"},\"yaxis\":{\"backgroundcolor\":\"#E5ECF6\",\"gridcolor\":\"white\",\"gridwidth\":2,\"linecolor\":\"white\",\"showbackground\":true,\"ticks\":\"\",\"zerolinecolor\":\"white\"},\"zaxis\":{\"backgroundcolor\":\"#E5ECF6\",\"gridcolor\":\"white\",\"gridwidth\":2,\"linecolor\":\"white\",\"showbackground\":true,\"ticks\":\"\",\"zerolinecolor\":\"white\"}},\"shapedefaults\":{\"line\":{\"color\":\"#2a3f5f\"}},\"ternary\":{\"aaxis\":{\"gridcolor\":\"white\",\"linecolor\":\"white\",\"ticks\":\"\"},\"baxis\":{\"gridcolor\":\"white\",\"linecolor\":\"white\",\"ticks\":\"\"},\"bgcolor\":\"#E5ECF6\",\"caxis\":{\"gridcolor\":\"white\",\"linecolor\":\"white\",\"ticks\":\"\"}},\"title\":{\"x\":0.05},\"xaxis\":{\"automargin\":true,\"gridcolor\":\"white\",\"linecolor\":\"white\",\"ticks\":\"\",\"title\":{\"standoff\":15},\"zerolinecolor\":\"white\",\"zerolinewidth\":2},\"yaxis\":{\"automargin\":true,\"gridcolor\":\"white\",\"linecolor\":\"white\",\"ticks\":\"\",\"title\":{\"standoff\":15},\"zerolinecolor\":\"white\",\"zerolinewidth\":2}}},\"xaxis\":{\"anchor\":\"y\",\"domain\":[0.0,1.0],\"title\":{\"text\":\"tweet_length\"}},\"yaxis\":{\"anchor\":\"x\",\"domain\":[0.0,1.0],\"title\":{\"text\":\"count\"}},\"legend\":{\"title\":{\"text\":\"color\"},\"tracegroupgap\":0},\"title\":{\"text\":\"Twitters Length Distribution Plot\"},\"barmode\":\"relative\"},                        {\"responsive\": true}                    ).then(function(){\n",
              "                            \n",
              "var gd = document.getElementById('4f3325e2-1cc6-4bb9-8c34-8ee6e5e26ee0');\n",
              "var x = new MutationObserver(function (mutations, observer) {{\n",
              "        var display = window.getComputedStyle(gd).display;\n",
              "        if (!display || display === 'none') {{\n",
              "            console.log([gd, 'removed!']);\n",
              "            Plotly.purge(gd);\n",
              "            observer.disconnect();\n",
              "        }}\n",
              "}});\n",
              "\n",
              "// Listen for the removal of the full notebook cells\n",
              "var notebookContainer = gd.closest('#notebook-container');\n",
              "if (notebookContainer) {{\n",
              "    x.observe(notebookContainer, {childList: true});\n",
              "}}\n",
              "\n",
              "// Listen for the clearing of the current output cell\n",
              "var outputEl = gd.closest('.output');\n",
              "if (outputEl) {{\n",
              "    x.observe(outputEl, {childList: true});\n",
              "}}\n",
              "\n",
              "                        })                };                            </script>        </div>\n",
              "</body>\n",
              "</html>"
            ]
          },
          "metadata": {}
        }
      ]
    },
    {
      "cell_type": "code",
      "source": [
        "# Select nonempty instances with length > 60\n",
        "df.drop(df[(df.tweet_length > 45) | (df.tweet_length == 0)].index, inplace=True)\n",
        "df.drop(\"tweet_length\", axis=1, inplace=True)\n",
        "df"
      ],
      "metadata": {
        "id": "xdnQNQI3XX9q",
        "colab": {
          "base_uri": "https://localhost:8080/",
          "height": 424
        },
        "outputId": "4694be87-f70b-4dd4-a5ae-eab926da23bb"
      },
      "execution_count": null,
      "outputs": [
        {
          "output_type": "execute_result",
          "data": {
            "text/plain": [
              "                                              tweet_text cyberbullying_type\n",
              "0                            [words, food, crapilicious]  not_cyberbullying\n",
              "1                                                [white]  not_cyberbullying\n",
              "2                 [classy, whore, red, velvet, cupcakes]  not_cyberbullying\n",
              "3      [meh, p, thanks, heads, concerned, another, an...  not_cyberbullying\n",
              "4      [isis, account, pretending, kurdish, account, ...  not_cyberbullying\n",
              "...                                                  ...                ...\n",
              "47687  [black, ppl, arent, expected, anything, depend...          ethnicity\n",
              "47688  [turner, withhold, disappointment, turner, cal...          ethnicity\n",
              "47689  [swear, god, dumb, nigger, bitch, got, bleach,...          ethnicity\n",
              "47690  [yea, fuck, rt, youre, nigger, fucking, unfoll...          ethnicity\n",
              "47691  [bro, u, gotta, chill, rt, dog, fuck, kp, dumb...          ethnicity\n",
              "\n",
              "[39643 rows x 2 columns]"
            ],
            "text/html": [
              "\n",
              "  <div id=\"df-3a5a2619-132e-481c-8895-d3a44511984d\">\n",
              "    <div class=\"colab-df-container\">\n",
              "      <div>\n",
              "<style scoped>\n",
              "    .dataframe tbody tr th:only-of-type {\n",
              "        vertical-align: middle;\n",
              "    }\n",
              "\n",
              "    .dataframe tbody tr th {\n",
              "        vertical-align: top;\n",
              "    }\n",
              "\n",
              "    .dataframe thead th {\n",
              "        text-align: right;\n",
              "    }\n",
              "</style>\n",
              "<table border=\"1\" class=\"dataframe\">\n",
              "  <thead>\n",
              "    <tr style=\"text-align: right;\">\n",
              "      <th></th>\n",
              "      <th>tweet_text</th>\n",
              "      <th>cyberbullying_type</th>\n",
              "    </tr>\n",
              "  </thead>\n",
              "  <tbody>\n",
              "    <tr>\n",
              "      <th>0</th>\n",
              "      <td>[words, food, crapilicious]</td>\n",
              "      <td>not_cyberbullying</td>\n",
              "    </tr>\n",
              "    <tr>\n",
              "      <th>1</th>\n",
              "      <td>[white]</td>\n",
              "      <td>not_cyberbullying</td>\n",
              "    </tr>\n",
              "    <tr>\n",
              "      <th>2</th>\n",
              "      <td>[classy, whore, red, velvet, cupcakes]</td>\n",
              "      <td>not_cyberbullying</td>\n",
              "    </tr>\n",
              "    <tr>\n",
              "      <th>3</th>\n",
              "      <td>[meh, p, thanks, heads, concerned, another, an...</td>\n",
              "      <td>not_cyberbullying</td>\n",
              "    </tr>\n",
              "    <tr>\n",
              "      <th>4</th>\n",
              "      <td>[isis, account, pretending, kurdish, account, ...</td>\n",
              "      <td>not_cyberbullying</td>\n",
              "    </tr>\n",
              "    <tr>\n",
              "      <th>...</th>\n",
              "      <td>...</td>\n",
              "      <td>...</td>\n",
              "    </tr>\n",
              "    <tr>\n",
              "      <th>47687</th>\n",
              "      <td>[black, ppl, arent, expected, anything, depend...</td>\n",
              "      <td>ethnicity</td>\n",
              "    </tr>\n",
              "    <tr>\n",
              "      <th>47688</th>\n",
              "      <td>[turner, withhold, disappointment, turner, cal...</td>\n",
              "      <td>ethnicity</td>\n",
              "    </tr>\n",
              "    <tr>\n",
              "      <th>47689</th>\n",
              "      <td>[swear, god, dumb, nigger, bitch, got, bleach,...</td>\n",
              "      <td>ethnicity</td>\n",
              "    </tr>\n",
              "    <tr>\n",
              "      <th>47690</th>\n",
              "      <td>[yea, fuck, rt, youre, nigger, fucking, unfoll...</td>\n",
              "      <td>ethnicity</td>\n",
              "    </tr>\n",
              "    <tr>\n",
              "      <th>47691</th>\n",
              "      <td>[bro, u, gotta, chill, rt, dog, fuck, kp, dumb...</td>\n",
              "      <td>ethnicity</td>\n",
              "    </tr>\n",
              "  </tbody>\n",
              "</table>\n",
              "<p>39643 rows × 2 columns</p>\n",
              "</div>\n",
              "      <button class=\"colab-df-convert\" onclick=\"convertToInteractive('df-3a5a2619-132e-481c-8895-d3a44511984d')\"\n",
              "              title=\"Convert this dataframe to an interactive table.\"\n",
              "              style=\"display:none;\">\n",
              "        \n",
              "  <svg xmlns=\"http://www.w3.org/2000/svg\" height=\"24px\"viewBox=\"0 0 24 24\"\n",
              "       width=\"24px\">\n",
              "    <path d=\"M0 0h24v24H0V0z\" fill=\"none\"/>\n",
              "    <path d=\"M18.56 5.44l.94 2.06.94-2.06 2.06-.94-2.06-.94-.94-2.06-.94 2.06-2.06.94zm-11 1L8.5 8.5l.94-2.06 2.06-.94-2.06-.94L8.5 2.5l-.94 2.06-2.06.94zm10 10l.94 2.06.94-2.06 2.06-.94-2.06-.94-.94-2.06-.94 2.06-2.06.94z\"/><path d=\"M17.41 7.96l-1.37-1.37c-.4-.4-.92-.59-1.43-.59-.52 0-1.04.2-1.43.59L10.3 9.45l-7.72 7.72c-.78.78-.78 2.05 0 2.83L4 21.41c.39.39.9.59 1.41.59.51 0 1.02-.2 1.41-.59l7.78-7.78 2.81-2.81c.8-.78.8-2.07 0-2.86zM5.41 20L4 18.59l7.72-7.72 1.47 1.35L5.41 20z\"/>\n",
              "  </svg>\n",
              "      </button>\n",
              "      \n",
              "  <style>\n",
              "    .colab-df-container {\n",
              "      display:flex;\n",
              "      flex-wrap:wrap;\n",
              "      gap: 12px;\n",
              "    }\n",
              "\n",
              "    .colab-df-convert {\n",
              "      background-color: #E8F0FE;\n",
              "      border: none;\n",
              "      border-radius: 50%;\n",
              "      cursor: pointer;\n",
              "      display: none;\n",
              "      fill: #1967D2;\n",
              "      height: 32px;\n",
              "      padding: 0 0 0 0;\n",
              "      width: 32px;\n",
              "    }\n",
              "\n",
              "    .colab-df-convert:hover {\n",
              "      background-color: #E2EBFA;\n",
              "      box-shadow: 0px 1px 2px rgba(60, 64, 67, 0.3), 0px 1px 3px 1px rgba(60, 64, 67, 0.15);\n",
              "      fill: #174EA6;\n",
              "    }\n",
              "\n",
              "    [theme=dark] .colab-df-convert {\n",
              "      background-color: #3B4455;\n",
              "      fill: #D2E3FC;\n",
              "    }\n",
              "\n",
              "    [theme=dark] .colab-df-convert:hover {\n",
              "      background-color: #434B5C;\n",
              "      box-shadow: 0px 1px 3px 1px rgba(0, 0, 0, 0.15);\n",
              "      filter: drop-shadow(0px 1px 2px rgba(0, 0, 0, 0.3));\n",
              "      fill: #FFFFFF;\n",
              "    }\n",
              "  </style>\n",
              "\n",
              "      <script>\n",
              "        const buttonEl =\n",
              "          document.querySelector('#df-3a5a2619-132e-481c-8895-d3a44511984d button.colab-df-convert');\n",
              "        buttonEl.style.display =\n",
              "          google.colab.kernel.accessAllowed ? 'block' : 'none';\n",
              "\n",
              "        async function convertToInteractive(key) {\n",
              "          const element = document.querySelector('#df-3a5a2619-132e-481c-8895-d3a44511984d');\n",
              "          const dataTable =\n",
              "            await google.colab.kernel.invokeFunction('convertToInteractive',\n",
              "                                                     [key], {});\n",
              "          if (!dataTable) return;\n",
              "\n",
              "          const docLinkHtml = 'Like what you see? Visit the ' +\n",
              "            '<a target=\"_blank\" href=https://colab.research.google.com/notebooks/data_table.ipynb>data table notebook</a>'\n",
              "            + ' to learn more about interactive tables.';\n",
              "          element.innerHTML = '';\n",
              "          dataTable['output_type'] = 'display_data';\n",
              "          await google.colab.output.renderOutput(dataTable, element);\n",
              "          const docLink = document.createElement('div');\n",
              "          docLink.innerHTML = docLinkHtml;\n",
              "          element.appendChild(docLink);\n",
              "        }\n",
              "      </script>\n",
              "    </div>\n",
              "  </div>\n",
              "  "
            ]
          },
          "metadata": {},
          "execution_count": 16
        }
      ]
    },
    {
      "cell_type": "code",
      "source": [
        "# find the length of the longest tweet\n",
        "MAX_LENGTH = df['tweet_text'].apply(len).max()\n",
        "MAX_LENGTH"
      ],
      "metadata": {
        "colab": {
          "base_uri": "https://localhost:8080/"
        },
        "id": "RKeYrhMJpUh5",
        "outputId": "79efd565-7215-40f9-fea9-00549c89bd90"
      },
      "execution_count": null,
      "outputs": [
        {
          "output_type": "execute_result",
          "data": {
            "text/plain": [
              "45"
            ]
          },
          "metadata": {},
          "execution_count": 17
        }
      ]
    },
    {
      "cell_type": "code",
      "source": [
        "intent2label = {\n",
        "    intent: label\n",
        "    for label, intent in enumerate(df['cyberbullying_type'].unique())\n",
        "}\n",
        "\n",
        "df['label'] = df['cyberbullying_type'].apply(lambda x: intent2label[x])"
      ],
      "metadata": {
        "id": "KT9adJUX5R3x"
      },
      "execution_count": null,
      "outputs": []
    },
    {
      "cell_type": "code",
      "source": [
        "intent2label"
      ],
      "metadata": {
        "colab": {
          "base_uri": "https://localhost:8080/"
        },
        "id": "fvuX4lt771Mt",
        "outputId": "b942d88a-0ddb-4abf-9e12-eafe81e9c66d"
      },
      "execution_count": null,
      "outputs": [
        {
          "output_type": "execute_result",
          "data": {
            "text/plain": [
              "{'age': 3, 'ethnicity': 4, 'gender': 1, 'not_cyberbullying': 0, 'religion': 2}"
            ]
          },
          "metadata": {},
          "execution_count": 19
        }
      ]
    },
    {
      "cell_type": "code",
      "source": [
        "df"
      ],
      "metadata": {
        "colab": {
          "base_uri": "https://localhost:8080/",
          "height": 424
        },
        "id": "S1FTUqaQ5mEg",
        "outputId": "dbb2d7d2-a42e-4f84-e1b3-47d8335219f4"
      },
      "execution_count": null,
      "outputs": [
        {
          "output_type": "execute_result",
          "data": {
            "text/plain": [
              "                                              tweet_text cyberbullying_type  \\\n",
              "0                            [words, food, crapilicious]  not_cyberbullying   \n",
              "1                                                [white]  not_cyberbullying   \n",
              "2                 [classy, whore, red, velvet, cupcakes]  not_cyberbullying   \n",
              "3      [meh, p, thanks, heads, concerned, another, an...  not_cyberbullying   \n",
              "4      [isis, account, pretending, kurdish, account, ...  not_cyberbullying   \n",
              "...                                                  ...                ...   \n",
              "47687  [black, ppl, arent, expected, anything, depend...          ethnicity   \n",
              "47688  [turner, withhold, disappointment, turner, cal...          ethnicity   \n",
              "47689  [swear, god, dumb, nigger, bitch, got, bleach,...          ethnicity   \n",
              "47690  [yea, fuck, rt, youre, nigger, fucking, unfoll...          ethnicity   \n",
              "47691  [bro, u, gotta, chill, rt, dog, fuck, kp, dumb...          ethnicity   \n",
              "\n",
              "       label  \n",
              "0          0  \n",
              "1          0  \n",
              "2          0  \n",
              "3          0  \n",
              "4          0  \n",
              "...      ...  \n",
              "47687      4  \n",
              "47688      4  \n",
              "47689      4  \n",
              "47690      4  \n",
              "47691      4  \n",
              "\n",
              "[39643 rows x 3 columns]"
            ],
            "text/html": [
              "\n",
              "  <div id=\"df-6eef75b2-5472-4581-baa8-6765fc0ab1f0\">\n",
              "    <div class=\"colab-df-container\">\n",
              "      <div>\n",
              "<style scoped>\n",
              "    .dataframe tbody tr th:only-of-type {\n",
              "        vertical-align: middle;\n",
              "    }\n",
              "\n",
              "    .dataframe tbody tr th {\n",
              "        vertical-align: top;\n",
              "    }\n",
              "\n",
              "    .dataframe thead th {\n",
              "        text-align: right;\n",
              "    }\n",
              "</style>\n",
              "<table border=\"1\" class=\"dataframe\">\n",
              "  <thead>\n",
              "    <tr style=\"text-align: right;\">\n",
              "      <th></th>\n",
              "      <th>tweet_text</th>\n",
              "      <th>cyberbullying_type</th>\n",
              "      <th>label</th>\n",
              "    </tr>\n",
              "  </thead>\n",
              "  <tbody>\n",
              "    <tr>\n",
              "      <th>0</th>\n",
              "      <td>[words, food, crapilicious]</td>\n",
              "      <td>not_cyberbullying</td>\n",
              "      <td>0</td>\n",
              "    </tr>\n",
              "    <tr>\n",
              "      <th>1</th>\n",
              "      <td>[white]</td>\n",
              "      <td>not_cyberbullying</td>\n",
              "      <td>0</td>\n",
              "    </tr>\n",
              "    <tr>\n",
              "      <th>2</th>\n",
              "      <td>[classy, whore, red, velvet, cupcakes]</td>\n",
              "      <td>not_cyberbullying</td>\n",
              "      <td>0</td>\n",
              "    </tr>\n",
              "    <tr>\n",
              "      <th>3</th>\n",
              "      <td>[meh, p, thanks, heads, concerned, another, an...</td>\n",
              "      <td>not_cyberbullying</td>\n",
              "      <td>0</td>\n",
              "    </tr>\n",
              "    <tr>\n",
              "      <th>4</th>\n",
              "      <td>[isis, account, pretending, kurdish, account, ...</td>\n",
              "      <td>not_cyberbullying</td>\n",
              "      <td>0</td>\n",
              "    </tr>\n",
              "    <tr>\n",
              "      <th>...</th>\n",
              "      <td>...</td>\n",
              "      <td>...</td>\n",
              "      <td>...</td>\n",
              "    </tr>\n",
              "    <tr>\n",
              "      <th>47687</th>\n",
              "      <td>[black, ppl, arent, expected, anything, depend...</td>\n",
              "      <td>ethnicity</td>\n",
              "      <td>4</td>\n",
              "    </tr>\n",
              "    <tr>\n",
              "      <th>47688</th>\n",
              "      <td>[turner, withhold, disappointment, turner, cal...</td>\n",
              "      <td>ethnicity</td>\n",
              "      <td>4</td>\n",
              "    </tr>\n",
              "    <tr>\n",
              "      <th>47689</th>\n",
              "      <td>[swear, god, dumb, nigger, bitch, got, bleach,...</td>\n",
              "      <td>ethnicity</td>\n",
              "      <td>4</td>\n",
              "    </tr>\n",
              "    <tr>\n",
              "      <th>47690</th>\n",
              "      <td>[yea, fuck, rt, youre, nigger, fucking, unfoll...</td>\n",
              "      <td>ethnicity</td>\n",
              "      <td>4</td>\n",
              "    </tr>\n",
              "    <tr>\n",
              "      <th>47691</th>\n",
              "      <td>[bro, u, gotta, chill, rt, dog, fuck, kp, dumb...</td>\n",
              "      <td>ethnicity</td>\n",
              "      <td>4</td>\n",
              "    </tr>\n",
              "  </tbody>\n",
              "</table>\n",
              "<p>39643 rows × 3 columns</p>\n",
              "</div>\n",
              "      <button class=\"colab-df-convert\" onclick=\"convertToInteractive('df-6eef75b2-5472-4581-baa8-6765fc0ab1f0')\"\n",
              "              title=\"Convert this dataframe to an interactive table.\"\n",
              "              style=\"display:none;\">\n",
              "        \n",
              "  <svg xmlns=\"http://www.w3.org/2000/svg\" height=\"24px\"viewBox=\"0 0 24 24\"\n",
              "       width=\"24px\">\n",
              "    <path d=\"M0 0h24v24H0V0z\" fill=\"none\"/>\n",
              "    <path d=\"M18.56 5.44l.94 2.06.94-2.06 2.06-.94-2.06-.94-.94-2.06-.94 2.06-2.06.94zm-11 1L8.5 8.5l.94-2.06 2.06-.94-2.06-.94L8.5 2.5l-.94 2.06-2.06.94zm10 10l.94 2.06.94-2.06 2.06-.94-2.06-.94-.94-2.06-.94 2.06-2.06.94z\"/><path d=\"M17.41 7.96l-1.37-1.37c-.4-.4-.92-.59-1.43-.59-.52 0-1.04.2-1.43.59L10.3 9.45l-7.72 7.72c-.78.78-.78 2.05 0 2.83L4 21.41c.39.39.9.59 1.41.59.51 0 1.02-.2 1.41-.59l7.78-7.78 2.81-2.81c.8-.78.8-2.07 0-2.86zM5.41 20L4 18.59l7.72-7.72 1.47 1.35L5.41 20z\"/>\n",
              "  </svg>\n",
              "      </button>\n",
              "      \n",
              "  <style>\n",
              "    .colab-df-container {\n",
              "      display:flex;\n",
              "      flex-wrap:wrap;\n",
              "      gap: 12px;\n",
              "    }\n",
              "\n",
              "    .colab-df-convert {\n",
              "      background-color: #E8F0FE;\n",
              "      border: none;\n",
              "      border-radius: 50%;\n",
              "      cursor: pointer;\n",
              "      display: none;\n",
              "      fill: #1967D2;\n",
              "      height: 32px;\n",
              "      padding: 0 0 0 0;\n",
              "      width: 32px;\n",
              "    }\n",
              "\n",
              "    .colab-df-convert:hover {\n",
              "      background-color: #E2EBFA;\n",
              "      box-shadow: 0px 1px 2px rgba(60, 64, 67, 0.3), 0px 1px 3px 1px rgba(60, 64, 67, 0.15);\n",
              "      fill: #174EA6;\n",
              "    }\n",
              "\n",
              "    [theme=dark] .colab-df-convert {\n",
              "      background-color: #3B4455;\n",
              "      fill: #D2E3FC;\n",
              "    }\n",
              "\n",
              "    [theme=dark] .colab-df-convert:hover {\n",
              "      background-color: #434B5C;\n",
              "      box-shadow: 0px 1px 3px 1px rgba(0, 0, 0, 0.15);\n",
              "      filter: drop-shadow(0px 1px 2px rgba(0, 0, 0, 0.3));\n",
              "      fill: #FFFFFF;\n",
              "    }\n",
              "  </style>\n",
              "\n",
              "      <script>\n",
              "        const buttonEl =\n",
              "          document.querySelector('#df-6eef75b2-5472-4581-baa8-6765fc0ab1f0 button.colab-df-convert');\n",
              "        buttonEl.style.display =\n",
              "          google.colab.kernel.accessAllowed ? 'block' : 'none';\n",
              "\n",
              "        async function convertToInteractive(key) {\n",
              "          const element = document.querySelector('#df-6eef75b2-5472-4581-baa8-6765fc0ab1f0');\n",
              "          const dataTable =\n",
              "            await google.colab.kernel.invokeFunction('convertToInteractive',\n",
              "                                                     [key], {});\n",
              "          if (!dataTable) return;\n",
              "\n",
              "          const docLinkHtml = 'Like what you see? Visit the ' +\n",
              "            '<a target=\"_blank\" href=https://colab.research.google.com/notebooks/data_table.ipynb>data table notebook</a>'\n",
              "            + ' to learn more about interactive tables.';\n",
              "          element.innerHTML = '';\n",
              "          dataTable['output_type'] = 'display_data';\n",
              "          await google.colab.output.renderOutput(dataTable, element);\n",
              "          const docLink = document.createElement('div');\n",
              "          docLink.innerHTML = docLinkHtml;\n",
              "          element.appendChild(docLink);\n",
              "        }\n",
              "      </script>\n",
              "    </div>\n",
              "  </div>\n",
              "  "
            ]
          },
          "metadata": {},
          "execution_count": 20
        }
      ]
    },
    {
      "cell_type": "code",
      "source": [
        "train_df, test_df = train_test_split(df, test_size=0.25, random_state=42, shuffle=True)\n",
        "train_df = train_df.sort_values(by=['label'], ignore_index=True)\n",
        "test_df = test_df.sort_values(by=['label'], ignore_index=True)"
      ],
      "metadata": {
        "id": "JqYn-H1Hl7-Z"
      },
      "execution_count": null,
      "outputs": []
    },
    {
      "cell_type": "code",
      "source": [
        "train_df"
      ],
      "metadata": {
        "colab": {
          "base_uri": "https://localhost:8080/",
          "height": 424
        },
        "id": "fOmJqTUGFe3L",
        "outputId": "7d43c7b3-1442-4bb9-bac9-737446bb23c5"
      },
      "execution_count": null,
      "outputs": [
        {
          "output_type": "execute_result",
          "data": {
            "text/plain": [
              "                                              tweet_text cyberbullying_type  \\\n",
              "0                        [rt, ethics, controllers, dogs]  not_cyberbullying   \n",
              "1      [se, timeline, lagi, pada, nge, bully, tv, lag...  not_cyberbullying   \n",
              "2                              [isso, bullying, kkkkkkk]  not_cyberbullying   \n",
              "3      [rt, residents, leaving, en, masse, tal, abyad...  not_cyberbullying   \n",
              "4      [watching, devil, wears, prada, reaffirms, des...  not_cyberbullying   \n",
              "...                                                  ...                ...   \n",
              "29727  [nobody, wants, racist, fuck, dumb, nigger, ai...          ethnicity   \n",
              "29728  [dumb, fuck, gbenga, nigger, ur, shirt, aws, n...          ethnicity   \n",
              "29729  [dumb, nigger, would, explain, twitter, random...          ethnicity   \n",
              "29730  [yall, hate, niggers, yet, yo, whole, family, ...          ethnicity   \n",
              "29731  [dumb, bitch, grandpa, told, called, nigger, m...          ethnicity   \n",
              "\n",
              "       label  \n",
              "0          0  \n",
              "1          0  \n",
              "2          0  \n",
              "3          0  \n",
              "4          0  \n",
              "...      ...  \n",
              "29727      4  \n",
              "29728      4  \n",
              "29729      4  \n",
              "29730      4  \n",
              "29731      4  \n",
              "\n",
              "[29732 rows x 3 columns]"
            ],
            "text/html": [
              "\n",
              "  <div id=\"df-226e66fa-5bd7-4286-9601-335902b83727\">\n",
              "    <div class=\"colab-df-container\">\n",
              "      <div>\n",
              "<style scoped>\n",
              "    .dataframe tbody tr th:only-of-type {\n",
              "        vertical-align: middle;\n",
              "    }\n",
              "\n",
              "    .dataframe tbody tr th {\n",
              "        vertical-align: top;\n",
              "    }\n",
              "\n",
              "    .dataframe thead th {\n",
              "        text-align: right;\n",
              "    }\n",
              "</style>\n",
              "<table border=\"1\" class=\"dataframe\">\n",
              "  <thead>\n",
              "    <tr style=\"text-align: right;\">\n",
              "      <th></th>\n",
              "      <th>tweet_text</th>\n",
              "      <th>cyberbullying_type</th>\n",
              "      <th>label</th>\n",
              "    </tr>\n",
              "  </thead>\n",
              "  <tbody>\n",
              "    <tr>\n",
              "      <th>0</th>\n",
              "      <td>[rt, ethics, controllers, dogs]</td>\n",
              "      <td>not_cyberbullying</td>\n",
              "      <td>0</td>\n",
              "    </tr>\n",
              "    <tr>\n",
              "      <th>1</th>\n",
              "      <td>[se, timeline, lagi, pada, nge, bully, tv, lag...</td>\n",
              "      <td>not_cyberbullying</td>\n",
              "      <td>0</td>\n",
              "    </tr>\n",
              "    <tr>\n",
              "      <th>2</th>\n",
              "      <td>[isso, bullying, kkkkkkk]</td>\n",
              "      <td>not_cyberbullying</td>\n",
              "      <td>0</td>\n",
              "    </tr>\n",
              "    <tr>\n",
              "      <th>3</th>\n",
              "      <td>[rt, residents, leaving, en, masse, tal, abyad...</td>\n",
              "      <td>not_cyberbullying</td>\n",
              "      <td>0</td>\n",
              "    </tr>\n",
              "    <tr>\n",
              "      <th>4</th>\n",
              "      <td>[watching, devil, wears, prada, reaffirms, des...</td>\n",
              "      <td>not_cyberbullying</td>\n",
              "      <td>0</td>\n",
              "    </tr>\n",
              "    <tr>\n",
              "      <th>...</th>\n",
              "      <td>...</td>\n",
              "      <td>...</td>\n",
              "      <td>...</td>\n",
              "    </tr>\n",
              "    <tr>\n",
              "      <th>29727</th>\n",
              "      <td>[nobody, wants, racist, fuck, dumb, nigger, ai...</td>\n",
              "      <td>ethnicity</td>\n",
              "      <td>4</td>\n",
              "    </tr>\n",
              "    <tr>\n",
              "      <th>29728</th>\n",
              "      <td>[dumb, fuck, gbenga, nigger, ur, shirt, aws, n...</td>\n",
              "      <td>ethnicity</td>\n",
              "      <td>4</td>\n",
              "    </tr>\n",
              "    <tr>\n",
              "      <th>29729</th>\n",
              "      <td>[dumb, nigger, would, explain, twitter, random...</td>\n",
              "      <td>ethnicity</td>\n",
              "      <td>4</td>\n",
              "    </tr>\n",
              "    <tr>\n",
              "      <th>29730</th>\n",
              "      <td>[yall, hate, niggers, yet, yo, whole, family, ...</td>\n",
              "      <td>ethnicity</td>\n",
              "      <td>4</td>\n",
              "    </tr>\n",
              "    <tr>\n",
              "      <th>29731</th>\n",
              "      <td>[dumb, bitch, grandpa, told, called, nigger, m...</td>\n",
              "      <td>ethnicity</td>\n",
              "      <td>4</td>\n",
              "    </tr>\n",
              "  </tbody>\n",
              "</table>\n",
              "<p>29732 rows × 3 columns</p>\n",
              "</div>\n",
              "      <button class=\"colab-df-convert\" onclick=\"convertToInteractive('df-226e66fa-5bd7-4286-9601-335902b83727')\"\n",
              "              title=\"Convert this dataframe to an interactive table.\"\n",
              "              style=\"display:none;\">\n",
              "        \n",
              "  <svg xmlns=\"http://www.w3.org/2000/svg\" height=\"24px\"viewBox=\"0 0 24 24\"\n",
              "       width=\"24px\">\n",
              "    <path d=\"M0 0h24v24H0V0z\" fill=\"none\"/>\n",
              "    <path d=\"M18.56 5.44l.94 2.06.94-2.06 2.06-.94-2.06-.94-.94-2.06-.94 2.06-2.06.94zm-11 1L8.5 8.5l.94-2.06 2.06-.94-2.06-.94L8.5 2.5l-.94 2.06-2.06.94zm10 10l.94 2.06.94-2.06 2.06-.94-2.06-.94-.94-2.06-.94 2.06-2.06.94z\"/><path d=\"M17.41 7.96l-1.37-1.37c-.4-.4-.92-.59-1.43-.59-.52 0-1.04.2-1.43.59L10.3 9.45l-7.72 7.72c-.78.78-.78 2.05 0 2.83L4 21.41c.39.39.9.59 1.41.59.51 0 1.02-.2 1.41-.59l7.78-7.78 2.81-2.81c.8-.78.8-2.07 0-2.86zM5.41 20L4 18.59l7.72-7.72 1.47 1.35L5.41 20z\"/>\n",
              "  </svg>\n",
              "      </button>\n",
              "      \n",
              "  <style>\n",
              "    .colab-df-container {\n",
              "      display:flex;\n",
              "      flex-wrap:wrap;\n",
              "      gap: 12px;\n",
              "    }\n",
              "\n",
              "    .colab-df-convert {\n",
              "      background-color: #E8F0FE;\n",
              "      border: none;\n",
              "      border-radius: 50%;\n",
              "      cursor: pointer;\n",
              "      display: none;\n",
              "      fill: #1967D2;\n",
              "      height: 32px;\n",
              "      padding: 0 0 0 0;\n",
              "      width: 32px;\n",
              "    }\n",
              "\n",
              "    .colab-df-convert:hover {\n",
              "      background-color: #E2EBFA;\n",
              "      box-shadow: 0px 1px 2px rgba(60, 64, 67, 0.3), 0px 1px 3px 1px rgba(60, 64, 67, 0.15);\n",
              "      fill: #174EA6;\n",
              "    }\n",
              "\n",
              "    [theme=dark] .colab-df-convert {\n",
              "      background-color: #3B4455;\n",
              "      fill: #D2E3FC;\n",
              "    }\n",
              "\n",
              "    [theme=dark] .colab-df-convert:hover {\n",
              "      background-color: #434B5C;\n",
              "      box-shadow: 0px 1px 3px 1px rgba(0, 0, 0, 0.15);\n",
              "      filter: drop-shadow(0px 1px 2px rgba(0, 0, 0, 0.3));\n",
              "      fill: #FFFFFF;\n",
              "    }\n",
              "  </style>\n",
              "\n",
              "      <script>\n",
              "        const buttonEl =\n",
              "          document.querySelector('#df-226e66fa-5bd7-4286-9601-335902b83727 button.colab-df-convert');\n",
              "        buttonEl.style.display =\n",
              "          google.colab.kernel.accessAllowed ? 'block' : 'none';\n",
              "\n",
              "        async function convertToInteractive(key) {\n",
              "          const element = document.querySelector('#df-226e66fa-5bd7-4286-9601-335902b83727');\n",
              "          const dataTable =\n",
              "            await google.colab.kernel.invokeFunction('convertToInteractive',\n",
              "                                                     [key], {});\n",
              "          if (!dataTable) return;\n",
              "\n",
              "          const docLinkHtml = 'Like what you see? Visit the ' +\n",
              "            '<a target=\"_blank\" href=https://colab.research.google.com/notebooks/data_table.ipynb>data table notebook</a>'\n",
              "            + ' to learn more about interactive tables.';\n",
              "          element.innerHTML = '';\n",
              "          dataTable['output_type'] = 'display_data';\n",
              "          await google.colab.output.renderOutput(dataTable, element);\n",
              "          const docLink = document.createElement('div');\n",
              "          docLink.innerHTML = docLinkHtml;\n",
              "          element.appendChild(docLink);\n",
              "        }\n",
              "      </script>\n",
              "    </div>\n",
              "  </div>\n",
              "  "
            ]
          },
          "metadata": {},
          "execution_count": 22
        }
      ]
    },
    {
      "cell_type": "code",
      "source": [
        "glove = GloVe(name='6B', dim=50)"
      ],
      "metadata": {
        "id": "0Ps3Gh_a6a1c",
        "colab": {
          "base_uri": "https://localhost:8080/"
        },
        "outputId": "a3c105d9-ec9a-42a1-af3b-1a9b1147b454"
      },
      "execution_count": null,
      "outputs": [
        {
          "output_type": "stream",
          "name": "stderr",
          "text": [
            ".vector_cache/glove.6B.zip: 862MB [02:40, 5.39MB/s]                           \n",
            "100%|█████████▉| 399999/400000 [00:15<00:00, 25606.56it/s]\n"
          ]
        }
      ]
    },
    {
      "cell_type": "code",
      "source": [
        "class Dataset:\n",
        "    def __init__(self, df, max_length=MAX_LENGTH):\n",
        "        self.df = df\n",
        "        self.max_length = max_length\n",
        "\n",
        "    def __len__(self):\n",
        "        return self.df.shape[0]\n",
        "\n",
        "    def __getitem__(self, idx):\n",
        "        arr = self.df.loc[idx, 'tweet_text']\n",
        "        arr = arr + [ '<PAD>' ] * (self.max_length - len(arr))\n",
        "\n",
        "        return (\n",
        "            glove.get_vecs_by_tokens(arr), \n",
        "            self.df.loc[idx, 'label']\n",
        "        )"
      ],
      "metadata": {
        "id": "MQHYkxDK6kD4"
      },
      "execution_count": null,
      "outputs": []
    },
    {
      "cell_type": "code",
      "source": [
        "train_dataset = Dataset(train_df)\n",
        "test_dataset = Dataset(test_df)"
      ],
      "metadata": {
        "id": "YGhh9_r86s15"
      },
      "execution_count": null,
      "outputs": []
    },
    {
      "cell_type": "code",
      "source": [
        "BATCH_SIZE = 32\n",
        "train_loader = DataLoader(train_dataset, batch_size=BATCH_SIZE, shuffle=True)\n",
        "test_loader = DataLoader(test_dataset, batch_size=BATCH_SIZE, shuffle=True)"
      ],
      "metadata": {
        "id": "t2I-l3pP6xAV"
      },
      "execution_count": null,
      "outputs": []
    },
    {
      "cell_type": "code",
      "source": [
        "class LSTM(nn.Module):\n",
        "    #define all the layers used in model\n",
        "    def __init__(self, embedding_dim, hidden_dim, output_dim, n_layers, bidirectional=True, dropout=0.2):\n",
        "        #Constructor\n",
        "        super().__init__()          \n",
        "        \n",
        "        # embedding layer\n",
        "        # self.embedding = nn.Embedding(vocab_size, embedding_dim)\n",
        "        \n",
        "        #lstm layer\n",
        "        self.lstm = nn.LSTM(embedding_dim, \n",
        "                           hidden_dim, \n",
        "                           num_layers=n_layers, \n",
        "                           bidirectional=bidirectional, \n",
        "                           dropout=dropout,\n",
        "                           batch_first=True)\n",
        "        \n",
        "        #dense layer\n",
        "        self.fc = nn.Linear(hidden_dim * 2, output_dim)\n",
        "        \n",
        "    def forward(self, embeds):\n",
        "        \n",
        "        #text = [batch size, sent_length]\n",
        "        # embedded = self.embedding(text)\n",
        "      \n",
        "        #embedded = [batch size, sent_len, emb_dim]\n",
        "        packed_output, (hidden, cell) = self.lstm(embeds)\n",
        "\n",
        "        #hidden = [batch size, num layers * num directions,hid dim]\n",
        "        #cell = [batch size, num layers * num directions,hid dim]\n",
        "        \n",
        "        #concat the final forward and backward hidden state\n",
        "        hidden = torch.cat((hidden[-2, : , : ], hidden[-1, : , : ]), dim = 1)\n",
        "                \n",
        "        #hidden = [batch size, hid dim * num directions]\n",
        "        dense_outputs = self.fc(hidden)\n",
        "\n",
        "        return dense_outputs"
      ],
      "metadata": {
        "id": "rUN0OjlA66lz"
      },
      "execution_count": null,
      "outputs": []
    },
    {
      "cell_type": "code",
      "source": [
        "device = torch.device('cuda')\n",
        "device"
      ],
      "metadata": {
        "colab": {
          "base_uri": "https://localhost:8080/"
        },
        "id": "AJD4M2n-7E3e",
        "outputId": "4ad65133-7cc1-4e6a-f938-3283090ba736"
      },
      "execution_count": null,
      "outputs": [
        {
          "output_type": "execute_result",
          "data": {
            "text/plain": [
              "device(type='cuda')"
            ]
          },
          "metadata": {},
          "execution_count": 28
        }
      ]
    },
    {
      "cell_type": "code",
      "source": [
        "model = LSTM(50, 32, len(intent2label), 2).to(device)"
      ],
      "metadata": {
        "id": "uD_-BX8d7fIr"
      },
      "execution_count": null,
      "outputs": []
    },
    {
      "cell_type": "code",
      "source": [
        "optimizer = optim.Adam(model.parameters())\n",
        "loss_fn = nn.CrossEntropyLoss()"
      ],
      "metadata": {
        "id": "vLx3eoGp7iMz"
      },
      "execution_count": null,
      "outputs": []
    },
    {
      "cell_type": "code",
      "source": [
        "# Defining the function that contains the training loop\n",
        "def training_loop(\n",
        "    n_epochs, optimizer, model, loss_fn,\n",
        "    train_loader, test_loader, device\n",
        "):\n",
        "    # The following torch tensor will hold information about\n",
        "    # the accuracy results after every epoch\n",
        "    train_accuracy = torch.zeros(n_epochs)\n",
        "    test_accuracy = torch.zeros(n_epochs)\n",
        "\n",
        "    # The actual training_loop\n",
        "    for epoch in range(n_epochs):\n",
        "        model.train()\n",
        "        for examples, labels in train_loader:\n",
        "            # Copying these tensors to the gpu ram\n",
        "            # if needed\n",
        "            # If a cuda compatible gpu is not available\n",
        "            # the data remains on the cpu ram \n",
        "            examples = examples.to(device=device)\n",
        "            labels = labels.to(device=device)\n",
        "\n",
        "            outputs = model(examples)\n",
        "            loss = loss_fn(outputs, labels)\n",
        "\n",
        "            # Sets the gradients of all optimized torch.Tensor to zero\n",
        "            optimizer.zero_grad()\n",
        "            # Back Propagation\n",
        "            loss.backward()\n",
        "            # the optimizer updates the parameters\n",
        "            optimizer.step()\n",
        "        \n",
        "        \n",
        "        # This loop computes the accuracy for test and train data\n",
        "        # after every epoch\n",
        "        model.eval()\n",
        "        for name, loader, accuracy in [\n",
        "            ('train', train_loader, train_accuracy),\n",
        "            ('test', test_loader, test_accuracy)\n",
        "        ]:\n",
        "            correct = 0\n",
        "            total = 0\n",
        "\n",
        "            # This with statement turns off auto grad\n",
        "            with torch.no_grad():\n",
        "                for examples, labels in loader:\n",
        "                    examples = examples.to(device=device)\n",
        "                    labels = labels.to(device=device)\n",
        "\n",
        "                    outputs = model(examples)\n",
        "                    _, predicted = torch.max(outputs, dim=1)\n",
        "                    \n",
        "                    total += labels.shape[0]\n",
        "                    correct += int((predicted == labels).sum())\n",
        "            \n",
        "            accuracy[epoch] = correct / total\n",
        "\n",
        "\n",
        "        # This piece of code saves the models that has the best\n",
        "        # test accuracy\n",
        "        best_test_accuracy = (epoch == test_accuracy.max(dim=0)[1].item())\n",
        "        if best_test_accuracy:\n",
        "            best_model = copy.deepcopy(model.state_dict())\n",
        "\n",
        "        print(\n",
        "            f'Epoch {epoch + 1})', \n",
        "            f'Train Accuracy: {train_accuracy[epoch]}',\n",
        "            f'Test Accuracy: {test_accuracy[epoch]}',\n",
        "            f'{\"Best test accuracy!\" if best_test_accuracy else \"\"}'\n",
        "        )\n",
        "\n",
        "    # Plotting the train and test accuracy after every epoch\n",
        "    plt.figure(dpi=150)\n",
        "    plt.xlabel('Number of Epochs')\n",
        "    plt.ylabel('Accuracy')\n",
        "    plt.plot(range(1, n_epochs + 1), train_accuracy)\n",
        "    plt.plot(range(1, n_epochs + 1), test_accuracy)\n",
        "    plt.legend(['Train Accuracy', 'Test Accuracy'])\n",
        "    plt.grid()\n",
        "    plt.show()\n",
        "\n",
        "    return best_model"
      ],
      "metadata": {
        "id": "LNoM3uPm8qri"
      },
      "execution_count": null,
      "outputs": []
    },
    {
      "cell_type": "code",
      "source": [
        "best_model = training_loop(\n",
        "    n_epochs=20,\n",
        "    optimizer=optimizer,\n",
        "    model=model,\n",
        "    loss_fn=loss_fn,\n",
        "    train_loader=train_loader,\n",
        "    test_loader=test_loader,\n",
        "    device=device\n",
        ")"
      ],
      "metadata": {
        "colab": {
          "base_uri": "https://localhost:8080/",
          "height": 917
        },
        "id": "KQmCiiX19PFe",
        "outputId": "07bfe4c5-3d6b-4735-9953-b58b49e270df"
      },
      "execution_count": null,
      "outputs": [
        {
          "output_type": "stream",
          "name": "stdout",
          "text": [
            "Epoch 1) Train Accuracy: 0.8898829817771912 Test Accuracy: 0.8846735954284668 Best test accuracy!\n",
            "Epoch 2) Train Accuracy: 0.906195342540741 Test Accuracy: 0.9006154537200928 Best test accuracy!\n",
            "Epoch 3) Train Accuracy: 0.9133593440055847 Test Accuracy: 0.9036424160003662 Best test accuracy!\n",
            "Epoch 4) Train Accuracy: 0.9190770983695984 Test Accuracy: 0.9094945192337036 Best test accuracy!\n",
            "Epoch 5) Train Accuracy: 0.9226759076118469 Test Accuracy: 0.9104025959968567 Best test accuracy!\n",
            "Epoch 6) Train Accuracy: 0.927283763885498 Test Accuracy: 0.9116133451461792 Best test accuracy!\n",
            "Epoch 7) Train Accuracy: 0.9280909299850464 Test Accuracy: 0.9078801274299622 \n",
            "Epoch 8) Train Accuracy: 0.9342795610427856 Test Accuracy: 0.9116133451461792 \n",
            "Epoch 9) Train Accuracy: 0.9350867867469788 Test Accuracy: 0.9090909361839294 \n",
            "Epoch 10) Train Accuracy: 0.9404681921005249 Test Accuracy: 0.9099990129470825 \n",
            "Epoch 11) Train Accuracy: 0.9408045411109924 Test Accuracy: 0.9128241539001465 Best test accuracy!\n",
            "Epoch 12) Train Accuracy: 0.943999707698822 Test Accuracy: 0.9125214219093323 \n",
            "Epoch 13) Train Accuracy: 0.9461859464645386 Test Accuracy: 0.9124205708503723 \n",
            "Epoch 14) Train Accuracy: 0.9493138790130615 Test Accuracy: 0.9138331413269043 Best test accuracy!\n",
            "Epoch 15) Train Accuracy: 0.9525091052055359 Test Accuracy: 0.9114115834236145 \n",
            "Epoch 16) Train Accuracy: 0.9571169018745422 Test Accuracy: 0.9102007746696472 \n",
            "Epoch 17) Train Accuracy: 0.9586976766586304 Test Accuracy: 0.9129250049591064 \n",
            "Epoch 18) Train Accuracy: 0.962195634841919 Test Accuracy: 0.9098981022834778 \n",
            "Epoch 19) Train Accuracy: 0.9631710052490234 Test Accuracy: 0.9130259156227112 \n",
            "Epoch 20) Train Accuracy: 0.9659625887870789 Test Accuracy: 0.9114115834236145 \n"
          ]
        },
        {
          "output_type": "display_data",
          "data": {
            "text/plain": [
              "<Figure size 900x600 with 1 Axes>"
            ],
            "image/png": "[encoded data removed]"
          },
          "metadata": {
            "needs_background": "light"
          }
        }
      ]
    },
    {
      "cell_type": "code",
      "source": [
        "# Load the model that had the best test accuracy\n",
        "model.load_state_dict(best_model)"
      ],
      "metadata": {
        "id": "6vE87ISy9Sx1",
        "colab": {
          "base_uri": "https://localhost:8080/"
        },
        "outputId": "84796951-77cf-462b-b13d-520c853db9d7"
      },
      "execution_count": null,
      "outputs": [
        {
          "output_type": "execute_result",
          "data": {
            "text/plain": [
              "<All keys matched successfully>"
            ]
          },
          "metadata": {},
          "execution_count": 33
        }
      ]
    },
    {
      "cell_type": "code",
      "source": [
        "correct = 0\n",
        "total = 0\n",
        "\n",
        "y_test = torch.zeros(len(test_df))\n",
        "y_pred = torch.zeros(len(test_df))\n",
        "low = 0\n",
        "\n",
        "# Make predictions on the test data\n",
        "model.eval()\n",
        "with torch.no_grad():\n",
        "    for examples, labels in test_loader:\n",
        "        examples = examples.to(device=device)\n",
        "        labels = labels.to(device=device)\n",
        "\n",
        "        outputs = model(examples)\n",
        "        _, predicted = torch.max(outputs, dim=1)\n",
        "\n",
        "        high = low + labels.shape[0]\n",
        "        y_test[low : high] = labels\n",
        "        y_pred[low : high] = predicted\n",
        "        low = high\n",
        "\n",
        "        total += labels.shape[0]\n",
        "        correct += int((predicted == labels).sum())\n",
        "            \n",
        "accuracy = correct / total\n",
        "accuracy"
      ],
      "metadata": {
        "id": "XAiJRE2CCOzs",
        "colab": {
          "base_uri": "https://localhost:8080/"
        },
        "outputId": "bb649967-420e-42f5-c7a8-fca31eb8e511"
      },
      "execution_count": null,
      "outputs": [
        {
          "output_type": "execute_result",
          "data": {
            "text/plain": [
              "0.913833114721017"
            ]
          },
          "metadata": {},
          "execution_count": 34
        }
      ]
    },
    {
      "cell_type": "code",
      "source": [
        "# Creating a Confusion Matrix plot\n",
        "plt.figure(dpi=150)\n",
        "sns.heatmap(confusion_matrix(y_test, y_pred), annot=True, fmt='d')\n",
        "plt.ylabel('True Label')\n",
        "plt.xlabel('Predicted Label')"
      ],
      "metadata": {
        "id": "CouMyD8CCoqL",
        "colab": {
          "base_uri": "https://localhost:8080/",
          "height": 579
        },
        "outputId": "0449a71b-dac7-4036-ce32-5751a5336dc9"
      },
      "execution_count": null,
      "outputs": [
        {
          "output_type": "execute_result",
          "data": {
            "text/plain": [
              "Text(0.5, 32.08333333333333, 'Predicted Label')"
            ]
          },
          "metadata": {},
          "execution_count": 35
        },
        {
          "output_type": "display_data",
          "data": {
            "text/plain": [
              "<Figure size 900x600 with 2 Axes>"
            ],
            "image/png": "[encoded data removed]"
          },
          "metadata": {
            "needs_background": "light"
          }
        }
      ]
    },
    {
      "cell_type": "code",
      "source": [
        "torch.save(best_model, 'cyberbullying_lstm.pt')"
      ],
      "metadata": {
        "id": "N0eT2vCjC7yP"
      },
      "execution_count": null,
      "outputs": []
    },
    {
      "cell_type": "code",
      "source": [
        "%%shell\n",
        "cp cyberbullying_lstm.pt drive/MyDrive/NLPC2022"
      ],
      "metadata": {
        "colab": {
          "base_uri": "https://localhost:8080/"
        },
        "id": "-n2FXLOmLVry",
        "outputId": "8f353113-191f-43e2-bfad-5987d03578ba"
      },
      "execution_count": null,
      "outputs": [
        {
          "output_type": "execute_result",
          "data": {
            "text/plain": [
              ""
            ]
          },
          "metadata": {},
          "execution_count": 37
        }
      ]
    },
    {
      "cell_type": "code",
      "source": [
        ""
      ],
      "metadata": {
        "id": "rNFi9K5ATURw"
      },
      "execution_count": null,
      "outputs": []
    }
  ]
}